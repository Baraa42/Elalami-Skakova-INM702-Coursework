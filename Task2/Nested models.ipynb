{
 "cells": [
  {
   "cell_type": "code",
   "execution_count": 29,
   "id": "d8733125",
   "metadata": {},
   "outputs": [],
   "source": [
    "import numpy as np\n",
    "import math\n",
    "from abc import ABC, abstractmethod\n",
    "from numpy.random import default_rng\n",
    "import matplotlib.pyplot as plt\n",
    "from sklearn.utils import shuffle\n",
    "from sklearn.linear_model import LinearRegression\n",
    "import pandas as pd\n",
    "\n",
    "\n"
   ]
  },
  {
   "cell_type": "code",
   "execution_count": 30,
   "id": "b5830767",
   "metadata": {},
   "outputs": [],
   "source": [
    "rng = default_rng(seed=0)\n"
   ]
  },
  {
   "cell_type": "markdown",
   "id": "440ba01f",
   "metadata": {},
   "source": [
    "# Linear Regression"
   ]
  },
  {
   "cell_type": "code",
   "execution_count": 51,
   "id": "9cb9eaec",
   "metadata": {},
   "outputs": [],
   "source": [
    "def regression(Xtrain, Xtest, ytrain, ytest) :\n",
    "    reg = LinearRegression().fit(Xtrain, ytrain)\n",
    "    \n",
    "    return reg.coef_, reg.intercept_, reg.score(Xtest, ytest)"
   ]
  },
  {
   "cell_type": "markdown",
   "id": "fe46493c",
   "metadata": {},
   "source": [
    "#  Data\n",
    "We use auto-mpg dataset to work with"
   ]
  },
  {
   "cell_type": "code",
   "execution_count": 31,
   "id": "49086fce",
   "metadata": {},
   "outputs": [],
   "source": [
    "mpg = pd.read_csv('./auto-mpg.csv', na_values=['NA','?'])"
   ]
  },
  {
   "cell_type": "code",
   "execution_count": 32,
   "id": "04e37ff6",
   "metadata": {},
   "outputs": [
    {
     "data": {
      "text/html": [
       "<div>\n",
       "<style scoped>\n",
       "    .dataframe tbody tr th:only-of-type {\n",
       "        vertical-align: middle;\n",
       "    }\n",
       "\n",
       "    .dataframe tbody tr th {\n",
       "        vertical-align: top;\n",
       "    }\n",
       "\n",
       "    .dataframe thead th {\n",
       "        text-align: right;\n",
       "    }\n",
       "</style>\n",
       "<table border=\"1\" class=\"dataframe\">\n",
       "  <thead>\n",
       "    <tr style=\"text-align: right;\">\n",
       "      <th></th>\n",
       "      <th>mpg</th>\n",
       "      <th>cylinders</th>\n",
       "      <th>displacement</th>\n",
       "      <th>horsepower</th>\n",
       "      <th>weight</th>\n",
       "      <th>acceleration</th>\n",
       "      <th>year</th>\n",
       "      <th>origin</th>\n",
       "      <th>name</th>\n",
       "    </tr>\n",
       "  </thead>\n",
       "  <tbody>\n",
       "    <tr>\n",
       "      <th>0</th>\n",
       "      <td>18.0</td>\n",
       "      <td>8</td>\n",
       "      <td>307.0</td>\n",
       "      <td>130.0</td>\n",
       "      <td>3504</td>\n",
       "      <td>12.0</td>\n",
       "      <td>70</td>\n",
       "      <td>1</td>\n",
       "      <td>chevrolet chevelle malibu</td>\n",
       "    </tr>\n",
       "    <tr>\n",
       "      <th>1</th>\n",
       "      <td>15.0</td>\n",
       "      <td>8</td>\n",
       "      <td>350.0</td>\n",
       "      <td>165.0</td>\n",
       "      <td>3693</td>\n",
       "      <td>11.5</td>\n",
       "      <td>70</td>\n",
       "      <td>1</td>\n",
       "      <td>buick skylark 320</td>\n",
       "    </tr>\n",
       "    <tr>\n",
       "      <th>2</th>\n",
       "      <td>18.0</td>\n",
       "      <td>8</td>\n",
       "      <td>318.0</td>\n",
       "      <td>150.0</td>\n",
       "      <td>3436</td>\n",
       "      <td>11.0</td>\n",
       "      <td>70</td>\n",
       "      <td>1</td>\n",
       "      <td>plymouth satellite</td>\n",
       "    </tr>\n",
       "    <tr>\n",
       "      <th>3</th>\n",
       "      <td>16.0</td>\n",
       "      <td>8</td>\n",
       "      <td>304.0</td>\n",
       "      <td>150.0</td>\n",
       "      <td>3433</td>\n",
       "      <td>12.0</td>\n",
       "      <td>70</td>\n",
       "      <td>1</td>\n",
       "      <td>amc rebel sst</td>\n",
       "    </tr>\n",
       "    <tr>\n",
       "      <th>4</th>\n",
       "      <td>17.0</td>\n",
       "      <td>8</td>\n",
       "      <td>302.0</td>\n",
       "      <td>140.0</td>\n",
       "      <td>3449</td>\n",
       "      <td>10.5</td>\n",
       "      <td>70</td>\n",
       "      <td>1</td>\n",
       "      <td>ford torino</td>\n",
       "    </tr>\n",
       "  </tbody>\n",
       "</table>\n",
       "</div>"
      ],
      "text/plain": [
       "    mpg  cylinders  displacement  horsepower  weight  acceleration  year  \\\n",
       "0  18.0          8         307.0       130.0    3504          12.0    70   \n",
       "1  15.0          8         350.0       165.0    3693          11.5    70   \n",
       "2  18.0          8         318.0       150.0    3436          11.0    70   \n",
       "3  16.0          8         304.0       150.0    3433          12.0    70   \n",
       "4  17.0          8         302.0       140.0    3449          10.5    70   \n",
       "\n",
       "   origin                       name  \n",
       "0       1  chevrolet chevelle malibu  \n",
       "1       1          buick skylark 320  \n",
       "2       1         plymouth satellite  \n",
       "3       1              amc rebel sst  \n",
       "4       1                ford torino  "
      ]
     },
     "execution_count": 32,
     "metadata": {},
     "output_type": "execute_result"
    }
   ],
   "source": [
    "mpg.head()"
   ]
  },
  {
   "cell_type": "markdown",
   "id": "6490f0b1",
   "metadata": {},
   "source": [
    "## Pre Processing Dataset"
   ]
  },
  {
   "cell_type": "code",
   "execution_count": 33,
   "id": "21884cd6",
   "metadata": {},
   "outputs": [
    {
     "name": "stdout",
     "output_type": "stream",
     "text": [
      "Index(['mpg', 'cylinders', 'displacement', 'horsepower', 'weight',\n",
      "       'acceleration', 'year', 'origin', 'name'],\n",
      "      dtype='object')\n"
     ]
    }
   ],
   "source": [
    "print(mpg.columns)"
   ]
  },
  {
   "cell_type": "code",
   "execution_count": 34,
   "id": "b3dcfd97",
   "metadata": {},
   "outputs": [
    {
     "data": {
      "text/plain": [
       "0      chevrolet chevelle malibu\n",
       "1              buick skylark 320\n",
       "2             plymouth satellite\n",
       "3                  amc rebel sst\n",
       "4                    ford torino\n",
       "                 ...            \n",
       "393              ford mustang gl\n",
       "394                    vw pickup\n",
       "395                dodge rampage\n",
       "396                  ford ranger\n",
       "397                   chevy s-10\n",
       "Name: name, Length: 398, dtype: object"
      ]
     },
     "execution_count": 34,
     "metadata": {},
     "output_type": "execute_result"
    }
   ],
   "source": [
    "mpg['name']"
   ]
  },
  {
   "cell_type": "code",
   "execution_count": 35,
   "id": "713284eb",
   "metadata": {},
   "outputs": [
    {
     "name": "stderr",
     "output_type": "stream",
     "text": [
      "/Users/baraa/opt/anaconda3/envs/tf/lib/python3.7/site-packages/ipykernel_launcher.py:2: FutureWarning: In a future version of pandas all arguments of DataFrame.drop except for the argument 'labels' will be keyword-only\n",
      "  \n"
     ]
    }
   ],
   "source": [
    "cars = mpg['name']\n",
    "mpg.drop('name',1,inplace=True)\n",
    "## replacing NA values\n",
    "med = mpg['horsepower'].median()\n",
    "mpg['horsepower'] = mpg['horsepower'].fillna(med) "
   ]
  },
  {
   "cell_type": "code",
   "execution_count": 37,
   "id": "9b623271",
   "metadata": {},
   "outputs": [
    {
     "name": "stdout",
     "output_type": "stream",
     "text": [
      "['cylinders', 'displacement', 'horsepower', 'weight', 'acceleration', 'year', 'origin']\n"
     ]
    }
   ],
   "source": [
    "## Selecting covariates columns\n",
    "covariates = []\n",
    "for x in mpg.columns:\n",
    "    if x != 'mpg':\n",
    "        covariates.append(x)\n",
    "\n",
    "print(covariates)"
   ]
  },
  {
   "cell_type": "code",
   "execution_count": 38,
   "id": "c8472500",
   "metadata": {},
   "outputs": [
    {
     "name": "stdout",
     "output_type": "stream",
     "text": [
      "X shape (398, 7)\n",
      "y shape (398,)\n"
     ]
    }
   ],
   "source": [
    "## Getting data\n",
    "X = mpg[covariates].values\n",
    "y = mpg['mpg'].values\n",
    "\n",
    "print('X shape', X.shape)\n",
    "print('y shape', y.shape)"
   ]
  },
  {
   "cell_type": "code",
   "execution_count": 46,
   "id": "2c107d96",
   "metadata": {},
   "outputs": [],
   "source": [
    "#split data into testing and training\n",
    "from sklearn.model_selection import train_test_split \n",
    "X_train, X_test, y_train, y_test = train_test_split(X, y, test_size=0.25, random_state=0)"
   ]
  },
  {
   "cell_type": "markdown",
   "id": "8a0e19bf",
   "metadata": {},
   "source": [
    "## How to compare nested models ?\n",
    "- Compare model result\n",
    "- Run t-test on one additional covariate\n",
    "- F-test\n",
    "- Anova "
   ]
  },
  {
   "cell_type": "markdown",
   "id": "aa940372",
   "metadata": {},
   "source": [
    "### Comparison using model $R_2$ score and RMSE"
   ]
  },
  {
   "cell_type": "code",
   "execution_count": 54,
   "id": "337abbc6",
   "metadata": {},
   "outputs": [
    {
     "name": "stdout",
     "output_type": "stream",
     "text": [
      "a : [-0.30958288  0.02106943 -0.02088593 -0.00650729  0.19986328  0.74059199\n",
      "  1.62910052]\n",
      "b : -19.47927266862647\n",
      "Regression R2 score : 0.8139447246621095\n"
     ]
    }
   ],
   "source": [
    "a,b,c = regression(X_train, X_test, y_train, y_test)\n",
    "print('a :', a)\n",
    "print('b :', b)\n",
    "print('Regression R2 score :', c)"
   ]
  },
  {
   "cell_type": "code",
   "execution_count": 59,
   "id": "35fe9389",
   "metadata": {},
   "outputs": [
    {
     "name": "stdout",
     "output_type": "stream",
     "text": [
      "Covariates Used : ['cylinders', 'displacement', 'horsepower', 'weight', 'acceleration', 'year', 'origin']\n",
      "Mean: 23.695\n",
      "Root Mean Squared Error: 3.409213715841733\n",
      "R2 Score :  0.8139447246621095\n"
     ]
    }
   ],
   "source": [
    "from sklearn import metrics\n",
    "# build the model\n",
    "model = LinearRegression()  \n",
    "model.fit(X_train, y_train)\n",
    "\n",
    "#calculate the predictions of the linear regression model\n",
    "y_pred = model.predict(X_test)\n",
    "\n",
    "# Mean and RMSE\n",
    "print('Covariates Used :', covariates)\n",
    "print('Mean:', np.mean(y_test))\n",
    "print('Root Mean Squared Error:', np.sqrt(metrics.mean_squared_error(y_test, y_pred)))\n",
    "print('R2 Score : ', model.score(X_test, y_test))"
   ]
  },
  {
   "cell_type": "markdown",
   "id": "22c60b9d",
   "metadata": {},
   "source": [
    "There is 7 covariates, we will drop one each time and see the model results"
   ]
  },
  {
   "cell_type": "code",
   "execution_count": 61,
   "id": "82d88b4d",
   "metadata": {},
   "outputs": [
    {
     "name": "stdout",
     "output_type": "stream",
     "text": [
      "(398, 7)\n",
      "(398, 6)\n"
     ]
    }
   ],
   "source": [
    "X_del = np.delete(X, 1,1)\n",
    "print(X.shape)\n",
    "print(X_del.shape)"
   ]
  },
  {
   "cell_type": "code",
   "execution_count": 64,
   "id": "59027651",
   "metadata": {},
   "outputs": [
    {
     "name": "stdout",
     "output_type": "stream",
     "text": [
      "Covariates Dropped : cylinders\n",
      "Mean: 23.695\n",
      "Root Mean Squared Error: 3.424452971304196\n",
      "R2 Score :  0.8122776652574544\n",
      "---------------------------------------------\n",
      "Covariates Dropped : displacement\n",
      "Mean: 23.695\n",
      "Root Mean Squared Error: 3.4287904131140543\n",
      "R2 Score :  0.8118018226229958\n",
      "---------------------------------------------\n",
      "Covariates Dropped : horsepower\n",
      "Mean: 23.695\n",
      "Root Mean Squared Error: 3.386606964311643\n",
      "R2 Score :  0.8164040365327735\n",
      "---------------------------------------------\n",
      "Covariates Dropped : weight\n",
      "Mean: 23.695\n",
      "Root Mean Squared Error: 3.9250218853567675\n",
      "R2 Score :  0.7533860157568725\n",
      "---------------------------------------------\n",
      "Covariates Dropped : acceleration\n",
      "Mean: 23.695\n",
      "Root Mean Squared Error: 3.3575743228673374\n",
      "R2 Score :  0.8195383997400633\n",
      "---------------------------------------------\n",
      "Covariates Dropped : year\n",
      "Mean: 23.695\n",
      "Root Mean Squared Error: 4.44483070879713\n",
      "R2 Score :  0.6837402062075155\n",
      "---------------------------------------------\n",
      "Covariates Dropped : origin\n",
      "Mean: 23.695\n",
      "Root Mean Squared Error: 3.4145610887826847\n",
      "R2 Score :  0.8133606092110274\n",
      "---------------------------------------------\n"
     ]
    }
   ],
   "source": [
    "n = len(covariates)\n",
    "\n",
    "for i in range(n):\n",
    "    \n",
    "    # Dropping covariates[i]\n",
    "    new_covariates = [ covariates[j] for j in range(n) if j!=i ]\n",
    "    \n",
    "    # New covariates Input\n",
    "    new_X = np.delete(X, i, 1)\n",
    "    new_X_train = np.delete(X_train, i, 1)\n",
    "    new_X_test = np.delete(X_test, i, 1)\n",
    "    \n",
    "    #build model\n",
    "    model = LinearRegression()\n",
    "    model.fit(new_X_train, y_train)\n",
    "    \n",
    "    #calculate the predictions of the linear regression model\n",
    "    new_y_pred = model.predict(new_X_test)\n",
    "\n",
    "    # Mean and RMSE\n",
    "    print('Covariates Dropped :', covariates[i])\n",
    "    print('Mean:', np.mean(y_test))\n",
    "    print('Root Mean Squared Error:', np.sqrt(metrics.mean_squared_error(y_test, new_y_pred)))\n",
    "    print('R2 Score : ', model.score(new_X_test, y_test))\n",
    "    print('---------------------------------------------')\n",
    "\n",
    "    \n",
    "    \n",
    "    "
   ]
  },
  {
   "cell_type": "markdown",
   "id": "7cb593d2",
   "metadata": {},
   "source": [
    "### Conclusion\n",
    "\n",
    "From the result we can see that the $R_2$ score drop significantly and RMSE gets higher when we drop either weight or year covariates, with the year having the stronger impact. We can conclude that these 2 covariates are the important ones. "
   ]
  },
  {
   "cell_type": "markdown",
   "id": "efca1c99",
   "metadata": {},
   "source": [
    "### Using Only weights\n"
   ]
  },
  {
   "cell_type": "code",
   "execution_count": 69,
   "id": "af92c8d5",
   "metadata": {},
   "outputs": [
    {
     "name": "stdout",
     "output_type": "stream",
     "text": [
      "Covariates Used : weight\n",
      "Mean: 23.695\n",
      "Root Mean Squared Error: 4.19810204633154\n",
      "R2 Score :  0.717876335343846\n"
     ]
    }
   ],
   "source": [
    "# New covariates Input\n",
    "new_X = X[:,3]\n",
    "new_X_train = X_train[:,3]\n",
    "new_X_test = X_test[:,3]\n",
    "\n",
    "#build model\n",
    "model = LinearRegression()\n",
    "model.fit(new_X_train.reshape(-1,1), y_train)\n",
    "\n",
    "#calculate the predictions of the linear regression model\n",
    "new_y_pred = model.predict(new_X_test.reshape(-1,1))\n",
    "\n",
    "print('Covariates Used :', covariates[3])\n",
    "print('Mean:', np.mean(y_test))\n",
    "print('Root Mean Squared Error:', np.sqrt(metrics.mean_squared_error(y_test, new_y_pred)))\n",
    "print('R2 Score : ', model.score(new_X_test.reshape(-1,1), y_test))\n"
   ]
  },
  {
   "cell_type": "markdown",
   "id": "172bb8c5",
   "metadata": {},
   "source": [
    "### Using Only years\n"
   ]
  },
  {
   "cell_type": "code",
   "execution_count": 71,
   "id": "cda59c98",
   "metadata": {},
   "outputs": [
    {
     "name": "stdout",
     "output_type": "stream",
     "text": [
      "Covariates Used : year\n",
      "Mean: 23.695\n",
      "Root Mean Squared Error: 6.403885661824743\n",
      "R2 Score :  0.3435212499308733\n"
     ]
    }
   ],
   "source": [
    "# New covariates Input\n",
    "new_X = X[:,5]\n",
    "new_X_train = X_train[:,5]\n",
    "new_X_test = X_test[:,5]\n",
    "\n",
    "#build model\n",
    "model = LinearRegression()\n",
    "model.fit(new_X_train.reshape(-1,1), y_train)\n",
    "\n",
    "#calculate the predictions of the linear regression model\n",
    "new_y_pred = model.predict(new_X_test.reshape(-1,1))\n",
    "\n",
    "print('Covariates Used :', covariates[5])\n",
    "print('Mean:', np.mean(y_test))\n",
    "print('Root Mean Squared Error:', np.sqrt(metrics.mean_squared_error(y_test, new_y_pred)))\n",
    "print('R2 Score : ', model.score(new_X_test.reshape(-1,1), y_test))\n"
   ]
  },
  {
   "cell_type": "markdown",
   "id": "997f7e9e",
   "metadata": {},
   "source": [
    "### Using Only wights and years\n"
   ]
  },
  {
   "cell_type": "code",
   "execution_count": 76,
   "id": "86d6feb2",
   "metadata": {},
   "outputs": [
    {
     "name": "stdout",
     "output_type": "stream",
     "text": [
      "Covariates Used : ['weight', 'year']\n",
      "Mean: 23.695\n",
      "Root Mean Squared Error Full Model: 3.409213715841733\n",
      "Root Mean Squared Error: 3.3035255658048204\n",
      "R2 Score Full Model : 0.8139447246621095 \n",
      "R2 Score :  0.8253016196534047\n"
     ]
    }
   ],
   "source": [
    "# New covariates Input\n",
    "new_X = X[:,[3,5]]\n",
    "new_X_train = X_train[:,[3,5]]\n",
    "new_X_test = X_test[:,[3,5]]\n",
    "\n",
    "#build model\n",
    "model = LinearRegression()\n",
    "model.fit(new_X_train, y_train)\n",
    "\n",
    "#calculate the predictions of the linear regression model\n",
    "new_y_pred = model.predict(new_X_test)\n",
    "\n",
    "print('Covariates Used :', [covariates[i] for i in [3,5]])\n",
    "print('Mean:', np.mean(y_test))\n",
    "print('Root Mean Squared Error Full Model: 3.409213715841733')\n",
    "print('Root Mean Squared Error:', np.sqrt(metrics.mean_squared_error(y_test, new_y_pred)))\n",
    "print('R2 Score Full Model : 0.8139447246621095 ')\n",
    "print('R2 Score : ', model.score(new_X_test, y_test))\n"
   ]
  },
  {
   "cell_type": "markdown",
   "id": "181f3489",
   "metadata": {},
   "source": [
    "### Conclusion\n",
    "We have a better model using only the 'year' and 'weight' covariate. We still need to check that against other training/testing datasets"
   ]
  },
  {
   "cell_type": "code",
   "execution_count": null,
   "id": "1fc1033b",
   "metadata": {},
   "outputs": [],
   "source": []
  }
 ],
 "metadata": {
  "kernelspec": {
   "display_name": "Python 3 (ipykernel)",
   "language": "python",
   "name": "python3"
  },
  "language_info": {
   "codemirror_mode": {
    "name": "ipython",
    "version": 3
   },
   "file_extension": ".py",
   "mimetype": "text/x-python",
   "name": "python",
   "nbconvert_exporter": "python",
   "pygments_lexer": "ipython3",
   "version": "3.7.11"
  }
 },
 "nbformat": 4,
 "nbformat_minor": 5
}
