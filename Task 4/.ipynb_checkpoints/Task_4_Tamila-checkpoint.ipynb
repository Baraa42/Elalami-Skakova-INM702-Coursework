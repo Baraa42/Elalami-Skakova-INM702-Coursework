{
 "cells": [
  {
   "cell_type": "markdown",
   "id": "f6a61322",
   "metadata": {},
   "source": [
    "### Used links:\n",
    "- https://pytorch.org/vision/stable/datasets.html#cifar\n",
    "- https://exerror.com/urllib-error-urlerror-urlopen-error-ssl-certificate_verify_failed-certificate-verify-failed-unable-to-get-local-issuer-certificate/\n",
    "- https://www.aiworkbox.com/lessons/load-cifar10-dataset-from-pytorch-torchvision\n",
    "- https://pytorch.org/docs/stable/data.html\n",
    "-https://pytorch.org/tutorials/beginner/saving_loading_models.html?highlight=eval"
   ]
  },
  {
   "cell_type": "markdown",
   "id": "fcebaf43",
   "metadata": {},
   "source": [
    "### Importing the dataset "
   ]
  },
  {
   "cell_type": "code",
   "execution_count": 1,
   "id": "602bebda",
   "metadata": {
    "scrolled": true
   },
   "outputs": [],
   "source": [
    "import torch\n",
    "import torchvision\n",
    "from torchvision import datasets\n",
    "# import torchvision.datasets as datasets\n",
    "import numpy as np\n",
    "import pandas as pd\n",
    "import matplotlib.pyplot as plt\n",
    "import torch.nn as nn\n",
    "import torch.nn.functional as F\n",
    "from torchvision import transforms\n",
    "# import torchvision.transforms as T\n",
    "# from torchvision.datasets import CIFAR10\n",
    "from torchvision.transforms import ToTensor\n",
    "# from torchvision.utils import make_grid\n",
    "from torch.utils.data.dataloader import DataLoader\n",
    "from torch.utils.data import random_split\n",
    "import torch.optim as optim\n",
    "# from torch.utils.data import sampler\n",
    "# %matplotlib inline"
   ]
  },
  {
   "cell_type": "code",
   "execution_count": 2,
   "id": "786bbbc3",
   "metadata": {},
   "outputs": [
    {
     "name": "stdout",
     "output_type": "stream",
     "text": [
      "1.10.0+cpu\n"
     ]
    }
   ],
   "source": [
    "#checking torch versionn\n",
    "print(torch.__version__)"
   ]
  },
  {
   "cell_type": "code",
   "execution_count": 3,
   "id": "e34eb402",
   "metadata": {
    "scrolled": true
   },
   "outputs": [
    {
     "name": "stdout",
     "output_type": "stream",
     "text": [
      "0.11.1+cpu\n"
     ]
    }
   ],
   "source": [
    "#checking torchvision version\n",
    "print(torchvision.__version__)"
   ]
  },
  {
   "cell_type": "code",
   "execution_count": 4,
   "id": "47dff69e",
   "metadata": {},
   "outputs": [
    {
     "name": "stdout",
     "output_type": "stream",
     "text": [
      "Files already downloaded and verified\n"
     ]
    }
   ],
   "source": [
    "# initializing training set\n",
    "cifar = datasets.CIFAR10(root='./data', train=True, download=True, transform=ToTensor())"
   ]
  },
  {
   "cell_type": "code",
   "execution_count": 5,
   "id": "f6ffa73a",
   "metadata": {},
   "outputs": [
    {
     "name": "stdout",
     "output_type": "stream",
     "text": [
      "Files already downloaded and verified\n"
     ]
    }
   ],
   "source": [
    "# initializing test set by initiasing  the train parameter to False\n",
    "cifar_testset = datasets.CIFAR10(root='./data', train=False, download=True, transform=ToTensor())"
   ]
  },
  {
   "cell_type": "code",
   "execution_count": 6,
   "id": "276a86db",
   "metadata": {},
   "outputs": [
    {
     "data": {
      "text/plain": [
       "(torchvision.datasets.cifar.CIFAR10,\n",
       " torchvision.datasets.vision.VisionDataset,\n",
       " torch.utils.data.dataset.Dataset,\n",
       " typing.Generic,\n",
       " object)"
      ]
     },
     "execution_count": 6,
     "metadata": {},
     "output_type": "execute_result"
    }
   ],
   "source": [
    "type(cifar).__mro__"
   ]
  },
  {
   "cell_type": "code",
   "execution_count": 7,
   "id": "f2808fb1",
   "metadata": {},
   "outputs": [
    {
     "data": {
      "text/plain": [
       "Dataset CIFAR10\n",
       "    Number of datapoints: 50000\n",
       "    Root location: ./data\n",
       "    Split: Train\n",
       "    StandardTransform\n",
       "Transform: ToTensor()"
      ]
     },
     "execution_count": 7,
     "metadata": {},
     "output_type": "execute_result"
    }
   ],
   "source": [
    "cifar"
   ]
  },
  {
   "cell_type": "code",
   "execution_count": 8,
   "id": "3d57072a",
   "metadata": {},
   "outputs": [
    {
     "data": {
      "text/plain": [
       "Dataset CIFAR10\n",
       "    Number of datapoints: 10000\n",
       "    Root location: ./data\n",
       "    Split: Test\n",
       "    StandardTransform\n",
       "Transform: ToTensor()"
      ]
     },
     "execution_count": 8,
     "metadata": {},
     "output_type": "execute_result"
    }
   ],
   "source": [
    "cifar_testset"
   ]
  },
  {
   "cell_type": "code",
   "execution_count": 9,
   "id": "6a1aba95",
   "metadata": {},
   "outputs": [
    {
     "data": {
      "text/plain": [
       "50000"
      ]
     },
     "execution_count": 9,
     "metadata": {},
     "output_type": "execute_result"
    }
   ],
   "source": [
    "len(cifar)"
   ]
  },
  {
   "cell_type": "code",
   "execution_count": 10,
   "id": "18ae5502",
   "metadata": {},
   "outputs": [
    {
     "name": "stdout",
     "output_type": "stream",
     "text": [
      "['airplane', 'automobile', 'bird', 'cat', 'deer', 'dog', 'frog', 'horse', 'ship', 'truck']\n"
     ]
    }
   ],
   "source": [
    "classes = cifar.classes\n",
    "print(classes)"
   ]
  },
  {
   "cell_type": "code",
   "execution_count": 11,
   "id": "12957f07",
   "metadata": {},
   "outputs": [],
   "source": [
    "image, label = cifar[89]"
   ]
  },
  {
   "cell_type": "code",
   "execution_count": 12,
   "id": "7aa492e9",
   "metadata": {},
   "outputs": [
    {
     "data": {
      "image/png": "[encoded data removed]",
      "text/plain": [
       "<Figure size 432x288 with 1 Axes>"
      ]
     },
     "metadata": {
      "needs_background": "light"
     },
     "output_type": "display_data"
    }
   ],
   "source": [
    "plt.imshow(image.permute((1, 2, 0)))\n",
    "plt.show()"
   ]
  },
  {
   "cell_type": "code",
   "execution_count": 13,
   "id": "ca31bfd1",
   "metadata": {
    "scrolled": true
   },
   "outputs": [
    {
     "data": {
      "text/plain": [
       "'deer'"
      ]
     },
     "execution_count": 13,
     "metadata": {},
     "output_type": "execute_result"
    }
   ],
   "source": [
    "#label deer\n",
    "classes[label]"
   ]
  },
  {
   "cell_type": "code",
   "execution_count": 14,
   "id": "55edafeb",
   "metadata": {},
   "outputs": [
    {
     "data": {
      "text/plain": [
       "4"
      ]
     },
     "execution_count": 14,
     "metadata": {},
     "output_type": "execute_result"
    }
   ],
   "source": [
    "label"
   ]
  },
  {
   "cell_type": "code",
   "execution_count": 15,
   "id": "cc10151d",
   "metadata": {
    "scrolled": true
   },
   "outputs": [
    {
     "data": {
      "text/plain": [
       "['AutoAugment',\n",
       " 'AutoAugmentPolicy',\n",
       " 'CenterCrop',\n",
       " 'ColorJitter',\n",
       " 'Compose',\n",
       " 'ConvertImageDtype',\n",
       " 'FiveCrop',\n",
       " 'GaussianBlur',\n",
       " 'Grayscale',\n",
       " 'InterpolationMode',\n",
       " 'Lambda',\n",
       " 'LinearTransformation',\n",
       " 'Normalize',\n",
       " 'PILToTensor',\n",
       " 'Pad',\n",
       " 'RandAugment',\n",
       " 'RandomAdjustSharpness',\n",
       " 'RandomAffine',\n",
       " 'RandomApply',\n",
       " 'RandomAutocontrast',\n",
       " 'RandomChoice',\n",
       " 'RandomCrop',\n",
       " 'RandomEqualize',\n",
       " 'RandomErasing',\n",
       " 'RandomGrayscale',\n",
       " 'RandomHorizontalFlip',\n",
       " 'RandomInvert',\n",
       " 'RandomOrder',\n",
       " 'RandomPerspective',\n",
       " 'RandomPosterize',\n",
       " 'RandomResizedCrop',\n",
       " 'RandomRotation',\n",
       " 'RandomSizedCrop',\n",
       " 'RandomSolarize',\n",
       " 'RandomVerticalFlip',\n",
       " 'Resize',\n",
       " 'Scale',\n",
       " 'TenCrop',\n",
       " 'ToPILImage',\n",
       " 'ToTensor',\n",
       " 'TrivialAugmentWide',\n",
       " '__builtins__',\n",
       " '__cached__',\n",
       " '__doc__',\n",
       " '__file__',\n",
       " '__loader__',\n",
       " '__name__',\n",
       " '__package__',\n",
       " '__path__',\n",
       " '__spec__',\n",
       " 'autoaugment',\n",
       " 'functional',\n",
       " 'functional_pil',\n",
       " 'functional_tensor',\n",
       " 'transforms']"
      ]
     },
     "execution_count": 15,
     "metadata": {},
     "output_type": "execute_result"
    }
   ],
   "source": [
    "dir(transforms)"
   ]
  },
  {
   "cell_type": "code",
   "execution_count": 16,
   "id": "b768091e",
   "metadata": {},
   "outputs": [
    {
     "data": {
      "text/plain": [
       "torch.Size([3, 32, 32])"
      ]
     },
     "execution_count": 16,
     "metadata": {},
     "output_type": "execute_result"
    }
   ],
   "source": [
    "image.shape"
   ]
  },
  {
   "cell_type": "code",
   "execution_count": 17,
   "id": "206aac3d",
   "metadata": {},
   "outputs": [
    {
     "name": "stdout",
     "output_type": "stream",
     "text": [
      "checked for shape\n"
     ]
    }
   ],
   "source": [
    "try:\n",
    "    image.shape\n",
    "    print(\"checked for shape\".format(image.shape))\n",
    "except AttributeError:\n",
    "    print(\"shape not found\")   "
   ]
  },
  {
   "cell_type": "code",
   "execution_count": 18,
   "id": "e9b6be27",
   "metadata": {},
   "outputs": [
    {
     "data": {
      "text/plain": [
       "tensor([[[0.6392, 0.6314, 0.6549],\n",
       "         [0.6510, 0.6392, 0.5765],\n",
       "         [0.6157, 0.5451, 0.6039],\n",
       "         ...,\n",
       "         [0.7216, 0.6431, 0.7294],\n",
       "         [0.7843, 0.8157, 0.8235],\n",
       "         [0.8157, 0.8196, 0.8353]],\n",
       "\n",
       "        [[0.8353, 0.8353, 0.8510],\n",
       "         [0.8627, 0.8588, 0.8784],\n",
       "         [0.8863, 0.8745, 0.8667],\n",
       "         ...,\n",
       "         [0.8510, 0.8549, 0.8627],\n",
       "         [0.8549, 0.8353, 0.8824],\n",
       "         [0.8863, 0.8706, 0.8588]],\n",
       "\n",
       "        [[0.7647, 0.7373, 0.7451],\n",
       "         [0.7451, 0.7490, 0.7451],\n",
       "         [0.6902, 0.7255, 0.7373],\n",
       "         ...,\n",
       "         [0.3686, 0.3922, 0.3569],\n",
       "         [0.3608, 0.2980, 0.2941],\n",
       "         [0.2902, 0.3059, 0.2784]],\n",
       "\n",
       "        ...,\n",
       "\n",
       "        [[0.5020, 0.4549, 0.4157],\n",
       "         [0.4431, 0.3686, 0.3529],\n",
       "         [0.3529, 0.3608, 0.3843],\n",
       "         ...,\n",
       "         [0.6510, 0.6392, 0.6235],\n",
       "         [0.6078, 0.5569, 0.5216],\n",
       "         [0.5529, 0.5490, 0.5216]],\n",
       "\n",
       "        [[0.4078, 0.3843, 0.3804],\n",
       "         [0.3569, 0.3333, 0.3255],\n",
       "         [0.3451, 0.3294, 0.3373],\n",
       "         ...,\n",
       "         [0.5412, 0.6000, 0.6510],\n",
       "         [0.6510, 0.6275, 0.6196],\n",
       "         [0.6039, 0.5765, 0.5098]],\n",
       "\n",
       "        [[0.3882, 0.3725, 0.3569],\n",
       "         [0.3725, 0.3647, 0.3333],\n",
       "         [0.3255, 0.3255, 0.3412],\n",
       "         ...,\n",
       "         [0.3961, 0.4196, 0.4157],\n",
       "         [0.4118, 0.4235, 0.3922],\n",
       "         [0.3765, 0.3686, 0.3804]]])"
      ]
     },
     "execution_count": 18,
     "metadata": {},
     "output_type": "execute_result"
    }
   ],
   "source": [
    "np.reshape(image, (32, 32, 3))"
   ]
  },
  {
   "cell_type": "code",
   "execution_count": 19,
   "id": "6d545f67",
   "metadata": {},
   "outputs": [
    {
     "data": {
      "text/plain": [
       "torch.Size([3, 32, 32])"
      ]
     },
     "execution_count": 19,
     "metadata": {},
     "output_type": "execute_result"
    }
   ],
   "source": [
    "image, label = cifar[0]\n",
    "img_shape = image.shape\n",
    "img_shape"
   ]
  },
  {
   "cell_type": "code",
   "execution_count": 20,
   "id": "04c9b11c",
   "metadata": {
    "scrolled": true
   },
   "outputs": [
    {
     "data": {
      "text/plain": [
       "'frog'"
      ]
     },
     "execution_count": 20,
     "metadata": {},
     "output_type": "execute_result"
    },
    {
     "data": {
      "image/png": "[encoded data removed]",
      "text/plain": [
       "<Figure size 432x288 with 1 Axes>"
      ]
     },
     "metadata": {
      "needs_background": "light"
     },
     "output_type": "display_data"
    }
   ],
   "source": [
    "image, label = cifar[0]\n",
    "plt.imshow(image.permute((1, 2, 0)))\n",
    "label\n",
    "classes[label]"
   ]
  },
  {
   "cell_type": "code",
   "execution_count": 22,
   "id": "ab7f0582",
   "metadata": {},
   "outputs": [],
   "source": [
    "batch_size = 4"
   ]
  },
  {
   "cell_type": "code",
   "execution_count": 23,
   "id": "89b4f9a1",
   "metadata": {},
   "outputs": [],
   "source": [
    "train_loader = DataLoader(cifar, batch_size = batch_size, shuffle=True, num_workers=2)"
   ]
  },
  {
   "cell_type": "code",
   "execution_count": 24,
   "id": "1f6dea85",
   "metadata": {},
   "outputs": [],
   "source": [
    "test_loader = DataLoader(cifar_testset, batch_size = batch_size, shuffle = False, num_workers=2)"
   ]
  },
  {
   "cell_type": "code",
   "execution_count": 26,
   "id": "4d08e20f",
   "metadata": {},
   "outputs": [],
   "source": [
    "def get_default_device():\n",
    "    \"\"\"Pick GPU if available, else CPU\"\"\"\n",
    "    if torch.cuda.is_available():\n",
    "        return torch.device('cuda')\n",
    "    else:\n",
    "        return torch.device('cpu')"
   ]
  },
  {
   "cell_type": "code",
   "execution_count": 27,
   "id": "69c4064b",
   "metadata": {},
   "outputs": [
    {
     "data": {
      "text/plain": [
       "device(type='cpu')"
      ]
     },
     "execution_count": 27,
     "metadata": {},
     "output_type": "execute_result"
    }
   ],
   "source": [
    "device = get_default_device()\n",
    "device"
   ]
  },
  {
   "cell_type": "code",
   "execution_count": 28,
   "id": "02ad38fe",
   "metadata": {},
   "outputs": [],
   "source": [
    "class CNN(nn.Module):\n",
    "    def __init__(self):\n",
    "        super(CNN, self).__init__()\n",
    "        self.conv1 = nn.Conv2d(3,   64,  3)\n",
    "        self.conv2 = nn.Conv2d(64,  128, 3)\n",
    "        self.conv3 = nn.Conv2d(128, 256, 3)\n",
    "        self.pool = nn.MaxPool2d(2, 2)\n",
    "#         self.drop1 = nn.Dropout(0.25)\n",
    "\n",
    "        self.fc1 = nn.Linear(64 * 4 * 4, 128)\n",
    "        self.fc2 = nn.Linear(128, 256)\n",
    "#         self.drop4 = nn.Dropout(0.25)\n",
    "        self.fc3 = nn.Linear(256, 10)\n",
    "\n",
    "    def forward(self, x):\n",
    "        x = self.pool(F.relu(self.conv1(x)))\n",
    "        x = self.pool(F.relu(self.conv2(x)))\n",
    "        x = self.pool(F.relu(self.conv3(x)))\n",
    "        \n",
    "        x = x.view(-1, 64 * 4 * 4)\n",
    "        \n",
    "        x = F.relu(self.fc1(x))\n",
    "        x = F.relu(self.fc2(x))\n",
    "        \n",
    "        x = self.fc3(x)\n",
    "        \n",
    "        return F.log_softmax(x, dim=1)"
   ]
  },
  {
   "cell_type": "code",
   "execution_count": 29,
   "id": "5abec9d8",
   "metadata": {},
   "outputs": [],
   "source": [
    "def train(model, device, train_loader, optimizer, epoch):\n",
    "    losses = []\n",
    "    model.train()\n",
    "    \n",
    "    for batch_idx, (data, target) in enumerate(train_loader):\n",
    "        data, target = data.to(device), target.to(device)\n",
    "        optimizer.zero_grad()\n",
    "        output = model(data)\n",
    "        loss = F.nll_loss(output, target)\n",
    "        loss.backward()\n",
    "        optimizer.step()\n",
    "        losses.append(loss.item())\n",
    "\n",
    "    return losses"
   ]
  },
  {
   "cell_type": "code",
   "execution_count": 30,
   "id": "d5df2ec9",
   "metadata": {},
   "outputs": [],
   "source": [
    "def test(model, device, test_loader):\n",
    "    \n",
    "    model.eval()\n",
    "    test_loss = 0\n",
    "    correct = 0\n",
    "    \n",
    "    with torch.no_grad():\n",
    "        for data, target in test_loader:\n",
    "            data, target = data.to(device), target.to(device)\n",
    "            output = model(data)\n",
    "            #batch loss\n",
    "            test_loss += F.nll_loss(output, target, reduction='sum').item() \n",
    "            #max prob\n",
    "            pred = output.argmax(dim=1, keepdim=True) \n",
    "            #Get Equal to of dataframe and other, element-wise (binary operator eq).\n",
    "            correct += pred.eq(target.view_as(pred)).sum().item()\n",
    "            \n",
    "    test_loss /= len(test_loader.dataset)\n",
    "   \n",
    "    print('Accuracy: {}/{} ({:.0f}%)\\n'.format(correct, len(test_loader.dataset), 100. * correct / len(test_loader.dataset)))\n",
    "    return (float(correct) / len(test_loader.dataset))"
   ]
  },
  {
   "cell_type": "code",
   "execution_count": 31,
   "id": "672d1469",
   "metadata": {},
   "outputs": [],
   "source": [
    "model = CNN()"
   ]
  },
  {
   "cell_type": "code",
   "execution_count": 32,
   "id": "e9e714af",
   "metadata": {},
   "outputs": [],
   "source": [
    "optimizer = optim.SGD(model.parameters(), lr=0.001, momentum=0.9)"
   ]
  },
  {
   "cell_type": "code",
   "execution_count": 33,
   "id": "4da2db7d",
   "metadata": {},
   "outputs": [],
   "source": [
    "losses = []\n",
    "accuracies = []"
   ]
  },
  {
   "cell_type": "code",
   "execution_count": 33,
   "id": "c5154abd",
   "metadata": {
    "scrolled": true
   },
   "outputs": [
    {
     "name": "stdout",
     "output_type": "stream",
     "text": [
      "Accuracy: 7327/10000 (73%)\n",
      "\n",
      "Accuracy: 7180/10000 (72%)\n",
      "\n",
      "Accuracy: 7213/10000 (72%)\n",
      "\n",
      "Accuracy: 7225/10000 (72%)\n",
      "\n",
      "Accuracy: 7436/10000 (74%)\n",
      "\n",
      "Accuracy: 7360/10000 (74%)\n",
      "\n",
      "Accuracy: 7193/10000 (72%)\n",
      "\n",
      "Accuracy: 7422/10000 (74%)\n",
      "\n",
      "Accuracy: 7413/10000 (74%)\n",
      "\n",
      "Accuracy: 7358/10000 (74%)\n",
      "\n",
      "Accuracy: 7367/10000 (74%)\n",
      "\n",
      "Accuracy: 7346/10000 (73%)\n",
      "\n",
      "Accuracy: 7343/10000 (73%)\n",
      "\n",
      "Accuracy: 7395/10000 (74%)\n",
      "\n",
      "Accuracy: 7332/10000 (73%)\n",
      "\n",
      "Accuracy: 7342/10000 (73%)\n",
      "\n",
      "Accuracy: 7356/10000 (74%)\n",
      "\n",
      "Accuracy: 7307/10000 (73%)\n",
      "\n",
      "Accuracy: 7275/10000 (73%)\n",
      "\n",
      "Accuracy: 7396/10000 (74%)\n",
      "\n"
     ]
    }
   ],
   "source": [
    "for epoch in range(0, 20):\n",
    "    losses.append(train(model, device, train_loader, optimizer, epoch))\n",
    "    accuracies.append(test(model, device, test_loader))"
   ]
  },
  {
   "cell_type": "code",
   "execution_count": 2,
   "id": "6fee44b7",
   "metadata": {},
   "outputs": [],
   "source": [
    "# accuracy max - 74% , from epoch N5"
   ]
  },
  {
   "cell_type": "code",
   "execution_count": null,
   "id": "8a492e71",
   "metadata": {},
   "outputs": [],
   "source": []
  }
 ],
 "metadata": {
  "kernelspec": {
   "display_name": "Python 3 (ipykernel)",
   "language": "python",
   "name": "python3"
  },
  "language_info": {
   "codemirror_mode": {
    "name": "ipython",
    "version": 3
   },
   "file_extension": ".py",
   "mimetype": "text/x-python",
   "name": "python",
   "nbconvert_exporter": "python",
   "pygments_lexer": "ipython3",
   "version": "3.8.8"
  }
 },
 "nbformat": 4,
 "nbformat_minor": 5
}
