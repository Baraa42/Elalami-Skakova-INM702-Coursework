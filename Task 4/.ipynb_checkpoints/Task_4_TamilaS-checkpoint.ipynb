{
 "cells": [
  {
   "cell_type": "markdown",
   "id": "fcebaf43",
   "metadata": {},
   "source": [
    "### Importing the dataset "
   ]
  },
  {
   "cell_type": "code",
   "execution_count": 1,
   "id": "602bebda",
   "metadata": {
    "scrolled": true
   },
   "outputs": [],
   "source": [
    "import torch\n",
    "import torchvision\n",
    "from torchvision import datasets\n",
    "import numpy as np\n",
    "import pandas as pd\n",
    "import matplotlib.pyplot as plt\n",
    "import torch.nn as nn\n",
    "import torch.nn.functional as F\n",
    "from torchvision import transforms\n",
    "from torchvision.transforms import ToTensor\n",
    "from torch.utils.data.dataloader import DataLoader\n",
    "from torch.utils.data import random_split\n",
    "import torch.optim as optim"
   ]
  },
  {
   "cell_type": "code",
   "execution_count": 2,
   "id": "786bbbc3",
   "metadata": {},
   "outputs": [
    {
     "name": "stdout",
     "output_type": "stream",
     "text": [
      "1.10.0+cpu\n"
     ]
    }
   ],
   "source": [
    "#checking torch versionn\n",
    "print(torch.__version__)"
   ]
  },
  {
   "cell_type": "code",
   "execution_count": 3,
   "id": "e34eb402",
   "metadata": {
    "scrolled": true
   },
   "outputs": [
    {
     "name": "stdout",
     "output_type": "stream",
     "text": [
      "0.11.1+cpu\n"
     ]
    }
   ],
   "source": [
    "#checking torchvision version\n",
    "print(torchvision.__version__)"
   ]
  },
  {
   "cell_type": "code",
   "execution_count": 4,
   "id": "e997aff7",
   "metadata": {},
   "outputs": [],
   "source": [
    "import ssl\n",
    "ssl._create_default_https_context = ssl._create_unverified_context"
   ]
  },
  {
   "cell_type": "code",
   "execution_count": 5,
   "id": "47dff69e",
   "metadata": {},
   "outputs": [
    {
     "name": "stdout",
     "output_type": "stream",
     "text": [
      "Downloading https://www.cs.toronto.edu/~kriz/cifar-10-python.tar.gz to ./data\\cifar-10-python.tar.gz\n"
     ]
    },
    {
     "data": {
      "application/vnd.jupyter.widget-view+json": {
       "model_id": "311761fe48a44d509d93e487ece7b66d",
       "version_major": 2,
       "version_minor": 0
      },
      "text/plain": [
       "  0%|          | 0/170498071 [00:00<?, ?it/s]"
      ]
     },
     "metadata": {},
     "output_type": "display_data"
    },
    {
     "name": "stdout",
     "output_type": "stream",
     "text": [
      "Extracting ./data\\cifar-10-python.tar.gz to ./data\n"
     ]
    }
   ],
   "source": [
    "# initializing training set\n",
    "cifar = datasets.CIFAR10(root='./data', train=True, download=True, transform=ToTensor())"
   ]
  },
  {
   "cell_type": "code",
   "execution_count": 6,
   "id": "f6ffa73a",
   "metadata": {
    "scrolled": true
   },
   "outputs": [
    {
     "name": "stdout",
     "output_type": "stream",
     "text": [
      "Files already downloaded and verified\n"
     ]
    }
   ],
   "source": [
    "# initializing test set by initiasing  the train parameter to False\n",
    "cifar_testset = datasets.CIFAR10(root='./data', train=False, download=True, transform=ToTensor())"
   ]
  },
  {
   "cell_type": "code",
   "execution_count": 7,
   "id": "276a86db",
   "metadata": {},
   "outputs": [
    {
     "data": {
      "text/plain": [
       "(torchvision.datasets.cifar.CIFAR10,\n",
       " torchvision.datasets.vision.VisionDataset,\n",
       " torch.utils.data.dataset.Dataset,\n",
       " typing.Generic,\n",
       " object)"
      ]
     },
     "execution_count": 7,
     "metadata": {},
     "output_type": "execute_result"
    }
   ],
   "source": [
    "type(cifar).__mro__"
   ]
  },
  {
   "cell_type": "code",
   "execution_count": 8,
   "id": "f2808fb1",
   "metadata": {},
   "outputs": [
    {
     "data": {
      "text/plain": [
       "Dataset CIFAR10\n",
       "    Number of datapoints: 50000\n",
       "    Root location: ./data\n",
       "    Split: Train\n",
       "    StandardTransform\n",
       "Transform: ToTensor()"
      ]
     },
     "execution_count": 8,
     "metadata": {},
     "output_type": "execute_result"
    }
   ],
   "source": [
    "cifar"
   ]
  },
  {
   "cell_type": "code",
   "execution_count": 9,
   "id": "3d57072a",
   "metadata": {},
   "outputs": [
    {
     "data": {
      "text/plain": [
       "Dataset CIFAR10\n",
       "    Number of datapoints: 10000\n",
       "    Root location: ./data\n",
       "    Split: Test\n",
       "    StandardTransform\n",
       "Transform: ToTensor()"
      ]
     },
     "execution_count": 9,
     "metadata": {},
     "output_type": "execute_result"
    }
   ],
   "source": [
    "cifar_testset"
   ]
  },
  {
   "cell_type": "code",
   "execution_count": 10,
   "id": "18ae5502",
   "metadata": {},
   "outputs": [
    {
     "name": "stdout",
     "output_type": "stream",
     "text": [
      "['airplane', 'automobile', 'bird', 'cat', 'deer', 'dog', 'frog', 'horse', 'ship', 'truck']\n"
     ]
    }
   ],
   "source": [
    "classes = cifar.classes\n",
    "print(classes)"
   ]
  },
  {
   "cell_type": "code",
   "execution_count": 11,
   "id": "12957f07",
   "metadata": {},
   "outputs": [],
   "source": [
    "image, label = cifar[89]"
   ]
  },
  {
   "cell_type": "code",
   "execution_count": 12,
   "id": "7aa492e9",
   "metadata": {},
   "outputs": [
    {
     "data": {
      "image/png": "[encoded data removed]",
      "text/plain": [
       "<Figure size 432x288 with 1 Axes>"
      ]
     },
     "metadata": {
      "needs_background": "light"
     },
     "output_type": "display_data"
    }
   ],
   "source": [
    "plt.imshow(image.permute((1, 2, 0)))\n",
    "plt.show()"
   ]
  },
  {
   "cell_type": "code",
   "execution_count": 13,
   "id": "ca31bfd1",
   "metadata": {
    "scrolled": true
   },
   "outputs": [
    {
     "data": {
      "text/plain": [
       "'deer'"
      ]
     },
     "execution_count": 13,
     "metadata": {},
     "output_type": "execute_result"
    }
   ],
   "source": [
    "#label deer\n",
    "classes[label]"
   ]
  },
  {
   "cell_type": "code",
   "execution_count": 14,
   "id": "55edafeb",
   "metadata": {},
   "outputs": [
    {
     "data": {
      "text/plain": [
       "4"
      ]
     },
     "execution_count": 14,
     "metadata": {},
     "output_type": "execute_result"
    }
   ],
   "source": [
    "label"
   ]
  },
  {
   "cell_type": "code",
   "execution_count": 15,
   "id": "cc10151d",
   "metadata": {
    "scrolled": true
   },
   "outputs": [
    {
     "data": {
      "text/plain": [
       "['AutoAugment',\n",
       " 'AutoAugmentPolicy',\n",
       " 'CenterCrop',\n",
       " 'ColorJitter',\n",
       " 'Compose',\n",
       " 'ConvertImageDtype',\n",
       " 'FiveCrop',\n",
       " 'GaussianBlur',\n",
       " 'Grayscale',\n",
       " 'InterpolationMode',\n",
       " 'Lambda',\n",
       " 'LinearTransformation',\n",
       " 'Normalize',\n",
       " 'PILToTensor',\n",
       " 'Pad',\n",
       " 'RandAugment',\n",
       " 'RandomAdjustSharpness',\n",
       " 'RandomAffine',\n",
       " 'RandomApply',\n",
       " 'RandomAutocontrast',\n",
       " 'RandomChoice',\n",
       " 'RandomCrop',\n",
       " 'RandomEqualize',\n",
       " 'RandomErasing',\n",
       " 'RandomGrayscale',\n",
       " 'RandomHorizontalFlip',\n",
       " 'RandomInvert',\n",
       " 'RandomOrder',\n",
       " 'RandomPerspective',\n",
       " 'RandomPosterize',\n",
       " 'RandomResizedCrop',\n",
       " 'RandomRotation',\n",
       " 'RandomSizedCrop',\n",
       " 'RandomSolarize',\n",
       " 'RandomVerticalFlip',\n",
       " 'Resize',\n",
       " 'Scale',\n",
       " 'TenCrop',\n",
       " 'ToPILImage',\n",
       " 'ToTensor',\n",
       " 'TrivialAugmentWide',\n",
       " '__builtins__',\n",
       " '__cached__',\n",
       " '__doc__',\n",
       " '__file__',\n",
       " '__loader__',\n",
       " '__name__',\n",
       " '__package__',\n",
       " '__path__',\n",
       " '__spec__',\n",
       " 'autoaugment',\n",
       " 'functional',\n",
       " 'functional_pil',\n",
       " 'functional_tensor',\n",
       " 'transforms']"
      ]
     },
     "execution_count": 15,
     "metadata": {},
     "output_type": "execute_result"
    }
   ],
   "source": [
    "dir(transforms)"
   ]
  },
  {
   "cell_type": "code",
   "execution_count": 16,
   "id": "b768091e",
   "metadata": {},
   "outputs": [
    {
     "data": {
      "text/plain": [
       "torch.Size([3, 32, 32])"
      ]
     },
     "execution_count": 16,
     "metadata": {},
     "output_type": "execute_result"
    }
   ],
   "source": [
    "image.shape"
   ]
  },
  {
   "cell_type": "code",
   "execution_count": 17,
   "id": "206aac3d",
   "metadata": {},
   "outputs": [
    {
     "name": "stdout",
     "output_type": "stream",
     "text": [
      "checked for shape\n"
     ]
    }
   ],
   "source": [
    "try:\n",
    "    image.shape\n",
    "    print(\"checked for shape\".format(image.shape))\n",
    "except AttributeError:\n",
    "    print(\"shape not found\")   "
   ]
  },
  {
   "cell_type": "code",
   "execution_count": 18,
   "id": "e9b6be27",
   "metadata": {},
   "outputs": [
    {
     "data": {
      "text/plain": [
       "tensor([[[0.6392, 0.6314, 0.6549],\n",
       "         [0.6510, 0.6392, 0.5765],\n",
       "         [0.6157, 0.5451, 0.6039],\n",
       "         ...,\n",
       "         [0.7216, 0.6431, 0.7294],\n",
       "         [0.7843, 0.8157, 0.8235],\n",
       "         [0.8157, 0.8196, 0.8353]],\n",
       "\n",
       "        [[0.8353, 0.8353, 0.8510],\n",
       "         [0.8627, 0.8588, 0.8784],\n",
       "         [0.8863, 0.8745, 0.8667],\n",
       "         ...,\n",
       "         [0.8510, 0.8549, 0.8627],\n",
       "         [0.8549, 0.8353, 0.8824],\n",
       "         [0.8863, 0.8706, 0.8588]],\n",
       "\n",
       "        [[0.7647, 0.7373, 0.7451],\n",
       "         [0.7451, 0.7490, 0.7451],\n",
       "         [0.6902, 0.7255, 0.7373],\n",
       "         ...,\n",
       "         [0.3686, 0.3922, 0.3569],\n",
       "         [0.3608, 0.2980, 0.2941],\n",
       "         [0.2902, 0.3059, 0.2784]],\n",
       "\n",
       "        ...,\n",
       "\n",
       "        [[0.5020, 0.4549, 0.4157],\n",
       "         [0.4431, 0.3686, 0.3529],\n",
       "         [0.3529, 0.3608, 0.3843],\n",
       "         ...,\n",
       "         [0.6510, 0.6392, 0.6235],\n",
       "         [0.6078, 0.5569, 0.5216],\n",
       "         [0.5529, 0.5490, 0.5216]],\n",
       "\n",
       "        [[0.4078, 0.3843, 0.3804],\n",
       "         [0.3569, 0.3333, 0.3255],\n",
       "         [0.3451, 0.3294, 0.3373],\n",
       "         ...,\n",
       "         [0.5412, 0.6000, 0.6510],\n",
       "         [0.6510, 0.6275, 0.6196],\n",
       "         [0.6039, 0.5765, 0.5098]],\n",
       "\n",
       "        [[0.3882, 0.3725, 0.3569],\n",
       "         [0.3725, 0.3647, 0.3333],\n",
       "         [0.3255, 0.3255, 0.3412],\n",
       "         ...,\n",
       "         [0.3961, 0.4196, 0.4157],\n",
       "         [0.4118, 0.4235, 0.3922],\n",
       "         [0.3765, 0.3686, 0.3804]]])"
      ]
     },
     "execution_count": 18,
     "metadata": {},
     "output_type": "execute_result"
    }
   ],
   "source": [
    "np.reshape(image, (32, 32, 3))"
   ]
  },
  {
   "cell_type": "code",
   "execution_count": 19,
   "id": "6d545f67",
   "metadata": {},
   "outputs": [
    {
     "data": {
      "text/plain": [
       "torch.Size([3, 32, 32])"
      ]
     },
     "execution_count": 19,
     "metadata": {},
     "output_type": "execute_result"
    }
   ],
   "source": [
    "image, label = cifar[0]\n",
    "img_shape = image.shape\n",
    "img_shape"
   ]
  },
  {
   "cell_type": "code",
   "execution_count": 20,
   "id": "04c9b11c",
   "metadata": {
    "scrolled": true
   },
   "outputs": [
    {
     "data": {
      "text/plain": [
       "'frog'"
      ]
     },
     "execution_count": 20,
     "metadata": {},
     "output_type": "execute_result"
    },
    {
     "data": {
      "image/png": "[encoded data removed]",
      "text/plain": [
       "<Figure size 432x288 with 1 Axes>"
      ]
     },
     "metadata": {
      "needs_background": "light"
     },
     "output_type": "display_data"
    }
   ],
   "source": [
    "image, label = cifar[0]\n",
    "plt.imshow(image.permute((1, 2, 0)))\n",
    "label\n",
    "classes[label]"
   ]
  },
  {
   "cell_type": "code",
   "execution_count": 33,
   "id": "ab7f0582",
   "metadata": {},
   "outputs": [],
   "source": [
    "batch_size = 4"
   ]
  },
  {
   "cell_type": "code",
   "execution_count": 34,
   "id": "89b4f9a1",
   "metadata": {},
   "outputs": [],
   "source": [
    "train_loader = DataLoader(cifar, batch_size = batch_size, shuffle=True, num_workers=2)"
   ]
  },
  {
   "cell_type": "code",
   "execution_count": 35,
   "id": "1f6dea85",
   "metadata": {},
   "outputs": [],
   "source": [
    "test_loader = DataLoader(cifar_testset, batch_size = batch_size, shuffle = False, num_workers=2)"
   ]
  },
  {
   "cell_type": "code",
   "execution_count": 36,
   "id": "4d08e20f",
   "metadata": {},
   "outputs": [],
   "source": [
    "def get_default_device():\n",
    "    \"\"\"Pick GPU if available, else CPU\"\"\"\n",
    "    if torch.cuda.is_available():\n",
    "        return torch.device('cuda')\n",
    "    else:\n",
    "        return torch.device('cpu')"
   ]
  },
  {
   "cell_type": "code",
   "execution_count": 37,
   "id": "69c4064b",
   "metadata": {},
   "outputs": [
    {
     "data": {
      "text/plain": [
       "device(type='cpu')"
      ]
     },
     "execution_count": 37,
     "metadata": {},
     "output_type": "execute_result"
    }
   ],
   "source": [
    "device = get_default_device()\n",
    "device"
   ]
  },
  {
   "cell_type": "code",
   "execution_count": 38,
   "id": "040a2590",
   "metadata": {},
   "outputs": [],
   "source": [
    "# introducing CNN class with 1 hidden layer \n",
    "class CNN(nn.Module):\n",
    "    def __init__(self):\n",
    "        super(CNN, self).__init__()\n",
    "        self.conv1 = nn.Conv2d(3,   64,  3)\n",
    "        self.conv2 = nn.Conv2d(64,  128, 3)\n",
    "        self.conv3 = nn.Conv2d(128, 256, 3)\n",
    "        self.pool = nn.MaxPool2d(2, 2)\n",
    "#         self.drop1 = nn.Dropout(0.25)\n",
    "\n",
    "        self.fc1 = nn.Linear(64 * 4 * 4, 128)\n",
    "        self.fc2 = nn.Linear(128, 256)\n",
    "#         self.drop2 = nn.Dropout(0.25)\n",
    "        self.fc3 = nn.Linear(256, 10)\n",
    "\n",
    "    def forward(self, x):\n",
    "        x = self.pool(F.relu(self.conv1(x)))\n",
    "        x = self.pool(F.relu(self.conv2(x)))\n",
    "        x = self.pool(F.relu(self.conv3(x)))\n",
    "        \n",
    "        x = x.view(-1, 64 * 4 * 4)\n",
    "        # relu \n",
    "        x = F.relu(self.fc1(x))\n",
    "        x = F.relu(self.fc2(x))\n",
    "        \n",
    "        x = self.fc3(x)\n",
    "        #softmax funcation on the output\n",
    "        x = F.log_softmax(x, dim=1)\n",
    "        \n",
    "        return x"
   ]
  },
  {
   "cell_type": "code",
   "execution_count": 39,
   "id": "5abec9d8",
   "metadata": {},
   "outputs": [],
   "source": [
    "def train(model, device, train_loader, optimizer, epoch):\n",
    "    losses = []\n",
    "    model.train()\n",
    "    \n",
    "    for batch_idx, (data, target) in enumerate(train_loader):\n",
    "        data, target = data.to(device), target.to(device)\n",
    "        optimizer.zero_grad()\n",
    "        output = model(data)\n",
    "        loss = F.nll_loss(output, target)\n",
    "        loss.backward()\n",
    "        optimizer.step()\n",
    "        losses.append(loss.item())\n",
    "        if batch_idx > 0 and batch_idx % 1000 == 0:\n",
    "            print('Train Epoch: {} [{}/{}\\t({:.0f}%)]\\tLoss: {:.6f}'.format(\n",
    "                epoch, batch_idx * len(data), len(train_loader.dataset),\n",
    "                100. * batch_idx / len(train_loader), loss.item()))\n",
    "\n",
    "\n",
    "    return losses"
   ]
  },
  {
   "cell_type": "code",
   "execution_count": 40,
   "id": "d5df2ec9",
   "metadata": {},
   "outputs": [],
   "source": [
    "def test(model, device, test_loader):\n",
    "    \n",
    "    model.eval()\n",
    "    test_loss = 0\n",
    "    correct = 0\n",
    "    \n",
    "    with torch.no_grad():\n",
    "        for data, target in test_loader:\n",
    "            data, target = data.to(device), target.to(device)\n",
    "            output = model(data)\n",
    "            #batch loss\n",
    "            test_loss += F.nll_loss(output, target, reduction='sum').item() \n",
    "            #max prob\n",
    "            pred = output.argmax(dim=1, keepdim=True) \n",
    "            #Get Equal to of dataframe and other, element-wise (binary operator eq).\n",
    "            correct += pred.eq(target.view_as(pred)).sum().item()\n",
    "            \n",
    "    test_loss /= len(test_loader.dataset)\n",
    "    print('\\nAverage loss: {:.4f}, Accuracy: {}/{} ({:.0f}%)\\n'.format(\n",
    "        test_loss, correct, len(test_loader.dataset),\n",
    "        100. * correct / len(test_loader.dataset)))\n",
    "#     print('Accuracy: {}/{} ({:.0f}%)\\n'.format(correct, len(test_loader.dataset), 100. * correct / len(test_loader.dataset)))\n",
    "    return (float(correct) / len(test_loader.dataset))"
   ]
  },
  {
   "cell_type": "code",
   "execution_count": 41,
   "id": "672d1469",
   "metadata": {},
   "outputs": [],
   "source": [
    "model = CNN()"
   ]
  },
  {
   "cell_type": "code",
   "execution_count": 42,
   "id": "e9e714af",
   "metadata": {},
   "outputs": [],
   "source": [
    "optimizer = optim.SGD(model.parameters(), lr=0.001, momentum=0.9)"
   ]
  },
  {
   "cell_type": "code",
   "execution_count": 43,
   "id": "4da2db7d",
   "metadata": {},
   "outputs": [],
   "source": [
    "losses = []\n",
    "accuracies = []"
   ]
  },
  {
   "cell_type": "code",
   "execution_count": 44,
   "id": "c5154abd",
   "metadata": {
    "scrolled": true
   },
   "outputs": [
    {
     "name": "stdout",
     "output_type": "stream",
     "text": [
      "Train Epoch: 0 [4000/50000\t(8%)]\tLoss: 2.290850\n",
      "Train Epoch: 0 [8000/50000\t(16%)]\tLoss: 2.312755\n",
      "Train Epoch: 0 [12000/50000\t(24%)]\tLoss: 1.755162\n",
      "Train Epoch: 0 [16000/50000\t(32%)]\tLoss: 1.702588\n",
      "Train Epoch: 0 [20000/50000\t(40%)]\tLoss: 1.998843\n",
      "Train Epoch: 0 [24000/50000\t(48%)]\tLoss: 2.075788\n",
      "Train Epoch: 0 [28000/50000\t(56%)]\tLoss: 1.701688\n",
      "Train Epoch: 0 [32000/50000\t(64%)]\tLoss: 2.174870\n",
      "Train Epoch: 0 [36000/50000\t(72%)]\tLoss: 2.222359\n",
      "Train Epoch: 0 [40000/50000\t(80%)]\tLoss: 2.211102\n",
      "Train Epoch: 0 [44000/50000\t(88%)]\tLoss: 1.461832\n",
      "Train Epoch: 0 [48000/50000\t(96%)]\tLoss: 1.610321\n",
      "\n",
      "Average loss: 1.5331, Accuracy: 4464/10000 (45%)\n",
      "\n",
      "Train Epoch: 1 [4000/50000\t(8%)]\tLoss: 1.184627\n",
      "Train Epoch: 1 [8000/50000\t(16%)]\tLoss: 1.883099\n",
      "Train Epoch: 1 [12000/50000\t(24%)]\tLoss: 2.393429\n",
      "Train Epoch: 1 [16000/50000\t(32%)]\tLoss: 1.146680\n",
      "Train Epoch: 1 [20000/50000\t(40%)]\tLoss: 1.614467\n",
      "Train Epoch: 1 [24000/50000\t(48%)]\tLoss: 0.538914\n",
      "Train Epoch: 1 [28000/50000\t(56%)]\tLoss: 1.078566\n",
      "Train Epoch: 1 [32000/50000\t(64%)]\tLoss: 1.383029\n",
      "Train Epoch: 1 [36000/50000\t(72%)]\tLoss: 1.896950\n",
      "Train Epoch: 1 [40000/50000\t(80%)]\tLoss: 0.995166\n",
      "Train Epoch: 1 [44000/50000\t(88%)]\tLoss: 1.621699\n",
      "Train Epoch: 1 [48000/50000\t(96%)]\tLoss: 1.505380\n",
      "\n",
      "Average loss: 1.1546, Accuracy: 5855/10000 (59%)\n",
      "\n",
      "Train Epoch: 2 [4000/50000\t(8%)]\tLoss: 1.493226\n",
      "Train Epoch: 2 [8000/50000\t(16%)]\tLoss: 0.544856\n",
      "Train Epoch: 2 [12000/50000\t(24%)]\tLoss: 1.248845\n",
      "Train Epoch: 2 [16000/50000\t(32%)]\tLoss: 0.398208\n",
      "Train Epoch: 2 [20000/50000\t(40%)]\tLoss: 1.285034\n",
      "Train Epoch: 2 [24000/50000\t(48%)]\tLoss: 0.295434\n",
      "Train Epoch: 2 [28000/50000\t(56%)]\tLoss: 1.280639\n",
      "Train Epoch: 2 [32000/50000\t(64%)]\tLoss: 0.369702\n",
      "Train Epoch: 2 [36000/50000\t(72%)]\tLoss: 0.561530\n",
      "Train Epoch: 2 [40000/50000\t(80%)]\tLoss: 0.589190\n",
      "Train Epoch: 2 [44000/50000\t(88%)]\tLoss: 1.898022\n",
      "Train Epoch: 2 [48000/50000\t(96%)]\tLoss: 1.441209\n",
      "\n",
      "Average loss: 1.0659, Accuracy: 6300/10000 (63%)\n",
      "\n",
      "Train Epoch: 3 [4000/50000\t(8%)]\tLoss: 0.741517\n",
      "Train Epoch: 3 [8000/50000\t(16%)]\tLoss: 1.779415\n",
      "Train Epoch: 3 [12000/50000\t(24%)]\tLoss: 0.520066\n",
      "Train Epoch: 3 [16000/50000\t(32%)]\tLoss: 0.975114\n",
      "Train Epoch: 3 [20000/50000\t(40%)]\tLoss: 0.451003\n",
      "Train Epoch: 3 [24000/50000\t(48%)]\tLoss: 0.160369\n",
      "Train Epoch: 3 [28000/50000\t(56%)]\tLoss: 0.665460\n",
      "Train Epoch: 3 [32000/50000\t(64%)]\tLoss: 1.051269\n",
      "Train Epoch: 3 [36000/50000\t(72%)]\tLoss: 0.453671\n",
      "Train Epoch: 3 [40000/50000\t(80%)]\tLoss: 0.870695\n",
      "Train Epoch: 3 [44000/50000\t(88%)]\tLoss: 1.161664\n",
      "Train Epoch: 3 [48000/50000\t(96%)]\tLoss: 0.256997\n",
      "\n",
      "Average loss: 0.9069, Accuracy: 6855/10000 (69%)\n",
      "\n",
      "Train Epoch: 4 [4000/50000\t(8%)]\tLoss: 0.428754\n",
      "Train Epoch: 4 [8000/50000\t(16%)]\tLoss: 0.974072\n",
      "Train Epoch: 4 [12000/50000\t(24%)]\tLoss: 0.892148\n",
      "Train Epoch: 4 [16000/50000\t(32%)]\tLoss: 1.566850\n"
     ]
    },
    {
     "ename": "KeyboardInterrupt",
     "evalue": "",
     "output_type": "error",
     "traceback": [
      "\u001b[1;31m---------------------------------------------------------------------------\u001b[0m",
      "\u001b[1;31mKeyboardInterrupt\u001b[0m                         Traceback (most recent call last)",
      "\u001b[1;32m~\\AppData\\Local\\Temp/ipykernel_8480/3303947034.py\u001b[0m in \u001b[0;36m<module>\u001b[1;34m\u001b[0m\n\u001b[0;32m      1\u001b[0m \u001b[1;32mfor\u001b[0m \u001b[0mepoch\u001b[0m \u001b[1;32min\u001b[0m \u001b[0mrange\u001b[0m\u001b[1;33m(\u001b[0m\u001b[1;36m0\u001b[0m\u001b[1;33m,\u001b[0m \u001b[1;36m20\u001b[0m\u001b[1;33m)\u001b[0m\u001b[1;33m:\u001b[0m\u001b[1;33m\u001b[0m\u001b[1;33m\u001b[0m\u001b[0m\n\u001b[1;32m----> 2\u001b[1;33m     \u001b[0mlosses\u001b[0m\u001b[1;33m.\u001b[0m\u001b[0mappend\u001b[0m\u001b[1;33m(\u001b[0m\u001b[0mtrain\u001b[0m\u001b[1;33m(\u001b[0m\u001b[0mmodel\u001b[0m\u001b[1;33m,\u001b[0m \u001b[0mdevice\u001b[0m\u001b[1;33m,\u001b[0m \u001b[0mtrain_loader\u001b[0m\u001b[1;33m,\u001b[0m \u001b[0moptimizer\u001b[0m\u001b[1;33m,\u001b[0m \u001b[0mepoch\u001b[0m\u001b[1;33m)\u001b[0m\u001b[1;33m)\u001b[0m\u001b[1;33m\u001b[0m\u001b[1;33m\u001b[0m\u001b[0m\n\u001b[0m\u001b[0;32m      3\u001b[0m     \u001b[0maccuracies\u001b[0m\u001b[1;33m.\u001b[0m\u001b[0mappend\u001b[0m\u001b[1;33m(\u001b[0m\u001b[0mtest\u001b[0m\u001b[1;33m(\u001b[0m\u001b[0mmodel\u001b[0m\u001b[1;33m,\u001b[0m \u001b[0mdevice\u001b[0m\u001b[1;33m,\u001b[0m \u001b[0mtest_loader\u001b[0m\u001b[1;33m)\u001b[0m\u001b[1;33m)\u001b[0m\u001b[1;33m\u001b[0m\u001b[1;33m\u001b[0m\u001b[0m\n",
      "\u001b[1;32m~\\AppData\\Local\\Temp/ipykernel_8480/4026324972.py\u001b[0m in \u001b[0;36mtrain\u001b[1;34m(model, device, train_loader, optimizer, epoch)\u001b[0m\n\u001b[0;32m      3\u001b[0m     \u001b[0mmodel\u001b[0m\u001b[1;33m.\u001b[0m\u001b[0mtrain\u001b[0m\u001b[1;33m(\u001b[0m\u001b[1;33m)\u001b[0m\u001b[1;33m\u001b[0m\u001b[1;33m\u001b[0m\u001b[0m\n\u001b[0;32m      4\u001b[0m \u001b[1;33m\u001b[0m\u001b[0m\n\u001b[1;32m----> 5\u001b[1;33m     \u001b[1;32mfor\u001b[0m \u001b[0mbatch_idx\u001b[0m\u001b[1;33m,\u001b[0m \u001b[1;33m(\u001b[0m\u001b[0mdata\u001b[0m\u001b[1;33m,\u001b[0m \u001b[0mtarget\u001b[0m\u001b[1;33m)\u001b[0m \u001b[1;32min\u001b[0m \u001b[0menumerate\u001b[0m\u001b[1;33m(\u001b[0m\u001b[0mtrain_loader\u001b[0m\u001b[1;33m)\u001b[0m\u001b[1;33m:\u001b[0m\u001b[1;33m\u001b[0m\u001b[1;33m\u001b[0m\u001b[0m\n\u001b[0m\u001b[0;32m      6\u001b[0m         \u001b[0mdata\u001b[0m\u001b[1;33m,\u001b[0m \u001b[0mtarget\u001b[0m \u001b[1;33m=\u001b[0m \u001b[0mdata\u001b[0m\u001b[1;33m.\u001b[0m\u001b[0mto\u001b[0m\u001b[1;33m(\u001b[0m\u001b[0mdevice\u001b[0m\u001b[1;33m)\u001b[0m\u001b[1;33m,\u001b[0m \u001b[0mtarget\u001b[0m\u001b[1;33m.\u001b[0m\u001b[0mto\u001b[0m\u001b[1;33m(\u001b[0m\u001b[0mdevice\u001b[0m\u001b[1;33m)\u001b[0m\u001b[1;33m\u001b[0m\u001b[1;33m\u001b[0m\u001b[0m\n\u001b[0;32m      7\u001b[0m         \u001b[0moptimizer\u001b[0m\u001b[1;33m.\u001b[0m\u001b[0mzero_grad\u001b[0m\u001b[1;33m(\u001b[0m\u001b[1;33m)\u001b[0m\u001b[1;33m\u001b[0m\u001b[1;33m\u001b[0m\u001b[0m\n",
      "\u001b[1;32m~\\anaconda3\\lib\\site-packages\\torch\\utils\\data\\dataloader.py\u001b[0m in \u001b[0;36m__next__\u001b[1;34m(self)\u001b[0m\n\u001b[0;32m    519\u001b[0m             \u001b[1;32mif\u001b[0m \u001b[0mself\u001b[0m\u001b[1;33m.\u001b[0m\u001b[0m_sampler_iter\u001b[0m \u001b[1;32mis\u001b[0m \u001b[1;32mNone\u001b[0m\u001b[1;33m:\u001b[0m\u001b[1;33m\u001b[0m\u001b[1;33m\u001b[0m\u001b[0m\n\u001b[0;32m    520\u001b[0m                 \u001b[0mself\u001b[0m\u001b[1;33m.\u001b[0m\u001b[0m_reset\u001b[0m\u001b[1;33m(\u001b[0m\u001b[1;33m)\u001b[0m\u001b[1;33m\u001b[0m\u001b[1;33m\u001b[0m\u001b[0m\n\u001b[1;32m--> 521\u001b[1;33m             \u001b[0mdata\u001b[0m \u001b[1;33m=\u001b[0m \u001b[0mself\u001b[0m\u001b[1;33m.\u001b[0m\u001b[0m_next_data\u001b[0m\u001b[1;33m(\u001b[0m\u001b[1;33m)\u001b[0m\u001b[1;33m\u001b[0m\u001b[1;33m\u001b[0m\u001b[0m\n\u001b[0m\u001b[0;32m    522\u001b[0m             \u001b[0mself\u001b[0m\u001b[1;33m.\u001b[0m\u001b[0m_num_yielded\u001b[0m \u001b[1;33m+=\u001b[0m \u001b[1;36m1\u001b[0m\u001b[1;33m\u001b[0m\u001b[1;33m\u001b[0m\u001b[0m\n\u001b[0;32m    523\u001b[0m             \u001b[1;32mif\u001b[0m \u001b[0mself\u001b[0m\u001b[1;33m.\u001b[0m\u001b[0m_dataset_kind\u001b[0m \u001b[1;33m==\u001b[0m \u001b[0m_DatasetKind\u001b[0m\u001b[1;33m.\u001b[0m\u001b[0mIterable\u001b[0m \u001b[1;32mand\u001b[0m\u001b[0;31m \u001b[0m\u001b[0;31m\\\u001b[0m\u001b[1;33m\u001b[0m\u001b[1;33m\u001b[0m\u001b[0m\n",
      "\u001b[1;32m~\\anaconda3\\lib\\site-packages\\torch\\utils\\data\\dataloader.py\u001b[0m in \u001b[0;36m_next_data\u001b[1;34m(self)\u001b[0m\n\u001b[0;32m   1184\u001b[0m \u001b[1;33m\u001b[0m\u001b[0m\n\u001b[0;32m   1185\u001b[0m             \u001b[1;32massert\u001b[0m \u001b[1;32mnot\u001b[0m \u001b[0mself\u001b[0m\u001b[1;33m.\u001b[0m\u001b[0m_shutdown\u001b[0m \u001b[1;32mand\u001b[0m \u001b[0mself\u001b[0m\u001b[1;33m.\u001b[0m\u001b[0m_tasks_outstanding\u001b[0m \u001b[1;33m>\u001b[0m \u001b[1;36m0\u001b[0m\u001b[1;33m\u001b[0m\u001b[1;33m\u001b[0m\u001b[0m\n\u001b[1;32m-> 1186\u001b[1;33m             \u001b[0midx\u001b[0m\u001b[1;33m,\u001b[0m \u001b[0mdata\u001b[0m \u001b[1;33m=\u001b[0m \u001b[0mself\u001b[0m\u001b[1;33m.\u001b[0m\u001b[0m_get_data\u001b[0m\u001b[1;33m(\u001b[0m\u001b[1;33m)\u001b[0m\u001b[1;33m\u001b[0m\u001b[1;33m\u001b[0m\u001b[0m\n\u001b[0m\u001b[0;32m   1187\u001b[0m             \u001b[0mself\u001b[0m\u001b[1;33m.\u001b[0m\u001b[0m_tasks_outstanding\u001b[0m \u001b[1;33m-=\u001b[0m \u001b[1;36m1\u001b[0m\u001b[1;33m\u001b[0m\u001b[1;33m\u001b[0m\u001b[0m\n\u001b[0;32m   1188\u001b[0m             \u001b[1;32mif\u001b[0m \u001b[0mself\u001b[0m\u001b[1;33m.\u001b[0m\u001b[0m_dataset_kind\u001b[0m \u001b[1;33m==\u001b[0m \u001b[0m_DatasetKind\u001b[0m\u001b[1;33m.\u001b[0m\u001b[0mIterable\u001b[0m\u001b[1;33m:\u001b[0m\u001b[1;33m\u001b[0m\u001b[1;33m\u001b[0m\u001b[0m\n",
      "\u001b[1;32m~\\anaconda3\\lib\\site-packages\\torch\\utils\\data\\dataloader.py\u001b[0m in \u001b[0;36m_get_data\u001b[1;34m(self)\u001b[0m\n\u001b[0;32m   1150\u001b[0m         \u001b[1;32melse\u001b[0m\u001b[1;33m:\u001b[0m\u001b[1;33m\u001b[0m\u001b[1;33m\u001b[0m\u001b[0m\n\u001b[0;32m   1151\u001b[0m             \u001b[1;32mwhile\u001b[0m \u001b[1;32mTrue\u001b[0m\u001b[1;33m:\u001b[0m\u001b[1;33m\u001b[0m\u001b[1;33m\u001b[0m\u001b[0m\n\u001b[1;32m-> 1152\u001b[1;33m                 \u001b[0msuccess\u001b[0m\u001b[1;33m,\u001b[0m \u001b[0mdata\u001b[0m \u001b[1;33m=\u001b[0m \u001b[0mself\u001b[0m\u001b[1;33m.\u001b[0m\u001b[0m_try_get_data\u001b[0m\u001b[1;33m(\u001b[0m\u001b[1;33m)\u001b[0m\u001b[1;33m\u001b[0m\u001b[1;33m\u001b[0m\u001b[0m\n\u001b[0m\u001b[0;32m   1153\u001b[0m                 \u001b[1;32mif\u001b[0m \u001b[0msuccess\u001b[0m\u001b[1;33m:\u001b[0m\u001b[1;33m\u001b[0m\u001b[1;33m\u001b[0m\u001b[0m\n\u001b[0;32m   1154\u001b[0m                     \u001b[1;32mreturn\u001b[0m \u001b[0mdata\u001b[0m\u001b[1;33m\u001b[0m\u001b[1;33m\u001b[0m\u001b[0m\n",
      "\u001b[1;32m~\\anaconda3\\lib\\site-packages\\torch\\utils\\data\\dataloader.py\u001b[0m in \u001b[0;36m_try_get_data\u001b[1;34m(self, timeout)\u001b[0m\n\u001b[0;32m    988\u001b[0m         \u001b[1;31m#   (bool: whether successfully get data, any: data if successful else None)\u001b[0m\u001b[1;33m\u001b[0m\u001b[1;33m\u001b[0m\u001b[1;33m\u001b[0m\u001b[0m\n\u001b[0;32m    989\u001b[0m         \u001b[1;32mtry\u001b[0m\u001b[1;33m:\u001b[0m\u001b[1;33m\u001b[0m\u001b[1;33m\u001b[0m\u001b[0m\n\u001b[1;32m--> 990\u001b[1;33m             \u001b[0mdata\u001b[0m \u001b[1;33m=\u001b[0m \u001b[0mself\u001b[0m\u001b[1;33m.\u001b[0m\u001b[0m_data_queue\u001b[0m\u001b[1;33m.\u001b[0m\u001b[0mget\u001b[0m\u001b[1;33m(\u001b[0m\u001b[0mtimeout\u001b[0m\u001b[1;33m=\u001b[0m\u001b[0mtimeout\u001b[0m\u001b[1;33m)\u001b[0m\u001b[1;33m\u001b[0m\u001b[1;33m\u001b[0m\u001b[0m\n\u001b[0m\u001b[0;32m    991\u001b[0m             \u001b[1;32mreturn\u001b[0m \u001b[1;33m(\u001b[0m\u001b[1;32mTrue\u001b[0m\u001b[1;33m,\u001b[0m \u001b[0mdata\u001b[0m\u001b[1;33m)\u001b[0m\u001b[1;33m\u001b[0m\u001b[1;33m\u001b[0m\u001b[0m\n\u001b[0;32m    992\u001b[0m         \u001b[1;32mexcept\u001b[0m \u001b[0mException\u001b[0m \u001b[1;32mas\u001b[0m \u001b[0me\u001b[0m\u001b[1;33m:\u001b[0m\u001b[1;33m\u001b[0m\u001b[1;33m\u001b[0m\u001b[0m\n",
      "\u001b[1;32m~\\anaconda3\\lib\\multiprocessing\\queues.py\u001b[0m in \u001b[0;36mget\u001b[1;34m(self, block, timeout)\u001b[0m\n\u001b[0;32m    105\u001b[0m                 \u001b[1;32mif\u001b[0m \u001b[0mblock\u001b[0m\u001b[1;33m:\u001b[0m\u001b[1;33m\u001b[0m\u001b[1;33m\u001b[0m\u001b[0m\n\u001b[0;32m    106\u001b[0m                     \u001b[0mtimeout\u001b[0m \u001b[1;33m=\u001b[0m \u001b[0mdeadline\u001b[0m \u001b[1;33m-\u001b[0m \u001b[0mtime\u001b[0m\u001b[1;33m.\u001b[0m\u001b[0mmonotonic\u001b[0m\u001b[1;33m(\u001b[0m\u001b[1;33m)\u001b[0m\u001b[1;33m\u001b[0m\u001b[1;33m\u001b[0m\u001b[0m\n\u001b[1;32m--> 107\u001b[1;33m                     \u001b[1;32mif\u001b[0m \u001b[1;32mnot\u001b[0m \u001b[0mself\u001b[0m\u001b[1;33m.\u001b[0m\u001b[0m_poll\u001b[0m\u001b[1;33m(\u001b[0m\u001b[0mtimeout\u001b[0m\u001b[1;33m)\u001b[0m\u001b[1;33m:\u001b[0m\u001b[1;33m\u001b[0m\u001b[1;33m\u001b[0m\u001b[0m\n\u001b[0m\u001b[0;32m    108\u001b[0m                         \u001b[1;32mraise\u001b[0m \u001b[0mEmpty\u001b[0m\u001b[1;33m\u001b[0m\u001b[1;33m\u001b[0m\u001b[0m\n\u001b[0;32m    109\u001b[0m                 \u001b[1;32melif\u001b[0m \u001b[1;32mnot\u001b[0m \u001b[0mself\u001b[0m\u001b[1;33m.\u001b[0m\u001b[0m_poll\u001b[0m\u001b[1;33m(\u001b[0m\u001b[1;33m)\u001b[0m\u001b[1;33m:\u001b[0m\u001b[1;33m\u001b[0m\u001b[1;33m\u001b[0m\u001b[0m\n",
      "\u001b[1;32m~\\anaconda3\\lib\\multiprocessing\\connection.py\u001b[0m in \u001b[0;36mpoll\u001b[1;34m(self, timeout)\u001b[0m\n\u001b[0;32m    255\u001b[0m         \u001b[0mself\u001b[0m\u001b[1;33m.\u001b[0m\u001b[0m_check_closed\u001b[0m\u001b[1;33m(\u001b[0m\u001b[1;33m)\u001b[0m\u001b[1;33m\u001b[0m\u001b[1;33m\u001b[0m\u001b[0m\n\u001b[0;32m    256\u001b[0m         \u001b[0mself\u001b[0m\u001b[1;33m.\u001b[0m\u001b[0m_check_readable\u001b[0m\u001b[1;33m(\u001b[0m\u001b[1;33m)\u001b[0m\u001b[1;33m\u001b[0m\u001b[1;33m\u001b[0m\u001b[0m\n\u001b[1;32m--> 257\u001b[1;33m         \u001b[1;32mreturn\u001b[0m \u001b[0mself\u001b[0m\u001b[1;33m.\u001b[0m\u001b[0m_poll\u001b[0m\u001b[1;33m(\u001b[0m\u001b[0mtimeout\u001b[0m\u001b[1;33m)\u001b[0m\u001b[1;33m\u001b[0m\u001b[1;33m\u001b[0m\u001b[0m\n\u001b[0m\u001b[0;32m    258\u001b[0m \u001b[1;33m\u001b[0m\u001b[0m\n\u001b[0;32m    259\u001b[0m     \u001b[1;32mdef\u001b[0m \u001b[0m__enter__\u001b[0m\u001b[1;33m(\u001b[0m\u001b[0mself\u001b[0m\u001b[1;33m)\u001b[0m\u001b[1;33m:\u001b[0m\u001b[1;33m\u001b[0m\u001b[1;33m\u001b[0m\u001b[0m\n",
      "\u001b[1;32m~\\anaconda3\\lib\\multiprocessing\\connection.py\u001b[0m in \u001b[0;36m_poll\u001b[1;34m(self, timeout)\u001b[0m\n\u001b[0;32m    326\u001b[0m         \u001b[1;32mdef\u001b[0m \u001b[0m_poll\u001b[0m\u001b[1;33m(\u001b[0m\u001b[0mself\u001b[0m\u001b[1;33m,\u001b[0m \u001b[0mtimeout\u001b[0m\u001b[1;33m)\u001b[0m\u001b[1;33m:\u001b[0m\u001b[1;33m\u001b[0m\u001b[1;33m\u001b[0m\u001b[0m\n\u001b[0;32m    327\u001b[0m             if (self._got_empty_message or\n\u001b[1;32m--> 328\u001b[1;33m                         _winapi.PeekNamedPipe(self._handle)[0] != 0):\n\u001b[0m\u001b[0;32m    329\u001b[0m                 \u001b[1;32mreturn\u001b[0m \u001b[1;32mTrue\u001b[0m\u001b[1;33m\u001b[0m\u001b[1;33m\u001b[0m\u001b[0m\n\u001b[0;32m    330\u001b[0m             \u001b[1;32mreturn\u001b[0m \u001b[0mbool\u001b[0m\u001b[1;33m(\u001b[0m\u001b[0mwait\u001b[0m\u001b[1;33m(\u001b[0m\u001b[1;33m[\u001b[0m\u001b[0mself\u001b[0m\u001b[1;33m]\u001b[0m\u001b[1;33m,\u001b[0m \u001b[0mtimeout\u001b[0m\u001b[1;33m)\u001b[0m\u001b[1;33m)\u001b[0m\u001b[1;33m\u001b[0m\u001b[1;33m\u001b[0m\u001b[0m\n",
      "\u001b[1;31mKeyboardInterrupt\u001b[0m: "
     ]
    }
   ],
   "source": [
    "for epoch in range(0, 20):\n",
    "    losses.append(train(model, device, train_loader, optimizer, epoch))\n",
    "    accuracies.append(test(model, device, test_loader))"
   ]
  },
  {
   "cell_type": "code",
   "execution_count": null,
   "id": "6fee44b7",
   "metadata": {},
   "outputs": [],
   "source": [
    "# accuracy max - 74% , from epoch N5 with batch size  = 4"
   ]
  },
  {
   "cell_type": "code",
   "execution_count": null,
   "id": "99a86470",
   "metadata": {},
   "outputs": [],
   "source": [
    "#class Neural Networks with 1 hidden layer\n",
    "class NN(nn.Module):\n",
    "    def __init__(self):\n",
    "        super().__init__()\n",
    "        self.linear1 = nn.Linear(3*32*32, 128)\n",
    "        self.linear2 = nn.Linear(128, 64)\n",
    "        self.linear3 = nn.Linear(64, 10)\n",
    "\n",
    "        \n",
    "    def forward(self, xb):\n",
    "        # Flatten images into vectors\n",
    "        out = xb.view(xb.size(0), -1)\n",
    "        # Apply layers & activation functions\n",
    "        out = self.linear1(out)\n",
    "        out = F.relu(out)\n",
    "        out = self.linear2(out)\n",
    "        out = F.relu(out)\n",
    "        out = self.linear3(out)\n",
    "\n",
    "        return out"
   ]
  },
  {
   "cell_type": "code",
   "execution_count": null,
   "id": "87da16dd",
   "metadata": {},
   "outputs": [],
   "source": [
    "model_nn = NN()"
   ]
  },
  {
   "cell_type": "code",
   "execution_count": null,
   "id": "35af9613",
   "metadata": {},
   "outputs": [],
   "source": [
    "losses_nn = []\n",
    "accuracies_nn = []"
   ]
  },
  {
   "cell_type": "code",
   "execution_count": null,
   "id": "746fe1bb",
   "metadata": {},
   "outputs": [],
   "source": [
    "print(model_nn)"
   ]
  },
  {
   "cell_type": "code",
   "execution_count": null,
   "id": "1c495c18",
   "metadata": {},
   "outputs": [],
   "source": [
    "optimizer = torch.optim.Adam(model_nn.parameters(), lr=0.001)\n",
    "\n",
    "criterion = nn.CrossEntropyLoss()"
   ]
  },
  {
   "cell_type": "code",
   "execution_count": null,
   "id": "2a897ea6",
   "metadata": {},
   "outputs": [],
   "source": [
    "def train_nn(model, device, train_loader, optimizer, epoch):\n",
    "    losses = []\n",
    "    model.train()\n",
    "    \n",
    "    for batch_idx, (data, target) in enumerate(train_loader):\n",
    "        data, target = data.to(device), target.to(device)\n",
    "        optimizer.zero_grad()\n",
    "        output = model(data)\n",
    "        loss = criterion(output, target)\n",
    "        loss.backward()\n",
    "        optimizer.step()\n",
    "        losses.append(loss.item())\n",
    "        if batch_idx > 0 and batch_idx % 1000 == 0:\n",
    "            print('Train Epoch: {} [{}/{}\\t({:.0f}%)]\\tLoss: {:.6f}'.format(\n",
    "                epoch, batch_idx * len(data), len(train_loader.dataset),\n",
    "                100. * batch_idx / len(train_loader), loss.item()))\n",
    "\n",
    "    return losses"
   ]
  },
  {
   "cell_type": "code",
   "execution_count": null,
   "id": "0306a3c0",
   "metadata": {},
   "outputs": [],
   "source": [
    "def test_nn(model, device, test_loader):\n",
    "    \n",
    "    model.eval()\n",
    "    test_loss = 0\n",
    "    correct = 0\n",
    "    \n",
    "    with torch.no_grad():\n",
    "        for data, target in test_loader:\n",
    "            data, target = data.to(device), target.to(device)\n",
    "            output = model(data)\n",
    "            #batch loss\n",
    "            test_loss += criterion(output, target).sum().item() \n",
    "            #max prob\n",
    "            pred = output.argmax(dim=1, keepdim=True) \n",
    "            #Get Equal to of dataframe and other, element-wise (binary operator eq).\n",
    "            correct += pred.eq(target.view_as(pred)).sum().item()\n",
    "            \n",
    "    test_loss /= len(test_loader.dataset)\n",
    "    print('\\nAverage loss: {:.4f}, Accuracy: {}/{} ({:.0f}%)\\n'.format(\n",
    "        test_loss, correct, len(test_loader.dataset),\n",
    "        100. * correct / len(test_loader.dataset)))\n",
    "#     print('Accuracy: {}/{} ({:.0f}%)\\n'.format(correct, len(test_loader.dataset), 100. * correct / len(test_loader.dataset)))\n",
    "    return (float(correct) / len(test_loader.dataset))"
   ]
  },
  {
   "cell_type": "code",
   "execution_count": null,
   "id": "c2393412",
   "metadata": {},
   "outputs": [],
   "source": [
    "for epoch in range(0, 13):\n",
    "    losses_nn.append(train_nn(model_nn, device, train_loader, optimizer, epoch))\n",
    "\n",
    "    accuracies_nn.append(test_nn(model_nn, device, test_loader))"
   ]
  },
  {
   "cell_type": "code",
   "execution_count": null,
   "id": "30adc5d2",
   "metadata": {},
   "outputs": [],
   "source": [
    "#Accuracy 43% from epoch N6, 44% epoch n11"
   ]
  },
  {
   "cell_type": "code",
   "execution_count": null,
   "id": "41893707",
   "metadata": {},
   "outputs": [],
   "source": [
    "#class NN  with 2 hidden layerS\n",
    "class NN (nn.Module):\n",
    "    def __init__(self):\n",
    "        super().__init__()\n",
    "        self.linear1 = nn.Linear(3*32*32, 128)\n",
    "        self.linear2 = nn.Linear(128, 64)\n",
    "        self.linear3 = nn.Linear(64, 32)\n",
    "        self.linear4 = nn.Linear(32, 10)\n",
    "        \n",
    "    def forward(self, xb):\n",
    "        # Flatten images into vectors\n",
    "        out = xb.view(xb.size(0), -1)\n",
    "         # relu \n",
    "        out = self.linear1(out)\n",
    "        out = F.relu(out)\n",
    "        out = self.linear2(out)\n",
    "        out = F.relu(out)\n",
    "        out = self.linear3(out)\n",
    "        out = F.relu(out)\n",
    "        out = self.linear4(out)\n",
    "        out = F.log_softmax(out, dim=1)\n",
    "\n",
    "        return out"
   ]
  },
  {
   "cell_type": "code",
   "execution_count": null,
   "id": "a497e513",
   "metadata": {},
   "outputs": [],
   "source": [
    "#train function\n",
    "def train(model, device, train_loader, optimizer, epoch):\n",
    "    losses = []\n",
    "    model.train()\n",
    "    \n",
    "    for batch_idx, (data, target) in enumerate(train_loader):\n",
    "        data, target = data.to(device), target.to(device)\n",
    "        optimizer.zero_grad()\n",
    "        output = model(data)\n",
    "        loss = F.cross_entropy(output, target)\n",
    "        loss.backward()\n",
    "        optimizer.step()\n",
    "        losses.append(loss.item())\n",
    "        \n",
    "        if batch_idx > 0 and batch_idx % 1000 == 0:\n",
    "            print('Train Epoch: {} {:.0f}%\\tLoss: {:.6f}'.format(epoch, 100. * batch_idx / len(train_loader), loss.item()))\n",
    "\n",
    "    return losses"
   ]
  },
  {
   "cell_type": "code",
   "execution_count": null,
   "id": "702b7305",
   "metadata": {},
   "outputs": [],
   "source": [
    "#test function for evaluation\n",
    "def test(model, device, test_loader):\n",
    "    \n",
    "    model.eval()\n",
    "    test_loss = 0\n",
    "    correct = 0\n",
    "    \n",
    "    with torch.no_grad():\n",
    "        for data, target in test_loader:\n",
    "            data, target = data.to(device), target.to(device)\n",
    "            output = model(data)\n",
    "            #batch loss\n",
    "            test_loss += F.cross_entropy(output, target, reduction='sum').item() \n",
    "            #max prob\n",
    "            pred = output.argmax(dim=1, keepdim=True) \n",
    "            #Get Equal to of dataframe and other, element-wise (binary operator eq).\n",
    "            correct += pred.eq(target.view_as(pred)).sum().item()\n",
    "            \n",
    "    test_loss /= len(test_loader.dataset)\n",
    "   \n",
    "    print('Accuracy: {}/{} ({:.0f}%)\\n'.format(correct, len(test_loader.dataset), 100. * correct / len(test_loader.dataset)))\n",
    "    return (float(correct) / len(test_loader.dataset))"
   ]
  },
  {
   "cell_type": "code",
   "execution_count": null,
   "id": "db8aec80",
   "metadata": {},
   "outputs": [],
   "source": [
    "## Trying out the NN model training and testing"
   ]
  },
  {
   "cell_type": "code",
   "execution_count": null,
   "id": "25462454",
   "metadata": {},
   "outputs": [],
   "source": [
    "model_nn = NN()"
   ]
  },
  {
   "cell_type": "code",
   "execution_count": null,
   "id": "e6b94300",
   "metadata": {},
   "outputs": [],
   "source": [
    "losses_nn = []\n",
    "accuracies_nn = []"
   ]
  },
  {
   "cell_type": "code",
   "execution_count": null,
   "id": "a510aff7",
   "metadata": {},
   "outputs": [],
   "source": [
    "print(model_nn)"
   ]
  },
  {
   "cell_type": "code",
   "execution_count": null,
   "id": "0d81e45d",
   "metadata": {},
   "outputs": [],
   "source": [
    "optimizer = torch.optim.Adam(model_nn.parameters(), lr=0.001)\n",
    "\n",
    "# criterion = nn.CrossEntropyLoss()"
   ]
  },
  {
   "cell_type": "code",
   "execution_count": null,
   "id": "39aefd86",
   "metadata": {},
   "outputs": [],
   "source": [
    "for epoch in range(0, 20):\n",
    "    losses_nn.append(train(model_nn, device, train_loader, optimizer, epoch))\n",
    "\n",
    "    accuracies_nn.append(test(model_nn, device, test_loader))"
   ]
  },
  {
   "cell_type": "code",
   "execution_count": null,
   "id": "78006c03",
   "metadata": {},
   "outputs": [],
   "source": [
    "# NN 2 hidden layers 49% accuracy, epoch N9"
   ]
  },
  {
   "cell_type": "code",
   "execution_count": null,
   "id": "60c3f246",
   "metadata": {},
   "outputs": [],
   "source": []
  },
  {
   "cell_type": "code",
   "execution_count": null,
   "id": "9cc6a557",
   "metadata": {},
   "outputs": [],
   "source": []
  },
  {
   "cell_type": "code",
   "execution_count": null,
   "id": "3f012b0f",
   "metadata": {},
   "outputs": [],
   "source": []
  }
 ],
 "metadata": {
  "kernelspec": {
   "display_name": "Python 3 (ipykernel)",
   "language": "python",
   "name": "python3"
  },
  "language_info": {
   "codemirror_mode": {
    "name": "ipython",
    "version": 3
   },
   "file_extension": ".py",
   "mimetype": "text/x-python",
   "name": "python",
   "nbconvert_exporter": "python",
   "pygments_lexer": "ipython3",
   "version": "3.8.8"
  }
 },
 "nbformat": 4,
 "nbformat_minor": 5
}
