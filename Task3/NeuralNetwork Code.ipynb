{
 "cells": [
  {
   "cell_type": "markdown",
   "id": "b3309b98",
   "metadata": {},
   "source": [
    "## Content:\n",
    "- [Part 1](#part1)- **Importing the libraries, packages**\n",
    "- [Part 2](#part2)- **Useful Functions**\n",
    "- [Part 3](#part3) -  **One Hidden Layer Class**\n",
    "- [Part 4](#part4) -  **Two Hidden Layers Class** \n",
    "- [Part 5](#part5) -  **Loading Fashion MNIST** \n",
    "- [Part 6](#part6)-  **Fashion MNIST One Hidden Layer**\n",
    "- [Part 6.1](#part6.1) -  Sigmoid and tanh\n",
    "- [Part 6.2](#part6.2) -  ReLU\n",
    "- [Part 6.3](#part6.3) -  Minibatch\n",
    "- [Part 6.4](#part6.4) -  Adam\n",
    "- [Part 6.5](#part6.5) -  Adam minibatch\n",
    "- [Part 7](#part7)-  **Fashion MNIST Two Hidden Layers**\n",
    "- [Part 7.1](#part7.1) -  Sigmoid and tanh\n",
    "- [Part 7.2](#part7.2) -  ReLU\n",
    "- [Part 7.3](#part7.3) -  More nodes added\n",
    "- [Part 7.4](#part7.4) -  Minibatch\n",
    "- [Part 7.5](#part7.5) -  Adam\n",
    "- [Part 7.6](#part7.6) -  Adam minibatch\n",
    "- [Part 8](#part8) - **Best model confusion analysis**\n",
    "- [Part 9](#part9) -  Results \n"
   ]
  },
  {
   "cell_type": "markdown",
   "id": "57025661",
   "metadata": {},
   "source": [
    "Weight initialisation :\n",
    "\n",
    "- https://machinelearningmastery.com/weight-initialization-for-deep-learning-neural-networks/\n",
    "- https://www.deeplearning.ai/ai-notes/initialization/\n",
    "- https://datascience-enthusiast.com/DL/Improving-DeepNeural-Networks-Initialization.html"
   ]
  },
  {
   "cell_type": "markdown",
   "id": "279b8664",
   "metadata": {},
   "source": [
    "[Back to top](#Content:)\n",
    "\n",
    "\n",
    "<a id='part1'></a>\n",
    "\n",
    "### Part 1 -   Importing the libraries, packages"
   ]
  },
  {
   "cell_type": "code",
   "execution_count": 1,
   "id": "7e3f253e",
   "metadata": {},
   "outputs": [],
   "source": [
    "import numpy as np\n",
    "import pandas as pd\n",
    "import matplotlib.pyplot as plt\n",
    "import base64\n",
    "import os\n",
    "import io\n",
    "import requests\n",
    "import random \n",
    "\n",
    "from sklearn import preprocessing\n",
    "from sklearn import metrics\n",
    "from sklearn.model_selection import train_test_split\n",
    "\n",
    "from scipy.special import expit as activation_function\n",
    "from scipy.stats import truncnorm\n",
    "\n",
    "from tensorflow.keras.models import Sequential\n",
    "from tensorflow.keras.layers import Dense, Activation\n",
    "from tensorflow.keras.callbacks import EarlyStopping\n",
    "from tensorflow.keras import datasets"
   ]
  },
  {
   "cell_type": "markdown",
   "id": "dc0bac6d",
   "metadata": {},
   "source": [
    "[Back to top](#Content:)\n",
    "\n",
    "\n",
    "<a id='part2'></a>\n",
    "\n",
    "### Part 2 -   Useful Functions"
   ]
  },
  {
   "cell_type": "code",
   "execution_count": 2,
   "id": "ae6751b3",
   "metadata": {},
   "outputs": [],
   "source": [
    "rng = np.random.default_rng() "
   ]
  },
  {
   "cell_type": "code",
   "execution_count": 3,
   "id": "0936fb3b",
   "metadata": {},
   "outputs": [],
   "source": [
    "def softmax(X):\n",
    "    e = np.exp(X - np.max(X))\n",
    "    return e / e.sum(axis=0, keepdims=True)\n",
    "\n",
    "\n",
    "def cross_entropy(target, output):\n",
    "    return -np.mean(target*np.log(output))\n",
    "\n",
    "def cross_entropy_matrix(output, target):\n",
    "    target = np.array(target)\n",
    "    output = np.array(output)\n",
    "    product = target*np.log(output)\n",
    "    errors = -np.sum(product, axis=1)\n",
    "    m = len(errors)\n",
    "    errors = np.sum(errors) / m\n",
    "    return errors\n",
    "\n",
    "def sigmoid(x):\n",
    "    return 1/(1+np.exp(-x))\n",
    "\n",
    "def ds(x):\n",
    "    return sigmoid(x)*(1-sigmoid(x))\n",
    "\n",
    "def relu(x):\n",
    "    return np.maximum(x,0)\n",
    "  \n",
    "\n",
    "def dr(x):\n",
    "    dr = (np.sign(x) + 1) / 2\n",
    "    return dr\n",
    "\n",
    "def tanh(x):\n",
    "    a = np.exp(x)\n",
    "    b = np.exp(-x)\n",
    "    return (a-b)/(a+b)\n",
    "\n",
    "def dt(x):\n",
    "    return 1-tanh(x)**2\n",
    "    \n",
    "\n",
    "def derivative(f):\n",
    "    if f == sigmoid :\n",
    "        return ds\n",
    "    if f == tanh :\n",
    "        return dt\n",
    "    if f == relu :\n",
    "        return dr\n",
    "    return None\n",
    "\n",
    "def y2indicator(y, K):\n",
    "    N = len(y)\n",
    "    ind = np.zeros((N,K))\n",
    "    for i in range(N):\n",
    "        ind[i][y[i]]=1\n",
    "    return ind\n",
    "\n",
    "def classification_rate(Y, P):\n",
    "    return np.mean(Y==P)"
   ]
  },
  {
   "cell_type": "markdown",
   "id": "d55c7823",
   "metadata": {},
   "source": [
    "[Back to top](#Content:)\n",
    "\n",
    "\n",
    "<a id='part3'></a>\n",
    "\n",
    "### Part 3 -   One Hidden Layer Class"
   ]
  },
  {
   "cell_type": "markdown",
   "id": "8ab7220f",
   "metadata": {},
   "source": [
    "# One Hidden Layer"
   ]
  },
  {
   "cell_type": "markdown",
   "id": "c13b5c79",
   "metadata": {},
   "source": [
    "# Variables :\n",
    "\n",
    "- **X**     : N_Samples x N_features\n",
    "- **W1**    : Hidden x N_features\n",
    "- **b1**    : Hidden\n",
    "- **W2**    : Output x Hidden\n",
    "- **b2**    : Output"
   ]
  },
  {
   "cell_type": "code",
   "execution_count": 4,
   "id": "26933734",
   "metadata": {},
   "outputs": [],
   "source": [
    "class HiddenOne:\n",
    "     \n",
    "    def __init__(self, \n",
    "                 input_nodes, \n",
    "                 output_nodes, \n",
    "                 hidden_nodes,\n",
    "                 activation_hidden,\n",
    "                 learning_rate=0.01,\n",
    "                 optimizer = None,\n",
    "                 beta1 = 0.9,   #ADAM optimization parameter, default value taken from practical experience\n",
    "                 beta2 = 0.999, #ADAM optimization parameter, default value taken from practical experience\n",
    "                 batch_size = None,\n",
    "                 delta_stop = None,\n",
    "                 patience = 1,\n",
    "                 leaky_intercept=0.01\n",
    "                ):         \n",
    "        # Initializations\n",
    "        self.input_nodes = input_nodes\n",
    "        self.output_nodes = output_nodes       \n",
    "        self.hidden_nodes = hidden_nodes          \n",
    "        self.learning_rate = learning_rate \n",
    "        self.activation_hidden = activation_hidden\n",
    "        self.hidden_derivative = derivative(self.activation_hidden)\n",
    "        self.beta1 = beta1\n",
    "        self.beta2 = beta2\n",
    "        self.optimizer = optimizer\n",
    "        self.batch_size = batch_size\n",
    "        self.delta_stop = delta_stop\n",
    "        self.patience = patience\n",
    "        self.leaky_intercept = leaky_intercept\n",
    "        self.create_weight_matrices()\n",
    "        self.create_biases()\n",
    "        self.reset_adam()\n",
    "             \n",
    "    def create_weight_matrices(self):       \n",
    "        if self.activation_hidden == relu : # He initialization\n",
    "            self.W1 = np.random.randn(self.hidden_nodes, self.input_nodes )/np.sqrt(self.input_nodes/2 ) # hidden x features\n",
    "            self.W2 = np.random.randn(self.output_nodes, self.hidden_nodes )/np.sqrt(self.hidden_nodes/2 )  # output x hidden\n",
    "        else : # Xavier initialization\n",
    "            self.W1 = np.random.randn(self.hidden_nodes, self.input_nodes )/np.sqrt(self.input_nodes ) # hidden x features\n",
    "            self.W2 = np.random.randn(self.output_nodes, self.hidden_nodes )/np.sqrt(self.hidden_nodes )  # output x hidden\n",
    "                  \n",
    "    \n",
    "    def create_biases(self):    \n",
    "        #tn = truncated_normal(mean=2, sd=1, low=-0.5, upp=0.5)\n",
    "        #self.b1 = tn.rvs(self.hidden_nodes).reshape(-1,1) \n",
    "        #self.b2 = tn.rvs(self.output_nodes).reshape(-1,1) \n",
    "        self.b1 =  np.zeros((self.hidden_nodes, 1 ))\n",
    "        self.b2 = np.zeros((self.output_nodes, 1 ))\n",
    "          \n",
    "    def reset_adam(self):\n",
    "        '''\n",
    "        Creates Adam optimizations variables\n",
    "        '''\n",
    "        self.Vdw1 = np.zeros((self.hidden_nodes, self.input_nodes ))\n",
    "        self.Vdw2 = np.zeros((self.output_nodes, self.hidden_nodes ))\n",
    "        self.Vdb1 = np.zeros((self.hidden_nodes, 1 ))\n",
    "        self.Vdb2 = np.zeros((self.output_nodes, 1 ))\n",
    "        self.Sdw1 = np.zeros((self.hidden_nodes, self.input_nodes ))\n",
    "        self.Sdw2 = np.zeros((self.output_nodes, self.hidden_nodes ))\n",
    "        self.Sdb1 = np.zeros((self.hidden_nodes, 1 ))\n",
    "        self.Sdb2 = np.zeros((self.output_nodes, 1 ))\n",
    "        \n",
    "        \n",
    "    def forward(self, X):\n",
    "        Z1 = self.W1.dot(X.T) + self.b1 # Hidden x N_samples\n",
    "        A1 = self.activation_hidden(Z1)      # Hidden x N_samples\n",
    "        Z2 = self.W2.dot(A1) + self.b2  # Output x N_samples\n",
    "        A2 = softmax(Z2)      #Output x N_samples\n",
    "        return A2, Z2, A1, Z1\n",
    "    \n",
    "    \n",
    "    def backprop(self, X, target):\n",
    "        # Forward prop\n",
    "        A2, Z2, A1, Z1 = self.forward(X)\n",
    "        # Compute cost\n",
    "        cost = cross_entropy(target, A2)\n",
    "        # N samples\n",
    "        m = X.shape[0]\n",
    "        # deltas\n",
    "        dZ2 = A2 - target                                       #Output x N_samples\n",
    "        dW2 = dZ2.dot(A1.T)/m                                   #Output x hidden\n",
    "        db2 = np.sum(dZ2, axis=1, keepdims=True)/m              #Output x 1\n",
    "        dZ1 = self.W2.T.dot(dZ2)*self.hidden_derivative(Z1)     # Hidden x N_samples\n",
    "        dW1 = dZ1.dot(X)/m                                      # Hidden x N_Features\n",
    "        db1 = np.sum(dZ1, axis=1, keepdims=True)/m              # Hidden x 1\n",
    "        # Update\n",
    "        lr = self.learning_rate\n",
    "        self.W2 -= lr*dW2\n",
    "        self.b2 -= lr*db2\n",
    "        self.W1 -= lr*dW1\n",
    "        self.b1 -= lr*db1\n",
    "        return cost\n",
    "        \n",
    "        \n",
    "    def backprop_minibatch(self, X, target):\n",
    "        n = X.shape[1]               # N_features\n",
    "        batch_size = X.shape[0]      # N_samples\n",
    "        if self.batch_size == None :\n",
    "            batch_size = self.minibatch_size(batch_size)\n",
    "        else :\n",
    "            batch_size = self.batch_size\n",
    "            \n",
    "        X_SGD = X.copy()\n",
    "        u = rng.shuffle(np.arange(X.shape[0] ))\n",
    "        X_SGD = X_SGD[u,:].squeeze()    # N_samples x N_Features\n",
    "        target_SGD = target[:,u].squeeze() # Output x N_samples\n",
    "        cost = 0\n",
    "        \n",
    "        pass_length = int(X.shape[0]/batch_size)\n",
    "        for i in range(pass_length) :\n",
    "            k = i*batch_size\n",
    "            # Forward prop\n",
    "            X = X_SGD[k:k+batch_size,:].reshape(batch_size,-1)              #batch_size x N_features\n",
    "            A2, Z2, A1, Z1 = self.forward(X)\n",
    "            # cost update\n",
    "            cost = cost + cross_entropy(target_SGD[:,k:k+batch_size].reshape(-1,batch_size), A2)/pass_length\n",
    "            # deltas\n",
    "            dZ2 = A2 - target_SGD[:,k:k+batch_size].reshape(-1,batch_size)   #Output x batch_size\n",
    "            dW2 = dZ2.dot(A1.T)/batch_size                                   #Output x hidden\n",
    "            db2 = np.sum(dZ2, axis=1, keepdims=True)/batch_size              #Output x 1\n",
    "            dZ1 = self.W2.T.dot(dZ2)*self.hidden_derivative(Z1)              # Hidden x batch_size\n",
    "            dW1 = dZ1.dot(X)/batch_size                                      # Hidden x N_Features\n",
    "            db1 = np.sum(dZ1, axis=1, keepdims=True)/batch_size              #Hidden x1                                            # Hidden x 1\n",
    "            # Update\n",
    "            lr = self.learning_rate\n",
    "            self.W2 -= lr*dW2\n",
    "            self.b2 -= lr*db2\n",
    "            self.W1 -= lr*dW1\n",
    "            self.b1 -= lr*db1\n",
    "        return cost\n",
    "    \n",
    "    def backprop_adam_minibatch(self, X, target):\n",
    "        n = X.shape[1]               # N_features\n",
    "        batch_size = X.shape[0]      # N_samples\n",
    "        if self.batch_size == None :\n",
    "            batch_size = self.minibatch_size(batch_size)\n",
    "        else :\n",
    "            batch_size = self.batch_size\n",
    "            \n",
    "        X_SGD = X.copy()\n",
    "        u = rng.shuffle(np.arange(X.shape[0] ))\n",
    "        X_SGD = X_SGD[u,:].squeeze()    # N_samples x N_Features\n",
    "        target_SGD = target[:,u].squeeze() # Output x N_samples\n",
    "        cost = 0\n",
    "        \n",
    "        pass_length = int(X.shape[0]/batch_size)\n",
    "        for i in range(pass_length) :\n",
    "            k = i*batch_size\n",
    "            X = X_SGD[k:k+batch_size,:].reshape(batch_size,-1)  \n",
    "            t = target_SGD[:,k:k+batch_size].reshape(-1,batch_size)\n",
    "            cost = cost + self.backpropADAM(X, t)/pass_length\n",
    "        return cost\n",
    "        \n",
    "    \n",
    "    def backpropADAM(self, X, target):\n",
    "        # Forward prop\n",
    "        A2, Z2, A1, Z1 = self.forward(X)\n",
    "        # Compute cost\n",
    "        cost = cross_entropy(target, A2)\n",
    "        # N samples\n",
    "        m = X.shape[0]\n",
    "        # deltas\n",
    "        dZ2 = A2 - target                                       #Output x N_samples\n",
    "        dW2 = dZ2.dot(A1.T)/m                                   #Output x hidden\n",
    "        db2 = np.sum(dZ2, axis=1, keepdims=True)/m              #Output x 1\n",
    "        dZ1 = self.W2.T.dot(dZ2)*self.hidden_derivative(Z1)     # Hidden x N_samples\n",
    "        dW1 = dZ1.dot(X)/m                                      # Hidden x N_Features\n",
    "        db1 = np.sum(dZ1, axis=1, keepdims=True)/m              # Hidden x 1\n",
    "        # Adam updates\n",
    "        beta1 = self.beta1\n",
    "        beta2 = self.beta2\n",
    "        # V\n",
    "        self.Vdw1 = beta1*self.Vdw1 + (1-beta1)*dW1\n",
    "        self.Vdw2 = beta1*self.Vdw2 + (1-beta1)*dW2\n",
    "        self.Vdb1 = beta1*self.Vdb1 + (1-beta1)*db1\n",
    "        self.Vdb2 = beta1*self.Vdb2 + (1-beta1)*db2\n",
    "        # S\n",
    "        self.Sdw1 = beta2*self.Sdw1 + (1-beta2)*dW1**2\n",
    "        self.Sdw2 = beta2*self.Sdw2 + (1-beta2)*dW2**2\n",
    "        self.Sdb1 = beta2*self.Sdb1 + (1-beta2)*db1**2\n",
    "        self.Sdb2 = beta2*self.Sdb2 + (1-beta2)*db2**2    \n",
    "        # Update\n",
    "        lr = self.learning_rate\n",
    "        self.W2 -= lr * self.Vdw2 / (np.sqrt(self.Sdw2)+1e-8)\n",
    "        self.b2 -= lr * self.Vdb2 / (np.sqrt(self.Sdb2)+1e-8)\n",
    "        self.W1 -= lr * self.Vdw1 / (np.sqrt(self.Sdw1)+1e-8)\n",
    "        self.b1 -= lr * self.Vdb1 / (np.sqrt(self.Sdb1)+1e-8)\n",
    "        return cost  \n",
    "    \n",
    "    def predict(self, X_predict):\n",
    "        A2, Z2, A1, Z1 = self.forward(X_predict)\n",
    "        return A2\n",
    "    \n",
    "    def predict_class(self, X_predict):\n",
    "        A2, Z2, A1, Z1 = self.forward(X_predict)\n",
    "        y_pred = np.argmax(A2, axis=0)\n",
    "        return y_pred\n",
    "                   \n",
    "    def run(self, X_train, target, epochs=10):\n",
    "        costs = [1e-10]\n",
    "        if self.delta_stop == None : \n",
    "            if self.optimizer == 'adam':\n",
    "                self.reset_adam()\n",
    "                for i in range(epochs):\n",
    "                    cost = self.backpropADAM(X_train, target)\n",
    "                    costs.append(cost)\n",
    "                    if i%10 == 0 and i>0 :\n",
    "                        print(f'Loss after epoch {i} : {cost}')\n",
    "                print(f'Loss after 1epoch {len(costs)} : {costs[-1]}')        \n",
    "                costs.pop(0)\n",
    "                return costs\n",
    "             \n",
    "            elif self.optimizer == 'mini_adam':\n",
    "                self.reset_adam()\n",
    "                for i in range(epochs):\n",
    "                    cost = self.backprop_adam_minibatch(X_train, target)\n",
    "                    costs.append(cost)\n",
    "                    if i%10 == 0 and i>0 :\n",
    "                        print(f'Loss after epoch {i} : {cost}')\n",
    "                print(f'Loss after 14epoch {len(costs)} : {costs[-1]}')        \n",
    "                costs.pop(0)\n",
    "                return costs\n",
    "           \n",
    "                return costs\n",
    "                \n",
    "            elif self.optimizer == 'minibatch' :\n",
    "                for i in range(epochs):\n",
    "                    cost = self.backprop_minibatch(X_train, target)\n",
    "                    costs.append(cost)\n",
    "                    if i%10 == 0 and i>0 :\n",
    "                        print(f'Loss after epoch {i} : {cost}')\n",
    "                print(f'Loss after 21epoch {len(costs)} : {costs[-1]}')        \n",
    "                costs.pop(0)\n",
    "                return costs\n",
    "                \n",
    "            else :\n",
    "                for i in range(epochs):  \n",
    "                    cost = self.backprop(X_train, target)\n",
    "                    costs.append(cost)\n",
    "                    if i%10 == 0 and i>0 :\n",
    "                        print(f'Loss after epoch {i} : {cost}')\n",
    "                print(f'Loss after 19epoch {len(costs)} : {costs[-1]}')        \n",
    "                costs.pop(0)\n",
    "                return costs\n",
    "                \n",
    "            \n",
    "        else :\n",
    "            counter = 0\n",
    "            if self.optimizer == 'adam':\n",
    "                self.reset_adam()\n",
    "                for i in range(epochs):\n",
    "                    cost = self.backpropADAM(X_train, target)\n",
    "                    costs.append(cost)\n",
    "                    n = len(costs)\n",
    "                    delta = np.abs(costs[n-1]/costs[n-2]-1)\n",
    "                    if(delta < self.delta_stop) :\n",
    "                        counter+=1\n",
    "                        if(counter>=self.patience):\n",
    "                            print(f'Early stop at epoch {i}, the cost is : {cost}')\n",
    "                            costs.pop(0)\n",
    "                            return costs\n",
    "                    else :\n",
    "                        counter =0\n",
    "                    if i%10 == 0 and i>0 :\n",
    "                        print(f'Loss after epoch {i} : {cost}')\n",
    "                print(f'Loss after 44epoch {len(costs)} : {costs[-1]}')        \n",
    "                costs.pop(0)\n",
    "                return costs\n",
    "            elif self.optimizer == 'mini_adam':\n",
    "                self.reset_adam()\n",
    "                for i in range(epochs):\n",
    "                    cost = self.backprop_adam_minibatch(X_train, target)\n",
    "                    costs.append(cost)\n",
    "                    n = len(costs)\n",
    "                    delta = np.abs(costs[n-1]/costs[n-2]-1)\n",
    "                    if(delta < self.delta_stop) :\n",
    "                        counter+=1\n",
    "                        if(counter>=self.patience):\n",
    "                            print(f'Early stop at epoch {i}, the cost is : {cost}')\n",
    "                            costs.pop(0)\n",
    "                            return costs\n",
    "                    else :\n",
    "                        counter =0\n",
    "                    if i%10 == 0 and i>0 :\n",
    "                        print(f'Loss after epoch {i} : {cost}')\n",
    "                print(f'Loss after 23epoch {len(costs)} : {costs[-1]}')        \n",
    "                costs.pop(0)\n",
    "                return costs     \n",
    "                \n",
    "            elif self.optimizer == 'minibatch' :\n",
    "                for i in range(epochs):\n",
    "                    cost = self.backprop_minibatch(X_train, target)\n",
    "                    costs.append(cost)\n",
    "                    n = len(costs)\n",
    "                    delta = np.abs(costs[n-1]/costs[n-2]-1)\n",
    "                    if(delta < self.delta_stop) :\n",
    "                        counter+=1\n",
    "                        if(counter>=self.patience):\n",
    "                            print(f'Early stop at epoch {i}, the cost is : {cost}')\n",
    "                            costs.pop(0)\n",
    "                            return costs\n",
    "                    else :\n",
    "                        counter =0\n",
    "                    if i%10 == 0 and i>0 :\n",
    "                        print(f'Loss after epoch {i} : {cost}')\n",
    "                print(f'Loss after 4epoch {len(costs)} : {costs[-1]}')        \n",
    "                costs.pop(0)\n",
    "                return costs\n",
    "                \n",
    "            else :  \n",
    "                for i in range(epochs): \n",
    "                    cost = self.backprop(X_train, target)\n",
    "                    costs.append(cost)\n",
    "                    n = len(costs)\n",
    "                    delta = np.abs(costs[n-1]/costs[n-2]-1)\n",
    "                    if(delta < self.delta_stop) :\n",
    "                        counter+=1\n",
    "                        if(counter>=self.patience):\n",
    "                            print(f'Early stop at epoch {i}, the cost is : {cost}')\n",
    "                            costs.pop(0)\n",
    "                            return costs\n",
    "                        else :\n",
    "                            counter =0\n",
    "                    if i%10 == 0 and i>0 :\n",
    "                        print(f'Loss after epoch {i} : {cost}')        \n",
    "                print(f'Loss after 2epoch {len(costs)} : {costs[-1]}')        \n",
    "                costs.pop(0)\n",
    "                return costs\n",
    "          \n",
    "            \n",
    "        \n",
    "       \n",
    "    def evaluate(self, X_evaluate, target):\n",
    "        '''\n",
    "        return accuracy score, target must be the classes and not the hot encoded target\n",
    "        '''\n",
    "        \n",
    "        y_pred = self.predict_class(X_evaluate)\n",
    "        accuracy = classification_rate(y_pred, target)\n",
    "        print('Accuracy :', accuracy)\n",
    "        return accuracy\n",
    "        \n",
    "       \n",
    "    def minibatch_size(self, n_samples):\n",
    "        '''\n",
    "        Compute minibatch size in case its not provided\n",
    "        '''\n",
    "        if n_samples < 2000:\n",
    "            return n_samples\n",
    "        if n_samples < 12800:\n",
    "            return 64\n",
    "        if n_samples < 25600:\n",
    "            return 128\n",
    "        if n_samples < 51200:\n",
    "            return 256\n",
    "        if n_samples < 102400:\n",
    "            return 512\n",
    "        return 1024\n",
    "    \n",
    "        \n",
    "        \n",
    "            "
   ]
  },
  {
   "cell_type": "markdown",
   "id": "885ef263",
   "metadata": {},
   "source": [
    "[Back to top](#Content:)\n",
    "\n",
    "\n",
    "<a id='part4'></a>\n",
    "\n",
    "### Part 4 -   Two Hidden Layers Class"
   ]
  },
  {
   "cell_type": "markdown",
   "id": "dcf1ee59",
   "metadata": {},
   "source": [
    "# Two Hidden Layers"
   ]
  },
  {
   "cell_type": "markdown",
   "id": "06a1383e",
   "metadata": {},
   "source": [
    "# Variables :\n",
    "\n",
    "- **X**     : N_Samples x N_features\n",
    "- **W1**    : Hidden1 x N_features\n",
    "- **b1**    : Hidden1\n",
    "- **W2**    : Hidden2 x Hidden1\n",
    "- **b2**    : Hidden2\n",
    "- **W3**    : Output x Hidden\n",
    "- **b3**    : Output"
   ]
  },
  {
   "cell_type": "code",
   "execution_count": 6,
   "id": "de86d8fd",
   "metadata": {},
   "outputs": [],
   "source": [
    "class HiddenTwo:\n",
    "     \n",
    "    def __init__(self, \n",
    "                 input_nodes, \n",
    "                 output_nodes, \n",
    "                 hidden_nodes_1,\n",
    "                 hidden_nodes_2,\n",
    "                 activation_hidden_1,\n",
    "                 activation_hidden_2,\n",
    "                 learning_rate=0.01,\n",
    "                 optimizer = None,\n",
    "                 beta1 = 0.9,   #ADAM optimization parameter, default value taken from practical experience\n",
    "                 beta2 = 0.999, #ADAM optimization parameter, default value taken from practical experience\n",
    "                 batch_size = None,\n",
    "                 delta_stop = None,\n",
    "                 patience = 1,\n",
    "                 leaky_intercept=0.01\n",
    "                 \n",
    "                ):         \n",
    "        # Initializations\n",
    "        self.input_nodes = input_nodes\n",
    "        self.output_nodes = output_nodes       \n",
    "        self.hidden_nodes_1 = hidden_nodes_1    \n",
    "        self.hidden_nodes_2 = hidden_nodes_2    \n",
    "        self.learning_rate = learning_rate \n",
    "        self.activation_hidden_1 = activation_hidden_1\n",
    "        self.activation_hidden_2 = activation_hidden_2\n",
    "        self.hidden_derivative_1 = derivative(self.activation_hidden_1)\n",
    "        self.hidden_derivative_2 = derivative(self.activation_hidden_2)\n",
    "        self.beta1 = beta1\n",
    "        self.beta2 = beta2\n",
    "        self.optimizer = optimizer\n",
    "        self.batch_size = batch_size\n",
    "        self.delta_stop = delta_stop\n",
    "        self.patience = patience\n",
    "        self.leaky_intercept = leaky_intercept\n",
    "        self.create_weight_matrices()\n",
    "        self.create_biases()\n",
    "        self.reset_adam()\n",
    "             \n",
    "    def create_weight_matrices(self):\n",
    "        if self.activation_hidden_1 == relu : # He initialization\n",
    "            self.W1 = np.random.randn(self.hidden_nodes_1, self.input_nodes )/np.sqrt(self.input_nodes/2 ) # hidden1 x features\n",
    "            self.W2 = np.random.randn(self.hidden_nodes_2, self.hidden_nodes_1 )/np.sqrt(self.hidden_nodes_1/2 )  # hidden2 x hidden1\n",
    "            self.W3 = np.random.randn(self.output_nodes, self.hidden_nodes_2 )/np.sqrt(self.hidden_nodes_2/2 )  # output x hidden2\n",
    "        else : # Xavier initialization\n",
    "            self.W1 = np.random.randn(self.hidden_nodes_1, self.input_nodes )/np.sqrt(self.input_nodes ) # hidden1 x features\n",
    "            self.W2 = np.random.randn(self.hidden_nodes_2, self.hidden_nodes_1 )/np.sqrt(self.hidden_nodes_1)  # hidden2 x hidden1\n",
    "            self.W3 = np.random.randn(self.output_nodes, self.hidden_nodes_2 )/np.sqrt(self.hidden_nodes_2)  # output x hidden2\n",
    "        \n",
    "    def create_biases(self):  \n",
    "        self.b1 =  np.zeros((self.hidden_nodes_1, 1 ))\n",
    "        self.b2 = np.zeros((self.hidden_nodes_2, 1 ))\n",
    "        self.b3 = np.zeros((self.output_nodes, 1 ))\n",
    "     \n",
    "    def reset_adam(self):\n",
    "        '''\n",
    "        Creates Adam optimizations variables\n",
    "        '''\n",
    "        self.Vdw1 = np.zeros((self.hidden_nodes_1, self.input_nodes ))\n",
    "        self.Vdw2 = np.zeros((self.hidden_nodes_2, self.hidden_nodes_1 ))\n",
    "        self.Vdw3 = np.zeros((self.output_nodes, self.hidden_nodes_2))\n",
    "       \n",
    "        self.Vdb1 = np.zeros((self.hidden_nodes_1, 1 ))\n",
    "        self.Vdb2 = np.zeros((self.hidden_nodes_2, 1 ))\n",
    "        self.Vdb3 = np.zeros((self.output_nodes, 1 ))\n",
    "        \n",
    "        self.Sdw1 = np.zeros((self.hidden_nodes_1, self.input_nodes ))\n",
    "        self.Sdw2 = np.zeros((self.hidden_nodes_2, self.hidden_nodes_1 ))\n",
    "        self.Sdw3 = np.zeros((self.output_nodes, self.hidden_nodes_2))\n",
    "       \n",
    "        self.Sdb1 = np.zeros((self.hidden_nodes_1, 1 ))\n",
    "        self.Sdb2 = np.zeros((self.hidden_nodes_2, 1 ))\n",
    "        self.Sdb3 = np.zeros((self.output_nodes, 1 ))\n",
    "                \n",
    "    def forward(self, X):\n",
    "        Z1 = self.W1.dot(X.T) + self.b1      # Hidden1 x N_samples\n",
    "        A1 = self.activation_hidden_1(Z1)      # Hidden1 x N_samples\n",
    "        Z2 = self.W2.dot(A1) + self.b2      # Hidden2 x N_samples\n",
    "        A2 = self.activation_hidden_2(Z2)      # Hidden2 x N_samples\n",
    "        Z3 = self.W3.dot(A2) + self.b3       # Output x N_samples\n",
    "        A3 = softmax(Z3)                     #Output x N_samples\n",
    "        return A3, Z3, A2, Z2, A1, Z1\n",
    "    \n",
    "    def backprop(self, X, target):\n",
    "        # Forward prop\n",
    "        A3, Z3, A2, Z2, A1, Z1 = self.forward(X)\n",
    "        # Compute cost\n",
    "        cost = cross_entropy(target, A3)\n",
    "        # N_samples\n",
    "        m = X.shape[0]\n",
    "        # deltas\n",
    "        dZ3 = A3 - target                                      #Output x N_samples\n",
    "        dW3 = dZ3.dot(A2.T)/m                                  #Output x Hidden_2\n",
    "        db3 = np.sum(dZ3, axis=1, keepdims=True)/m             #Output x 1\n",
    "        dZ2 = self.W3.T.dot(dZ3)*self.hidden_derivative_2(Z2)    # Hidden2 x N_samples\n",
    "        dW2 = dZ2.dot(A1.T)/m                                     # Hidden2 x Hidden1 \n",
    "        db2 = np.sum(dZ2, axis=1, keepdims=True)/m             # Hidden2 x 1\n",
    "        dZ1 = self.W2.T.dot(dZ2)*self.hidden_derivative_1(Z1)     # Hidden x N_samples\n",
    "        dW1 = dZ1.dot(X)/m                                      # Hidden x N_Features\n",
    "        db1 = np.sum(dZ1, axis=1, keepdims=True)/m              # Hidden x 1\n",
    "     \n",
    "        # Update\n",
    "        lr = self.learning_rate\n",
    "        self.W3 -= lr*dW3\n",
    "        self.b3 -= lr*db3\n",
    "        self.W2 -= lr*dW2\n",
    "        self.b2 -= lr*db2\n",
    "        self.W1 -= lr*dW1\n",
    "        self.b1 -= lr*db1\n",
    "        \n",
    "        return cost\n",
    "        \n",
    "    \n",
    "    def backprop_minibatch(self, X, target):\n",
    "        n = X.shape[1]               # N_features\n",
    "        batch_size = X.shape[0]      # N_samples\n",
    "        if self.batch_size == None :\n",
    "            batch_size = self.minibatch_size(batch_size)\n",
    "        else :\n",
    "            batch_size = self.batch_size\n",
    "            \n",
    "        X_SGD = X.copy()\n",
    "        u = rng.shuffle(np.arange(X.shape[0] ))\n",
    "        X_SGD = X_SGD[u,:].squeeze()    # N_samples x N_Features\n",
    "        target_SGD = target[:,u].squeeze() # Output x N_samples\n",
    "        cost = 0\n",
    "        \n",
    "        pass_length = int(X.shape[0]/batch_size)\n",
    "        for i in range(pass_length) :\n",
    "            k = i*batch_size\n",
    "            # Forward prop\n",
    "            X = X_SGD[k:k+batch_size,:].reshape(batch_size,-1)              #batch_size x N_features\n",
    "            A3, Z3, A2, Z2, A1, Z1 = self.forward(X)\n",
    "            # cost update\n",
    "            cost = cost + cross_entropy(target_SGD[:,k:k+batch_size].reshape(-1,batch_size), A3)/pass_length\n",
    "            # deltas\n",
    "            dZ3 = A3 - target_SGD[:,k:k+batch_size].reshape(-1,batch_size)   #Output x batch_size\n",
    "            dW3 = dZ3.dot(A2.T)/batch_size                                   #Output x hidden_2\n",
    "            db3 = np.sum(dZ3, axis=1, keepdims=True)/batch_size              #Output x 1\n",
    "            dZ2 = self.W3.T.dot(dZ3)*self.hidden_derivative_2(Z2)            # Hidden2 x batch_size\n",
    "            dW2 = dZ2.dot(A1.T)/batch_size                                   # Hidden2 x Hidden1 \n",
    "            db2 = np.sum(dZ2, axis=1, keepdims=True)/batch_size              # Hidden2 x 1\n",
    "            dZ1 = self.W2.T.dot(dZ2)*self.hidden_derivative_1(Z1)            # Hidden x batch_size\n",
    "            dW1 = dZ1.dot(X)/batch_size                                      # Hidden x N_Features\n",
    "            db1 = np.sum(dZ1, axis=1, keepdims=True)/batch_size              # Hidden x 1                        \n",
    "            # Update\n",
    "            lr = self.learning_rate\n",
    "            self.W3 -= lr*dW3\n",
    "            self.b3 -= lr*db3\n",
    "            self.W2 -= lr*dW2\n",
    "            self.b2 -= lr*db2\n",
    "            self.W1 -= lr*dW1\n",
    "            self.b1 -= lr*db1\n",
    "        return cost\n",
    "    \n",
    "    def backpropADAM(self, X, target):\n",
    "        # Forward prop\n",
    "        A3, Z3, A2, Z2, A1, Z1 = self.forward(X)\n",
    "        # Compute cost\n",
    "        cost = cross_entropy(target, A3)\n",
    "        # N samples\n",
    "        m = X.shape[0]   \n",
    "        # deltas\n",
    "        dZ3 = A3 - target                                      #Output x N_samples\n",
    "        dW3 = dZ3.dot(A2.T)/m                                  #Output x Hidden_2\n",
    "        db3 = np.sum(dZ3, axis=1, keepdims=True)/m             #Output x 1\n",
    "        dZ2 = self.W3.T.dot(dZ3)*self.hidden_derivative_2(Z2)    # Hidden2 x N_samples\n",
    "        dW2 = dZ2.dot(A1.T)/m                                     # Hidden2 x Hidden1 \n",
    "        db2 = np.sum(dZ2, axis=1, keepdims=True)/m             # Hidden2 x 1\n",
    "        dZ1 = self.W2.T.dot(dZ2)*self.hidden_derivative_1(Z1)     # Hidden x N_samples\n",
    "        dW1 = dZ1.dot(X)/m                                      # Hidden x N_Features\n",
    "        db1 = np.sum(dZ1, axis=1, keepdims=True)/m              # Hidden x 1\n",
    "        # Adam updates\n",
    "        beta1 = self.beta1\n",
    "        beta2 = self.beta2\n",
    "        # V\n",
    "        self.Vdw1 = beta1*self.Vdw1 + (1-beta1)*dW1\n",
    "        self.Vdw2 = beta1*self.Vdw2 + (1-beta1)*dW2\n",
    "        self.Vdw3 = beta1*self.Vdw3 + (1-beta1)*dW3\n",
    "        self.Vdb1 = beta1*self.Vdb1 + (1-beta1)*db1\n",
    "        self.Vdb2 = beta1*self.Vdb2 + (1-beta1)*db2\n",
    "        self.Vdb3 = beta1*self.Vdb3 + (1-beta1)*db3\n",
    "        # S\n",
    "        self.Sdw1 = beta2*self.Sdw1 + (1-beta2)*dW1**2\n",
    "        self.Sdw2 = beta2*self.Sdw2 + (1-beta2)*dW2**2\n",
    "        self.Sdw3 = beta2*self.Sdw3 + (1-beta2)*dW3**2\n",
    "        self.Sdb1 = beta2*self.Sdb1 + (1-beta2)*db1**2\n",
    "        self.Sdb2 = beta2*self.Sdb2 + (1-beta2)*db2**2\n",
    "        self.Sdb3 = beta2*self.Sdb3 + (1-beta2)*db3**2  \n",
    "        # Update\n",
    "        lr = self.learning_rate\n",
    "        self.W3 -= lr * self.Vdw3 / (np.sqrt(self.Sdw3)+1e-8)\n",
    "        self.b3 -= lr * self.Vdb3 / (np.sqrt(self.Sdb3)+1e-8)\n",
    "        self.W2 -= lr * self.Vdw2 / (np.sqrt(self.Sdw2)+1e-8)\n",
    "        self.b2 -= lr * self.Vdb2 / (np.sqrt(self.Sdb2)+1e-8)\n",
    "        self.W1 -= lr * self.Vdw1 / (np.sqrt(self.Sdw1)+1e-8)\n",
    "        self.b1 -= lr * self.Vdb1 / (np.sqrt(self.Sdb1)+1e-8)\n",
    "        return cost  \n",
    "    \n",
    "    def backprop_adam_minibatch(self, X, target):\n",
    "        n = X.shape[1]               # N_features\n",
    "        batch_size = X.shape[0]      # N_samples\n",
    "        if self.batch_size == None :\n",
    "            batch_size = self.minibatch_size(batch_size)\n",
    "        else :\n",
    "            batch_size = self.batch_size\n",
    "            \n",
    "        X_SGD = X.copy()\n",
    "        u = rng.shuffle(np.arange(X.shape[0] ))\n",
    "        X_SGD = X_SGD[u,:].squeeze()    # N_samples x N_Features\n",
    "        target_SGD = target[:,u].squeeze() # Output x N_samples\n",
    "        cost = 0\n",
    "        \n",
    "        pass_length = int(X.shape[0]/batch_size)\n",
    "        for i in range(pass_length) :\n",
    "            k = i*batch_size\n",
    "            X = X_SGD[k:k+batch_size,:].reshape(batch_size,-1)  \n",
    "            t = target_SGD[:,k:k+batch_size].reshape(-1,batch_size)\n",
    "            cost = cost + self.backpropADAM(X, t)/pass_length\n",
    "        return cost\n",
    "    \n",
    "    \n",
    "    def predict(self, X_predict):\n",
    "        A3, Z3, A2, Z2, A1, Z1 = self.forward(X_predict)\n",
    "        return A3\n",
    "    \n",
    "    def predict_class(self, X_predict):\n",
    "        A3, Z3, A2, Z2, A1, Z1 = self.forward(X_predict)\n",
    "        y_pred = np.argmax(A3, axis=0)\n",
    "        return y_pred\n",
    "\n",
    "    def run(self, X_train, target, epochs=10):\n",
    "        costs = [1e-10]\n",
    "        if self.delta_stop == None : \n",
    "            if self.optimizer == 'adam':\n",
    "                self.reset_adam()\n",
    "                for i in range(epochs):\n",
    "                    cost = self.backpropADAM(X_train, target)\n",
    "                    \n",
    "                    costs.append(cost)\n",
    "                    if i%10 == 0 and i>0 :\n",
    "                        print(f'Loss after epoch {i} : {cost}')\n",
    "                print(f'Loss after epoch {len(costs)} : {costs[-1]}')        \n",
    "                costs.pop(0)\n",
    "                return costs\n",
    "            \n",
    "            elif self.optimizer == 'mini_adam':\n",
    "                self.reset_adam()\n",
    "                for i in range(epochs):\n",
    "                    cost = self.backprop_adam_minibatch(X_train, target)\n",
    "                    costs.append(cost)\n",
    "                    if i%10 == 0 and i>0 :\n",
    "                        print(f'Loss after epoch {i} : {cost}')\n",
    "                print(f'Loss after epoch {len(costs)} : {costs[-1]}')        \n",
    "                costs.pop(0)\n",
    "                return costs\n",
    "                    \n",
    "                \n",
    "            elif self.optimizer == 'minibatch' :\n",
    "                for i in range(epochs):\n",
    "                    cost = self.backprop_minibatch(X_train, target)\n",
    "                    costs.append(cost)\n",
    "                    if i%10 == 0 and i>0 :\n",
    "                        print(f'Loss after epoch {i} : {cost}')\n",
    "                print(f'Loss after epoch {len(costs)} : {costs[-1]}')        \n",
    "                costs.pop(0)\n",
    "                return costs\n",
    "                \n",
    "            else :\n",
    "                for i in range(epochs):  \n",
    "                    cost = self.backprop(X_train, target)\n",
    "                    costs.append(cost)\n",
    "                    if i%10 == 0 and i>0 :\n",
    "                        print(f'Loss after epoch {i} : {cost}')\n",
    "                print(f'Loss after epoch {len(costs)} : {costs[-1]}')        \n",
    "                costs.pop(0)\n",
    "                return costs\n",
    "                \n",
    "            \n",
    "        else :\n",
    "            counter = 0\n",
    "            if self.optimizer == 'adam':\n",
    "                self.reset_adam()\n",
    "                for i in range(epochs):\n",
    "                    cost = self.backpropADAM(X_train, target)\n",
    "                    costs.append(cost)\n",
    "                    n = len(costs)\n",
    "                    delta = np.abs(costs[n-1]/costs[n-2]-1)\n",
    "                    if(delta < self.delta_stop) :\n",
    "                        counter+=1\n",
    "                        if(counter>=self.patience):\n",
    "                            print(f'Early stop at epoch {i}, the cost is : {cost}')\n",
    "                            costs.pop(0)\n",
    "                            return costs\n",
    "                    else :\n",
    "                        counter =0\n",
    "                    if i%10 == 0 and i>0 :\n",
    "                        print(f'Loss after epoch {i} : {cost}')\n",
    "                print(f'Loss after epoch {len(costs)} : {costs[-1]}')        \n",
    "                costs.pop(0)\n",
    "                return costs\n",
    "            \n",
    "            elif self.optimizer == 'mini_adam':\n",
    "                self.reset_adam()\n",
    "                for i in range(epochs):\n",
    "                    cost = self.backprop_adam_minibatch(X_train, target)\n",
    "                    costs.append(cost)\n",
    "                    n = len(costs)\n",
    "                    delta = np.abs(costs[n-1]/costs[n-2]-1)\n",
    "                    if(delta < self.delta_stop) :\n",
    "                        counter+=1\n",
    "                        if(counter>=self.patience):\n",
    "                            print(f'Early stop at epoch {i}, the cost is : {cost}')\n",
    "                            costs.pop(0)\n",
    "                            return costs\n",
    "                    else :\n",
    "                        counter =0\n",
    "                    if i%10 == 0 and i>0 :\n",
    "                        print(f'Loss after epoch {i} : {cost}')\n",
    "                print(f'Loss after 23epoch {len(costs)} : {costs[-1]}')        \n",
    "                costs.pop(0)\n",
    "                return costs\n",
    "          \n",
    "                \n",
    "            elif self.optimizer == 'minibatch' :\n",
    "                for i in range(epochs):\n",
    "                    cost = self.backprop_minibatch(X_train, target)\n",
    "                    costs.append(cost)\n",
    "                    n = len(costs)\n",
    "                    delta = np.abs(costs[n-1]/costs[n-2]-1)\n",
    "                    if(delta < self.delta_stop) :\n",
    "                        counter+=1\n",
    "                        if(counter>=self.patience):\n",
    "                            print(f'Early stop at epoch {i}, the cost is : {cost}')\n",
    "                            costs.pop(0)\n",
    "                            return costs\n",
    "                    else :\n",
    "                        counter =0\n",
    "                    if i%10 == 0 and i>0 :\n",
    "                        print(f'Loss after epoch {i} : {cost}')\n",
    "                print(f'Loss after epoch {len(costs)} : {costs[-1]}')        \n",
    "                costs.pop(0)\n",
    "                return costs\n",
    "                \n",
    "            else :  \n",
    "                for i in range(epochs): \n",
    "                    cost = self.backprop(X_train, target)\n",
    "                    costs.append(cost)\n",
    "                    n = len(costs)\n",
    "                    delta = np.abs(costs[n-1]/costs[n-2]-1)\n",
    "                    if(delta < self.delta_stop) :\n",
    "                        counter+=1\n",
    "                        if(counter>=self.patience):\n",
    "                            print(f'Early stop at epoch {i}, the cost is : {cost}')\n",
    "                            costs.pop(0)\n",
    "                            return costs\n",
    "                        else :\n",
    "                            counter =0\n",
    "                    if i%10 == 0 and i>0 :\n",
    "                        print(f'Loss after epoch {i} : {cost}')        \n",
    "                print(f'Loss after epoch {len(costs)} : {costs[-1]}')        \n",
    "                costs.pop(0)\n",
    "                return costs\n",
    "          \n",
    "            \n",
    "       \n",
    "    def evaluate(self, X_evaluate, target):\n",
    "        '''\n",
    "        return accuracy score, target must be the classes and not the hot encoded target\n",
    "        '''\n",
    "        \n",
    "        y_pred = self.predict_class(X_evaluate)\n",
    "        accuracy = classification_rate(y_pred, target)\n",
    "        print('Accuracy :', accuracy)\n",
    "        return accuracy\n",
    "    \n",
    "    def minibatch_size(self, n_samples):\n",
    "        '''\n",
    "        Compute minibatch size in case its not provided\n",
    "        '''\n",
    "        if n_samples < 2000:\n",
    "            return n_samples\n",
    "        if n_samples < 12800:\n",
    "            return 64\n",
    "        if n_samples < 25600:\n",
    "            return 128\n",
    "        if n_samples < 51200:\n",
    "            return 256\n",
    "        if n_samples < 102400:\n",
    "            return 512\n",
    "        return 1024\n",
    "        \n",
    "        \n",
    "        \n",
    "        \n",
    "            "
   ]
  },
  {
   "cell_type": "markdown",
   "id": "3ca59cb4",
   "metadata": {},
   "source": [
    "[Back to top](#Content:)\n",
    "\n",
    "\n",
    "<a id='part5'></a>\n",
    "\n",
    "### Part 5 -  Loading Fashion MNIST\n",
    "Preparing Data"
   ]
  },
  {
   "cell_type": "code",
   "execution_count": 14,
   "id": "2b19461b",
   "metadata": {},
   "outputs": [],
   "source": [
    "from tensorflow.keras.datasets import fashion_mnist\n",
    "from tensorflow.keras.utils import to_categorical"
   ]
  },
  {
   "cell_type": "code",
   "execution_count": 8,
   "id": "cfcacf11",
   "metadata": {},
   "outputs": [],
   "source": [
    "fashion = fashion_mnist.load_data()"
   ]
  },
  {
   "cell_type": "code",
   "execution_count": 9,
   "id": "8bf5c44a",
   "metadata": {},
   "outputs": [],
   "source": [
    "(X_train, y_train),(X_test, y_test) = fashion"
   ]
  },
  {
   "cell_type": "code",
   "execution_count": 10,
   "id": "58f6e778",
   "metadata": {},
   "outputs": [
    {
     "name": "stdout",
     "output_type": "stream",
     "text": [
      "(60000, 28, 28)\n"
     ]
    }
   ],
   "source": [
    "print(X_train.shape)"
   ]
  },
  {
   "cell_type": "code",
   "execution_count": 11,
   "id": "c94784e1",
   "metadata": {},
   "outputs": [],
   "source": [
    "l = X_train.shape[1]\n",
    "N_train = X_train.shape[0]\n",
    "N_test = X_test.shape[0]"
   ]
  },
  {
   "cell_type": "code",
   "execution_count": 12,
   "id": "d4d38a60",
   "metadata": {},
   "outputs": [],
   "source": [
    "## Reshaping training and testing set\n",
    "X_train = X_train.reshape(N_train, l*l, 1).squeeze()\n",
    "X_test = X_test.reshape(N_test, l*l, 1).squeeze()"
   ]
  },
  {
   "cell_type": "code",
   "execution_count": 15,
   "id": "9846a741",
   "metadata": {},
   "outputs": [],
   "source": [
    "# Transforming set to categorical\n",
    "y_train_cat = to_categorical(y_train).T\n",
    "y_test_cat = to_categorical(y_test).T"
   ]
  },
  {
   "cell_type": "markdown",
   "id": "3afe45c9",
   "metadata": {},
   "source": [
    "### Scaling Data"
   ]
  },
  {
   "cell_type": "code",
   "execution_count": 16,
   "id": "2735d3a6",
   "metadata": {},
   "outputs": [],
   "source": [
    "#MAX = 255\n",
    "#X_train = X_train/ MAX\n",
    "#X_test =X_test/ MAX\n",
    "\n",
    "from sklearn.preprocessing import StandardScaler\n",
    "scaler = StandardScaler()\n",
    "X_train= scaler.fit_transform(X_train)\n",
    "X_test = scaler.transform(X_test)"
   ]
  },
  {
   "cell_type": "code",
   "execution_count": 17,
   "id": "1d8c1573",
   "metadata": {},
   "outputs": [],
   "source": [
    "D = X_train.shape[1]\n",
    "K = y_train_cat.shape[0]\n",
    "M=5"
   ]
  },
  {
   "cell_type": "code",
   "execution_count": 18,
   "id": "edbfae15",
   "metadata": {},
   "outputs": [
    {
     "data": {
      "text/plain": [
       "784"
      ]
     },
     "execution_count": 18,
     "metadata": {},
     "output_type": "execute_result"
    }
   ],
   "source": [
    "D"
   ]
  },
  {
   "cell_type": "markdown",
   "id": "f0f303d9",
   "metadata": {},
   "source": [
    "[Back to top](#Content:)\n",
    "\n",
    "\n",
    "<a id='part6'></a>\n",
    "\n",
    "### Part 6 -  Fashion MNIST with 1 hidden layer\n"
   ]
  },
  {
   "cell_type": "markdown",
   "id": "7b513e2a",
   "metadata": {},
   "source": [
    "[Back to top](#Content:)\n",
    "\n",
    "<a id='part6.1'></a>\n",
    "## Sigmoid and tanh"
   ]
  },
  {
   "cell_type": "markdown",
   "id": "dfaa228f",
   "metadata": {},
   "source": [
    "### Sigmoid 5 hidden nodes"
   ]
  },
  {
   "cell_type": "code",
   "execution_count": 830,
   "id": "1e4d831c",
   "metadata": {},
   "outputs": [],
   "source": [
    "nn_sigmoid = HiddenOne(input_nodes = D, \n",
    "               output_nodes = K, \n",
    "               hidden_nodes = M,\n",
    "               learning_rate = 0.01,\n",
    "               activation_hidden = sigmoid)"
   ]
  },
  {
   "cell_type": "code",
   "execution_count": 831,
   "id": "e552d3e6",
   "metadata": {
    "collapsed": true
   },
   "outputs": [
    {
     "name": "stdout",
     "output_type": "stream",
     "text": [
      "Loss after epoch 10 : 0.22878686917662514\n",
      "Loss after epoch 20 : 0.22324330296231312\n",
      "Loss after epoch 30 : 0.21951122002251572\n",
      "Loss after epoch 40 : 0.21682870435876497\n",
      "Loss after epoch 50 : 0.21474906125226936\n",
      "Loss after epoch 60 : 0.21304089540720955\n",
      "Loss after epoch 70 : 0.2115789143401526\n",
      "Loss after epoch 80 : 0.21028976361325366\n",
      "Loss after epoch 90 : 0.20912740855936438\n",
      "Loss after epoch 100 : 0.20806138458023749\n",
      "Loss after epoch 110 : 0.20707074711843926\n",
      "Loss after epoch 120 : 0.2061407151166888\n",
      "Loss after epoch 130 : 0.2052606698925594\n",
      "Loss after epoch 140 : 0.2044228751755826\n",
      "Loss after epoch 150 : 0.2036216050299323\n",
      "Loss after epoch 160 : 0.2028525234367993\n",
      "Loss after epoch 170 : 0.2021122377120528\n",
      "Loss after epoch 180 : 0.20139798405825327\n",
      "Loss after epoch 190 : 0.20070741692970584\n",
      "Loss after epoch 200 : 0.20003847739535777\n",
      "Loss after epoch 210 : 0.19938931727843567\n",
      "Loss after epoch 220 : 0.1987582589087303\n",
      "Loss after epoch 230 : 0.19814377497191293\n",
      "Loss after epoch 240 : 0.19754447797836727\n",
      "Loss after epoch 250 : 0.19695911318580325\n",
      "Loss after epoch 260 : 0.1963865518947187\n",
      "Loss after epoch 270 : 0.19582578392751285\n",
      "Loss after epoch 280 : 0.19527590909458323\n",
      "Loss after epoch 290 : 0.1947361278762872\n",
      "Loss after epoch 300 : 0.19420573167081157\n",
      "Loss after epoch 310 : 0.1936840929442396\n",
      "Loss after epoch 320 : 0.19317065556277058\n",
      "Loss after epoch 330 : 0.1926649255293884\n",
      "Loss after epoch 340 : 0.19216646230059609\n",
      "Loss after epoch 350 : 0.19167487082183382\n",
      "Loss after epoch 360 : 0.19118979438717382\n",
      "Loss after epoch 370 : 0.19071090839466995\n",
      "Loss after epoch 380 : 0.19023791503092616\n",
      "Loss after epoch 390 : 0.18977053887783957\n",
      "Loss after epoch 400 : 0.18930852339431395\n",
      "Loss after epoch 410 : 0.1888516281904275\n",
      "Loss after epoch 420 : 0.18839962698511284\n",
      "Loss after epoch 430 : 0.18795230612344965\n",
      "Loss after epoch 440 : 0.1875094635267082\n",
      "Loss after epoch 450 : 0.18707090795591302\n",
      "Loss after epoch 460 : 0.1866364584851357\n",
      "Loss after epoch 470 : 0.18620594410061728\n",
      "Loss after epoch 480 : 0.18577920336294113\n",
      "Loss after epoch 490 : 0.18535608408928922\n",
      "Loss after epoch 501 : 0.18497825451950434\n"
     ]
    }
   ],
   "source": [
    "c = nn_sigmoid.run(X_train, y_train_cat, epochs=500 )"
   ]
  },
  {
   "cell_type": "code",
   "execution_count": 832,
   "id": "2ab15b91",
   "metadata": {},
   "outputs": [
    {
     "name": "stdout",
     "output_type": "stream",
     "text": [
      "Accuracy : 0.4723\n"
     ]
    }
   ],
   "source": [
    "acc = nn_sigmoid.evaluate(X_test, y_test)\n"
   ]
  },
  {
   "cell_type": "markdown",
   "id": "94b341e5",
   "metadata": {},
   "source": [
    " More epochs "
   ]
  },
  {
   "cell_type": "code",
   "execution_count": 833,
   "id": "c00b5555",
   "metadata": {
    "scrolled": true
   },
   "outputs": [
    {
     "name": "stdout",
     "output_type": "stream",
     "text": [
      "Loss after epoch 10 : 0.1845201455241048\n",
      "Loss after epoch 20 : 0.1841070651372288\n",
      "Loss after epoch 30 : 0.18369708327252177\n",
      "Loss after epoch 40 : 0.1832900887719804\n",
      "Loss after epoch 50 : 0.1828859775081273\n",
      "Loss after epoch 60 : 0.1824846519753738\n",
      "Loss after epoch 70 : 0.18208602088695125\n",
      "Loss after epoch 80 : 0.18168999878248254\n",
      "Loss after epoch 90 : 0.1812965056500274\n",
      "Loss after epoch 100 : 0.1809054665652534\n",
      "Loss after epoch 110 : 0.18051681134937325\n",
      "Loss after epoch 120 : 0.18013047424665227\n",
      "Loss after epoch 130 : 0.17974639362165884\n",
      "Loss after epoch 140 : 0.17936451167595469\n",
      "Loss after epoch 150 : 0.17898477418360056\n",
      "Loss after epoch 160 : 0.17860713024464278\n",
      "Loss after epoch 170 : 0.17823153205562078\n",
      "Loss after epoch 180 : 0.177857934696077\n",
      "Loss after epoch 190 : 0.17748629593004103\n",
      "Loss after epoch 200 : 0.1771165760214742\n",
      "Loss after epoch 210 : 0.17674873756269946\n",
      "Loss after epoch 220 : 0.17638274531489245\n",
      "Loss after epoch 230 : 0.17601856605976515\n",
      "Loss after epoch 240 : 0.17565616846162854\n",
      "Loss after epoch 250 : 0.1752955229390832\n",
      "Loss after epoch 260 : 0.17493660154563698\n",
      "Loss after epoch 270 : 0.17457937785860544\n",
      "Loss after epoch 280 : 0.1742238268756978\n",
      "Loss after epoch 290 : 0.1738699249187364\n",
      "Loss after epoch 300 : 0.17351764954400156\n",
      "Loss after epoch 310 : 0.1731669794587302\n",
      "Loss after epoch 320 : 0.1728178944433324\n",
      "Loss after epoch 330 : 0.17247037527892525\n",
      "Loss after epoch 340 : 0.17212440367980875\n",
      "Loss after epoch 350 : 0.17177996223053899\n",
      "Loss after epoch 360 : 0.1714370343272809\n",
      "Loss after epoch 370 : 0.17109560412314\n",
      "Loss after epoch 380 : 0.17075565647720134\n",
      "Loss after epoch 390 : 0.17041717690701896\n",
      "Loss after epoch 400 : 0.17008015154431919\n",
      "Loss after epoch 410 : 0.16974456709370028\n",
      "Loss after epoch 420 : 0.16941041079412034\n",
      "Loss after epoch 430 : 0.16907767038298946\n",
      "Loss after epoch 440 : 0.16874633406268594\n",
      "Loss after epoch 450 : 0.16841639046933876\n",
      "Loss after epoch 460 : 0.16808782864371816\n",
      "Loss after epoch 470 : 0.1677606380041009\n",
      "Loss after epoch 480 : 0.1674348083209737\n",
      "Loss after epoch 490 : 0.16711032969345718\n",
      "Loss after epoch 500 : 0.16678719252733423\n",
      "Loss after epoch 510 : 0.16646538751458004\n",
      "Loss after epoch 520 : 0.16614490561429412\n",
      "Loss after epoch 530 : 0.16582573803494255\n",
      "Loss after epoch 540 : 0.16550787621782714\n",
      "Loss after epoch 550 : 0.16519131182169822\n",
      "Loss after epoch 560 : 0.1648760367084417\n",
      "Loss after epoch 570 : 0.1645620429297646\n",
      "Loss after epoch 580 : 0.16424932271481943\n",
      "Loss after epoch 590 : 0.16393786845870337\n",
      "Loss after epoch 600 : 0.16362767271177506\n",
      "Loss after epoch 610 : 0.16331872816973722\n",
      "Loss after epoch 620 : 0.16301102766443315\n",
      "Loss after epoch 630 : 0.16270456415531068\n",
      "Loss after epoch 640 : 0.16239933072150955\n",
      "Loss after epoch 650 : 0.16209532055453002\n",
      "Loss after epoch 660 : 0.16179252695144455\n",
      "Loss after epoch 670 : 0.16149094330861555\n",
      "Loss after epoch 680 : 0.16119056311588437\n",
      "Loss after epoch 690 : 0.16089137995120106\n",
      "Loss after epoch 700 : 0.16059338747566201\n",
      "Loss after epoch 710 : 0.16029657942892966\n",
      "Loss after epoch 720 : 0.16000094962500563\n",
      "Loss after epoch 730 : 0.15970649194833414\n",
      "Loss after epoch 740 : 0.15941320035021028\n",
      "Loss after epoch 750 : 0.1591210688454731\n",
      "Loss after epoch 760 : 0.15883009150946104\n",
      "Loss after epoch 770 : 0.1585402624752126\n",
      "Loss after epoch 780 : 0.15825157593089184\n",
      "Loss after epoch 790 : 0.15796402611742344\n",
      "Loss after epoch 800 : 0.1576776073263214\n",
      "Loss after epoch 810 : 0.15739231389769542\n",
      "Loss after epoch 820 : 0.15710814021842187\n",
      "Loss after epoch 830 : 0.15682508072046716\n",
      "Loss after epoch 840 : 0.15654312987934943\n",
      "Loss after epoch 850 : 0.15626228221272961\n",
      "Loss after epoch 860 : 0.15598253227911915\n",
      "Loss after epoch 870 : 0.15570387467669636\n",
      "Loss after epoch 880 : 0.15542630404222058\n",
      "Loss after epoch 890 : 0.15514981505003708\n",
      "Loss after epoch 900 : 0.15487440241116374\n",
      "Loss after epoch 910 : 0.15460006087245198\n",
      "Loss after epoch 920 : 0.15432678521581664\n",
      "Loss after epoch 930 : 0.1540545702575255\n",
      "Loss after epoch 940 : 0.15378341084754563\n",
      "Loss after epoch 950 : 0.15351330186893872\n",
      "Loss after epoch 960 : 0.15324423823730202\n",
      "Loss after epoch 970 : 0.15297621490024776\n",
      "Loss after epoch 980 : 0.15270922683692012\n",
      "Loss after epoch 990 : 0.15244326905754274\n",
      "Loss after epoch 1001 : 0.1522047838495397\n"
     ]
    }
   ],
   "source": [
    "c = nn_sigmoid.run(X_train, y_train_cat, epochs=1000 )"
   ]
  },
  {
   "cell_type": "code",
   "execution_count": 834,
   "id": "667842f9",
   "metadata": {},
   "outputs": [
    {
     "name": "stdout",
     "output_type": "stream",
     "text": [
      "Accuracy : 0.6505\n"
     ]
    }
   ],
   "source": [
    "acc = nn_sigmoid.evaluate(X_test, y_test)\n"
   ]
  },
  {
   "cell_type": "markdown",
   "id": "48a6158f",
   "metadata": {},
   "source": [
    " More epochs again "
   ]
  },
  {
   "cell_type": "code",
   "execution_count": 835,
   "id": "41d2ee19",
   "metadata": {
    "scrolled": true
   },
   "outputs": [
    {
     "name": "stdout",
     "output_type": "stream",
     "text": [
      "Loss after epoch 10 : 0.15191442454440818\n",
      "Loss after epoch 20 : 0.15165152798279682\n",
      "Loss after epoch 30 : 0.15138964204869057\n",
      "Loss after epoch 40 : 0.1511287619017964\n",
      "Loss after epoch 50 : 0.1508688827306692\n",
      "Loss after epoch 60 : 0.15060999975239645\n",
      "Loss after epoch 70 : 0.15035210821229322\n",
      "Loss after epoch 80 : 0.1500952033836065\n",
      "Loss after epoch 90 : 0.14983928056722853\n",
      "Loss after epoch 100 : 0.14958433509141605\n",
      "Loss after epoch 110 : 0.14933036231151722\n",
      "Loss after epoch 120 : 0.14907735760970434\n",
      "Loss after epoch 130 : 0.14882531639471183\n",
      "Loss after epoch 140 : 0.1485742341015798\n",
      "Loss after epoch 150 : 0.14832410619140332\n",
      "Loss after epoch 160 : 0.14807492815108647\n",
      "Loss after epoch 170 : 0.14782669549310223\n",
      "Loss after epoch 180 : 0.14757940375525846\n",
      "Loss after epoch 190 : 0.14733304850046886\n",
      "Loss after epoch 200 : 0.1470876253165313\n",
      "Loss after epoch 210 : 0.14684312981591177\n",
      "Loss after epoch 220 : 0.14659955763553573\n",
      "Loss after epoch 230 : 0.14635690443658492\n",
      "Loss after epoch 240 : 0.146115165904303\n",
      "Loss after epoch 250 : 0.14587433774780564\n",
      "Loss after epoch 260 : 0.1456344156998984\n",
      "Loss after epoch 270 : 0.1453953955168999\n",
      "Loss after epoch 280 : 0.14515727297847017\n",
      "Loss after epoch 290 : 0.14492004388744295\n",
      "Loss after epoch 300 : 0.1446837040696614\n",
      "Loss after epoch 310 : 0.144448249373815\n",
      "Loss after epoch 320 : 0.1442136756712761\n",
      "Loss after epoch 330 : 0.14397997885593486\n",
      "Loss after epoch 340 : 0.14374715484402967\n",
      "Loss after epoch 350 : 0.14351519957397132\n",
      "Loss after epoch 360 : 0.1432841090061584\n",
      "Loss after epoch 370 : 0.1430538791227812\n",
      "Loss after epoch 380 : 0.14282450592761275\n",
      "Loss after epoch 390 : 0.1425959854457836\n",
      "Loss after epoch 400 : 0.14236831372354025\n",
      "Loss after epoch 410 : 0.1421414868279829\n",
      "Loss after epoch 420 : 0.1419155008467852\n",
      "Loss after epoch 430 : 0.14169035188789156\n",
      "Loss after epoch 440 : 0.14146603607919578\n",
      "Loss after epoch 450 : 0.14124254956819876\n",
      "Loss after epoch 460 : 0.14101988852165015\n",
      "Loss after epoch 470 : 0.14079804912517294\n",
      "Loss after epoch 480 : 0.14057702758287732\n",
      "Loss after epoch 490 : 0.14035682011696535\n",
      "Loss after epoch 500 : 0.14013742296733192\n",
      "Loss after epoch 510 : 0.13991883239116717\n",
      "Loss after epoch 520 : 0.1397010446625651\n",
      "Loss after epoch 530 : 0.13948405607214248\n",
      "Loss after epoch 540 : 0.1392678629266762\n",
      "Loss after epoch 550 : 0.13905246154876125\n",
      "Loss after epoch 560 : 0.13883784827649506\n",
      "Loss after epoch 570 : 0.1386240194631925\n",
      "Loss after epoch 580 : 0.13841097147713394\n",
      "Loss after epoch 590 : 0.1381987007013488\n",
      "Loss after epoch 600 : 0.13798720353343788\n",
      "Loss after epoch 610 : 0.13777647638543242\n",
      "Loss after epoch 620 : 0.13756651568369205\n",
      "Loss after epoch 630 : 0.13735731786883976\n",
      "Loss after epoch 640 : 0.13714887939573192\n",
      "Loss after epoch 650 : 0.1369411967334619\n",
      "Loss after epoch 660 : 0.13673426636539351\n",
      "Loss after epoch 670 : 0.13652808478922226\n",
      "Loss after epoch 680 : 0.13632264851706072\n",
      "Loss after epoch 690 : 0.13611795407554217\n",
      "Loss after epoch 700 : 0.13591399800594406\n",
      "Loss after epoch 710 : 0.13571077686432223\n",
      "Loss after epoch 720 : 0.13550828722165606\n",
      "Loss after epoch 730 : 0.13530652566400087\n",
      "Loss after epoch 740 : 0.13510548879264314\n",
      "Loss after epoch 750 : 0.13490517322425805\n",
      "Loss after epoch 760 : 0.13470557559106613\n",
      "Loss after epoch 770 : 0.13450669254098635\n",
      "Loss after epoch 780 : 0.13430852073778593\n",
      "Loss after epoch 790 : 0.13411105686122288\n",
      "Loss after epoch 800 : 0.13391429760718315\n",
      "Loss after epoch 810 : 0.13371823968780905\n",
      "Loss after epoch 820 : 0.13352287983161934\n",
      "Loss after epoch 830 : 0.13332821478362156\n",
      "Loss after epoch 840 : 0.13313424130541393\n",
      "Loss after epoch 850 : 0.13294095617527887\n",
      "Loss after epoch 860 : 0.1327483561882678\n",
      "Loss after epoch 870 : 0.13255643815627574\n",
      "Loss after epoch 880 : 0.13236519890810794\n",
      "Loss after epoch 890 : 0.1321746352895378\n",
      "Loss after epoch 900 : 0.1319847441633561\n",
      "Loss after epoch 910 : 0.13179552240941222\n",
      "Loss after epoch 920 : 0.13160696692464785\n",
      "Loss after epoch 930 : 0.13141907462312316\n",
      "Loss after epoch 940 : 0.13123184243603547\n",
      "Loss after epoch 950 : 0.13104526731173194\n",
      "Loss after epoch 960 : 0.13085934621571527\n",
      "Loss after epoch 970 : 0.13067407613064302\n",
      "Loss after epoch 980 : 0.1304894540563218\n",
      "Loss after epoch 990 : 0.13030547700969522\n",
      "Loss after epoch 1001 : 0.13014044671471006\n"
     ]
    }
   ],
   "source": [
    "c = nn_sigmoid.run(X_train, y_train_cat, epochs=1000 )"
   ]
  },
  {
   "cell_type": "code",
   "execution_count": 836,
   "id": "6a3fa5a9",
   "metadata": {},
   "outputs": [
    {
     "name": "stdout",
     "output_type": "stream",
     "text": [
      "Accuracy : 0.7001\n"
     ]
    }
   ],
   "source": [
    "acc = nn_sigmoid.evaluate(X_test, y_test)\n"
   ]
  },
  {
   "cell_type": "markdown",
   "id": "f1e8e785",
   "metadata": {},
   "source": [
    "Conclusion : Sigmoid is slow to learn lets try tanh"
   ]
  },
  {
   "cell_type": "markdown",
   "id": "79022e2f",
   "metadata": {},
   "source": [
    "### Tanh"
   ]
  },
  {
   "cell_type": "code",
   "execution_count": 845,
   "id": "573686e7",
   "metadata": {
    "collapsed": true
   },
   "outputs": [
    {
     "name": "stdout",
     "output_type": "stream",
     "text": [
      "Loss after epoch 10 : 0.19901271791427455\n",
      "Loss after epoch 20 : 0.1839460437641077\n",
      "Loss after epoch 30 : 0.1760564874681165\n",
      "Loss after epoch 40 : 0.17084134159373232\n",
      "Loss after epoch 50 : 0.16702597105090627\n",
      "Loss after epoch 60 : 0.1640225265694221\n",
      "Loss after epoch 70 : 0.16153178938422919\n",
      "Loss after epoch 80 : 0.1593877113964945\n",
      "Loss after epoch 90 : 0.1574894483359804\n",
      "Loss after epoch 100 : 0.15577189774246541\n",
      "Loss after epoch 110 : 0.15419132016498646\n",
      "Loss after epoch 120 : 0.15271742154501597\n",
      "Loss after epoch 130 : 0.1513287025573449\n",
      "Loss after epoch 140 : 0.15000958318016647\n",
      "Loss after epoch 150 : 0.14874855503497456\n",
      "Loss after epoch 160 : 0.1475369643038639\n",
      "Loss after epoch 170 : 0.14636819285711322\n",
      "Loss after epoch 180 : 0.14523709684316952\n",
      "Loss after epoch 190 : 0.1441396165799856\n",
      "Loss after epoch 200 : 0.1430725024526592\n",
      "Loss after epoch 210 : 0.1420331191153498\n",
      "Loss after epoch 220 : 0.14101930220177158\n",
      "Loss after epoch 230 : 0.14002925120224552\n",
      "Loss after epoch 240 : 0.13906144899884254\n",
      "Loss after epoch 250 : 0.13811460190333721\n",
      "Loss after epoch 260 : 0.13718759497602115\n",
      "Loss after epoch 270 : 0.13627945807231895\n",
      "Loss after epoch 280 : 0.13538933926303398\n",
      "Loss after epoch 290 : 0.13451648352834858\n",
      "Loss after epoch 300 : 0.13366021550933285\n",
      "Loss after epoch 310 : 0.13281992557566638\n",
      "Loss after epoch 320 : 0.1319950586608364\n",
      "Loss after epoch 330 : 0.13118510537276504\n",
      "Loss after epoch 340 : 0.13038959492067734\n",
      "Loss after epoch 350 : 0.12960808945769625\n",
      "Loss after epoch 360 : 0.1288401795190163\n",
      "Loss after epoch 370 : 0.12808548031431238\n",
      "Loss after epoch 380 : 0.12734362869478438\n",
      "Loss after epoch 390 : 0.12661428065800878\n",
      "Loss after epoch 400 : 0.12589710928317568\n",
      "Loss after epoch 410 : 0.12519180301180968\n",
      "Loss after epoch 420 : 0.1244980642085437\n",
      "Loss after epoch 430 : 0.12381560795335711\n",
      "Loss after epoch 440 : 0.12314416102921195\n",
      "Loss after epoch 450 : 0.12248346107576023\n",
      "Loss after epoch 460 : 0.12183325588134578\n",
      "Loss after epoch 470 : 0.1211933027845933\n",
      "Loss after epoch 480 : 0.12056336815664195\n",
      "Loss after epoch 490 : 0.11994322693750929\n",
      "Loss after epoch 500 : 0.11933266220522033\n",
      "Loss after epoch 510 : 0.11873146476295646\n",
      "Loss after epoch 520 : 0.11813943273604033\n",
      "Loss after epoch 530 : 0.11755637117597859\n",
      "Loss after epoch 540 : 0.11698209167260012\n",
      "Loss after epoch 550 : 0.1164164119775913\n",
      "Loss after epoch 560 : 0.11585915564370361\n",
      "Loss after epoch 570 : 0.11531015168390535\n",
      "Loss after epoch 580 : 0.11476923425402688\n",
      "Loss after epoch 590 : 0.1142362423612483\n",
      "Loss after epoch 600 : 0.11371101959930832\n",
      "Loss after epoch 610 : 0.11319341390979751\n",
      "Loss after epoch 620 : 0.11268327736753264\n",
      "Loss after epoch 630 : 0.11218046598698429\n",
      "Loss after epoch 640 : 0.11168483954614632\n",
      "Loss after epoch 650 : 0.11119626142415438\n",
      "Loss after epoch 660 : 0.11071459844934113\n",
      "Loss after epoch 670 : 0.11023972075517974\n",
      "Loss after epoch 680 : 0.10977150164257858\n",
      "Loss after epoch 690 : 0.10930981744808868\n",
      "Loss after epoch 700 : 0.10885454741860477\n",
      "Loss after epoch 710 : 0.1084055735938848\n",
      "Loss after epoch 720 : 0.10796278069852984\n",
      "Loss after epoch 730 : 0.10752605604480434\n",
      "Loss after epoch 740 : 0.10709528944676204\n",
      "Loss after epoch 750 : 0.10667037314459427\n",
      "Loss after epoch 760 : 0.10625120173610335\n",
      "Loss after epoch 770 : 0.10583767211015492\n",
      "Loss after epoch 780 : 0.10542968337561727\n",
      "Loss after epoch 790 : 0.10502713677958037\n",
      "Loss after epoch 800 : 0.10462993561126337\n",
      "Loss after epoch 810 : 0.10423798509273807\n",
      "Loss after epoch 820 : 0.10385119226285923\n",
      "Loss after epoch 830 : 0.10346946586420637\n",
      "Loss after epoch 840 : 0.10309271624260861\n",
      "Loss after epoch 850 : 0.10272085526509564\n",
      "Loss after epoch 860 : 0.10235379625692859\n",
      "Loss after epoch 870 : 0.10199145395421008\n",
      "Loss after epoch 880 : 0.10163374446683003\n",
      "Loss after epoch 890 : 0.1012805852470244\n",
      "Loss after epoch 900 : 0.1009318950605125\n",
      "Loss after epoch 910 : 0.10058759395895411\n",
      "Loss after epoch 920 : 0.10024760325369379\n",
      "Loss after epoch 930 : 0.09991184549131861\n",
      "Loss after epoch 940 : 0.09958024443161306\n",
      "Loss after epoch 950 : 0.09925272502829627\n",
      "Loss after epoch 960 : 0.09892921341267177\n",
      "Loss after epoch 970 : 0.0986096368801239\n",
      "Loss after epoch 980 : 0.09829392387928726\n",
      "Loss after epoch 990 : 0.0979820040036948\n",
      "Loss after epoch 1001 : 0.09770446196459562\n"
     ]
    }
   ],
   "source": [
    "nn_tanh = HiddenOne(input_nodes = D, \n",
    "               output_nodes = K, \n",
    "               hidden_nodes = M,\n",
    "               learning_rate = 0.01,\n",
    "               activation_hidden = tanh)\n",
    "c = nn_tanh.run(X_train, y_train_cat, epochs=1000 )"
   ]
  },
  {
   "cell_type": "code",
   "execution_count": 846,
   "id": "77111639",
   "metadata": {},
   "outputs": [
    {
     "name": "stdout",
     "output_type": "stream",
     "text": [
      "Accuracy : 0.7345\n"
     ]
    }
   ],
   "source": [
    "acc = nn_tanh.evaluate(X_test, y_test)\n"
   ]
  },
  {
   "cell_type": "markdown",
   "id": "e927d822",
   "metadata": {},
   "source": [
    "tanh faster to learn lets try more epochs"
   ]
  },
  {
   "cell_type": "code",
   "execution_count": 847,
   "id": "6a8beb5d",
   "metadata": {
    "collapsed": true
   },
   "outputs": [
    {
     "name": "stdout",
     "output_type": "stream",
     "text": [
      "Loss after epoch 10 : 0.09736926769271226\n",
      "Loss after epoch 20 : 0.09706831612501637\n",
      "Loss after epoch 30 : 0.09677088741593402\n",
      "Loss after epoch 40 : 0.09647691683306854\n",
      "Loss after epoch 50 : 0.0961863407807747\n",
      "Loss after epoch 60 : 0.09589909680308277\n",
      "Loss after epoch 70 : 0.09561512358641353\n",
      "Loss after epoch 80 : 0.09533436096136601\n",
      "Loss after epoch 90 : 0.09505674990296167\n",
      "Loss after epoch 100 : 0.0947822325289809\n",
      "Loss after epoch 110 : 0.09451075209640591\n",
      "Loss after epoch 120 : 0.09424225299642072\n",
      "Loss after epoch 130 : 0.09397668074879285\n",
      "Loss after epoch 140 : 0.09371398199667001\n",
      "Loss after epoch 150 : 0.0934541045027858\n",
      "Loss after epoch 160 : 0.0931969971477858\n",
      "Loss after epoch 170 : 0.09294260993093617\n",
      "Loss after epoch 180 : 0.09269089397298262\n",
      "Loss after epoch 190 : 0.09244180152051566\n",
      "Loss after epoch 200 : 0.09219528595094599\n",
      "Loss after epoch 210 : 0.09195130177713623\n",
      "Loss after epoch 220 : 0.09170980465083806\n",
      "Loss after epoch 230 : 0.09147075136430176\n",
      "Loss after epoch 240 : 0.09123409984969526\n",
      "Loss after epoch 250 : 0.09099980917624488\n",
      "Loss after epoch 260 : 0.0907678395452582\n",
      "Loss after epoch 270 : 0.0905381522834008\n",
      "Loss after epoch 280 : 0.09031070983476454\n",
      "Loss after epoch 290 : 0.0900854757523992\n",
      "Loss after epoch 300 : 0.08986241469008072\n",
      "Loss after epoch 310 : 0.08964149239516844\n",
      "Loss after epoch 320 : 0.08942267570345218\n",
      "Loss after epoch 330 : 0.08920593253689439\n",
      "Loss after epoch 340 : 0.08899123190509263\n",
      "Loss after epoch 350 : 0.08877854391105816\n",
      "Loss after epoch 360 : 0.0885678397614346\n",
      "Loss after epoch 370 : 0.08835909178044499\n",
      "Loss after epoch 380 : 0.08815227342556252\n",
      "Loss after epoch 390 : 0.0879473593011377\n",
      "Loss after epoch 400 : 0.08774432516420193\n",
      "Loss after epoch 410 : 0.0875431479149531\n",
      "Loss after epoch 420 : 0.08734380556394156\n",
      "Loss after epoch 430 : 0.08714627716974316\n",
      "Loss after epoch 440 : 0.08695054274550859\n",
      "Loss after epoch 450 : 0.08675658313955904\n",
      "Loss after epoch 460 : 0.08656437990204534\n",
      "Loss after epoch 470 : 0.08637391515369741\n",
      "Loss after epoch 480 : 0.08618517147185174\n",
      "Loss after epoch 490 : 0.08599813180348567\n",
      "Loss after epoch 500 : 0.08581277940735768\n",
      "Loss after epoch 510 : 0.08562909782069208\n",
      "Loss after epoch 520 : 0.08544707084221455\n",
      "Loss after epoch 530 : 0.08526668252298802\n",
      "Loss after epoch 540 : 0.08508791715836174\n",
      "Loss after epoch 550 : 0.08491075927700245\n",
      "Loss after epoch 560 : 0.08473519362538796\n",
      "Loss after epoch 570 : 0.08456120514783586\n",
      "Loss after epoch 580 : 0.08438877896306993\n",
      "Loss after epoch 590 : 0.08421790033868302\n",
      "Loss after epoch 600 : 0.08404855466484418\n",
      "Loss after epoch 610 : 0.08388072742841426\n",
      "Loss after epoch 620 : 0.08371440418838545\n",
      "Loss after epoch 630 : 0.08354957055331472\n",
      "Loss after epoch 640 : 0.08338621216120794\n",
      "Loss after epoch 650 : 0.08322431466213442\n",
      "Loss after epoch 660 : 0.08306386370371671\n",
      "Loss after epoch 670 : 0.08290484491952846\n",
      "Loss after epoch 680 : 0.08274724392035453\n",
      "Loss after epoch 690 : 0.0825910462882024\n",
      "Loss after epoch 700 : 0.08243623757290602\n",
      "Loss after epoch 710 : 0.08228280329112923\n",
      "Loss after epoch 720 : 0.08213072892754765\n",
      "Loss after epoch 730 : 0.0819799999379744\n",
      "Loss after epoch 740 : 0.08183060175418216\n",
      "Loss after epoch 750 : 0.0816825197901732\n",
      "Loss after epoch 760 : 0.08153573944964948\n",
      "Loss after epoch 770 : 0.08139024613444407\n",
      "Loss after epoch 780 : 0.08124602525368335\n",
      "Loss after epoch 790 : 0.08110306223346747\n",
      "Loss after epoch 800 : 0.0809613425268691\n",
      "Loss after epoch 810 : 0.08082085162407393\n",
      "Loss after epoch 820 : 0.08068157506250224\n",
      "Loss after epoch 830 : 0.08054349843677461\n",
      "Loss after epoch 840 : 0.08040660740840387\n",
      "Loss after epoch 850 : 0.0802708877151166\n",
      "Loss after epoch 860 : 0.08013632517972694\n",
      "Loss after epoch 870 : 0.08000290571850426\n",
      "Loss after epoch 880 : 0.0798706153489934\n",
      "Loss after epoch 890 : 0.07973944019726295\n",
      "Loss after epoch 900 : 0.07960936650456993\n",
      "Loss after epoch 910 : 0.0794803806334436\n",
      "Loss after epoch 920 : 0.07935246907320018\n",
      "Loss after epoch 930 : 0.07922561844491167\n",
      "Loss after epoch 940 : 0.07909981550585782\n",
      "Loss after epoch 950 : 0.07897504715349585\n",
      "Loss after epoch 960 : 0.07885130042898834\n",
      "Loss after epoch 970 : 0.07872856252032946\n",
      "Loss after epoch 980 : 0.07860682076511134\n",
      "Loss after epoch 990 : 0.07848606265297105\n",
      "Loss after epoch 1001 : 0.07837821115129574\n"
     ]
    }
   ],
   "source": [
    "c = nn_tanh.run(X_train, y_train_cat, epochs=1000)"
   ]
  },
  {
   "cell_type": "code",
   "execution_count": 848,
   "id": "ab868f16",
   "metadata": {},
   "outputs": [
    {
     "name": "stdout",
     "output_type": "stream",
     "text": [
      "Accuracy : 0.7616\n"
     ]
    }
   ],
   "source": [
    "acc = nn_tanh.evaluate(X_test, y_test)\n"
   ]
  },
  {
   "cell_type": "markdown",
   "id": "ff0568bf",
   "metadata": {},
   "source": [
    "Accuracy increases, lets try more hidden nodes"
   ]
  },
  {
   "cell_type": "code",
   "execution_count": 850,
   "id": "095a199a",
   "metadata": {
    "collapsed": true
   },
   "outputs": [
    {
     "name": "stdout",
     "output_type": "stream",
     "text": [
      "Loss after epoch 10 : 0.18243071300010974\n",
      "Loss after epoch 20 : 0.16443330947833454\n",
      "Loss after epoch 30 : 0.15405631998614444\n",
      "Loss after epoch 40 : 0.14675462757163799\n",
      "Loss after epoch 50 : 0.14134486145826794\n",
      "Loss after epoch 60 : 0.13708421482458347\n",
      "Loss after epoch 70 : 0.13355617250438886\n",
      "Loss after epoch 80 : 0.13052072819131544\n",
      "Loss after epoch 90 : 0.12783552961703754\n",
      "Loss after epoch 100 : 0.12541230826896504\n",
      "Loss after epoch 110 : 0.12319353806869811\n",
      "Loss after epoch 120 : 0.12113998922543047\n",
      "Loss after epoch 130 : 0.11922385426614797\n",
      "Loss after epoch 140 : 0.11742474232179387\n",
      "Loss after epoch 150 : 0.11572721248276718\n",
      "Loss after epoch 160 : 0.1141192226790189\n",
      "Loss after epoch 170 : 0.11259115084606686\n",
      "Loss after epoch 180 : 0.11113515371283451\n",
      "Loss after epoch 190 : 0.10974472511765353\n",
      "Loss after epoch 200 : 0.10841438165369169\n",
      "Loss after epoch 210 : 0.10713943371617227\n",
      "Loss after epoch 220 : 0.10591581517898954\n",
      "Loss after epoch 230 : 0.10473995524159851\n",
      "Loss after epoch 240 : 0.10360868274578552\n",
      "Loss after epoch 250 : 0.10251915581817454\n",
      "Loss after epoch 260 : 0.10146880987948456\n",
      "Loss after epoch 270 : 0.1004553178284084\n",
      "Loss after epoch 280 : 0.09947655821088398\n",
      "Loss after epoch 290 : 0.09853058916697592\n",
      "Loss after epoch 300 : 0.09761562702851867\n",
      "Loss after epoch 310 : 0.09673002873837748\n",
      "Loss after epoch 320 : 0.09587227724697223\n",
      "Loss after epoch 330 : 0.09504096904747437\n",
      "Loss after epoch 340 : 0.09423480316576148\n",
      "Loss after epoch 350 : 0.09345257121324714\n",
      "Loss after epoch 360 : 0.0926931484241993\n",
      "Loss after epoch 370 : 0.09195548577031135\n",
      "Loss after epoch 380 : 0.09123860319958146\n",
      "Loss after epoch 390 : 0.09054158388209181\n",
      "Loss after epoch 400 : 0.08986356922435441\n",
      "Loss after epoch 410 : 0.0892037544015228\n",
      "Loss after epoch 420 : 0.08856138421148663\n",
      "Loss after epoch 430 : 0.08793574912586402\n",
      "Loss after epoch 440 : 0.08732618148661202\n",
      "Loss after epoch 450 : 0.08673205187009163\n",
      "Loss after epoch 460 : 0.08615276569403126\n",
      "Loss after epoch 470 : 0.08558776015444854\n",
      "Loss after epoch 480 : 0.08503650154795368\n",
      "Loss after epoch 490 : 0.08449848298288262\n",
      "Loss after epoch 500 : 0.08397322243751476\n",
      "Loss after epoch 510 : 0.08346026109871575\n",
      "Loss after epoch 520 : 0.08295916190906946\n",
      "Loss after epoch 530 : 0.08246950825887998\n",
      "Loss after epoch 540 : 0.08199090277553896\n",
      "Loss after epoch 550 : 0.08152296618171387\n",
      "Loss after epoch 560 : 0.08106533621111202\n",
      "Loss after epoch 570 : 0.08061766658282632\n",
      "Loss after epoch 580 : 0.08017962604105242\n",
      "Loss after epoch 590 : 0.07975089746707718\n",
      "Loss after epoch 600 : 0.07933117706729095\n",
      "Loss after epoch 610 : 0.07892017363770326\n",
      "Loss after epoch 620 : 0.0785176079049622\n",
      "Loss after epoch 630 : 0.07812321194825357\n",
      "Loss after epoch 640 : 0.07773672871621853\n",
      "Loss after epoch 650 : 0.07735791166561128\n",
      "Loss after epoch 660 : 0.07698652455431988\n",
      "Loss after epoch 670 : 0.076622341399117\n",
      "Loss after epoch 680 : 0.0762651465282589\n",
      "Loss after epoch 690 : 0.07591473451837219\n",
      "Loss after epoch 700 : 0.07557090969945086\n",
      "Loss after epoch 710 : 0.07523348503251255\n",
      "Loss after epoch 720 : 0.07490228056586658\n",
      "Loss after epoch 730 : 0.07457712203269914\n",
      "Loss after epoch 740 : 0.0742578400658888\n",
      "Loss after epoch 750 : 0.07394427007420604\n",
      "Loss after epoch 760 : 0.0736362524984771\n",
      "Loss after epoch 770 : 0.073333633144231\n",
      "Loss after epoch 780 : 0.07303626341974251\n",
      "Loss after epoch 790 : 0.07274400041835886\n",
      "Loss after epoch 800 : 0.07245670682782633\n",
      "Loss after epoch 810 : 0.07217425066611263\n",
      "Loss after epoch 820 : 0.07189650487311183\n",
      "Loss after epoch 830 : 0.0716233468312592\n",
      "Loss after epoch 840 : 0.0713546579124356\n",
      "Loss after epoch 850 : 0.07109032312734942\n",
      "Loss after epoch 860 : 0.07083023089948491\n",
      "Loss after epoch 870 : 0.07057427293628568\n",
      "Loss after epoch 880 : 0.07032234415054814\n",
      "Loss after epoch 890 : 0.07007434259286474\n",
      "Loss after epoch 900 : 0.06983016937603914\n",
      "Loss after epoch 910 : 0.06958972859312886\n",
      "Loss after epoch 920 : 0.06935292724935438\n",
      "Loss after epoch 930 : 0.06911967524666263\n",
      "Loss after epoch 940 : 0.06888988547922771\n",
      "Loss after epoch 950 : 0.06866347411184075\n",
      "Loss after epoch 960 : 0.06844036109979748\n",
      "Loss after epoch 970 : 0.06822047093281342\n",
      "Loss after epoch 980 : 0.06800373341960982\n",
      "Loss after epoch 990 : 0.06779008411321616\n",
      "Loss after epoch 1001 : 0.06760039118329622\n"
     ]
    }
   ],
   "source": [
    "nn_tanh = HiddenOne(input_nodes = D, \n",
    "               output_nodes = K, \n",
    "               hidden_nodes = 2*M,\n",
    "               learning_rate = 0.01,\n",
    "               activation_hidden = tanh,\n",
    "                delta_stop = 1e-5,\n",
    "                patience = 5,)\n",
    "c = nn_tanh.run(X_train, y_train_cat, epochs=1000 )"
   ]
  },
  {
   "cell_type": "code",
   "execution_count": 851,
   "id": "e98dc1c7",
   "metadata": {},
   "outputs": [
    {
     "name": "stdout",
     "output_type": "stream",
     "text": [
      "Accuracy : 0.7867\n"
     ]
    }
   ],
   "source": [
    "acc = nn_tanh.evaluate(X_test, y_test)\n"
   ]
  },
  {
   "cell_type": "markdown",
   "id": "319143f1",
   "metadata": {},
   "source": [
    "### More hidden nodes => Faster learning\n",
    "2X hidden nodes = 2X learning"
   ]
  },
  {
   "cell_type": "code",
   "execution_count": 852,
   "id": "39e2bd0d",
   "metadata": {
    "collapsed": true
   },
   "outputs": [
    {
     "name": "stdout",
     "output_type": "stream",
     "text": [
      "Loss after epoch 10 : 0.1768686421578603\n",
      "Loss after epoch 20 : 0.1496912437462031\n",
      "Loss after epoch 30 : 0.13583368568823373\n",
      "Loss after epoch 40 : 0.12685158291716592\n",
      "Loss after epoch 50 : 0.12034212894110974\n",
      "Loss after epoch 60 : 0.11529615154308333\n",
      "Loss after epoch 70 : 0.11119942488119336\n",
      "Loss after epoch 80 : 0.10776107435545887\n",
      "Loss after epoch 90 : 0.10480530305644188\n",
      "Loss after epoch 100 : 0.10221926425090824\n",
      "Loss after epoch 110 : 0.09992576509578766\n",
      "Loss after epoch 120 : 0.09786903565317893\n",
      "Loss after epoch 130 : 0.09600721632390159\n",
      "Loss after epoch 140 : 0.0943081059081259\n",
      "Loss after epoch 150 : 0.09274651087502041\n",
      "Loss after epoch 160 : 0.09130245744484108\n",
      "Loss after epoch 170 : 0.08995992549071942\n",
      "Loss after epoch 180 : 0.0887059252038117\n",
      "Loss after epoch 190 : 0.08752981111536305\n",
      "Loss after epoch 200 : 0.08642276695041502\n",
      "Loss after epoch 210 : 0.0853774163385686\n",
      "Loss after epoch 220 : 0.08438752708130536\n",
      "Loss after epoch 230 : 0.08344778510653884\n",
      "Loss after epoch 240 : 0.08255362041599741\n",
      "Loss after epoch 250 : 0.08170107199693039\n",
      "Loss after epoch 260 : 0.08088668220027127\n",
      "Loss after epoch 270 : 0.08010741374302419\n",
      "Loss after epoch 280 : 0.0793605843871309\n",
      "Loss after epoch 290 : 0.07864381534983494\n",
      "Loss after epoch 300 : 0.07795498947450029\n",
      "Loss after epoch 310 : 0.07729221504440527\n",
      "Loss after epoch 320 : 0.07665379299857376\n",
      "Loss after epoch 330 : 0.07603818871341356\n",
      "Loss after epoch 340 : 0.07544400979805235\n",
      "Loss after epoch 350 : 0.07486998807751853\n",
      "Loss after epoch 360 : 0.07431496289768724\n",
      "Loss after epoch 370 : 0.07377786581063026\n",
      "Loss after epoch 380 : 0.07325770878491944\n",
      "Loss after epoch 390 : 0.0727535764786948\n",
      "Loss after epoch 400 : 0.07226462087531235\n",
      "Loss after epoch 410 : 0.07179005650762076\n",
      "Loss after epoch 420 : 0.07132915560127354\n",
      "Loss after epoch 430 : 0.07088124320724278\n",
      "Loss after epoch 440 : 0.07044569255343733\n",
      "Loss after epoch 450 : 0.07002192076392247\n",
      "Loss after epoch 460 : 0.06960938499367465\n",
      "Loss after epoch 470 : 0.06920757896510785\n",
      "Loss after epoch 480 : 0.0688160298645122\n",
      "Loss after epoch 490 : 0.06843429554786572\n",
      "Loss after epoch 500 : 0.06806196200698532\n",
      "Loss after epoch 510 : 0.06769864105423638\n",
      "Loss after epoch 520 : 0.06734396819471258\n",
      "Loss after epoch 530 : 0.0669976006668523\n",
      "Loss after epoch 540 : 0.06665921564343667\n",
      "Loss after epoch 550 : 0.06632850859250598\n",
      "Loss after epoch 560 : 0.06600519180041493\n",
      "Loss after epoch 570 : 0.06568899305672103\n",
      "Loss after epoch 580 : 0.0653796544937743\n",
      "Loss after epoch 590 : 0.0650769315648214\n",
      "Loss after epoch 600 : 0.0647805921361383\n",
      "Loss after epoch 610 : 0.06449041566449845\n",
      "Loss after epoch 620 : 0.06420619243367187\n",
      "Loss after epoch 630 : 0.06392772283285465\n",
      "Loss after epoch 640 : 0.06365481667295705\n",
      "Loss after epoch 650 : 0.06338729254812124\n",
      "Loss after epoch 660 : 0.06312497725467398\n",
      "Loss after epoch 670 : 0.06286770527643322\n",
      "Loss after epoch 680 : 0.06261531833673059\n",
      "Loss after epoch 690 : 0.06236766500870075\n",
      "Loss after epoch 700 : 0.06212460037018027\n",
      "Loss after epoch 710 : 0.06188598568893604\n",
      "Loss after epoch 720 : 0.06165168812657223\n",
      "Loss after epoch 730 : 0.06142158045331721\n",
      "Loss after epoch 740 : 0.06119554076948147\n",
      "Loss after epoch 750 : 0.06097345223209669\n",
      "Loss after epoch 760 : 0.06075520278711186\n",
      "Loss after epoch 770 : 0.060540684908753015\n",
      "Loss after epoch 780 : 0.0603297953484085\n",
      "Loss after epoch 790 : 0.06012243489570101\n",
      "Loss after epoch 800 : 0.05991850815420956\n",
      "Loss after epoch 810 : 0.05971792333361913\n",
      "Loss after epoch 820 : 0.05952059205904803\n",
      "Loss after epoch 830 : 0.05932642919717323\n",
      "Loss after epoch 840 : 0.05913535269781354\n",
      "Loss after epoch 850 : 0.058947283449013045\n",
      "Loss after epoch 860 : 0.058762145143454035\n",
      "Loss after epoch 870 : 0.05857986415414876\n",
      "Loss after epoch 880 : 0.05840036941769183\n",
      "Loss after epoch 890 : 0.05822359232376828\n",
      "Loss after epoch 900 : 0.058049466610005\n",
      "Loss after epoch 910 : 0.05787792826157432\n",
      "Loss after epoch 920 : 0.05770891541518556\n",
      "Loss after epoch 930 : 0.05754236826724766\n",
      "Loss after epoch 940 : 0.05737822898606184\n",
      "Loss after epoch 950 : 0.05721644162794217\n",
      "Loss after epoch 960 : 0.057056952057164295\n",
      "Loss after epoch 970 : 0.05689970786964134\n",
      "Loss after epoch 980 : 0.05674465832020976\n",
      "Loss after epoch 990 : 0.056591754253400385\n",
      "Loss after epoch 1001 : 0.05645593558288547\n"
     ]
    }
   ],
   "source": [
    "nn_tanh = HiddenOne(input_nodes = D, \n",
    "               output_nodes = K, \n",
    "               hidden_nodes = 4*M,\n",
    "               learning_rate = 0.01,\n",
    "               activation_hidden = tanh,\n",
    "                delta_stop = 1e-5,\n",
    "                patience = 5,)\n",
    "c = nn_tanh.run(X_train, y_train_cat, epochs=1000 )"
   ]
  },
  {
   "cell_type": "code",
   "execution_count": 853,
   "id": "b8ac008b",
   "metadata": {},
   "outputs": [
    {
     "name": "stdout",
     "output_type": "stream",
     "text": [
      "Accuracy : 0.8087\n"
     ]
    }
   ],
   "source": [
    "acc = nn_tanh.evaluate(X_test, y_test)\n"
   ]
  },
  {
   "cell_type": "markdown",
   "id": "8f53f325",
   "metadata": {},
   "source": [
    " Slightly better results, learning not that fast let's try relu before adding optimizers"
   ]
  },
  {
   "cell_type": "markdown",
   "id": "b34e6778",
   "metadata": {},
   "source": [
    "[Back to top](#Content:)\n",
    "\n",
    "<a id='part6.2'></a>\n",
    "## Relu"
   ]
  },
  {
   "cell_type": "code",
   "execution_count": 854,
   "id": "710cd770",
   "metadata": {
    "collapsed": true
   },
   "outputs": [
    {
     "name": "stdout",
     "output_type": "stream",
     "text": [
      "Loss after epoch 10 : 0.22090266196295236\n",
      "Loss after epoch 20 : 0.19523942278124612\n",
      "Loss after epoch 30 : 0.1841315866303666\n",
      "Loss after epoch 40 : 0.17746053111685306\n",
      "Loss after epoch 50 : 0.17263425961832415\n",
      "Loss after epoch 60 : 0.1688167680664316\n",
      "Loss after epoch 70 : 0.16562200664513124\n",
      "Loss after epoch 80 : 0.1628434081903318\n",
      "Loss after epoch 90 : 0.1603743470318354\n",
      "Loss after epoch 100 : 0.15813575456560658\n",
      "Loss after epoch 110 : 0.15606843318793037\n",
      "Loss after epoch 120 : 0.15413539092196019\n",
      "Loss after epoch 130 : 0.15230972958807631\n",
      "Loss after epoch 140 : 0.15056102913785943\n",
      "Loss after epoch 150 : 0.1488740647590752\n",
      "Loss after epoch 160 : 0.14724008855485587\n",
      "Loss after epoch 170 : 0.14565090588175914\n",
      "Loss after epoch 180 : 0.1441013395402311\n",
      "Loss after epoch 190 : 0.14259182558012873\n",
      "Loss after epoch 200 : 0.14112181406831384\n",
      "Loss after epoch 210 : 0.13969009529060336\n",
      "Loss after epoch 220 : 0.1382972423931227\n",
      "Loss after epoch 230 : 0.13693682308501795\n",
      "Loss after epoch 240 : 0.13560593262598894\n",
      "Loss after epoch 250 : 0.1343074739056616\n",
      "Loss after epoch 260 : 0.13304257964005772\n",
      "Loss after epoch 270 : 0.1318083590433974\n",
      "Loss after epoch 280 : 0.13060566788899935\n",
      "Loss after epoch 290 : 0.12943215881898\n",
      "Loss after epoch 300 : 0.12828724693310586\n",
      "Loss after epoch 310 : 0.1271668502243643\n",
      "Loss after epoch 320 : 0.12607113438212403\n",
      "Loss after epoch 330 : 0.12499906808479451\n",
      "Loss after epoch 340 : 0.12394900512585555\n",
      "Loss after epoch 350 : 0.1229218048363989\n",
      "Loss after epoch 360 : 0.1219158257531586\n",
      "Loss after epoch 370 : 0.12093082771135237\n",
      "Loss after epoch 380 : 0.1199654904309692\n",
      "Loss after epoch 390 : 0.11902062814518584\n",
      "Loss after epoch 400 : 0.11809673499453953\n",
      "Loss after epoch 410 : 0.11719255187128488\n",
      "Loss after epoch 420 : 0.11630847574105911\n",
      "Loss after epoch 430 : 0.11544481986030876\n",
      "Loss after epoch 440 : 0.11459952334427274\n",
      "Loss after epoch 450 : 0.11377308618055734\n",
      "Loss after epoch 460 : 0.11296476863206907\n",
      "Loss after epoch 470 : 0.1121742627492154\n",
      "Loss after epoch 480 : 0.11140136539681254\n",
      "Loss after epoch 490 : 0.11064599184118143\n",
      "Loss after epoch 500 : 0.10990767610601543\n",
      "Loss after epoch 510 : 0.10918603065782718\n",
      "Loss after epoch 520 : 0.1084809332560679\n",
      "Loss after epoch 530 : 0.10778959867113146\n",
      "Loss after epoch 540 : 0.10711239662358271\n",
      "Loss after epoch 550 : 0.10644816243444187\n",
      "Loss after epoch 560 : 0.10579684849336374\n",
      "Loss after epoch 570 : 0.10515782477055073\n",
      "Loss after epoch 580 : 0.10453184738864911\n",
      "Loss after epoch 590 : 0.10391695336583587\n",
      "Loss after epoch 600 : 0.10331365523236627\n",
      "Loss after epoch 610 : 0.10272241627533037\n",
      "Loss after epoch 620 : 0.10214387429825714\n",
      "Loss after epoch 630 : 0.10157635352361732\n",
      "Loss after epoch 640 : 0.10101907372341187\n",
      "Loss after epoch 650 : 0.10046980633621398\n",
      "Loss after epoch 660 : 0.09992936025631811\n",
      "Loss after epoch 670 : 0.09940003914041569\n",
      "Loss after epoch 680 : 0.09888061085298097\n",
      "Loss after epoch 690 : 0.09837032182634885\n",
      "Loss after epoch 700 : 0.0978691249453477\n",
      "Loss after epoch 710 : 0.09737629569475924\n",
      "Loss after epoch 720 : 0.09689087075800547\n",
      "Loss after epoch 730 : 0.09641199661227567\n",
      "Loss after epoch 740 : 0.09593995500034988\n",
      "Loss after epoch 750 : 0.09547572443319192\n",
      "Loss after epoch 760 : 0.09501847929733992\n",
      "Loss after epoch 770 : 0.0945676446587438\n",
      "Loss after epoch 780 : 0.09412284238906087\n",
      "Loss after epoch 790 : 0.09368431935983894\n",
      "Loss after epoch 800 : 0.09325086382752236\n",
      "Loss after epoch 810 : 0.0928229163103153\n",
      "Loss after epoch 820 : 0.09239998651350811\n",
      "Loss after epoch 830 : 0.0919819137256425\n",
      "Loss after epoch 840 : 0.09156826798012073\n",
      "Loss after epoch 850 : 0.09115813132094475\n",
      "Loss after epoch 860 : 0.09075122373045519\n",
      "Loss after epoch 870 : 0.09034767535736261\n",
      "Loss after epoch 880 : 0.08994688061205991\n",
      "Loss after epoch 890 : 0.08954777340816472\n",
      "Loss after epoch 900 : 0.08915115623244153\n",
      "Loss after epoch 910 : 0.08875655250427175\n",
      "Loss after epoch 920 : 0.08836392367614222\n",
      "Loss after epoch 930 : 0.08797342287458562\n",
      "Loss after epoch 940 : 0.08758453665585181\n",
      "Loss after epoch 950 : 0.08719752387125895\n",
      "Loss after epoch 960 : 0.08681289993906087\n",
      "Loss after epoch 970 : 0.0864305695535124\n",
      "Loss after epoch 980 : 0.08604973156698663\n",
      "Loss after epoch 990 : 0.08567111706052381\n",
      "Loss after epoch 1001 : 0.08533235345436108\n"
     ]
    }
   ],
   "source": [
    "nn_relu = HiddenOne(input_nodes = D, \n",
    "               output_nodes = K, \n",
    "               hidden_nodes = M,\n",
    "               learning_rate = 0.01,\n",
    "               activation_hidden = relu,\n",
    "                delta_stop = 1e-5,\n",
    "                patience = 5,)\n",
    "c = nn_relu.run(X_train, y_train_cat, epochs=1000 )"
   ]
  },
  {
   "cell_type": "code",
   "execution_count": 856,
   "id": "c3a85552",
   "metadata": {},
   "outputs": [
    {
     "name": "stdout",
     "output_type": "stream",
     "text": [
      "Accuracy : 0.7503\n"
     ]
    }
   ],
   "source": [
    "acc = nn_relu.evaluate(X_test, y_test)\n"
   ]
  },
  {
   "cell_type": "markdown",
   "id": "7829b393",
   "metadata": {},
   "source": [
    "Similar results to tanh, let's add hidden nodes and see what happens"
   ]
  },
  {
   "cell_type": "code",
   "execution_count": 857,
   "id": "f07f4346",
   "metadata": {
    "collapsed": true
   },
   "outputs": [
    {
     "name": "stdout",
     "output_type": "stream",
     "text": [
      "Loss after epoch 10 : 0.20999322813225482\n",
      "Loss after epoch 20 : 0.16621525188621342\n",
      "Loss after epoch 30 : 0.14329902067824313\n",
      "Loss after epoch 40 : 0.12870198180130324\n",
      "Loss after epoch 50 : 0.11832672042598538\n",
      "Loss after epoch 60 : 0.11044672544622539\n",
      "Loss after epoch 70 : 0.10420482189985736\n",
      "Loss after epoch 80 : 0.09912683063309624\n",
      "Loss after epoch 90 : 0.0949092299038056\n",
      "Loss after epoch 100 : 0.09133997121026016\n",
      "Loss after epoch 110 : 0.0882733975150196\n",
      "Loss after epoch 120 : 0.08560483915792877\n",
      "Loss after epoch 130 : 0.0832561327578845\n",
      "Loss after epoch 140 : 0.08116321210382554\n",
      "Loss after epoch 150 : 0.07928060696679286\n",
      "Loss after epoch 160 : 0.07757213931440257\n",
      "Loss after epoch 170 : 0.07601432521725095\n",
      "Loss after epoch 180 : 0.07458399309461819\n",
      "Loss after epoch 190 : 0.07326676932193549\n",
      "Loss after epoch 200 : 0.07205356699734393\n",
      "Loss after epoch 210 : 0.07092939149681263\n",
      "Loss after epoch 220 : 0.06988344304179005\n",
      "Loss after epoch 230 : 0.06891068379429008\n",
      "Loss after epoch 240 : 0.06800243629821691\n",
      "Loss after epoch 250 : 0.06715108665229196\n",
      "Loss after epoch 260 : 0.06634963788226204\n",
      "Loss after epoch 270 : 0.0655948169535663\n",
      "Loss after epoch 280 : 0.06488370225047552\n",
      "Loss after epoch 290 : 0.06421095629140897\n",
      "Loss after epoch 300 : 0.06357443154442967\n",
      "Loss after epoch 310 : 0.06297106078136225\n",
      "Loss after epoch 320 : 0.06239747716589233\n",
      "Loss after epoch 330 : 0.061850512296591414\n",
      "Loss after epoch 340 : 0.06132917719220682\n",
      "Loss after epoch 350 : 0.060832247089748985\n",
      "Loss after epoch 360 : 0.06035797951688438\n",
      "Loss after epoch 370 : 0.059904377975945354\n",
      "Loss after epoch 380 : 0.05946997005591431\n",
      "Loss after epoch 390 : 0.059053386717776046\n",
      "Loss after epoch 400 : 0.0586535185565746\n",
      "Loss after epoch 410 : 0.05826918040014603\n",
      "Loss after epoch 420 : 0.05789976512312447\n",
      "Loss after epoch 430 : 0.057544078729395924\n",
      "Loss after epoch 440 : 0.05720073388144488\n",
      "Loss after epoch 450 : 0.05686991656099373\n",
      "Loss after epoch 460 : 0.05655051525850738\n",
      "Loss after epoch 470 : 0.056241685470699646\n",
      "Loss after epoch 480 : 0.05594236735908761\n",
      "Loss after epoch 490 : 0.055651924587826265\n",
      "Loss after epoch 500 : 0.05537055716453745\n",
      "Loss after epoch 510 : 0.05509810976072097\n",
      "Loss after epoch 520 : 0.05483350125873447\n",
      "Loss after epoch 530 : 0.05457637127205065\n",
      "Loss after epoch 540 : 0.054326293887637316\n",
      "Loss after epoch 550 : 0.05408312987713889\n",
      "Loss after epoch 560 : 0.053846773139575595\n",
      "Loss after epoch 570 : 0.053616841849937404\n",
      "Loss after epoch 580 : 0.05339360018966934\n",
      "Loss after epoch 590 : 0.053177062608005275\n",
      "Loss after epoch 600 : 0.052966981938444194\n",
      "Loss after epoch 610 : 0.05276287330456872\n",
      "Loss after epoch 620 : 0.05256484461168967\n",
      "Loss after epoch 630 : 0.0523723726609366\n",
      "Loss after epoch 640 : 0.05218537004655258\n",
      "Loss after epoch 650 : 0.05200338506065297\n",
      "Loss after epoch 660 : 0.0518256781174227\n",
      "Loss after epoch 670 : 0.051652594929976405\n",
      "Loss after epoch 680 : 0.05148405488554234\n",
      "Loss after epoch 690 : 0.05132035052602539\n",
      "Loss after epoch 700 : 0.05116064765409251\n",
      "Loss after epoch 710 : 0.05100466649885098\n",
      "Loss after epoch 720 : 0.05085217187112786\n",
      "Loss after epoch 730 : 0.05070339986586884\n",
      "Loss after epoch 740 : 0.050558312120043684\n",
      "Loss after epoch 750 : 0.05041691814812104\n",
      "Loss after epoch 760 : 0.050278655192809586\n",
      "Loss after epoch 770 : 0.05014336014099392\n",
      "Loss after epoch 780 : 0.050010927996006684\n",
      "Loss after epoch 790 : 0.049881326215012525\n",
      "Loss after epoch 800 : 0.04975439706104884\n",
      "Loss after epoch 810 : 0.049629631598041714\n",
      "Loss after epoch 820 : 0.04950695631566017\n",
      "Loss after epoch 830 : 0.049386383560165184\n",
      "Loss after epoch 840 : 0.04926780838196524\n",
      "Loss after epoch 850 : 0.049151337647006424\n",
      "Loss after epoch 860 : 0.04903683155284055\n",
      "Loss after epoch 870 : 0.048924233965957735\n",
      "Loss after epoch 880 : 0.04881334123915737\n",
      "Loss after epoch 890 : 0.0487044144000415\n",
      "Loss after epoch 900 : 0.04859755936177264\n",
      "Loss after epoch 910 : 0.04849251747187844\n",
      "Loss after epoch 920 : 0.048389381313359424\n",
      "Loss after epoch 930 : 0.048288074870867746\n",
      "Loss after epoch 940 : 0.04818852291781872\n",
      "Loss after epoch 950 : 0.04809051338672313\n",
      "Loss after epoch 960 : 0.04799421212090101\n",
      "Loss after epoch 970 : 0.04789954688590069\n",
      "Loss after epoch 980 : 0.047806509477423605\n",
      "Loss after epoch 990 : 0.047714849873844216\n",
      "Loss after epoch 1001 : 0.04763351629522698\n"
     ]
    }
   ],
   "source": [
    "nn_relu = HiddenOne(input_nodes = D, \n",
    "               output_nodes = K, \n",
    "               hidden_nodes = 4*M,\n",
    "               learning_rate = 0.01,\n",
    "               activation_hidden = relu,\n",
    "                delta_stop = 1e-5,\n",
    "                patience = 5,)\n",
    "c = nn_relu.run(X_train, y_train_cat, epochs=1000 )"
   ]
  },
  {
   "cell_type": "code",
   "execution_count": 858,
   "id": "61774254",
   "metadata": {},
   "outputs": [
    {
     "name": "stdout",
     "output_type": "stream",
     "text": [
      "Accuracy : 0.8209\n"
     ]
    }
   ],
   "source": [
    "acc = nn_relu.evaluate(X_test, y_test)\n"
   ]
  },
  {
   "cell_type": "markdown",
   "id": "2651c2a6",
   "metadata": {},
   "source": [
    "Better accuracy than tanh, lets try optimizers"
   ]
  },
  {
   "cell_type": "markdown",
   "id": "2c99bf01",
   "metadata": {},
   "source": [
    "[Back to top](#Content:)\n",
    "\n",
    "<a id='part6.3'></a>\n",
    "## Minibatch"
   ]
  },
  {
   "cell_type": "markdown",
   "id": "bda32dbb",
   "metadata": {},
   "source": [
    "## Tanh\n",
    "\n",
    "Dropping sigmoid as tanh is almost always better"
   ]
  },
  {
   "cell_type": "code",
   "execution_count": 859,
   "id": "f9090b6a",
   "metadata": {
    "collapsed": true
   },
   "outputs": [
    {
     "name": "stdout",
     "output_type": "stream",
     "text": [
      "Loss after epoch 10 : 0.05185703938220312\n",
      "Loss after epoch 20 : 0.04471078186022689\n",
      "Loss after epoch 30 : 0.041428303200184785\n",
      "Loss after epoch 40 : 0.03939626268286578\n",
      "Loss after epoch 50 : 0.037954493371327516\n",
      "Loss after epoch 60 : 0.0368417009344809\n",
      "Loss after epoch 70 : 0.03592997290066909\n",
      "Loss after epoch 80 : 0.03515323775305513\n",
      "Loss after epoch 90 : 0.03447133335275145\n",
      "Loss after epoch 100 : 0.03385885670744845\n",
      "Loss after epoch 110 : 0.033305375640224975\n",
      "Loss after epoch 120 : 0.03279715846604191\n",
      "Loss after epoch 130 : 0.0323252801148695\n",
      "Loss after epoch 140 : 0.03188310428444356\n",
      "Loss after epoch 150 : 0.03147076768105533\n",
      "Loss after epoch 160 : 0.031083000505919573\n",
      "Loss after epoch 170 : 0.030716833912471483\n",
      "Loss after epoch 180 : 0.030369887815975154\n",
      "Loss after epoch 190 : 0.03004014176796332\n",
      "Loss after epoch 200 : 0.029725845380103078\n",
      "Loss after epoch 210 : 0.029425524437904842\n",
      "Loss after epoch 220 : 0.02913772080378199\n",
      "Loss after epoch 230 : 0.02886090643554675\n",
      "Loss after epoch 240 : 0.028595676854613946\n",
      "Loss after epoch 250 : 0.028340918159051348\n",
      "Loss after epoch 260 : 0.028095682817168705\n",
      "Loss after epoch 270 : 0.027859205329726182\n",
      "Loss after epoch 280 : 0.027630789903802844\n",
      "Loss after epoch 290 : 0.027409784455094958\n",
      "Loss after epoch 300 : 0.027195288842105696\n",
      "Loss after epoch 310 : 0.026987026173189873\n",
      "Loss after epoch 320 : 0.026785816930689647\n",
      "Loss after epoch 330 : 0.026590455838755172\n",
      "Loss after epoch 340 : 0.026400444708405777\n",
      "Loss after epoch 350 : 0.026215664857775173\n",
      "Loss after epoch 360 : 0.026036046867623727\n",
      "Loss after epoch 370 : 0.02586227644589221\n",
      "Loss after epoch 380 : 0.025693431175843946\n",
      "Loss after epoch 390 : 0.02552912382153214\n",
      "Loss after epoch 400 : 0.02536918984764279\n",
      "Loss after epoch 410 : 0.025213421996434733\n",
      "Loss after epoch 420 : 0.02506123661288793\n",
      "Loss after epoch 430 : 0.024913184791523987\n",
      "Loss after epoch 440 : 0.02476888837793714\n",
      "Loss after epoch 450 : 0.02462801060952916\n",
      "Loss after epoch 460 : 0.0244903547874982\n",
      "Loss after epoch 470 : 0.02435581418757769\n",
      "Loss after epoch 480 : 0.024224289995290128\n",
      "Loss after epoch 490 : 0.024095670676648053\n",
      "Loss after epoch 500 : 0.023969818914531666\n",
      "Loss after epoch 510 : 0.02384659123683394\n",
      "Loss after epoch 520 : 0.023725851536277175\n",
      "Loss after epoch 530 : 0.023607469078975363\n",
      "Loss after epoch 540 : 0.02349131531737613\n",
      "Loss after epoch 550 : 0.02337726218048874\n",
      "Loss after epoch 560 : 0.02326518421541372\n",
      "Loss after epoch 570 : 0.02315498119681816\n",
      "Loss after epoch 580 : 0.02304661198483635\n",
      "Loss after epoch 590 : 0.02294004610562487\n",
      "Loss after epoch 600 : 0.022835221123441923\n",
      "Loss after epoch 610 : 0.022732064948268824\n",
      "Loss after epoch 620 : 0.022630508028907856\n",
      "Loss after epoch 630 : 0.022530486879416514\n",
      "Loss after epoch 640 : 0.022431944107153563\n",
      "Loss after epoch 650 : 0.022334818899268107\n",
      "Loss after epoch 660 : 0.022239024652626362\n",
      "Loss after epoch 670 : 0.022144473856762915\n",
      "Loss after epoch 680 : 0.022051139631608877\n",
      "Loss after epoch 690 : 0.02195874152065588\n",
      "Loss after epoch 700 : 0.021867349375400934\n",
      "Loss after epoch 710 : 0.02177766099627336\n",
      "Loss after epoch 720 : 0.02168951529855521\n",
      "Loss after epoch 730 : 0.02160273509532613\n",
      "Loss after epoch 740 : 0.021517222695643046\n",
      "Loss after epoch 750 : 0.021432904806031237\n",
      "Loss after epoch 760 : 0.02134971965514246\n",
      "Loss after epoch 770 : 0.021267619294870244\n",
      "Loss after epoch 780 : 0.021186572653434762\n",
      "Loss after epoch 790 : 0.021106560036128454\n",
      "Loss after epoch 800 : 0.02102756733853354\n",
      "Loss after epoch 810 : 0.020949581634172328\n",
      "Loss after epoch 820 : 0.020872583253774488\n",
      "Loss after epoch 830 : 0.020796544334284975\n",
      "Loss after epoch 840 : 0.02072143358150254\n",
      "Loss after epoch 850 : 0.020647220010783444\n",
      "Loss after epoch 860 : 0.02057387475768823\n",
      "Loss after epoch 870 : 0.02050137224791996\n",
      "Loss after epoch 880 : 0.020429690997907972\n",
      "Loss after epoch 890 : 0.0203588137524467\n",
      "Loss after epoch 900 : 0.020288726670880948\n",
      "Loss after epoch 910 : 0.020219417648234657\n",
      "Loss after epoch 920 : 0.020150874596947504\n",
      "Loss after epoch 930 : 0.020083084942646726\n",
      "Loss after epoch 940 : 0.020016036374617394\n",
      "Loss after epoch 950 : 0.01994971618880282\n",
      "Loss after epoch 960 : 0.019884111525953638\n",
      "Loss after epoch 970 : 0.019819219277674858\n",
      "Loss after epoch 980 : 0.01975503421987976\n",
      "Loss after epoch 990 : 0.0196915436902402\n",
      "Loss after epoch 1001 : 0.01963498524387584\n"
     ]
    }
   ],
   "source": [
    "nn_tanh = HiddenOne(input_nodes = D, \n",
    "               output_nodes = K, \n",
    "               hidden_nodes = 4*M,\n",
    "               learning_rate = 0.01,\n",
    "               activation_hidden = tanh,\n",
    "                optimizer ='minibatch',\n",
    "                delta_stop = 1e-5,\n",
    "                patience = 5,)\n",
    "c = nn_tanh.run(X_train, y_train_cat, epochs=1000 )"
   ]
  },
  {
   "cell_type": "code",
   "execution_count": 860,
   "id": "11e669e8",
   "metadata": {},
   "outputs": [
    {
     "name": "stdout",
     "output_type": "stream",
     "text": [
      "Accuracy : 0.8606\n"
     ]
    }
   ],
   "source": [
    "acc = nn_tanh.evaluate(X_test, y_test)\n"
   ]
  },
  {
   "cell_type": "markdown",
   "id": "bca28eba",
   "metadata": {},
   "source": [
    "Better accuracy than normal tanh ANN but slow to train, let's do the same with relu"
   ]
  },
  {
   "cell_type": "code",
   "execution_count": 862,
   "id": "3d560331",
   "metadata": {
    "collapsed": true
   },
   "outputs": [
    {
     "name": "stdout",
     "output_type": "stream",
     "text": [
      "Loss after epoch 10 : 0.04551065167444922\n",
      "Loss after epoch 20 : 0.0407957885722934\n",
      "Loss after epoch 30 : 0.03838111070194218\n",
      "Loss after epoch 40 : 0.036775252491078436\n",
      "Loss after epoch 50 : 0.03557719780359323\n",
      "Loss after epoch 60 : 0.034622886847097856\n",
      "Loss after epoch 70 : 0.03382450247829172\n",
      "Loss after epoch 80 : 0.033132708439367664\n",
      "Loss after epoch 90 : 0.032526286488784556\n",
      "Loss after epoch 100 : 0.0319863336788978\n",
      "Loss after epoch 110 : 0.03149484703424328\n",
      "Loss after epoch 120 : 0.03105192804294003\n",
      "Loss after epoch 130 : 0.030643495854840812\n",
      "Loss after epoch 140 : 0.03026251351529908\n",
      "Loss after epoch 150 : 0.029904785164562703\n",
      "Loss after epoch 160 : 0.029571393926833313\n",
      "Loss after epoch 170 : 0.029257107141883266\n",
      "Loss after epoch 180 : 0.02896193196497473\n",
      "Loss after epoch 190 : 0.02868209253011767\n",
      "Loss after epoch 200 : 0.028415440003546524\n",
      "Loss after epoch 210 : 0.028158692600169257\n",
      "Loss after epoch 220 : 0.027913776948015622\n",
      "Loss after epoch 230 : 0.02767899804118269\n",
      "Loss after epoch 240 : 0.027454146087506556\n",
      "Loss after epoch 250 : 0.027236032889716783\n",
      "Loss after epoch 260 : 0.027026077748524075\n",
      "Loss after epoch 270 : 0.02682130128315319\n",
      "Loss after epoch 280 : 0.026624301034773618\n",
      "Loss after epoch 290 : 0.026434763688538344\n",
      "Loss after epoch 300 : 0.026251224883640543\n",
      "Loss after epoch 310 : 0.026073894724575625\n",
      "Loss after epoch 320 : 0.025899799241725384\n",
      "Loss after epoch 330 : 0.025729862647582806\n",
      "Loss after epoch 340 : 0.02556590635652637\n",
      "Loss after epoch 350 : 0.025405535989997657\n",
      "Loss after epoch 360 : 0.02525086667422398\n",
      "Loss after epoch 370 : 0.025098162061172137\n",
      "Loss after epoch 380 : 0.02495148190019649\n",
      "Loss after epoch 390 : 0.02480879222202942\n",
      "Loss after epoch 400 : 0.024668939228146607\n",
      "Loss after epoch 410 : 0.024532396748846278\n",
      "Loss after epoch 420 : 0.024400271523632857\n",
      "Loss after epoch 430 : 0.0242725057368106\n",
      "Loss after epoch 440 : 0.024147512869711115\n",
      "Loss after epoch 450 : 0.024024285352522604\n",
      "Loss after epoch 460 : 0.023902984126855792\n",
      "Loss after epoch 470 : 0.02378486854249039\n",
      "Loss after epoch 480 : 0.023669207406098885\n",
      "Loss after epoch 490 : 0.02355509165822318\n",
      "Loss after epoch 500 : 0.023441401615503916\n",
      "Loss after epoch 510 : 0.02333152564413214\n",
      "Loss after epoch 520 : 0.023223221357183483\n",
      "Loss after epoch 530 : 0.02311755524858084\n",
      "Loss after epoch 540 : 0.02301459583313574\n",
      "Loss after epoch 550 : 0.022911083996843638\n",
      "Loss after epoch 560 : 0.022809858774939292\n",
      "Loss after epoch 570 : 0.022710329340468932\n",
      "Loss after epoch 580 : 0.02261094676564882\n",
      "Loss after epoch 590 : 0.022512717435238982\n",
      "Loss after epoch 600 : 0.02241675982552449\n",
      "Loss after epoch 610 : 0.0223220742504408\n",
      "Loss after epoch 620 : 0.022230131313682677\n",
      "Loss after epoch 630 : 0.022138249033676796\n",
      "Loss after epoch 640 : 0.022048393659476893\n",
      "Loss after epoch 650 : 0.021960213072873474\n",
      "Loss after epoch 660 : 0.02187303261438038\n",
      "Loss after epoch 670 : 0.021787804208156965\n",
      "Loss after epoch 680 : 0.02170213822951107\n",
      "Loss after epoch 690 : 0.02161792418390765\n",
      "Loss after epoch 700 : 0.02153638244320312\n",
      "Loss after epoch 710 : 0.02145449350409452\n",
      "Loss after epoch 720 : 0.02137465334888805\n",
      "Loss after epoch 730 : 0.02129599878195374\n",
      "Loss after epoch 740 : 0.021218077749096367\n",
      "Loss after epoch 750 : 0.021141587941134722\n",
      "Loss after epoch 760 : 0.021064943944654455\n",
      "Loss after epoch 770 : 0.020987981828182543\n",
      "Loss after epoch 780 : 0.020913132214916436\n",
      "Loss after epoch 790 : 0.020840350952735818\n",
      "Loss after epoch 800 : 0.02076649394403128\n",
      "Loss after epoch 810 : 0.02069556337245528\n",
      "Loss after epoch 820 : 0.020621711880931287\n",
      "Loss after epoch 830 : 0.020550683603560223\n",
      "Loss after epoch 840 : 0.020480765539506698\n",
      "Loss after epoch 850 : 0.020410822395975668\n",
      "Loss after epoch 860 : 0.020342327818281266\n",
      "Loss after epoch 870 : 0.020275347520219745\n",
      "Loss after epoch 880 : 0.020208366708695857\n",
      "Loss after epoch 890 : 0.020142946787226446\n",
      "Loss after epoch 900 : 0.020077075910310223\n",
      "Loss after epoch 910 : 0.020014008288114733\n",
      "Loss after epoch 920 : 0.019950128858518587\n",
      "Loss after epoch 930 : 0.019887101935436354\n",
      "Loss after epoch 940 : 0.01982468708537441\n",
      "Loss after epoch 950 : 0.019763603913067158\n",
      "Loss after epoch 960 : 0.019703965211797486\n",
      "Loss after epoch 970 : 0.019644761000242938\n",
      "Loss after epoch 980 : 0.01958537095089791\n",
      "Loss after epoch 990 : 0.019527885636146207\n",
      "Loss after epoch 1001 : 0.01947754674898345\n"
     ]
    }
   ],
   "source": [
    "nn_relu = HiddenOne(input_nodes = D, \n",
    "               output_nodes = K, \n",
    "               hidden_nodes = 4*M,\n",
    "               learning_rate = 0.01,\n",
    "               activation_hidden = relu,\n",
    "                optimizer ='minibatch',\n",
    "                delta_stop = 1e-5,\n",
    "                patience = 5,)\n",
    "c = nn_relu.run(X_train, y_train_cat, epochs=1000 )"
   ]
  },
  {
   "cell_type": "code",
   "execution_count": 863,
   "id": "bffaa79e",
   "metadata": {},
   "outputs": [
    {
     "name": "stdout",
     "output_type": "stream",
     "text": [
      "Accuracy : 0.8633\n"
     ]
    }
   ],
   "source": [
    "acc = nn_relu.evaluate(X_test, y_test)\n"
   ]
  },
  {
   "cell_type": "markdown",
   "id": "ead8a096",
   "metadata": {},
   "source": [
    "Similar to tanh with mini batch, lets try Adam"
   ]
  },
  {
   "cell_type": "markdown",
   "id": "8ad0148d",
   "metadata": {},
   "source": [
    "[Back to top](#Content:)\n",
    "\n",
    "<a id='part6.4'></a>\n",
    "## Adam"
   ]
  },
  {
   "cell_type": "markdown",
   "id": "36331021",
   "metadata": {},
   "source": [
    "### tanh"
   ]
  },
  {
   "cell_type": "code",
   "execution_count": 867,
   "id": "c4f8768e",
   "metadata": {
    "collapsed": true
   },
   "outputs": [
    {
     "name": "stdout",
     "output_type": "stream",
     "text": [
      "Loss after epoch 10 : 0.07540961550600114\n",
      "Loss after epoch 20 : 0.06379622132602146\n",
      "Loss after epoch 30 : 0.05743046067665448\n",
      "Loss after epoch 40 : 0.05362365589356266\n",
      "Loss after epoch 50 : 0.051076798614497244\n",
      "Loss after epoch 60 : 0.04932787259640259\n",
      "Loss after epoch 70 : 0.04797701415674386\n",
      "Loss after epoch 80 : 0.04695245753975253\n",
      "Loss after epoch 90 : 0.046065043356619\n",
      "Loss after epoch 100 : 0.04532642482701896\n",
      "Loss after epoch 110 : 0.04465664309412634\n",
      "Loss after epoch 120 : 0.04404162733662966\n",
      "Loss after epoch 130 : 0.0434748116273695\n",
      "Loss after epoch 140 : 0.04295821380851785\n",
      "Loss after epoch 150 : 0.04251021472014239\n",
      "Loss after epoch 160 : 0.04208423235509456\n",
      "Loss after epoch 170 : 0.04169605805435618\n",
      "Loss after epoch 180 : 0.041331207668652475\n",
      "Loss after epoch 190 : 0.04098103546277455\n",
      "Loss after epoch 200 : 0.04065304416061686\n",
      "Loss after epoch 210 : 0.04034359088412875\n",
      "Loss after epoch 220 : 0.04005377867437489\n",
      "Loss after epoch 230 : 0.03977123106613451\n",
      "Loss after epoch 240 : 0.039499904568372116\n",
      "Loss after epoch 250 : 0.03924996385952121\n",
      "Loss after epoch 260 : 0.03902828066600092\n",
      "Loss after epoch 270 : 0.03880960303050625\n",
      "Loss after epoch 280 : 0.03860933114302857\n",
      "Loss after epoch 290 : 0.03840454206810971\n",
      "Loss after epoch 301 : 0.038223659247277025\n"
     ]
    }
   ],
   "source": [
    "nn_tanh = HiddenOne(input_nodes = D, \n",
    "               output_nodes = K, \n",
    "               hidden_nodes = 4*M,\n",
    "               learning_rate = 0.01,\n",
    "               activation_hidden = tanh,\n",
    "                optimizer ='adam',\n",
    "                delta_stop = 1e-4,\n",
    "                patience = 5,)\n",
    "c = nn_tanh.run(X_train, y_train_cat, epochs=300 )"
   ]
  },
  {
   "cell_type": "code",
   "execution_count": 868,
   "id": "d51c7dc2",
   "metadata": {},
   "outputs": [
    {
     "name": "stdout",
     "output_type": "stream",
     "text": [
      "Accuracy : 0.8294\n"
     ]
    }
   ],
   "source": [
    "acc = nn_tanh.evaluate(X_test, y_test)\n"
   ]
  },
  {
   "cell_type": "markdown",
   "id": "90eb22e7",
   "metadata": {},
   "source": [
    " Faster to train, lets see relu"
   ]
  },
  {
   "cell_type": "markdown",
   "id": "e9d8fa7b",
   "metadata": {},
   "source": [
    "### Relu"
   ]
  },
  {
   "cell_type": "code",
   "execution_count": 871,
   "id": "b7cdc8c5",
   "metadata": {
    "collapsed": true
   },
   "outputs": [
    {
     "name": "stdout",
     "output_type": "stream",
     "text": [
      "Loss after epoch 10 : 0.1833568634839161\n",
      "Loss after epoch 20 : 0.10212137958706662\n",
      "Loss after epoch 30 : 0.06857828516646716\n",
      "Loss after epoch 40 : 0.05480903830273192\n",
      "Loss after epoch 50 : 0.04886009451627954\n",
      "Loss after epoch 60 : 0.04534392041862924\n",
      "Loss after epoch 70 : 0.042973871754454086\n",
      "Loss after epoch 80 : 0.041385505327800685\n",
      "Loss after epoch 90 : 0.04019432291581741\n",
      "Loss after epoch 100 : 0.039235811596445576\n",
      "Loss after epoch 110 : 0.03843753377871331\n",
      "Loss after epoch 120 : 0.03775150697198504\n",
      "Loss after epoch 130 : 0.037152268159316826\n",
      "Loss after epoch 140 : 0.03661478933500159\n",
      "Loss after epoch 150 : 0.03612215125704253\n",
      "Loss after epoch 160 : 0.03566968200889436\n",
      "Loss after epoch 170 : 0.03524993006066657\n",
      "Loss after epoch 180 : 0.03485311856834381\n",
      "Loss after epoch 190 : 0.03447427974880276\n",
      "Loss after epoch 200 : 0.034115324281767216\n",
      "Loss after epoch 210 : 0.03377870478865493\n",
      "Loss after epoch 220 : 0.03346214536007906\n",
      "Loss after epoch 230 : 0.0331675649158025\n",
      "Loss after epoch 240 : 0.03289133896151734\n",
      "Loss after epoch 250 : 0.032633904725833364\n",
      "Loss after epoch 260 : 0.03239306258032296\n",
      "Loss after epoch 270 : 0.032164263399240806\n",
      "Loss after epoch 280 : 0.03194279605134301\n",
      "Loss after epoch 290 : 0.031729895309850036\n",
      "Loss after epoch 301 : 0.03154625930612474\n"
     ]
    }
   ],
   "source": [
    "nn_relu = HiddenOne(input_nodes = D, \n",
    "               output_nodes = K, \n",
    "               hidden_nodes = 4*M,\n",
    "               learning_rate = 0.01,\n",
    "               activation_hidden = relu,\n",
    "                optimizer ='adam',\n",
    "                delta_stop = 1e-4,\n",
    "                patience = 5,)\n",
    "c = nn_relu.run(X_train, y_train_cat, epochs=300 )"
   ]
  },
  {
   "cell_type": "code",
   "execution_count": 872,
   "id": "69ad19c2",
   "metadata": {},
   "outputs": [
    {
     "name": "stdout",
     "output_type": "stream",
     "text": [
      "Accuracy : 0.8574\n"
     ]
    }
   ],
   "source": [
    "acc = nn_relu.evaluate(X_test, y_test)\n"
   ]
  },
  {
   "cell_type": "markdown",
   "id": "09459ecc",
   "metadata": {},
   "source": [
    "Better accuracy with fewer epochs"
   ]
  },
  {
   "cell_type": "markdown",
   "id": "bce33896",
   "metadata": {},
   "source": [
    "[Back to top](#Content:)\n",
    "\n",
    "<a id='part6.5'></a>\n",
    "## Adam minibatch"
   ]
  },
  {
   "cell_type": "markdown",
   "id": "c94019eb",
   "metadata": {},
   "source": [
    "### relu"
   ]
  },
  {
   "cell_type": "code",
   "execution_count": 956,
   "id": "e0a896b8",
   "metadata": {},
   "outputs": [
    {
     "name": "stdout",
     "output_type": "stream",
     "text": [
      "Loss after epoch 10 : 0.04755057027296001\n",
      "Loss after epoch 20 : 0.04327890265109075\n",
      "Loss after epoch 30 : 0.04231382606405085\n",
      "Loss after epoch 40 : 0.04181135906903604\n",
      "Loss after epoch 50 : 0.04164756719636596\n",
      "Loss after epoch 60 : 0.04155841421945309\n",
      "Loss after epoch 70 : 0.04132807760480975\n",
      "Loss after epoch 80 : 0.04106785263355706\n",
      "Loss after epoch 90 : 0.04089326358160141\n",
      "Early stop at epoch 99, the cost is : 0.04085803353321501\n"
     ]
    }
   ],
   "source": [
    "nn_relu = HiddenOne(input_nodes = D, \n",
    "               output_nodes = K, \n",
    "               hidden_nodes = M,\n",
    "               learning_rate = 0.01,\n",
    "               activation_hidden = relu,\n",
    "                optimizer ='mini_adam',\n",
    "                delta_stop = 1e-3,\n",
    "                patience = 5,)\n",
    "c = nn_relu.run(X_train, y_train_cat, epochs=500 )"
   ]
  },
  {
   "cell_type": "code",
   "execution_count": 957,
   "id": "46157077",
   "metadata": {},
   "outputs": [
    {
     "name": "stdout",
     "output_type": "stream",
     "text": [
      "Test set accuracy\n",
      "Accuracy : 0.8245\n",
      "-------------------\n",
      "Train set accuracy\n",
      "Accuracy : 0.8541166666666666\n"
     ]
    }
   ],
   "source": [
    "# Test set \n",
    "print('Test set accuracy')\n",
    "acc = nn_relu.evaluate(X_test, y_test)\n",
    "print('-------------------')\n",
    "# Train set \n",
    "print('Train set accuracy')\n",
    "acc = nn_relu.evaluate(X_train, y_train)\n"
   ]
  },
  {
   "cell_type": "code",
   "execution_count": 958,
   "id": "a9970e77",
   "metadata": {},
   "outputs": [
    {
     "name": "stdout",
     "output_type": "stream",
     "text": [
      "Loss after epoch 10 : 0.04092390210424985\n",
      "Loss after epoch 20 : 0.04074135475133304\n",
      "Loss after epoch 30 : 0.0405719678707483\n",
      "Loss after epoch 40 : 0.040418121244498936\n",
      "Loss after epoch 51 : 0.04029139688548351\n"
     ]
    }
   ],
   "source": [
    "c = nn_relu.run(X_train, y_train_cat, epochs=50 )"
   ]
  },
  {
   "cell_type": "code",
   "execution_count": 959,
   "id": "0f034ca3",
   "metadata": {},
   "outputs": [
    {
     "name": "stdout",
     "output_type": "stream",
     "text": [
      "Test set accuracy\n",
      "Accuracy : 0.822\n",
      "-------------------\n",
      "Train set accuracy\n",
      "Accuracy : 0.855\n"
     ]
    }
   ],
   "source": [
    "# Test set \n",
    "print('Test set accuracy')\n",
    "acc = nn_relu.evaluate(X_test, y_test)\n",
    "print('-------------------')\n",
    "# Train set \n",
    "print('Train set accuracy')\n",
    "acc = nn_relu.evaluate(X_train, y_train)\n"
   ]
  },
  {
   "cell_type": "markdown",
   "id": "73b502bb",
   "metadata": {},
   "source": [
    " More layers"
   ]
  },
  {
   "cell_type": "code",
   "execution_count": 962,
   "id": "42210667",
   "metadata": {
    "collapsed": true
   },
   "outputs": [
    {
     "name": "stdout",
     "output_type": "stream",
     "text": [
      "Loss after epoch 10 : 0.03472696961272601\n",
      "Loss after epoch 20 : 0.032796321736945994\n",
      "Loss after epoch 30 : 0.031645961504183084\n",
      "Loss after epoch 40 : 0.03120391811263395\n",
      "Loss after epoch 50 : 0.030212387438725192\n",
      "Loss after epoch 60 : 0.03045856186203996\n",
      "Loss after epoch 70 : 0.02973332469236334\n",
      "Loss after epoch 80 : 0.029881910540594494\n",
      "Loss after epoch 90 : 0.02977689718864881\n",
      "Loss after epoch 100 : 0.02922987930669251\n",
      "Loss after epoch 110 : 0.02936987049656084\n",
      "Loss after epoch 120 : 0.029876535298550767\n",
      "Loss after epoch 130 : 0.029766534097635168\n",
      "Loss after epoch 140 : 0.028186863173783074\n",
      "Loss after epoch 150 : 0.028334491063287365\n"
     ]
    },
    {
     "name": "stderr",
     "output_type": "stream",
     "text": [
      "/Users/baraa/opt/anaconda3/envs/tf/lib/python3.7/site-packages/ipykernel_launcher.py:11: RuntimeWarning: divide by zero encountered in log\n",
      "  # This is added back by InteractiveShellApp.init_path()\n",
      "/Users/baraa/opt/anaconda3/envs/tf/lib/python3.7/site-packages/ipykernel_launcher.py:11: RuntimeWarning: invalid value encountered in multiply\n",
      "  # This is added back by InteractiveShellApp.init_path()\n"
     ]
    },
    {
     "name": "stdout",
     "output_type": "stream",
     "text": [
      "Loss after epoch 160 : nan\n",
      "Loss after epoch 170 : 0.02859773052166804\n",
      "Loss after epoch 180 : 0.02850909790568509\n",
      "Loss after epoch 190 : 0.028806619402263575\n",
      "Loss after epoch 201 : nan\n"
     ]
    }
   ],
   "source": [
    "nn_relu = HiddenOne(input_nodes = D, \n",
    "               output_nodes = K, \n",
    "               hidden_nodes = 2*M,\n",
    "               learning_rate = 0.01,\n",
    "               activation_hidden = relu,\n",
    "                optimizer ='mini_adam',\n",
    "                delta_stop = 1e-4,\n",
    "                patience = 5,)\n",
    "c = nn_relu.run(X_train, y_train_cat, epochs=200 )"
   ]
  },
  {
   "cell_type": "code",
   "execution_count": 963,
   "id": "fdc71293",
   "metadata": {},
   "outputs": [
    {
     "name": "stdout",
     "output_type": "stream",
     "text": [
      "Test set accuracy\n",
      "Accuracy : 0.8403\n",
      "-------------------\n",
      "Train set accuracy\n",
      "Accuracy : 0.8896833333333334\n"
     ]
    }
   ],
   "source": [
    "# Test set \n",
    "print('Test set accuracy')\n",
    "acc = nn_relu.evaluate(X_test, y_test)\n",
    "print('-------------------')\n",
    "# Train set \n",
    "print('Train set accuracy')\n",
    "acc = nn_relu.evaluate(X_train, y_train)\n"
   ]
  },
  {
   "cell_type": "markdown",
   "id": "c3ee0ac8",
   "metadata": {},
   "source": [
    "[Back to top](#Content:)\n",
    "\n",
    "\n",
    "<a id='part7'></a>\n",
    "\n",
    "## Part 7 -  Fashion MNIST with 2 hidden layers\n"
   ]
  },
  {
   "cell_type": "markdown",
   "id": "fe8ddf74",
   "metadata": {},
   "source": [
    "[Back to top](#Content:)\n",
    "\n",
    "<a id='part7.1'></a>\n",
    "## Sigmoid and tanh"
   ]
  },
  {
   "cell_type": "markdown",
   "id": "07f0a493",
   "metadata": {},
   "source": [
    "### sigmoid"
   ]
  },
  {
   "cell_type": "code",
   "execution_count": 879,
   "id": "d05d2872",
   "metadata": {
    "collapsed": true
   },
   "outputs": [
    {
     "name": "stdout",
     "output_type": "stream",
     "text": [
      "Loss after epoch 10 : 0.23575231820360967\n",
      "Loss after epoch 20 : 0.23514197222950578\n",
      "Loss after epoch 30 : 0.23456277549713792\n",
      "Loss after epoch 40 : 0.2340131676594147\n",
      "Loss after epoch 50 : 0.2334918126458501\n",
      "Loss after epoch 60 : 0.2329975243132221\n",
      "Loss after epoch 70 : 0.23252920893963105\n",
      "Loss after epoch 80 : 0.23208582158981517\n",
      "Loss after epoch 90 : 0.23166633403034356\n",
      "Loss after epoch 100 : 0.23126971259301615\n",
      "Loss after epoch 110 : 0.23089490485990805\n",
      "Loss after epoch 120 : 0.23054083418572854\n",
      "Loss after epoch 130 : 0.23020640093471084\n",
      "Loss after epoch 140 : 0.22989048903320752\n",
      "Loss after epoch 150 : 0.22959197619910057\n",
      "Loss after epoch 160 : 0.2293097461365385\n",
      "Loss after epoch 170 : 0.22904270112374725\n",
      "Loss after epoch 180 : 0.22878977373351114\n",
      "Loss after epoch 190 : 0.22854993682568195\n",
      "Loss after epoch 200 : 0.22832221135125588\n",
      "Loss after epoch 210 : 0.22810567184538882\n",
      "Loss after epoch 220 : 0.22789944973233006\n",
      "Loss after epoch 230 : 0.22770273471628039\n",
      "Loss after epoch 240 : 0.22751477460319675\n",
      "Loss after epoch 250 : 0.2273348739109998\n",
      "Loss after epoch 260 : 0.22716239160075047\n",
      "Loss after epoch 270 : 0.22699673821660735\n",
      "Loss after epoch 280 : 0.22683737267034357\n",
      "Loss after epoch 290 : 0.2266837988548725\n",
      "Loss after epoch 300 : 0.22653556222507473\n",
      "Loss after epoch 310 : 0.22639224644515585\n",
      "Loss after epoch 320 : 0.2262534701701767\n",
      "Loss after epoch 330 : 0.226118884004774\n",
      "Loss after epoch 340 : 0.22598816766349888\n",
      "Loss after epoch 350 : 0.22586102734359723\n",
      "Loss after epoch 360 : 0.22573719331141867\n",
      "Loss after epoch 370 : 0.2256164176970759\n",
      "Loss after epoch 380 : 0.22549847248772115\n",
      "Loss after epoch 390 : 0.22538314770726195\n",
      "Loss after epoch 400 : 0.22527024976901633\n",
      "Loss after epoch 410 : 0.22515959998734814\n",
      "Loss after epoch 420 : 0.22505103323444908\n",
      "Loss after epoch 430 : 0.22494439672894015\n",
      "Loss after epoch 440 : 0.22483954894370428\n",
      "Loss after epoch 450 : 0.22473635862123958\n",
      "Loss after epoch 460 : 0.22463470388574158\n",
      "Loss after epoch 470 : 0.2245344714420667\n",
      "Loss after epoch 480 : 0.22443555585263375\n",
      "Loss after epoch 490 : 0.22433785888419108\n",
      "Loss after epoch 501 : 0.22425089768208767\n"
     ]
    }
   ],
   "source": [
    "nn_sigmoid = HiddenTwo(input_nodes = D, \n",
    "               output_nodes = K, \n",
    "               hidden_nodes_1 = M,\n",
    "                hidden_nodes_2 = M,\n",
    "               learning_rate = 0.01,\n",
    "               activation_hidden_1 = sigmoid,\n",
    "                activation_hidden_2 = sigmoid\n",
    "                      )\n",
    "c = nn_sigmoid.run(X_train, y_train_cat, epochs=500 )"
   ]
  },
  {
   "cell_type": "code",
   "execution_count": 880,
   "id": "ea1dd23a",
   "metadata": {},
   "outputs": [
    {
     "name": "stdout",
     "output_type": "stream",
     "text": [
      "Accuracy : 0.2486\n"
     ]
    }
   ],
   "source": [
    "acc = nn_sigmoid.evaluate(X_test, y_test)\n"
   ]
  },
  {
   "cell_type": "markdown",
   "id": "e1736cda",
   "metadata": {},
   "source": [
    "### tanh"
   ]
  },
  {
   "cell_type": "code",
   "execution_count": 882,
   "id": "f8399be3",
   "metadata": {
    "collapsed": true
   },
   "outputs": [
    {
     "name": "stdout",
     "output_type": "stream",
     "text": [
      "Loss after epoch 10 : 0.2097446025613806\n",
      "Loss after epoch 20 : 0.19628579733291193\n",
      "Loss after epoch 30 : 0.18826626908880031\n",
      "Loss after epoch 40 : 0.18288840321194091\n",
      "Loss after epoch 50 : 0.17900719511921628\n",
      "Loss after epoch 60 : 0.17599469038893353\n",
      "Loss after epoch 70 : 0.17351518638051577\n",
      "Loss after epoch 80 : 0.17138786142751758\n",
      "Loss after epoch 90 : 0.16950811119412187\n",
      "Loss after epoch 100 : 0.16780958082653108\n",
      "Loss after epoch 110 : 0.1662472097930416\n",
      "Loss after epoch 120 : 0.16478933107526678\n",
      "Loss after epoch 130 : 0.16341334590672812\n",
      "Loss after epoch 140 : 0.16210300511707235\n",
      "Loss after epoch 150 : 0.16084648142351224\n",
      "Loss after epoch 160 : 0.1596349674149653\n",
      "Loss after epoch 170 : 0.15846174050379933\n",
      "Loss after epoch 180 : 0.15732155119681066\n",
      "Loss after epoch 190 : 0.15621021986263198\n",
      "Loss after epoch 200 : 0.15512437259359727\n",
      "Loss after epoch 210 : 0.15406126228511083\n",
      "Loss after epoch 220 : 0.15301864236426618\n",
      "Loss after epoch 230 : 0.1519946745464421\n",
      "Loss after epoch 240 : 0.1509878554910877\n",
      "Loss after epoch 250 : 0.14999694889113\n",
      "Loss after epoch 260 : 0.14902092007958873\n",
      "Loss after epoch 270 : 0.14805888600453393\n",
      "Loss after epoch 280 : 0.14711009037155146\n",
      "Loss after epoch 290 : 0.14617389052285007\n",
      "Loss after epoch 300 : 0.14524973781722267\n",
      "Loss after epoch 310 : 0.1443371563777443\n",
      "Loss after epoch 320 : 0.143435734084261\n",
      "Loss after epoch 330 : 0.14254512454612206\n",
      "Loss after epoch 340 : 0.14166504865702728\n",
      "Loss after epoch 350 : 0.1407952879786743\n",
      "Loss after epoch 360 : 0.13993566950896985\n",
      "Loss after epoch 370 : 0.13908604657191487\n",
      "Loss after epoch 380 : 0.1382462827503779\n",
      "Loss after epoch 390 : 0.1374162440991626\n",
      "Loss after epoch 400 : 0.13659579966984814\n",
      "Loss after epoch 410 : 0.13578482603620604\n",
      "Loss after epoch 420 : 0.13498321152074233\n",
      "Loss after epoch 430 : 0.13419085826592367\n",
      "Loss after epoch 440 : 0.13340768214826626\n",
      "Loss after epoch 450 : 0.1326336110958362\n",
      "Loss after epoch 460 : 0.13186858220656728\n",
      "Loss after epoch 470 : 0.13111253795857425\n",
      "Loss after epoch 480 : 0.1303654223041493\n",
      "Loss after epoch 490 : 0.12962717800920115\n",
      "Loss after epoch 501 : 0.12897029441421912\n"
     ]
    }
   ],
   "source": [
    "nn_tanh = HiddenTwo(input_nodes = D, \n",
    "               output_nodes = K, \n",
    "               hidden_nodes_1 = M,\n",
    "                hidden_nodes_2 = M,\n",
    "               learning_rate = 0.01,\n",
    "               activation_hidden_1 = tanh,\n",
    "                activation_hidden_2 = tanh,\n",
    "                    delta_stop = 1e-3,\n",
    "                    patience=5\n",
    "                      )\n",
    "c = nn_tanh.run(X_train, y_train_cat, epochs=500 )"
   ]
  },
  {
   "cell_type": "code",
   "execution_count": 883,
   "id": "3377b067",
   "metadata": {},
   "outputs": [
    {
     "name": "stdout",
     "output_type": "stream",
     "text": [
      "Accuracy : 0.6764\n"
     ]
    }
   ],
   "source": [
    "acc = nn_tanh.evaluate(X_test, y_test)\n"
   ]
  },
  {
   "cell_type": "markdown",
   "id": "c256f333",
   "metadata": {},
   "source": [
    "Adding more epochs"
   ]
  },
  {
   "cell_type": "code",
   "execution_count": 884,
   "id": "d30cf290",
   "metadata": {
    "collapsed": true
   },
   "outputs": [
    {
     "name": "stdout",
     "output_type": "stream",
     "text": [
      "Loss after epoch 10 : 0.12817706662670458\n",
      "Loss after epoch 20 : 0.12746507978690036\n",
      "Loss after epoch 30 : 0.12676172508034014\n",
      "Loss after epoch 40 : 0.12606693937640573\n",
      "Loss after epoch 50 : 0.1253806546377349\n",
      "Loss after epoch 60 : 0.12470279709450079\n",
      "Loss after epoch 70 : 0.12403328820854714\n",
      "Loss after epoch 80 : 0.12337204651940757\n",
      "Loss after epoch 90 : 0.12271898928252241\n",
      "Loss after epoch 100 : 0.12207403338627215\n",
      "Loss after epoch 110 : 0.12143709560084581\n",
      "Loss after epoch 120 : 0.12080809245533594\n",
      "Loss after epoch 130 : 0.12018694002359905\n",
      "Loss after epoch 140 : 0.11957355377715695\n",
      "Loss after epoch 150 : 0.11896784854726272\n",
      "Loss after epoch 160 : 0.11836973857523649\n",
      "Loss after epoch 170 : 0.1177791376164201\n",
      "Loss after epoch 180 : 0.1171959590734589\n",
      "Loss after epoch 190 : 0.11662011614701022\n",
      "Loss after epoch 200 : 0.11605152199610866\n",
      "Loss after epoch 210 : 0.11549008989527584\n",
      "Loss after epoch 220 : 0.11493573336393527\n",
      "Loss after epoch 230 : 0.1143883662302365\n",
      "Loss after epoch 240 : 0.1138479025833347\n",
      "Loss after epoch 250 : 0.11331425657719078\n",
      "Loss after epoch 260 : 0.11278734208617444\n",
      "Loss after epoch 270 : 0.11226707227539079\n",
      "Loss after epoch 280 : 0.11175335920996826\n",
      "Loss after epoch 290 : 0.1112461136496342\n",
      "Loss after epoch 300 : 0.11074524514247593\n",
      "Loss after epoch 310 : 0.11025066247053289\n",
      "Loss after epoch 320 : 0.10976227445067095\n",
      "Loss after epoch 330 : 0.10927999106734484\n",
      "Loss after epoch 340 : 0.10880372487099607\n",
      "Loss after epoch 350 : 0.10833339245953985\n",
      "Loss after epoch 360 : 0.10786891566236118\n",
      "Loss after epoch 370 : 0.10741022188047258\n",
      "Loss after epoch 380 : 0.1069572431239537\n",
      "Loss after epoch 390 : 0.10650991375687771\n",
      "Loss after epoch 400 : 0.10606816760189118\n",
      "Loss after epoch 410 : 0.10563193540851397\n",
      "Loss after epoch 420 : 0.10520114347590993\n",
      "Loss after epoch 430 : 0.1047757136262037\n",
      "Loss after epoch 440 : 0.10435556417463476\n",
      "Loss after epoch 450 : 0.10394061132166324\n",
      "Loss after epoch 460 : 0.1035307704880993\n",
      "Loss after epoch 470 : 0.1031259573437714\n",
      "Loss after epoch 480 : 0.10272608847921333\n",
      "Loss after epoch 490 : 0.10233108177797924\n",
      "Loss after epoch 501 : 0.10197966619980064\n"
     ]
    }
   ],
   "source": [
    "c = nn_tanh.run(X_train, y_train_cat, epochs=500 )"
   ]
  },
  {
   "cell_type": "code",
   "execution_count": 885,
   "id": "c3d299c6",
   "metadata": {},
   "outputs": [
    {
     "name": "stdout",
     "output_type": "stream",
     "text": [
      "Accuracy : 0.7535\n"
     ]
    }
   ],
   "source": [
    "acc = nn_tanh.evaluate(X_test, y_test)\n"
   ]
  },
  {
   "cell_type": "code",
   "execution_count": 886,
   "id": "b0a744b7",
   "metadata": {
    "collapsed": true
   },
   "outputs": [
    {
     "name": "stdout",
     "output_type": "stream",
     "text": [
      "Loss after epoch 10 : 0.10155533371680012\n",
      "Loss after epoch 20 : 0.10117443548803452\n",
      "Loss after epoch 30 : 0.10079808561175832\n",
      "Loss after epoch 40 : 0.10042620918601315\n",
      "Loss after epoch 50 : 0.10005873266907345\n",
      "Loss after epoch 60 : 0.09969558388284779\n",
      "Loss after epoch 70 : 0.09933669203071784\n",
      "Loss after epoch 80 : 0.09898198771177855\n",
      "Loss after epoch 90 : 0.0986314029076284\n",
      "Loss after epoch 100 : 0.0982848709203265\n",
      "Loss after epoch 110 : 0.09794232625419463\n",
      "Loss after epoch 120 : 0.09760370445708054\n",
      "Loss after epoch 130 : 0.09726894195758445\n",
      "Loss after epoch 140 : 0.09693797594018932\n",
      "Loss after epoch 150 : 0.09661074428552537\n",
      "Loss after epoch 160 : 0.09628718557722836\n",
      "Loss after epoch 170 : 0.09596723915539175\n",
      "Loss after epoch 180 : 0.0956508451888287\n",
      "Loss after epoch 190 : 0.09533794474308711\n",
      "Loss after epoch 200 : 0.0950284798313884\n",
      "Loss after epoch 210 : 0.09472239344509387\n",
      "Loss after epoch 220 : 0.09441962956619673\n",
      "Loss after epoch 230 : 0.09412013316678564\n",
      "Loss after epoch 240 : 0.09382385020064524\n",
      "Loss after epoch 250 : 0.09353072759133525\n",
      "Loss after epoch 260 : 0.09324071321997877\n",
      "Loss after epoch 270 : 0.09295375591493939\n",
      "Loss after epoch 280 : 0.09266980544468076\n",
      "Loss after epoch 290 : 0.09238881251435455\n",
      "Loss after epoch 300 : 0.0921107287659969\n",
      "Loss after epoch 310 : 0.09183550678157186\n",
      "Loss after epoch 320 : 0.09156310008746643\n",
      "Loss after epoch 330 : 0.09129346315843066\n",
      "Loss after epoch 340 : 0.09102655141846193\n",
      "Loss after epoch 350 : 0.09076232123588615\n",
      "Loss after epoch 360 : 0.09050072991005541\n",
      "Loss after epoch 370 : 0.09024173564780191\n",
      "Loss after epoch 380 : 0.0899852975290852\n",
      "Loss after epoch 390 : 0.08973137546300601\n",
      "Loss after epoch 400 : 0.08947993013721452\n",
      "Loss after epoch 410 : 0.08923092296527568\n",
      "Loss after epoch 420 : 0.08898431603734573\n",
      "Loss after epoch 430 : 0.08874007207931964\n",
      "Loss after epoch 440 : 0.08849815442443214\n",
      "Loss after epoch 450 : 0.08825852699944355\n",
      "Loss after epoch 460 : 0.08802115432546441\n",
      "Loss after epoch 470 : 0.08778600153167691\n",
      "Loss after epoch 480 : 0.08755303437902191\n",
      "Loss after epoch 490 : 0.08732221929045685\n",
      "Loss after epoch 501 : 0.08711629853409968\n"
     ]
    }
   ],
   "source": [
    "c = nn_tanh.run(X_train, y_train_cat, epochs=500 )"
   ]
  },
  {
   "cell_type": "code",
   "execution_count": 887,
   "id": "2fb1920a",
   "metadata": {},
   "outputs": [
    {
     "name": "stdout",
     "output_type": "stream",
     "text": [
      "Accuracy : 0.7746\n"
     ]
    }
   ],
   "source": [
    "acc = nn_tanh.evaluate(X_test, y_test)\n"
   ]
  },
  {
   "cell_type": "code",
   "execution_count": 888,
   "id": "94b5f735",
   "metadata": {
    "collapsed": true
   },
   "outputs": [
    {
     "name": "stdout",
     "output_type": "stream",
     "text": [
      "Loss after epoch 10 : 0.08686691450950483\n",
      "Loss after epoch 20 : 0.08664236127581182\n",
      "Loss after epoch 30 : 0.08641983308500771\n",
      "Loss after epoch 40 : 0.08619930015355429\n",
      "Loss after epoch 50 : 0.0859807335296627\n",
      "Loss after epoch 60 : 0.08576410510129447\n",
      "Loss after epoch 70 : 0.08554938759341038\n",
      "Loss after epoch 80 : 0.0853365545529178\n",
      "Loss after epoch 90 : 0.08512558032065423\n",
      "Loss after epoch 100 : 0.08491643999114007\n",
      "Loss after epoch 110 : 0.0847091093625251\n",
      "Loss after epoch 120 : 0.08450356488073694\n",
      "Loss after epoch 130 : 0.08429978358286162\n",
      "Loss after epoch 140 : 0.08409774304490975\n",
      "Loss after epoch 150 : 0.08389742133829059\n",
      "Loss after epoch 160 : 0.08369879699776568\n",
      "Loss after epoch 170 : 0.0835018490018095\n",
      "Loss after epoch 180 : 0.08330655676458275\n",
      "Loss after epoch 190 : 0.08311290013738973\n",
      "Loss after epoch 200 : 0.08292085941658157\n",
      "Loss after epoch 210 : 0.08273041535427393\n",
      "Loss after epoch 220 : 0.08254154916784301\n",
      "Loss after epoch 230 : 0.08235424254394484\n",
      "Loss after epoch 240 : 0.0821684776329628\n",
      "Loss after epoch 250 : 0.08198423703070178\n",
      "Loss after epoch 260 : 0.08180150374612072\n",
      "Loss after epoch 270 : 0.08162026115689104\n",
      "Loss after epoch 280 : 0.08144049295792141\n",
      "Loss after epoch 290 : 0.08126218311051182\n",
      "Loss after epoch 300 : 0.0810853158003001\n",
      "Loss after epoch 310 : 0.08090987541018145\n",
      "Loss after epoch 320 : 0.0807358465105734\n",
      "Loss after epoch 330 : 0.08056321386521267\n",
      "Loss after epoch 340 : 0.08039196244757188\n",
      "Loss after epoch 350 : 0.08022207746173905\n",
      "Loss after epoch 360 : 0.08005354436210971\n",
      "Loss after epoch 370 : 0.07988634886785359\n",
      "Loss after epoch 380 : 0.07972047697008314\n",
      "Loss after epoch 390 : 0.07955591493142035\n",
      "Loss after epoch 400 : 0.07939264927894381\n",
      "Loss after epoch 410 : 0.0792306667922458\n",
      "Loss after epoch 420 : 0.07906995448857981\n",
      "Loss after epoch 430 : 0.07891049960695687\n",
      "Loss after epoch 440 : 0.078752289592672\n",
      "Loss after epoch 450 : 0.07859531208325049\n",
      "Loss after epoch 460 : 0.07843955489630461\n",
      "Loss after epoch 470 : 0.07828500601937488\n",
      "Loss after epoch 480 : 0.0781316536015347\n",
      "Loss after epoch 490 : 0.0779794859463786\n",
      "Loss after epoch 500 : 0.07782849150596402\n",
      "Loss after epoch 510 : 0.07767865887530685\n",
      "Loss after epoch 520 : 0.07752997678709955\n",
      "Loss after epoch 530 : 0.077382434106408\n",
      "Loss after epoch 540 : 0.0772360198251815\n",
      "Loss after epoch 550 : 0.07709072305648498\n",
      "Loss after epoch 560 : 0.07694653302842233\n",
      "Loss after epoch 570 : 0.07680343907777647\n",
      "Loss after epoch 580 : 0.07666143064344408\n",
      "Loss after epoch 590 : 0.07652049725979164\n",
      "Loss after epoch 600 : 0.07638062855010457\n",
      "Loss after epoch 610 : 0.07624181422033521\n",
      "Loss after epoch 620 : 0.07610404405337277\n",
      "Loss after epoch 630 : 0.07596730790405683\n",
      "Loss after epoch 640 : 0.07583159569513194\n",
      "Loss after epoch 650 : 0.07569689741429277\n",
      "Loss after epoch 660 : 0.07556320311241083\n",
      "Loss after epoch 670 : 0.07543050290296101\n",
      "Loss after epoch 680 : 0.07529878696259652\n",
      "Loss after epoch 690 : 0.07516804553276281\n",
      "Loss after epoch 700 : 0.07503826892218728\n",
      "Loss after epoch 710 : 0.07490944751005775\n",
      "Loss after epoch 720 : 0.07478157174968728\n",
      "Loss after epoch 730 : 0.07465463217246832\n",
      "Loss after epoch 740 : 0.07452861939193635\n",
      "Loss after epoch 750 : 0.07440352410778835\n",
      "Loss after epoch 760 : 0.07427933710973067\n",
      "Loss after epoch 770 : 0.07415604928106374\n",
      "Loss after epoch 780 : 0.07403365160193602\n",
      "Loss after epoch 790 : 0.07391213515222934\n",
      "Loss after epoch 800 : 0.07379149111405522\n",
      "Loss after epoch 810 : 0.07367171077385853\n",
      "Loss after epoch 820 : 0.07355278552413835\n",
      "Loss after epoch 830 : 0.0734347068648008\n",
      "Loss after epoch 840 : 0.07331746640416545\n",
      "Loss after epoch 850 : 0.07320105585964831\n",
      "Loss after epoch 860 : 0.07308546705814518\n",
      "Loss after epoch 870 : 0.07297069193613769\n",
      "Loss after epoch 880 : 0.07285672253954478\n",
      "Loss after epoch 890 : 0.07274355102333936\n",
      "Loss after epoch 900 : 0.07263116965094875\n",
      "Loss after epoch 910 : 0.07251957079345779\n",
      "Loss after epoch 920 : 0.072408746928631\n",
      "Loss after epoch 930 : 0.07229869063977076\n",
      "Loss after epoch 940 : 0.07218939461442923\n",
      "Loss after epoch 950 : 0.0720808516429906\n",
      "Loss after epoch 960 : 0.07197305461714333\n",
      "Loss after epoch 970 : 0.07186599652825972\n",
      "Loss after epoch 980 : 0.07175967046570388\n",
      "Loss after epoch 990 : 0.0716540696150866\n",
      "Loss after epoch 1001 : 0.07155964334980063\n"
     ]
    }
   ],
   "source": [
    "c = nn_tanh.run(X_train, y_train_cat, epochs=1000 )"
   ]
  },
  {
   "cell_type": "code",
   "execution_count": 889,
   "id": "4aed2ef7",
   "metadata": {},
   "outputs": [
    {
     "name": "stdout",
     "output_type": "stream",
     "text": [
      "Accuracy : 0.7959\n"
     ]
    }
   ],
   "source": [
    "acc = nn_tanh.evaluate(X_test, y_test)\n"
   ]
  },
  {
   "cell_type": "markdown",
   "id": "4526586e",
   "metadata": {},
   "source": [
    "We move to relu now"
   ]
  },
  {
   "cell_type": "markdown",
   "id": "5a873247",
   "metadata": {},
   "source": [
    "[Back to top](#Content:)\n",
    "\n",
    "<a id='part7.2'></a>\n",
    "## Relu"
   ]
  },
  {
   "cell_type": "code",
   "execution_count": 890,
   "id": "b8ba27da",
   "metadata": {
    "collapsed": true
   },
   "outputs": [
    {
     "name": "stdout",
     "output_type": "stream",
     "text": [
      "Loss after epoch 10 : 0.24167439085594922\n",
      "Loss after epoch 20 : 0.2301354358418106\n",
      "Loss after epoch 30 : 0.2231941374024515\n",
      "Loss after epoch 40 : 0.2181364816182128\n",
      "Loss after epoch 50 : 0.21407890048662379\n",
      "Loss after epoch 60 : 0.21063887457444103\n",
      "Loss after epoch 70 : 0.20756028948226565\n",
      "Loss after epoch 80 : 0.2047302958459747\n",
      "Loss after epoch 90 : 0.20209503192081704\n",
      "Loss after epoch 100 : 0.19963181532084245\n",
      "Loss after epoch 110 : 0.19733904737870214\n",
      "Loss after epoch 120 : 0.19521989615178895\n",
      "Loss after epoch 130 : 0.19327934835869282\n",
      "Loss after epoch 140 : 0.19149530060427308\n",
      "Loss after epoch 150 : 0.1898319892475479\n",
      "Loss after epoch 160 : 0.1882707655189316\n",
      "Loss after epoch 170 : 0.18677398938943696\n",
      "Loss after epoch 180 : 0.18532906762595672\n",
      "Loss after epoch 190 : 0.18393535164166083\n",
      "Loss after epoch 200 : 0.1825765770434035\n",
      "Loss after epoch 210 : 0.1812515497641525\n",
      "Loss after epoch 220 : 0.17995546645588936\n",
      "Loss after epoch 230 : 0.17868959056787262\n",
      "Loss after epoch 240 : 0.1774534242485284\n",
      "Loss after epoch 250 : 0.17623677355675524\n",
      "Loss after epoch 260 : 0.17504305141759172\n",
      "Loss after epoch 270 : 0.1738777836706515\n",
      "Loss after epoch 280 : 0.1727368358343282\n",
      "Loss after epoch 290 : 0.1716160534137798\n",
      "Loss after epoch 300 : 0.17051205416311788\n",
      "Loss after epoch 310 : 0.16942305086612502\n",
      "Loss after epoch 320 : 0.16834535515966728\n",
      "Loss after epoch 330 : 0.16727966742871286\n",
      "Loss after epoch 340 : 0.16622597351413126\n",
      "Loss after epoch 350 : 0.16518245430728934\n",
      "Loss after epoch 360 : 0.16414368652834233\n",
      "Loss after epoch 370 : 0.1631105484057043\n",
      "Loss after epoch 380 : 0.16208400641502044\n",
      "Loss after epoch 390 : 0.16106274032080786\n",
      "Loss after epoch 400 : 0.16004461304462128\n",
      "Loss after epoch 410 : 0.15902963273351434\n",
      "Loss after epoch 420 : 0.15802003345623883\n",
      "Loss after epoch 430 : 0.15701784314749695\n",
      "Loss after epoch 440 : 0.15602599069842954\n",
      "Loss after epoch 450 : 0.15504666831999356\n",
      "Loss after epoch 460 : 0.15408016674861658\n",
      "Loss after epoch 470 : 0.1531320580619653\n",
      "Loss after epoch 480 : 0.15220290209435208\n",
      "Loss after epoch 490 : 0.15129659811536683\n",
      "Loss after epoch 500 : 0.1504126590212205\n",
      "Loss after epoch 510 : 0.14955251861713809\n",
      "Loss after epoch 520 : 0.14871594807053157\n",
      "Loss after epoch 530 : 0.14790236814346946\n",
      "Loss after epoch 540 : 0.14711214702085287\n",
      "Loss after epoch 550 : 0.14634389562684874\n",
      "Loss after epoch 560 : 0.1455984997987982\n",
      "Loss after epoch 570 : 0.14487361656160974\n",
      "Loss after epoch 580 : 0.14416510952680928\n",
      "Loss after epoch 590 : 0.14347243982122632\n",
      "Loss after epoch 600 : 0.14279478913715116\n",
      "Loss after epoch 610 : 0.1421304273281232\n",
      "Loss after epoch 620 : 0.14147867057111785\n",
      "Loss after epoch 630 : 0.14083911396728446\n",
      "Loss after epoch 640 : 0.14020920789070557\n",
      "Loss after epoch 650 : 0.13958782544846135\n",
      "Loss after epoch 660 : 0.13897380747172042\n",
      "Loss after epoch 670 : 0.1383690273232242\n",
      "Loss after epoch 680 : 0.13777176153914641\n",
      "Loss after epoch 690 : 0.13717941942317796\n",
      "Loss after epoch 700 : 0.13659440763991773\n",
      "Loss after epoch 710 : 0.13601662816921734\n",
      "Loss after epoch 720 : 0.1354460800775863\n",
      "Loss after epoch 730 : 0.13488207040007924\n",
      "Loss after epoch 740 : 0.1343242095155965\n",
      "Loss after epoch 750 : 0.13377269070773598\n",
      "Loss after epoch 760 : 0.13322820220618203\n",
      "Loss after epoch 770 : 0.13269087175707797\n",
      "Loss after epoch 780 : 0.13215932401438757\n",
      "Loss after epoch 790 : 0.1316337666296302\n",
      "Loss after epoch 800 : 0.13111436723143427\n",
      "Loss after epoch 810 : 0.13060073731378422\n",
      "Loss after epoch 820 : 0.13009435196575453\n",
      "Loss after epoch 830 : 0.12959425433872143\n",
      "Loss after epoch 840 : 0.12910030905226194\n",
      "Loss after epoch 850 : 0.12861286098131977\n",
      "Loss after epoch 860 : 0.12813116392431545\n",
      "Loss after epoch 870 : 0.12765505658067752\n",
      "Loss after epoch 880 : 0.12718354901829176\n",
      "Loss after epoch 890 : 0.12671844669599722\n",
      "Loss after epoch 900 : 0.1262585719935512\n",
      "Loss after epoch 910 : 0.12580366401621107\n",
      "Loss after epoch 920 : 0.12535434432963663\n",
      "Loss after epoch 930 : 0.12491006382597067\n",
      "Loss after epoch 940 : 0.12447142890324042\n",
      "Loss after epoch 950 : 0.12403766145722628\n",
      "Loss after epoch 960 : 0.12360869661628793\n",
      "Loss after epoch 970 : 0.12318406034189393\n",
      "Loss after epoch 980 : 0.12276438733722617\n",
      "Loss after epoch 990 : 0.12234852339989266\n",
      "Loss after epoch 1000 : 0.12193650925770519\n",
      "Loss after epoch 1010 : 0.12152814082245189\n",
      "Loss after epoch 1020 : 0.12112282153193354\n",
      "Loss after epoch 1030 : 0.12072200959264771\n",
      "Loss after epoch 1040 : 0.12032433974923015\n",
      "Loss after epoch 1050 : 0.11992845856885834\n",
      "Loss after epoch 1060 : 0.11953460164726835\n",
      "Loss after epoch 1070 : 0.11914357356500291\n",
      "Loss after epoch 1080 : 0.1187536475653621\n",
      "Loss after epoch 1090 : 0.11836492476339684\n",
      "Loss after epoch 1100 : 0.11797700157239842\n",
      "Loss after epoch 1110 : 0.11758804089715975\n",
      "Loss after epoch 1120 : 0.11719866554845479\n",
      "Loss after epoch 1130 : 0.11680816035329937\n",
      "Loss after epoch 1140 : 0.11641588817457071\n",
      "Loss after epoch 1150 : 0.1160205621610649\n",
      "Loss after epoch 1160 : 0.1156204435767237\n",
      "Loss after epoch 1170 : 0.11521188060058965\n",
      "Loss after epoch 1180 : 0.11479458770702482\n",
      "Loss after epoch 1190 : 0.11436907724431049\n",
      "Loss after epoch 1200 : 0.11393314660771342\n",
      "Loss after epoch 1210 : 0.11348579735462573\n",
      "Loss after epoch 1220 : 0.11302334936623074\n",
      "Loss after epoch 1230 : 0.1125409574207871\n",
      "Loss after epoch 1240 : 0.11203793619266042\n",
      "Loss after epoch 1250 : 0.11151768760275932\n",
      "Loss after epoch 1260 : 0.11097786536914163\n",
      "Loss after epoch 1270 : 0.11042006106513143\n",
      "Loss after epoch 1280 : 0.10983761982630628\n",
      "Loss after epoch 1290 : 0.10923079524896524\n",
      "Loss after epoch 1300 : 0.10861590925881068\n",
      "Loss after epoch 1310 : 0.10799503358029588\n",
      "Loss after epoch 1320 : 0.10736901098974197\n",
      "Loss after epoch 1330 : 0.10674115265778375\n",
      "Loss after epoch 1340 : 0.10612712807358372\n",
      "Loss after epoch 1350 : 0.10553164446333677\n",
      "Loss after epoch 1360 : 0.10496644797814621\n",
      "Loss after epoch 1370 : 0.10443239983795265\n",
      "Loss after epoch 1380 : 0.10393402531255677\n",
      "Loss after epoch 1390 : 0.10346890118043209\n",
      "Loss after epoch 1400 : 0.10303208853008422\n",
      "Loss after epoch 1410 : 0.10262385500368788\n",
      "Loss after epoch 1420 : 0.1022377804779111\n",
      "Loss after epoch 1430 : 0.10186987206289998\n",
      "Loss after epoch 1440 : 0.10151775926743054\n",
      "Loss after epoch 1450 : 0.10117672350839693\n",
      "Loss after epoch 1460 : 0.10084862203874148\n",
      "Loss after epoch 1470 : 0.10052920792822856\n",
      "Loss after epoch 1480 : 0.10021614663093119\n",
      "Loss after epoch 1490 : 0.09990895452609866\n",
      "Loss after epoch 1501 : 0.09963841335144132\n"
     ]
    }
   ],
   "source": [
    "nn_relu = HiddenTwo(input_nodes = D, \n",
    "               output_nodes = K, \n",
    "               hidden_nodes_1 = M,\n",
    "                hidden_nodes_2 = M,\n",
    "               learning_rate = 0.01,\n",
    "               activation_hidden_1 = relu,\n",
    "                activation_hidden_2 = relu,\n",
    "                    delta_stop = 1e-3,\n",
    "                    patience=5\n",
    "                      )\n",
    "c = nn_relu.run(X_train, y_train_cat, epochs=1500 )"
   ]
  },
  {
   "cell_type": "code",
   "execution_count": 891,
   "id": "a72681d9",
   "metadata": {},
   "outputs": [
    {
     "name": "stdout",
     "output_type": "stream",
     "text": [
      "Accuracy : 0.6534\n"
     ]
    }
   ],
   "source": [
    "acc = nn_relu.evaluate(X_test, y_test)\n"
   ]
  },
  {
   "cell_type": "markdown",
   "id": "ce76fbd6",
   "metadata": {},
   "source": [
    "[Back to top](#Content:)\n",
    "\n",
    "<a id='part7.3'></a>\n",
    "## Adding more nodes"
   ]
  },
  {
   "cell_type": "markdown",
   "id": "b995b6fb",
   "metadata": {},
   "source": [
    "### tanh"
   ]
  },
  {
   "cell_type": "code",
   "execution_count": 892,
   "id": "e7ea63c7",
   "metadata": {
    "collapsed": true
   },
   "outputs": [
    {
     "name": "stdout",
     "output_type": "stream",
     "text": [
      "Loss after epoch 10 : 0.19727871077340983\n",
      "Loss after epoch 20 : 0.1797146037204876\n",
      "Loss after epoch 30 : 0.16856613201922382\n",
      "Loss after epoch 40 : 0.16029112921480648\n",
      "Loss after epoch 50 : 0.1536812175620203\n",
      "Loss after epoch 60 : 0.14818258250796118\n",
      "Loss after epoch 70 : 0.14348228381080677\n",
      "Loss after epoch 80 : 0.13938248496531006\n",
      "Loss after epoch 90 : 0.13574671120546764\n",
      "Loss after epoch 100 : 0.1324754658130446\n",
      "Loss after epoch 110 : 0.12949541743173512\n",
      "Loss after epoch 120 : 0.1267528318420853\n",
      "Loss after epoch 130 : 0.12420830936102865\n",
      "Loss after epoch 140 : 0.12183258884755373\n",
      "Loss after epoch 150 : 0.11960342523714225\n",
      "Loss after epoch 160 : 0.11750340316487647\n",
      "Loss after epoch 170 : 0.11551848423374372\n",
      "Loss after epoch 180 : 0.11363707626773631\n",
      "Loss after epoch 190 : 0.11184943732532013\n",
      "Loss after epoch 200 : 0.1101472764369285\n",
      "Loss after epoch 210 : 0.10852346725660145\n",
      "Loss after epoch 220 : 0.10697183070884979\n",
      "Loss after epoch 230 : 0.10548696461488655\n",
      "Loss after epoch 240 : 0.10406410832895131\n",
      "Loss after epoch 250 : 0.1026990347372214\n",
      "Loss after epoch 260 : 0.10138796397723668\n",
      "Loss after epoch 270 : 0.1001274943934813\n",
      "Loss after epoch 280 : 0.09891454709101585\n",
      "Loss after epoch 290 : 0.09774632115014426\n",
      "Loss after epoch 300 : 0.09662025716299244\n",
      "Loss after epoch 310 : 0.09553400725688907\n",
      "Loss after epoch 320 : 0.0944854101848892\n",
      "Loss after epoch 330 : 0.09347247039826362\n",
      "Loss after epoch 340 : 0.0924933402790364\n",
      "Loss after epoch 350 : 0.09154630491328117\n",
      "Loss after epoch 360 : 0.09062976893831169\n",
      "Loss after epoch 370 : 0.08974224510891711\n",
      "Loss after epoch 380 : 0.08888234430834874\n",
      "Loss after epoch 390 : 0.08804876678685493\n",
      "Loss after epoch 400 : 0.08724029445099475\n",
      "Loss after epoch 410 : 0.0864557840562135\n",
      "Loss after epoch 420 : 0.08569416117724887\n",
      "Loss after epoch 430 : 0.08495441484856238\n",
      "Loss after epoch 440 : 0.08423559278177258\n",
      "Loss after epoch 450 : 0.08353679707990294\n",
      "Loss after epoch 460 : 0.08285718037957517\n",
      "Loss after epoch 470 : 0.08219594236230418\n",
      "Loss after epoch 480 : 0.081552326584884\n",
      "Loss after epoch 490 : 0.0809256175865787\n",
      "Loss after epoch 501 : 0.0803754743843051\n"
     ]
    }
   ],
   "source": [
    "nn_tanh = HiddenTwo(input_nodes = D, \n",
    "               output_nodes = K, \n",
    "               hidden_nodes_1 = 32,\n",
    "                hidden_nodes_2 = 16,\n",
    "               learning_rate = 0.01,\n",
    "               activation_hidden_1 = tanh,\n",
    "                activation_hidden_2 = tanh,\n",
    "                    delta_stop = 1e-3,\n",
    "                    patience=5\n",
    "                      )\n",
    "c = nn_tanh.run(X_train, y_train_cat, epochs=500 )"
   ]
  },
  {
   "cell_type": "code",
   "execution_count": 893,
   "id": "61d3ff18",
   "metadata": {},
   "outputs": [
    {
     "name": "stdout",
     "output_type": "stream",
     "text": [
      "Accuracy : 0.7672\n"
     ]
    }
   ],
   "source": [
    "acc = nn_tanh.evaluate(X_test, y_test)\n"
   ]
  },
  {
   "cell_type": "markdown",
   "id": "9866b68c",
   "metadata": {},
   "source": [
    "More epochs"
   ]
  },
  {
   "cell_type": "code",
   "execution_count": 894,
   "id": "e243a194",
   "metadata": {
    "collapsed": true
   },
   "outputs": [
    {
     "name": "stdout",
     "output_type": "stream",
     "text": [
      "Loss after epoch 10 : 0.07972024729853144\n",
      "Loss after epoch 20 : 0.07914033716728282\n",
      "Loss after epoch 30 : 0.0785748317902998\n",
      "Loss after epoch 40 : 0.07802318472328003\n",
      "Loss after epoch 50 : 0.07748487732553021\n",
      "Loss after epoch 60 : 0.07695941707647497\n",
      "Loss after epoch 70 : 0.0764463360041399\n",
      "Loss after epoch 80 : 0.07594518921697044\n",
      "Loss after epoch 90 : 0.0754555535314702\n",
      "Loss after epoch 100 : 0.07497702618900004\n",
      "Loss after epoch 110 : 0.07450922365574028\n",
      "Loss after epoch 120 : 0.0740517805003496\n",
      "Loss after epoch 130 : 0.07360434834429265\n",
      "Loss after epoch 140 : 0.07316659488017282\n",
      "Loss after epoch 150 : 0.07273820295371744\n",
      "Loss after epoch 160 : 0.07231886970530925\n",
      "Loss after epoch 170 : 0.07190830576715841\n",
      "Loss after epoch 180 : 0.07150623451236672\n",
      "Loss after epoch 190 : 0.07111239135226927\n",
      "Loss after epoch 200 : 0.07072652307857277\n",
      "Loss after epoch 210 : 0.07034838724695786\n",
      "Loss after epoch 220 : 0.06997775159899425\n",
      "Loss after epoch 230 : 0.06961439351943416\n",
      "Loss after epoch 240 : 0.06925809952619538\n",
      "Loss after epoch 250 : 0.06890866479060916\n",
      "Loss after epoch 260 : 0.06856589268577959\n",
      "Loss after epoch 270 : 0.06822959436114877\n",
      "Loss after epoch 280 : 0.06789958834159683\n",
      "Loss after epoch 290 : 0.06757570014959575\n",
      "Loss after epoch 300 : 0.06725776194909976\n",
      "Loss after epoch 310 : 0.06694561220997444\n",
      "Loss after epoch 320 : 0.06663909539186541\n",
      "Loss after epoch 330 : 0.06633806164647163\n",
      "Loss after epoch 340 : 0.06604236653724155\n",
      "Loss after epoch 350 : 0.06575187077554522\n",
      "Loss after epoch 360 : 0.06546643997240524\n",
      "Loss after epoch 370 : 0.06518594440489382\n",
      "Loss after epoch 380 : 0.0649102587963298\n",
      "Loss after epoch 390 : 0.06463926210943523\n",
      "Loss after epoch 400 : 0.06437283735164236\n",
      "Loss after epoch 410 : 0.06411087139177954\n",
      "Loss after epoch 420 : 0.0638532547874039\n",
      "Loss after epoch 430 : 0.0635998816220987\n",
      "Loss after epoch 440 : 0.06335064935210483\n",
      "Loss after epoch 450 : 0.06310545866171625\n",
      "Loss after epoch 460 : 0.06286421332693166\n",
      "Loss after epoch 470 : 0.06262682008692333\n",
      "Loss after epoch 480 : 0.06239318852295077\n",
      "Loss after epoch 490 : 0.06216323094441633\n",
      "Loss after epoch 501 : 0.06195934001881603\n"
     ]
    }
   ],
   "source": [
    "c = nn_tanh.run(X_train, y_train_cat, epochs=500 )"
   ]
  },
  {
   "cell_type": "code",
   "execution_count": 895,
   "id": "29c754fb",
   "metadata": {},
   "outputs": [
    {
     "name": "stdout",
     "output_type": "stream",
     "text": [
      "Accuracy : 0.7982\n"
     ]
    }
   ],
   "source": [
    "acc = nn_tanh.evaluate(X_test, y_test)\n"
   ]
  },
  {
   "cell_type": "markdown",
   "id": "f77b586f",
   "metadata": {},
   "source": [
    "### ReLu "
   ]
  },
  {
   "cell_type": "code",
   "execution_count": 896,
   "id": "93939a2d",
   "metadata": {
    "collapsed": true
   },
   "outputs": [
    {
     "name": "stdout",
     "output_type": "stream",
     "text": [
      "Loss after epoch 10 : 0.2106830215888743\n",
      "Loss after epoch 20 : 0.17939198596363085\n",
      "Loss after epoch 30 : 0.15904410987336132\n",
      "Loss after epoch 40 : 0.14316936117323034\n",
      "Loss after epoch 50 : 0.13025364102713088\n",
      "Loss after epoch 60 : 0.11966906419487837\n",
      "Loss after epoch 70 : 0.1110705723881656\n",
      "Loss after epoch 80 : 0.10415404708274295\n",
      "Loss after epoch 90 : 0.09858374167463138\n",
      "Loss after epoch 100 : 0.09405979552849661\n",
      "Loss after epoch 110 : 0.09031930973043228\n",
      "Loss after epoch 120 : 0.08715535766310481\n",
      "Loss after epoch 130 : 0.08443868350913732\n",
      "Loss after epoch 140 : 0.08206814873060732\n",
      "Loss after epoch 150 : 0.07997979211816411\n",
      "Loss after epoch 160 : 0.0781192351456278\n",
      "Loss after epoch 170 : 0.07644836265194775\n",
      "Loss after epoch 180 : 0.07494261862426149\n",
      "Loss after epoch 190 : 0.07357579064578323\n",
      "Loss after epoch 200 : 0.07232781203258346\n",
      "Loss after epoch 210 : 0.07117991156245465\n",
      "Loss after epoch 220 : 0.07012207188077503\n",
      "Loss after epoch 230 : 0.06914208954140709\n",
      "Loss after epoch 240 : 0.06823222936571284\n",
      "Loss after epoch 250 : 0.06738658087131486\n",
      "Loss after epoch 260 : 0.06659458944712232\n",
      "Loss after epoch 270 : 0.06584831329842694\n",
      "Loss after epoch 280 : 0.0651451706960015\n",
      "Loss after epoch 290 : 0.0644801331703118\n",
      "Loss after epoch 300 : 0.06385138043293813\n",
      "Loss after epoch 310 : 0.06325626208851245\n",
      "Loss after epoch 320 : 0.06268918311084234\n",
      "Loss after epoch 330 : 0.062149004199015034\n",
      "Loss after epoch 340 : 0.061634551278931235\n",
      "Loss after epoch 350 : 0.06114284735709517\n",
      "Loss after epoch 360 : 0.060672165160510834\n",
      "Loss after epoch 370 : 0.06022078407086831\n",
      "Loss after epoch 380 : 0.05978740441479742\n",
      "Loss after epoch 390 : 0.05937189014770397\n",
      "Loss after epoch 400 : 0.05897266608556544\n",
      "Loss after epoch 410 : 0.05858965855094963\n",
      "Loss after epoch 420 : 0.05822126608022793\n",
      "Loss after epoch 430 : 0.05786720734118241\n",
      "Loss after epoch 440 : 0.05752647812813427\n",
      "Loss after epoch 450 : 0.05719744594238514\n",
      "Loss after epoch 460 : 0.05687910385426926\n",
      "Loss after epoch 470 : 0.0565701327488833\n",
      "Loss after epoch 480 : 0.05626966500006787\n",
      "Loss after epoch 490 : 0.05597875981000565\n",
      "Loss after epoch 501 : 0.05572426643845835\n"
     ]
    }
   ],
   "source": [
    "nn_relu = HiddenTwo(input_nodes = D, \n",
    "               output_nodes = K, \n",
    "               hidden_nodes_1 = 32,\n",
    "                hidden_nodes_2 = 16,\n",
    "               learning_rate = 0.01,\n",
    "               activation_hidden_1 = relu,\n",
    "                activation_hidden_2 = relu,\n",
    "                    delta_stop = 1e-3,\n",
    "                    patience=5\n",
    "                      )\n",
    "c = nn_relu.run(X_train, y_train_cat, epochs=500 )"
   ]
  },
  {
   "cell_type": "code",
   "execution_count": 897,
   "id": "11222523",
   "metadata": {},
   "outputs": [
    {
     "name": "stdout",
     "output_type": "stream",
     "text": [
      "Accuracy : 0.7979\n"
     ]
    }
   ],
   "source": [
    "acc = nn_relu.evaluate(X_test, y_test)\n"
   ]
  },
  {
   "cell_type": "markdown",
   "id": "6357e36a",
   "metadata": {},
   "source": [
    "More training"
   ]
  },
  {
   "cell_type": "code",
   "execution_count": 899,
   "id": "5ef52a13",
   "metadata": {
    "collapsed": true
   },
   "outputs": [
    {
     "name": "stdout",
     "output_type": "stream",
     "text": [
      "Loss after epoch 10 : 0.055422786293961024\n",
      "Loss after epoch 20 : 0.05515729367773253\n",
      "Loss after epoch 30 : 0.054900262954473075\n",
      "Loss after epoch 40 : 0.05465048183184583\n",
      "Loss after epoch 50 : 0.054407603165185704\n",
      "Loss after epoch 60 : 0.054171674753544626\n",
      "Loss after epoch 70 : 0.05394203902933873\n",
      "Loss after epoch 80 : 0.053718045068192825\n",
      "Loss after epoch 90 : 0.05349988162712563\n",
      "Loss after epoch 100 : 0.053286662726130536\n",
      "Loss after epoch 110 : 0.05307847480777914\n",
      "Loss after epoch 120 : 0.05287516463631913\n",
      "Loss after epoch 130 : 0.052676492296314416\n",
      "Loss after epoch 140 : 0.052482191776562166\n",
      "Loss after epoch 150 : 0.05229215379555113\n",
      "Loss after epoch 160 : 0.052106124072423744\n",
      "Loss after epoch 170 : 0.0519239065455751\n",
      "Loss after epoch 180 : 0.05174525901096353\n",
      "Loss after epoch 190 : 0.05156978492996211\n",
      "Loss after epoch 200 : 0.05139765975075329\n",
      "Loss after epoch 210 : 0.0512287842835003\n",
      "Loss after epoch 220 : 0.051063037806767735\n",
      "Loss after epoch 230 : 0.05089990918652707\n",
      "Loss after epoch 240 : 0.05073982973867831\n",
      "Loss after epoch 250 : 0.05058272995841043\n",
      "Loss after epoch 260 : 0.050428328585945564\n",
      "Loss after epoch 270 : 0.050276347589369115\n",
      "Loss after epoch 280 : 0.05012654315595134\n",
      "Loss after epoch 290 : 0.049979136735495235\n",
      "Loss after epoch 300 : 0.04983435238241838\n",
      "Loss after epoch 310 : 0.049692038213585914\n",
      "Loss after epoch 320 : 0.04955220235800068\n",
      "Loss after epoch 330 : 0.049414264774957625\n",
      "Loss after epoch 340 : 0.04927864386537633\n",
      "Loss after epoch 350 : 0.049145059882659624\n",
      "Loss after epoch 360 : 0.04901350327759602\n",
      "Loss after epoch 370 : 0.04888418512025403\n",
      "Loss after epoch 380 : 0.048756795716295\n",
      "Loss after epoch 390 : 0.048631229049970345\n",
      "Loss after epoch 400 : 0.04850779956002367\n",
      "Loss after epoch 410 : 0.048386703053848915\n",
      "Loss after epoch 420 : 0.048267660021214645\n",
      "Loss after epoch 430 : 0.04815029972399212\n",
      "Loss after epoch 440 : 0.048034232915656026\n",
      "Loss after epoch 450 : 0.04791967960152409\n",
      "Loss after epoch 460 : 0.047806664584186316\n",
      "Loss after epoch 470 : 0.047695032794992015\n",
      "Loss after epoch 480 : 0.04758500548508066\n",
      "Loss after epoch 490 : 0.047476570443688915\n",
      "Loss after epoch 501 : 0.04738000888903126\n"
     ]
    }
   ],
   "source": [
    "c = nn_relu.run(X_train, y_train_cat, epochs=500 )"
   ]
  },
  {
   "cell_type": "code",
   "execution_count": 900,
   "id": "f6b3a034",
   "metadata": {},
   "outputs": [
    {
     "name": "stdout",
     "output_type": "stream",
     "text": [
      "Accuracy : 0.8198\n"
     ]
    }
   ],
   "source": [
    "acc = nn_relu.evaluate(X_test, y_test)\n"
   ]
  },
  {
   "cell_type": "markdown",
   "id": "63fc3c93",
   "metadata": {},
   "source": [
    "[Back to top](#Content:)\n",
    "\n",
    "<a id='part7.4'></a>\n",
    "## Minibatch"
   ]
  },
  {
   "cell_type": "markdown",
   "id": "5b0489f3",
   "metadata": {},
   "source": [
    "### tanh"
   ]
  },
  {
   "cell_type": "code",
   "execution_count": 903,
   "id": "0a2b0b59",
   "metadata": {
    "collapsed": true
   },
   "outputs": [
    {
     "name": "stdout",
     "output_type": "stream",
     "text": [
      "Loss after epoch 10 : 0.06920988859221543\n",
      "Loss after epoch 20 : 0.05379002979821404\n",
      "Loss after epoch 30 : 0.04722713615234914\n",
      "Loss after epoch 40 : 0.043376704728365384\n",
      "Loss after epoch 50 : 0.040770202367678185\n",
      "Loss after epoch 60 : 0.038860294305149805\n",
      "Loss after epoch 70 : 0.03736125593125599\n",
      "Loss after epoch 80 : 0.03613341806534686\n",
      "Loss after epoch 90 : 0.03510132105354712\n",
      "Loss after epoch 100 : 0.03421288749902329\n",
      "Loss after epoch 110 : 0.0334364043505347\n",
      "Loss after epoch 120 : 0.03274701076478729\n",
      "Loss after epoch 130 : 0.03213047805485106\n",
      "Loss after epoch 140 : 0.031574790306967415\n",
      "Loss after epoch 150 : 0.03107057886725876\n",
      "Loss after epoch 160 : 0.030608844724938876\n",
      "Loss after epoch 170 : 0.030181366074885786\n",
      "Loss after epoch 180 : 0.029782403871707996\n",
      "Loss after epoch 190 : 0.02940811703233811\n",
      "Loss after epoch 200 : 0.029055481797094735\n",
      "Loss after epoch 210 : 0.02872251128396035\n",
      "Loss after epoch 220 : 0.02840742951480179\n",
      "Loss after epoch 230 : 0.02810823500054036\n",
      "Loss after epoch 240 : 0.027822498336231828\n",
      "Loss after epoch 250 : 0.027547921064919875\n",
      "Loss after epoch 260 : 0.02728408598470449\n",
      "Loss after epoch 270 : 0.0270319454909777\n",
      "Loss after epoch 280 : 0.026790297080087625\n",
      "Loss after epoch 290 : 0.026558598693507338\n",
      "Loss after epoch 300 : 0.026336135891730575\n",
      "Loss after epoch 310 : 0.026122311841784825\n",
      "Loss after epoch 320 : 0.025916757349047324\n",
      "Loss after epoch 330 : 0.025718832865064004\n",
      "Loss after epoch 340 : 0.025527957977671555\n",
      "Loss after epoch 350 : 0.025343609269908113\n",
      "Loss after epoch 360 : 0.02516556145308517\n",
      "Loss after epoch 370 : 0.024993318773666173\n",
      "Loss after epoch 380 : 0.024826402665911598\n",
      "Loss after epoch 390 : 0.024664486485752864\n",
      "Loss after epoch 400 : 0.02450743499618944\n",
      "Loss after epoch 410 : 0.0243549764122658\n",
      "Loss after epoch 420 : 0.02420659735885951\n",
      "Loss after epoch 430 : 0.024062606042533657\n",
      "Loss after epoch 440 : 0.02392255641859415\n",
      "Loss after epoch 450 : 0.023786148214667055\n",
      "Loss after epoch 460 : 0.023653132353075333\n",
      "Loss after epoch 470 : 0.023523277998586545\n",
      "Loss after epoch 480 : 0.023396395900259225\n",
      "Loss after epoch 490 : 0.02327228169091458\n",
      "Loss after epoch 500 : 0.023150698879368745\n",
      "Loss after epoch 510 : 0.023031472216067307\n",
      "Loss after epoch 520 : 0.022914534081148314\n",
      "Loss after epoch 530 : 0.02279985006236651\n",
      "Loss after epoch 540 : 0.02268746247365272\n",
      "Loss after epoch 550 : 0.022577621689161716\n",
      "Loss after epoch 560 : 0.022470114531830107\n",
      "Loss after epoch 570 : 0.02236435260987024\n",
      "Loss after epoch 580 : 0.022260191449189896\n",
      "Loss after epoch 590 : 0.0221582922814011\n",
      "Loss after epoch 600 : 0.022058452669635756\n",
      "Loss after epoch 610 : 0.02195828459043226\n",
      "Loss after epoch 620 : 0.02185896639151099\n",
      "Loss after epoch 630 : 0.02176331282808727\n",
      "Loss after epoch 640 : 0.02166943502634556\n",
      "Loss after epoch 650 : 0.021577080907686286\n",
      "Loss after epoch 660 : 0.021486181443750214\n",
      "Loss after epoch 670 : 0.02139651373282275\n",
      "Loss after epoch 680 : 0.021306640155871776\n",
      "Loss after epoch 690 : 0.021219160128331794\n",
      "Loss after epoch 700 : 0.021133125490976085\n",
      "Loss after epoch 710 : 0.021048123327179074\n",
      "Loss after epoch 720 : 0.020964363137545308\n",
      "Loss after epoch 730 : 0.020882072746933395\n",
      "Loss after epoch 740 : 0.020801448605574795\n",
      "Loss after epoch 750 : 0.02072245939680985\n",
      "Loss after epoch 760 : 0.02064493235462\n",
      "Loss after epoch 770 : 0.020568708351473657\n",
      "Loss after epoch 780 : 0.02049368257826361\n",
      "Loss after epoch 790 : 0.02041979874164603\n",
      "Loss after epoch 800 : 0.02034699244341458\n",
      "Loss after epoch 810 : 0.020274876431827217\n",
      "Loss after epoch 820 : 0.020203417736157473\n",
      "Loss after epoch 830 : 0.02013328730984936\n",
      "Loss after epoch 840 : 0.020064618073368772\n",
      "Loss after epoch 850 : 0.019997118193703818\n",
      "Loss after epoch 860 : 0.019930691688995066\n",
      "Loss after epoch 870 : 0.019865268753546318\n",
      "Loss after epoch 880 : 0.019800789839740967\n",
      "Loss after epoch 890 : 0.019737201480312265\n",
      "Loss after epoch 900 : 0.019674452900575436\n",
      "Loss after epoch 910 : 0.019612492435589077\n",
      "Loss after epoch 920 : 0.019551263765382382\n",
      "Loss after epoch 930 : 0.019490703089469957\n",
      "Loss after epoch 940 : 0.019430739725229164\n",
      "Loss after epoch 950 : 0.019371301265029\n",
      "Loss after epoch 960 : 0.01931231391575637\n",
      "Loss after epoch 970 : 0.019253684220067506\n",
      "Loss after epoch 980 : 0.019195300009701426\n",
      "Loss after epoch 990 : 0.019137085542481586\n",
      "Loss after epoch 1001 : 0.01908478694892165\n"
     ]
    }
   ],
   "source": [
    "nn_tanh = HiddenTwo(input_nodes = D, \n",
    "               output_nodes = K, \n",
    "               hidden_nodes_1 = 16,\n",
    "                hidden_nodes_2 = 8,\n",
    "               learning_rate = 0.01,\n",
    "               activation_hidden_1 = tanh,\n",
    "                activation_hidden_2 = tanh,\n",
    "                optimizer ='minibatch',\n",
    "                delta_stop = 1e-5,\n",
    "                patience = 5,)\n",
    "c = nn_tanh.run(X_train, y_train_cat, epochs=1000 )"
   ]
  },
  {
   "cell_type": "code",
   "execution_count": 904,
   "id": "78f00dcb",
   "metadata": {},
   "outputs": [
    {
     "name": "stdout",
     "output_type": "stream",
     "text": [
      "Accuracy : 0.8468\n"
     ]
    }
   ],
   "source": [
    "acc = nn_tanh.evaluate(X_test, y_test)\n"
   ]
  },
  {
   "cell_type": "markdown",
   "id": "01b039c3",
   "metadata": {},
   "source": [
    "More training"
   ]
  },
  {
   "cell_type": "code",
   "execution_count": 906,
   "id": "42e4c49a",
   "metadata": {
    "collapsed": true
   },
   "outputs": [
    {
     "name": "stdout",
     "output_type": "stream",
     "text": [
      "Loss after epoch 10 : 0.019020891934576473\n",
      "Loss after epoch 20 : 0.018963615729445486\n",
      "Loss after epoch 30 : 0.018907686094280562\n",
      "Loss after epoch 40 : 0.01885279847465595\n",
      "Loss after epoch 50 : 0.01879883065217914\n",
      "Loss after epoch 60 : 0.018745665338184725\n",
      "Loss after epoch 70 : 0.018693212279887867\n",
      "Loss after epoch 80 : 0.018641389862810345\n",
      "Loss after epoch 90 : 0.018590013001725147\n",
      "Loss after epoch 100 : 0.01853744231361625\n",
      "Loss after epoch 110 : 0.018487038401415332\n",
      "Loss after epoch 120 : 0.018437234868751907\n",
      "Loss after epoch 130 : 0.018387972154104665\n",
      "Loss after epoch 140 : 0.018338980674610126\n",
      "Loss after epoch 150 : 0.018289820247467416\n",
      "Loss after epoch 160 : 0.018242177694314313\n",
      "Loss after epoch 170 : 0.018195403510155816\n",
      "Loss after epoch 180 : 0.018149204368835017\n",
      "Loss after epoch 190 : 0.01810349797833168\n",
      "Loss after epoch 200 : 0.018058245299570546\n",
      "Loss after epoch 210 : 0.018013413575097257\n",
      "Loss after epoch 220 : 0.017968975369529617\n",
      "Loss after epoch 230 : 0.01792493066522521\n",
      "Loss after epoch 240 : 0.017881303897141605\n",
      "Loss after epoch 250 : 0.01783810929291968\n",
      "Loss after epoch 260 : 0.017795340626464533\n",
      "Loss after epoch 270 : 0.01775298440488827\n",
      "Loss after epoch 280 : 0.017711026133094495\n",
      "Loss after epoch 290 : 0.01766944749445524\n",
      "Loss after epoch 300 : 0.01762822413670755\n",
      "Loss after epoch 310 : 0.017587323413662898\n",
      "Loss after epoch 320 : 0.01754671919508892\n",
      "Loss after epoch 330 : 0.017506464030356456\n",
      "Loss after epoch 340 : 0.017466585809318997\n",
      "Loss after epoch 350 : 0.0174270829471636\n",
      "Loss after epoch 360 : 0.017387965547507947\n",
      "Loss after epoch 370 : 0.01734925375739945\n",
      "Loss after epoch 380 : 0.017310955427098186\n",
      "Loss after epoch 390 : 0.01727305884845099\n",
      "Loss after epoch 400 : 0.01723554115667969\n",
      "Loss after epoch 410 : 0.017198376439000868\n",
      "Loss after epoch 420 : 0.01716153857221955\n",
      "Loss after epoch 430 : 0.017125000404754724\n",
      "Loss after epoch 440 : 0.017088730036229443\n",
      "Loss after epoch 450 : 0.017052681667654473\n",
      "Loss after epoch 460 : 0.017016772662695537\n",
      "Loss after epoch 470 : 0.016980839253041426\n",
      "Loss after epoch 480 : 0.01694471242634897\n",
      "Loss after epoch 490 : 0.016908713444914212\n",
      "Loss after epoch 500 : 0.01687321055174958\n",
      "Loss after epoch 510 : 0.016838120095582113\n",
      "Loss after epoch 520 : 0.016803335538513455\n",
      "Loss after epoch 530 : 0.016768793717820467\n",
      "Loss after epoch 540 : 0.016734453089391896\n",
      "Loss after epoch 550 : 0.016700286280168123\n",
      "Loss after epoch 560 : 0.01666628309798161\n",
      "Loss after epoch 570 : 0.01663247212015825\n",
      "Loss after epoch 580 : 0.0165989297300485\n",
      "Loss after epoch 590 : 0.016565714476029916\n",
      "Loss after epoch 600 : 0.016532825099597206\n",
      "Loss after epoch 610 : 0.016500241837721873\n",
      "Loss after epoch 620 : 0.01646794972449185\n",
      "Loss after epoch 630 : 0.016435935247458636\n",
      "Loss after epoch 640 : 0.016404186677956487\n",
      "Loss after epoch 650 : 0.016372693978172734\n",
      "Loss after epoch 660 : 0.01634144619813658\n",
      "Loss after epoch 670 : 0.016310431634715353\n",
      "Loss after epoch 680 : 0.01627963925122533\n",
      "Loss after epoch 690 : 0.01624905983781696\n",
      "Loss after epoch 700 : 0.01621868677960569\n",
      "Loss after epoch 710 : 0.016188516243447606\n",
      "Loss after epoch 720 : 0.01615854661387393\n",
      "Loss after epoch 730 : 0.016128777614104365\n",
      "Loss after epoch 740 : 0.016099210109281552\n",
      "Loss after epoch 750 : 0.016069846693282003\n",
      "Loss after epoch 760 : 0.016040691003909473\n",
      "Loss after epoch 770 : 0.01601174424167165\n",
      "Loss after epoch 780 : 0.015983001385510065\n",
      "Loss after epoch 790 : 0.015954448977690803\n",
      "Loss after epoch 800 : 0.015926058909786107\n",
      "Loss after epoch 810 : 0.015897761275310243\n",
      "Loss after epoch 820 : 0.0158694549163686\n",
      "Loss after epoch 830 : 0.01584126279110996\n",
      "Loss after epoch 840 : 0.015813312222986854\n",
      "Loss after epoch 850 : 0.01578557923412807\n",
      "Loss after epoch 860 : 0.015758038278235017\n",
      "Loss after epoch 870 : 0.01573066766435764\n",
      "Loss after epoch 880 : 0.015703416714273714\n",
      "Loss after epoch 890 : 0.015676072049238245\n",
      "Loss after epoch 900 : 0.015648927690522268\n",
      "Loss after epoch 910 : 0.015622135274876553\n",
      "Loss after epoch 920 : 0.015595529601902965\n",
      "Loss after epoch 930 : 0.01556908103853759\n",
      "Loss after epoch 940 : 0.015542778731499016\n",
      "Loss after epoch 950 : 0.015516615742845257\n",
      "Loss after epoch 960 : 0.015490585773572521\n",
      "Loss after epoch 970 : 0.015464682032229733\n",
      "Loss after epoch 980 : 0.01543889916287928\n",
      "Loss after epoch 990 : 0.015413240251982997\n",
      "Loss after epoch 1001 : 0.015390263209062484\n"
     ]
    }
   ],
   "source": [
    "c = nn_tanh.run(X_train, y_train_cat, epochs=1000 )"
   ]
  },
  {
   "cell_type": "code",
   "execution_count": 907,
   "id": "6215503b",
   "metadata": {},
   "outputs": [
    {
     "name": "stdout",
     "output_type": "stream",
     "text": [
      "Accuracy : 0.8372\n"
     ]
    }
   ],
   "source": [
    "acc = nn_tanh.evaluate(X_test, y_test)\n"
   ]
  },
  {
   "cell_type": "code",
   "execution_count": 908,
   "id": "cd57b6dd",
   "metadata": {},
   "outputs": [
    {
     "name": "stdout",
     "output_type": "stream",
     "text": [
      "Accuracy : 0.9524833333333333\n"
     ]
    }
   ],
   "source": [
    "acc = nn_tanh.evaluate(X_train, y_train)\n"
   ]
  },
  {
   "cell_type": "markdown",
   "id": "58215bd4",
   "metadata": {},
   "source": [
    "Accuracy went down, we are overfitting. Back at  ReLu "
   ]
  },
  {
   "cell_type": "markdown",
   "id": "53d76d15",
   "metadata": {},
   "source": [
    "### Relu"
   ]
  },
  {
   "cell_type": "code",
   "execution_count": 920,
   "id": "c0f8e4ad",
   "metadata": {
    "collapsed": true
   },
   "outputs": [
    {
     "name": "stdout",
     "output_type": "stream",
     "text": [
      "Loss after epoch 10 : 0.05177909625908198\n",
      "Loss after epoch 20 : 0.0443501633672035\n",
      "Loss after epoch 30 : 0.040950448805973774\n",
      "Loss after epoch 40 : 0.03882887086675694\n",
      "Loss after epoch 50 : 0.03731279051214495\n",
      "Loss after epoch 60 : 0.03613102220038927\n",
      "Loss after epoch 70 : 0.035163296250973954\n",
      "Loss after epoch 80 : 0.034336701624126865\n",
      "Loss after epoch 90 : 0.03361460882884629\n",
      "Loss after epoch 100 : 0.03298027113491394\n",
      "Loss after epoch 110 : 0.032423884056834024\n",
      "Loss after epoch 120 : 0.031917016030691255\n",
      "Loss after epoch 130 : 0.03145603189726815\n",
      "Loss after epoch 140 : 0.03103099124736117\n",
      "Loss after epoch 150 : 0.030635345030684435\n",
      "Loss after epoch 160 : 0.030269651365932508\n",
      "Loss after epoch 170 : 0.029929497945016637\n",
      "Loss after epoch 180 : 0.02960954288919598\n",
      "Loss after epoch 190 : 0.029305847646692133\n",
      "Loss after epoch 200 : 0.029014195590523033\n",
      "Loss after epoch 210 : 0.02873472185941939\n",
      "Loss after epoch 220 : 0.028472668363352237\n",
      "Loss after epoch 230 : 0.028219930800997953\n",
      "Loss after epoch 240 : 0.02797863313902341\n",
      "Loss after epoch 250 : 0.027746388832011505\n",
      "Loss after epoch 260 : 0.02752445972755519\n",
      "Loss after epoch 270 : 0.027307810188620937\n",
      "Loss after epoch 280 : 0.027097815480367417\n",
      "Loss after epoch 290 : 0.02689731304841613\n",
      "Loss after epoch 300 : 0.026702125623781214\n",
      "Loss after epoch 310 : 0.02651614229160302\n",
      "Loss after epoch 320 : 0.026333236131902617\n",
      "Loss after epoch 330 : 0.02615700615182702\n",
      "Loss after epoch 340 : 0.02598733944694935\n",
      "Loss after epoch 350 : 0.025821277008370152\n",
      "Loss after epoch 360 : 0.025660536004121076\n",
      "Loss after epoch 370 : 0.025501684776679235\n",
      "Loss after epoch 380 : 0.025349536925562063\n",
      "Loss after epoch 390 : 0.025201639242394422\n",
      "Loss after epoch 400 : 0.025059795216847567\n",
      "Loss after epoch 410 : 0.024921197727843483\n",
      "Loss after epoch 420 : 0.02478688284877135\n",
      "Loss after epoch 430 : 0.024654684936070932\n",
      "Loss after epoch 440 : 0.02452780425869729\n",
      "Loss after epoch 450 : 0.024403293724217543\n",
      "Loss after epoch 460 : 0.02428296278302772\n",
      "Loss after epoch 470 : 0.02416443110632063\n",
      "Loss after epoch 480 : 0.024048439598670764\n",
      "Loss after epoch 490 : 0.02393789592145964\n",
      "Loss after epoch 500 : 0.02382853478689078\n",
      "Loss after epoch 510 : 0.023718493310296435\n",
      "Loss after epoch 520 : 0.023608685276579264\n",
      "Loss after epoch 530 : 0.023508771670395626\n",
      "Loss after epoch 540 : 0.023408359723844207\n",
      "Loss after epoch 550 : 0.02330587864421602\n",
      "Loss after epoch 560 : 0.023207062526305274\n",
      "Loss after epoch 570 : 0.02310692661292129\n",
      "Loss after epoch 580 : 0.023010593964935037\n",
      "Loss after epoch 590 : 0.02291801158590605\n",
      "Loss after epoch 600 : 0.022826626163286293\n",
      "Loss after epoch 610 : 0.022734561882280974\n",
      "Loss after epoch 620 : 0.022646959453213572\n",
      "Loss after epoch 630 : 0.022559721204591772\n",
      "Loss after epoch 640 : 0.022474919307488645\n",
      "Loss after epoch 650 : 0.0223944075224972\n",
      "Loss after epoch 660 : 0.022310488606961106\n",
      "Loss after epoch 670 : 0.022232422897332602\n",
      "Loss after epoch 680 : 0.022153269670757342\n",
      "Loss after epoch 690 : 0.022076232232900984\n",
      "Loss after epoch 700 : 0.022000332729454074\n",
      "Loss after epoch 710 : 0.021928147146322362\n",
      "Loss after epoch 720 : 0.021855857043901444\n",
      "Loss after epoch 730 : 0.0217846089091813\n",
      "Loss after epoch 740 : 0.0217159463158957\n",
      "Loss after epoch 750 : 0.02164717673643766\n",
      "Loss after epoch 760 : 0.021581130752717927\n",
      "Loss after epoch 770 : 0.021517143289665974\n",
      "Loss after epoch 780 : 0.021454830598581193\n",
      "Loss after epoch 790 : 0.021394453613003\n",
      "Loss after epoch 800 : 0.021332668556308526\n",
      "Loss after epoch 810 : 0.021270105128018208\n",
      "Loss after epoch 820 : 0.021210098814236966\n",
      "Loss after epoch 830 : 0.02115054620303972\n",
      "Loss after epoch 840 : 0.021091756727530178\n",
      "Loss after epoch 850 : 0.021036931519593786\n",
      "Loss after epoch 860 : 0.020977724982041233\n",
      "Loss after epoch 870 : 0.02092022662314935\n",
      "Loss after epoch 880 : 0.02086678944640413\n",
      "Loss after epoch 890 : 0.020811846154970864\n",
      "Loss after epoch 900 : 0.02075883616448094\n",
      "Loss after epoch 910 : 0.020704768519889685\n",
      "Loss after epoch 920 : 0.020651331643774713\n",
      "Loss after epoch 930 : 0.020600594199135534\n",
      "Loss after epoch 940 : 0.020546319385516806\n",
      "Loss after epoch 950 : 0.02049774576046974\n",
      "Loss after epoch 960 : 0.020445659395478103\n",
      "Loss after epoch 970 : 0.02039561874718478\n",
      "Loss after epoch 980 : 0.020347507128544648\n",
      "Loss after epoch 990 : 0.020295697199217543\n",
      "Loss after epoch 1001 : 0.02025170204729033\n"
     ]
    }
   ],
   "source": [
    "nn_relu = HiddenTwo(input_nodes = D, \n",
    "               output_nodes = K, \n",
    "               hidden_nodes_1 = 16,\n",
    "                hidden_nodes_2 = 8,\n",
    "               learning_rate = 0.01,\n",
    "               activation_hidden_1 = relu,\n",
    "                activation_hidden_2 = relu,\n",
    "                optimizer ='minibatch',\n",
    "                delta_stop = 1e-4,\n",
    "                patience = 5,)\n",
    "c = nn_relu.run(X_train, y_train_cat, epochs=1000 )"
   ]
  },
  {
   "cell_type": "code",
   "execution_count": 921,
   "id": "571a8d06",
   "metadata": {},
   "outputs": [
    {
     "name": "stdout",
     "output_type": "stream",
     "text": [
      "Accuracy : 0.8505\n"
     ]
    }
   ],
   "source": [
    "acc = nn_relu.evaluate(X_test, y_test)\n"
   ]
  },
  {
   "cell_type": "code",
   "execution_count": 922,
   "id": "545ac0a9",
   "metadata": {},
   "outputs": [
    {
     "name": "stdout",
     "output_type": "stream",
     "text": [
      "Accuracy : 0.9524833333333333\n"
     ]
    }
   ],
   "source": [
    "#train set\n",
    "acc = nn_tanh.evaluate(X_train, y_train)\n"
   ]
  },
  {
   "cell_type": "markdown",
   "id": "0ed950a5",
   "metadata": {},
   "source": [
    "85% accuracy nice, adding more epochs"
   ]
  },
  {
   "cell_type": "code",
   "execution_count": 923,
   "id": "8d5230de",
   "metadata": {
    "collapsed": true
   },
   "outputs": [
    {
     "name": "stdout",
     "output_type": "stream",
     "text": [
      "Loss after epoch 10 : 0.020201194120543095\n",
      "Loss after epoch 20 : 0.020153698093367266\n",
      "Loss after epoch 30 : 0.020110659825287557\n",
      "Loss after epoch 40 : 0.02006570669663285\n",
      "Loss after epoch 50 : 0.020018380289486003\n",
      "Loss after epoch 60 : 0.019972653073159208\n",
      "Loss after epoch 70 : 0.019926610809173777\n",
      "Loss after epoch 80 : 0.019881981325148596\n",
      "Loss after epoch 90 : 0.019838914086045815\n",
      "Loss after epoch 100 : 0.019791553490276243\n",
      "Loss after epoch 110 : 0.019751618456815823\n",
      "Loss after epoch 120 : 0.019703599056252515\n",
      "Loss after epoch 130 : 0.01966425787919436\n",
      "Loss after epoch 140 : 0.0196270150978737\n",
      "Loss after epoch 150 : 0.019577903076698225\n",
      "Loss after epoch 160 : 0.019540034121426266\n",
      "Loss after epoch 170 : 0.019496932350959065\n",
      "Loss after epoch 180 : 0.01945953465356411\n",
      "Loss after epoch 190 : 0.01941672499985153\n",
      "Loss after epoch 200 : 0.019379156806976796\n",
      "Loss after epoch 210 : 0.01933688913898402\n",
      "Loss after epoch 220 : 0.019301787878080172\n",
      "Loss after epoch 230 : 0.01926035335628501\n",
      "Loss after epoch 240 : 0.0192205563590515\n",
      "Loss after epoch 250 : 0.019182522238094902\n",
      "Loss after epoch 260 : 0.019142968143717975\n",
      "Loss after epoch 270 : 0.01910485641785248\n",
      "Loss after epoch 280 : 0.01906891052130147\n",
      "Loss after epoch 290 : 0.01903485234319574\n",
      "Loss after epoch 301 : 0.018997299238857582\n"
     ]
    }
   ],
   "source": [
    "c = nn_relu.run(X_train, y_train_cat, epochs=300)"
   ]
  },
  {
   "cell_type": "code",
   "execution_count": 924,
   "id": "a76aadaa",
   "metadata": {},
   "outputs": [
    {
     "name": "stdout",
     "output_type": "stream",
     "text": [
      "Accuracy : 0.8473\n"
     ]
    }
   ],
   "source": [
    "# Test set \n",
    "acc = nn_relu.evaluate(X_test, y_test)"
   ]
  },
  {
   "cell_type": "code",
   "execution_count": 925,
   "id": "7e669236",
   "metadata": {},
   "outputs": [
    {
     "name": "stdout",
     "output_type": "stream",
     "text": [
      "Accuracy : 0.9323833333333333\n"
     ]
    }
   ],
   "source": [
    "acc = nn_relu.evaluate(X_train, y_train)"
   ]
  },
  {
   "cell_type": "markdown",
   "id": "2596142e",
   "metadata": {},
   "source": [
    "We are overfitting, we move to adam."
   ]
  },
  {
   "cell_type": "markdown",
   "id": "384cc27e",
   "metadata": {},
   "source": [
    "[Back to top](#Content:)\n",
    "\n",
    "<a id='part7.5'></a>\n",
    "## Adam"
   ]
  },
  {
   "cell_type": "markdown",
   "id": "7bd43d29",
   "metadata": {},
   "source": [
    "### tanh"
   ]
  },
  {
   "cell_type": "code",
   "execution_count": 943,
   "id": "aa2332fe",
   "metadata": {
    "collapsed": true
   },
   "outputs": [
    {
     "name": "stdout",
     "output_type": "stream",
     "text": [
      "Loss after epoch 10 : 0.15120156129746481\n",
      "Loss after epoch 20 : 0.12344157871765024\n",
      "Loss after epoch 30 : 0.10796038945177726\n",
      "Loss after epoch 40 : 0.09860091744414928\n",
      "Loss after epoch 50 : 0.09214218800928618\n",
      "Loss after epoch 60 : 0.0876846245683957\n",
      "Loss after epoch 70 : 0.0845057619473858\n",
      "Loss after epoch 80 : 0.08206823272193402\n",
      "Loss after epoch 90 : 0.0802398833226977\n",
      "Loss after epoch 100 : 0.07876693344015889\n",
      "Loss after epoch 110 : 0.07731599822976618\n",
      "Loss after epoch 120 : 0.07603273756910556\n",
      "Loss after epoch 130 : 0.07475703292586805\n",
      "Loss after epoch 140 : 0.07362804411815349\n",
      "Loss after epoch 150 : 0.07267933569826293\n",
      "Loss after epoch 160 : 0.07177440931183142\n",
      "Loss after epoch 170 : 0.07094275737968961\n",
      "Loss after epoch 180 : 0.07020051175366927\n",
      "Loss after epoch 190 : 0.06960172860887255\n",
      "Loss after epoch 200 : 0.06906587035414596\n",
      "Loss after epoch 210 : 0.06858409176668022\n",
      "Loss after epoch 220 : 0.06819064273062508\n",
      "Loss after epoch 230 : 0.06781998329213623\n",
      "Loss after epoch 240 : 0.06742264693193722\n",
      "Loss after epoch 250 : 0.06706909343744893\n",
      "Loss after epoch 260 : 0.06676726051034398\n",
      "Loss after epoch 270 : 0.0664853492706584\n",
      "Loss after epoch 280 : 0.0662045890092282\n",
      "Loss after epoch 290 : 0.0659433371095684\n",
      "Loss after epoch 300 : 0.06568053265532081\n",
      "Loss after epoch 310 : 0.06543796337581882\n",
      "Loss after epoch 320 : 0.06517075021740067\n",
      "Loss after epoch 330 : 0.06493448498483448\n",
      "Loss after epoch 340 : 0.06475435819880612\n",
      "Loss after epoch 350 : 0.06445845237492374\n",
      "Loss after epoch 360 : 0.06417247101414786\n",
      "Loss after epoch 370 : 0.06391813881019247\n",
      "Loss after epoch 380 : 0.06365504052088958\n",
      "Loss after epoch 390 : 0.06339440831867085\n",
      "Loss after epoch 400 : 0.06317242923188032\n",
      "Loss after epoch 410 : 0.06297390699424728\n",
      "Loss after epoch 420 : 0.06276851279805681\n",
      "Loss after epoch 430 : 0.0625604779811044\n",
      "Loss after epoch 440 : 0.06237653426888516\n",
      "Loss after epoch 450 : 0.06216818975556446\n",
      "Loss after epoch 460 : 0.06194606633588441\n",
      "Loss after epoch 470 : 0.06174743077824929\n",
      "Loss after epoch 480 : 0.06168562438452624\n",
      "Loss after epoch 490 : 0.06138408940609974\n",
      "Loss after epoch 501 : 0.06118095395042031\n"
     ]
    }
   ],
   "source": [
    "nn_tanh = HiddenTwo(input_nodes = D, \n",
    "               output_nodes = K, \n",
    "               hidden_nodes_1 = 8,\n",
    "                hidden_nodes_2 = 4,\n",
    "               learning_rate = 0.01,\n",
    "               activation_hidden_1 = tanh,\n",
    "                activation_hidden_2 = tanh,\n",
    "                optimizer ='adam',\n",
    "                delta_stop = 1e-4,\n",
    "                patience = 5,)\n",
    "c = nn_tanh.run(X_train, y_train_cat, epochs=500 )"
   ]
  },
  {
   "cell_type": "code",
   "execution_count": 946,
   "id": "fdc94f7e",
   "metadata": {},
   "outputs": [
    {
     "name": "stdout",
     "output_type": "stream",
     "text": [
      "Test set accuracy\n",
      "Accuracy : 0.7535\n",
      "Train set accuracy\n",
      "Accuracy : 0.7739666666666667\n"
     ]
    }
   ],
   "source": [
    "# Test set \n",
    "print('Test set accuracy')\n",
    "acc = nn_tanh.evaluate(X_test, y_test)\n",
    "\n",
    "# Train set \n",
    "print('Train set accuracy')\n",
    "acc = nn_tanh.evaluate(X_train, y_train)"
   ]
  },
  {
   "cell_type": "markdown",
   "id": "c47c26bf",
   "metadata": {},
   "source": [
    "### ReLu "
   ]
  },
  {
   "cell_type": "code",
   "execution_count": 948,
   "id": "562d26be",
   "metadata": {
    "collapsed": true
   },
   "outputs": [
    {
     "name": "stdout",
     "output_type": "stream",
     "text": [
      "Loss after epoch 10 : 0.19714237393683834\n",
      "Loss after epoch 20 : 0.15054508633394986\n",
      "Loss after epoch 30 : 0.12726420409545686\n",
      "Loss after epoch 40 : 0.11243340295745523\n",
      "Loss after epoch 50 : 0.10173779282827461\n",
      "Loss after epoch 60 : 0.09488255307254606\n",
      "Loss after epoch 70 : 0.09004251326594795\n",
      "Loss after epoch 80 : 0.08609865198351713\n",
      "Loss after epoch 90 : 0.08160952241434824\n",
      "Loss after epoch 100 : 0.07578751257633969\n",
      "Loss after epoch 110 : 0.0713064447708047\n",
      "Loss after epoch 120 : 0.0679493672736777\n",
      "Loss after epoch 130 : 0.06535787262023415\n",
      "Loss after epoch 140 : 0.0633568245949392\n",
      "Loss after epoch 150 : 0.06176235885235458\n",
      "Loss after epoch 160 : 0.06046926306047273\n",
      "Loss after epoch 170 : 0.05939327669326018\n",
      "Loss after epoch 180 : 0.058484989552817966\n",
      "Loss after epoch 190 : 0.05771902040051211\n",
      "Loss after epoch 200 : 0.057052894244009306\n",
      "Loss after epoch 210 : 0.05647270813844721\n",
      "Loss after epoch 220 : 0.055939599818752433\n",
      "Loss after epoch 230 : 0.055453993580473156\n",
      "Loss after epoch 240 : 0.05500002204819892\n",
      "Loss after epoch 250 : 0.0545675606978347\n",
      "Loss after epoch 260 : 0.05415552009562481\n",
      "Loss after epoch 270 : 0.05376345688132617\n",
      "Loss after epoch 280 : 0.05337990424560896\n",
      "Loss after epoch 290 : 0.052996953890159994\n",
      "Loss after epoch 300 : 0.05260610372013598\n",
      "Loss after epoch 310 : 0.05218132547384565\n",
      "Loss after epoch 320 : 0.05169493762732227\n",
      "Loss after epoch 330 : 0.05113635311196272\n",
      "Loss after epoch 340 : 0.05049426361478579\n",
      "Loss after epoch 350 : 0.049765324495872\n",
      "Loss after epoch 360 : 0.04905380312614529\n",
      "Loss after epoch 370 : 0.04836988661372606\n",
      "Loss after epoch 380 : 0.047776483981234075\n",
      "Loss after epoch 390 : 0.04725236084612903\n",
      "Loss after epoch 400 : 0.04672515171761335\n",
      "Loss after epoch 410 : 0.046143136221872307\n",
      "Loss after epoch 420 : 0.04535029088460384\n",
      "Loss after epoch 430 : 0.04420139099694923\n",
      "Loss after epoch 440 : 0.0434206329122453\n",
      "Loss after epoch 450 : 0.04272551524537215\n",
      "Loss after epoch 460 : 0.04218589521133186\n",
      "Loss after epoch 470 : 0.041731780226700196\n",
      "Loss after epoch 480 : 0.04133974482999701\n",
      "Loss after epoch 490 : 0.04098869279679084\n",
      "Loss after epoch 500 : 0.0406682783346371\n",
      "Loss after epoch 510 : 0.040372158615132735\n",
      "Loss after epoch 520 : 0.04008878239330165\n",
      "Loss after epoch 530 : 0.039823371223366676\n",
      "Loss after epoch 540 : 0.03961350498444202\n",
      "Loss after epoch 550 : 0.03931413905756967\n",
      "Loss after epoch 560 : 0.039069456797447444\n",
      "Loss after epoch 570 : 0.03881295483328292\n",
      "Loss after epoch 580 : 0.03856441451143808\n",
      "Loss after epoch 590 : 0.038325825782494466\n",
      "Loss after epoch 600 : 0.03810123443016678\n",
      "Loss after epoch 610 : 0.03788336586023297\n",
      "Loss after epoch 620 : 0.03764635489104002\n",
      "Loss after epoch 630 : 0.037403752446753154\n",
      "Loss after epoch 640 : 0.037167172676853245\n",
      "Loss after epoch 650 : 0.036945702286463274\n",
      "Loss after epoch 660 : 0.036734523836916354\n",
      "Loss after epoch 670 : 0.03654460969143972\n",
      "Loss after epoch 680 : 0.036356534726581215\n",
      "Loss after epoch 690 : 0.03617748523209881\n",
      "Loss after epoch 700 : 0.036008010095350484\n",
      "Loss after epoch 710 : 0.03584201235412106\n",
      "Loss after epoch 720 : 0.03567889535367039\n",
      "Loss after epoch 730 : 0.035521376294835524\n",
      "Loss after epoch 740 : 0.03537906622277603\n",
      "Loss after epoch 750 : 0.03521909106778782\n",
      "Loss after epoch 760 : 0.035096560671898126\n",
      "Loss after epoch 770 : 0.03493027463450514\n",
      "Loss after epoch 780 : 0.03479672403247411\n",
      "Loss after epoch 790 : 0.03465285447646678\n",
      "Loss after epoch 800 : 0.034505167187255915\n",
      "Loss after epoch 810 : 0.03437210477306326\n",
      "Loss after epoch 820 : 0.034226086840411944\n",
      "Loss after epoch 830 : 0.03408793406072687\n",
      "Loss after epoch 840 : 0.03397855876674817\n",
      "Loss after epoch 850 : 0.033821323040079676\n",
      "Loss after epoch 860 : 0.0336775492621845\n",
      "Loss after epoch 870 : 0.033595749634858486\n",
      "Loss after epoch 880 : 0.033418613495649556\n",
      "Loss after epoch 890 : 0.03329152891800035\n",
      "Loss after epoch 900 : 0.0331922947001859\n",
      "Loss after epoch 910 : 0.03310613850773969\n",
      "Loss after epoch 920 : 0.03295762532705547\n",
      "Loss after epoch 930 : 0.03283117253053964\n",
      "Loss after epoch 940 : 0.03282393481471606\n",
      "Loss after epoch 950 : 0.032683252237196\n",
      "Loss after epoch 960 : 0.03252966975476138\n",
      "Loss after epoch 970 : 0.03238233838717525\n",
      "Loss after epoch 980 : 0.03240545905721773\n",
      "Loss after epoch 990 : 0.03224164487504021\n",
      "Loss after epoch 1001 : 0.03209374878950175\n"
     ]
    }
   ],
   "source": [
    "nn_relu = HiddenTwo(input_nodes = D, \n",
    "               output_nodes = K, \n",
    "               hidden_nodes_1 = 16,\n",
    "                hidden_nodes_2 = 8,\n",
    "               learning_rate = 0.01,\n",
    "               activation_hidden_1 = relu,\n",
    "                activation_hidden_2 = relu,\n",
    "                optimizer ='adam',\n",
    "                delta_stop = 1e-4,\n",
    "                patience = 5,)\n",
    "c = nn_relu.run(X_train, y_train_cat, epochs=1000 )"
   ]
  },
  {
   "cell_type": "code",
   "execution_count": 949,
   "id": "9b0a4919",
   "metadata": {},
   "outputs": [
    {
     "name": "stdout",
     "output_type": "stream",
     "text": [
      "Test set accuracy\n",
      "Accuracy : 0.8466\n",
      "-------------------\n",
      "Train set accuracy\n",
      "Accuracy : 0.8896\n"
     ]
    }
   ],
   "source": [
    "# Test set \n",
    "print('Test set accuracy')\n",
    "acc = nn_relu.evaluate(X_test, y_test)\n",
    "print('-------------------')\n",
    "# Train set \n",
    "print('Train set accuracy')\n",
    "acc = nn_relu.evaluate(X_train, y_train)"
   ]
  },
  {
   "cell_type": "markdown",
   "id": "41cea5c6",
   "metadata": {},
   "source": [
    "[Back to top](#Content:)\n",
    "\n",
    "\n",
    "<a id='part8'></a>\n",
    "\n",
    "## Part 8 -  Best model analysis\n"
   ]
  },
  {
   "cell_type": "code",
   "execution_count": 20,
   "id": "527ef8fe",
   "metadata": {
    "collapsed": true
   },
   "outputs": [
    {
     "name": "stdout",
     "output_type": "stream",
     "text": [
      "Loss after epoch 10 : 0.04607803665487075\n",
      "Loss after epoch 20 : 0.04104042821755706\n",
      "Loss after epoch 30 : 0.038521107876168324\n",
      "Loss after epoch 40 : 0.03687437226356114\n",
      "Loss after epoch 50 : 0.03566473378327373\n",
      "Loss after epoch 60 : 0.034708709830504655\n",
      "Loss after epoch 70 : 0.033923364927821054\n",
      "Loss after epoch 80 : 0.03325601077676521\n",
      "Loss after epoch 90 : 0.032674283541531686\n",
      "Loss after epoch 100 : 0.03216074830328571\n",
      "Loss after epoch 110 : 0.03169910679698007\n",
      "Loss after epoch 120 : 0.031275072198433534\n",
      "Loss after epoch 130 : 0.030883990976763212\n",
      "Loss after epoch 140 : 0.03052078433427354\n",
      "Loss after epoch 150 : 0.030184239973228\n",
      "Loss after epoch 160 : 0.02986566277574556\n",
      "Loss after epoch 170 : 0.02956283855493977\n",
      "Loss after epoch 180 : 0.029277423265509823\n",
      "Loss after epoch 190 : 0.029005499104993723\n",
      "Loss after epoch 200 : 0.028744801380934198\n",
      "Loss after epoch 210 : 0.02849044180108226\n",
      "Loss after epoch 220 : 0.02824605189139131\n",
      "Loss after epoch 230 : 0.028011371716131005\n",
      "Loss after epoch 240 : 0.027785093555899202\n",
      "Loss after epoch 250 : 0.027567839312602278\n",
      "Loss after epoch 260 : 0.027357692299944076\n",
      "Loss after epoch 270 : 0.027154115265983946\n",
      "Loss after epoch 280 : 0.026960377633874055\n",
      "Loss after epoch 290 : 0.026771635345263705\n",
      "Loss after epoch 300 : 0.026587438548501797\n",
      "Loss after epoch 310 : 0.026410132689011257\n",
      "Loss after epoch 320 : 0.026236702820054674\n",
      "Loss after epoch 330 : 0.02606724583932638\n",
      "Loss after epoch 340 : 0.025902689921069495\n",
      "Loss after epoch 350 : 0.0257410276203514\n",
      "Loss after epoch 360 : 0.025583925144547697\n",
      "Loss after epoch 370 : 0.025429632729698504\n",
      "Loss after epoch 380 : 0.025279588766098527\n",
      "Loss after epoch 390 : 0.02513490565376109\n",
      "Loss after epoch 400 : 0.02499313344404534\n",
      "Loss after epoch 410 : 0.02485470570037955\n",
      "Loss after epoch 420 : 0.02472075475260909\n",
      "Loss after epoch 430 : 0.02458699386269366\n",
      "Loss after epoch 440 : 0.02445816472280314\n",
      "Loss after epoch 450 : 0.024331140907911313\n",
      "Loss after epoch 460 : 0.024208484406357544\n",
      "Loss after epoch 470 : 0.02408806293100579\n",
      "Loss after epoch 480 : 0.023967674025157308\n",
      "Loss after epoch 490 : 0.023850469319229895\n",
      "Loss after epoch 500 : 0.023735596324511974\n",
      "Loss after epoch 510 : 0.023620390313886866\n",
      "Loss after epoch 520 : 0.023508566513765563\n",
      "Loss after epoch 530 : 0.023397907719577123\n",
      "Loss after epoch 540 : 0.023290811515269436\n",
      "Loss after epoch 550 : 0.02318448086264002\n",
      "Loss after epoch 560 : 0.023080105932302614\n",
      "Loss after epoch 570 : 0.022977133772330682\n",
      "Loss after epoch 580 : 0.022876205667202408\n",
      "Loss after epoch 590 : 0.02277734101527944\n",
      "Loss after epoch 600 : 0.02268020327981046\n",
      "Loss after epoch 610 : 0.022585244831749854\n",
      "Loss after epoch 620 : 0.022489626157540788\n",
      "Loss after epoch 630 : 0.022397401872518898\n",
      "Loss after epoch 640 : 0.022308057013619716\n",
      "Loss after epoch 650 : 0.022217529845984116\n",
      "Loss after epoch 660 : 0.02212969754021347\n",
      "Loss after epoch 670 : 0.02204319355362901\n",
      "Loss after epoch 680 : 0.02195789065732894\n",
      "Loss after epoch 690 : 0.021874421411427918\n",
      "Loss after epoch 700 : 0.021788445648754394\n",
      "Loss after epoch 710 : 0.021703602307812122\n",
      "Loss after epoch 720 : 0.021622065525658915\n",
      "Loss after epoch 730 : 0.021539610150945635\n",
      "Loss after epoch 740 : 0.02146006460191273\n",
      "Loss after epoch 750 : 0.02138018233394781\n",
      "Loss after epoch 760 : 0.021302890747833512\n",
      "Loss after epoch 770 : 0.02122791677756342\n",
      "Loss after epoch 780 : 0.021155628502708006\n",
      "Loss after epoch 790 : 0.02108379400804501\n",
      "Loss after epoch 800 : 0.021010701822663406\n",
      "Loss after epoch 810 : 0.0209383759031974\n",
      "Loss after epoch 820 : 0.020869081269854855\n",
      "Loss after epoch 830 : 0.020798012629338877\n",
      "Loss after epoch 840 : 0.020729674068371787\n",
      "Loss after epoch 850 : 0.020662517521301573\n",
      "Loss after epoch 860 : 0.020593591690907957\n",
      "Loss after epoch 870 : 0.02052811400339891\n",
      "Loss after epoch 880 : 0.02046264506550694\n",
      "Loss after epoch 890 : 0.020395947325835127\n",
      "Loss after epoch 900 : 0.02033488811668684\n",
      "Loss after epoch 910 : 0.02027045841742732\n",
      "Loss after epoch 920 : 0.020208711725666417\n",
      "Loss after epoch 930 : 0.020147360455685694\n",
      "Loss after epoch 940 : 0.02008482682967949\n",
      "Loss after epoch 950 : 0.020024694307787194\n",
      "Loss after epoch 960 : 0.019964908521037023\n",
      "Loss after epoch 970 : 0.0199050822779085\n",
      "Loss after epoch 980 : 0.01984510815689701\n",
      "Loss after epoch 990 : 0.01978728782007546\n",
      "Loss after 4epoch 1001 : 0.019734673329759596\n"
     ]
    }
   ],
   "source": [
    "nn_relu = HiddenOne(input_nodes = D, \n",
    "               output_nodes = K, \n",
    "               hidden_nodes = 4*M,\n",
    "               learning_rate = 0.01,\n",
    "               activation_hidden = relu,\n",
    "                optimizer ='minibatch',\n",
    "                delta_stop = 1e-5,\n",
    "                patience = 5,)\n",
    "c = nn_relu.run(X_train, y_train_cat, epochs=1000 )"
   ]
  },
  {
   "cell_type": "code",
   "execution_count": 21,
   "id": "1f2711fa",
   "metadata": {},
   "outputs": [
    {
     "name": "stdout",
     "output_type": "stream",
     "text": [
      "Test set accuracy\n",
      "Accuracy : 0.859\n",
      "-------------------\n",
      "Train set accuracy\n",
      "Accuracy : 0.9322833333333334\n"
     ]
    }
   ],
   "source": [
    "# Test set \n",
    "print('Test set accuracy')\n",
    "acc = nn_relu.evaluate(X_test, y_test)\n",
    "print('-------------------')\n",
    "# Train set \n",
    "print('Train set accuracy')\n",
    "acc = nn_relu.evaluate(X_train, y_train)"
   ]
  },
  {
   "cell_type": "markdown",
   "id": "451a3418",
   "metadata": {},
   "source": [
    "### Fashion MNIST labels "
   ]
  },
  {
   "cell_type": "code",
   "execution_count": 22,
   "id": "de365d2a",
   "metadata": {},
   "outputs": [],
   "source": [
    "# Label mapping\n",
    "labels = '''T-shirt/top\n",
    "Trouser\n",
    "Pullover\n",
    "Dress\n",
    "Coat\n",
    "Sandal\n",
    "Shirt\n",
    "Sneaker\n",
    "Bag\n",
    "Ankle boot'''.split(\"\\n\")"
   ]
  },
  {
   "cell_type": "markdown",
   "id": "3962aeeb",
   "metadata": {},
   "source": [
    "### Confusion Matrix"
   ]
  },
  {
   "cell_type": "code",
   "execution_count": 25,
   "id": "dd981266",
   "metadata": {},
   "outputs": [],
   "source": [
    "from sklearn.metrics import confusion_matrix\n",
    "from sklearn.metrics import ConfusionMatrixDisplay"
   ]
  },
  {
   "cell_type": "code",
   "execution_count": 27,
   "id": "9b9cb06a",
   "metadata": {},
   "outputs": [],
   "source": [
    "y_pred = nn_relu.predict_class(X_test)"
   ]
  },
  {
   "cell_type": "code",
   "execution_count": 30,
   "id": "fdd91454",
   "metadata": {},
   "outputs": [
    {
     "data": {
      "image/png": "[encoded data removed]",
      "text/plain": [
       "<Figure size 432x288 with 2 Axes>"
      ]
     },
     "metadata": {
      "needs_background": "light"
     },
     "output_type": "display_data"
    }
   ],
   "source": [
    "cm = confusion_matrix(y_test, y_pred)\n",
    "disp = ConfusionMatrixDisplay(cm)\n",
    "disp.plot()\n",
    "plt.show()"
   ]
  },
  {
   "cell_type": "markdown",
   "id": "fa3e67cc",
   "metadata": {},
   "source": [
    "We can see that the model confuses category 0 and 6, 2 and 6, 2 and 4, 4 and 6. Let's see what they correspond to."
   ]
  },
  {
   "cell_type": "code",
   "execution_count": 32,
   "id": "485fad44",
   "metadata": {},
   "outputs": [
    {
     "name": "stdout",
     "output_type": "stream",
     "text": [
      "Category 0 is : T-shirt/top\n",
      "Category 1 is : Trouser\n",
      "Category 2 is : Pullover\n",
      "Category 3 is : Dress\n",
      "Category 4 is : Coat\n",
      "Category 5 is : Sandal\n",
      "Category 6 is : Shirt\n",
      "Category 7 is : Sneaker\n",
      "Category 8 is : Bag\n",
      "Category 9 is : Ankle boot\n"
     ]
    }
   ],
   "source": [
    "for i in range(len(labels)):\n",
    "    print(f'Category {i} is : {labels[i]}')"
   ]
  },
  {
   "cell_type": "markdown",
   "id": "33697ae3",
   "metadata": {},
   "source": [
    "### Model confuses :\n",
    "\n",
    "- T-shirt/top with Shirt\n",
    "- Pullover and Shirt\n",
    "- Pullover and Coat\n",
    "- Coat and Shirt\n",
    "\n",
    "This makes sense, let's look at some misclassified items."
   ]
  },
  {
   "cell_type": "markdown",
   "id": "87273e13",
   "metadata": {},
   "source": [
    "### Misclassified items \n",
    "\n",
    "Let's look at some misclassified items."
   ]
  },
  {
   "cell_type": "code",
   "execution_count": 40,
   "id": "f7955f9d",
   "metadata": {},
   "outputs": [
    {
     "data": {
      "image/png": "[encoded data removed]",
      "text/plain": [
       "<Figure size 1152x1152 with 9 Axes>"
      ]
     },
     "metadata": {
      "needs_background": "light"
     },
     "output_type": "display_data"
    }
   ],
   "source": [
    "# img to display\n",
    "img = X_test.reshape(-1,28,28)\n",
    "# Show some misclassified examples\n",
    "misclassified_idx = np.where(y_pred != y_test)[0]\n",
    "figure = plt.figure(figsize=(16,16))\n",
    "cols, rows = 3, 3\n",
    "for k in range(1, cols*rows+1):\n",
    "    i = np.random.choice(misclassified_idx)\n",
    "    figure.add_subplot(rows, cols, k)\n",
    "    plt.title(\"True label: %s Predicted: %s\" % (labels[y_test[i]], labels[y_pred[i]]));\n",
    "    plt.imshow(img[i], cmap='gray') \n",
    "plt.show() "
   ]
  }
 ],
 "metadata": {
  "kernelspec": {
   "display_name": "Python 3 (ipykernel)",
   "language": "python",
   "name": "python3"
  },
  "language_info": {
   "codemirror_mode": {
    "name": "ipython",
    "version": 3
   },
   "file_extension": ".py",
   "mimetype": "text/x-python",
   "name": "python",
   "nbconvert_exporter": "python",
   "pygments_lexer": "ipython3",
   "version": "3.7.11"
  }
 },
 "nbformat": 4,
 "nbformat_minor": 5
}
