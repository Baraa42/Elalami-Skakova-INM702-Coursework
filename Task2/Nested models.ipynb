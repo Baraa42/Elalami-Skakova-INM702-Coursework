{
 "cells": [
  {
   "cell_type": "code",
   "execution_count": 40,
   "id": "95a244db",
   "metadata": {},
   "outputs": [],
   "source": [
    "import numpy as np\n",
    "import math\n",
    "from abc import ABC, abstractmethod\n",
    "from numpy.random import default_rng\n",
    "import matplotlib.pyplot as plt\n",
    "from sklearn.utils import shuffle\n",
    "from sklearn.linear_model import LinearRegression\n",
    "import pandas as pd\n",
    "\n",
    "\n",
    "\n"
   ]
  },
  {
   "cell_type": "code",
   "execution_count": 41,
   "id": "d7ed5801",
   "metadata": {},
   "outputs": [],
   "source": [
    "rng = default_rng(seed=42)\n"
   ]
  },
  {
   "cell_type": "markdown",
   "id": "08ada764",
   "metadata": {},
   "source": [
    "# Resources :\n",
    "\n",
    "t tests :\n",
    "- https://blog.minitab.com/en/adventures-in-statistics-2/understanding-t-tests-1-sample-2-sample-and-paired-t-tests\n",
    "- https://www.youtube.com/watch?v=CIbJSX-biu0\n",
    "\n",
    "F tests :\n",
    "- https://www.youtube.com/watch?v=hceIXHjQPdk\n",
    "- https://timeseriesreasoning.com/contents/f-test-for-regression-analysis/\n",
    "- https://www.youtube.com/watch?v=jjAoQhf40SQ\n",
    "- https://www.statsmodels.org/dev/generated/statsmodels.regression.linear_model.OLSResults.f_test.html\n",
    "\n",
    "Comparing Models :\n",
    "- https://www.datasciencecentral.com/profiles/blogs/comparing-model-evaluation-techniques-part-3-regression-models\n",
    "\n"
   ]
  },
  {
   "cell_type": "markdown",
   "id": "848b09a7",
   "metadata": {},
   "source": [
    "# Linear Regression"
   ]
  },
  {
   "cell_type": "code",
   "execution_count": 42,
   "id": "7bc1cb4b",
   "metadata": {},
   "outputs": [],
   "source": [
    "def regression(Xtrain, Xtest, ytrain, ytest) :\n",
    "    reg = LinearRegression().fit(Xtrain, ytrain)\n",
    "    \n",
    "    return reg.coef_, reg.intercept_, reg.score(Xtest, ytest)"
   ]
  },
  {
   "cell_type": "markdown",
   "id": "34e66281",
   "metadata": {},
   "source": [
    "#  Data\n",
    "We use auto-mpg dataset to work with"
   ]
  },
  {
   "cell_type": "code",
   "execution_count": 43,
   "id": "4331ba8a",
   "metadata": {},
   "outputs": [],
   "source": [
    "mpg = pd.read_csv('./auto-mpg.csv', na_values=['NA','?'])"
   ]
  },
  {
   "cell_type": "code",
   "execution_count": 44,
   "id": "492c237a",
   "metadata": {},
   "outputs": [
    {
     "data": {
      "text/html": [
       "<div>\n",
       "<style scoped>\n",
       "    .dataframe tbody tr th:only-of-type {\n",
       "        vertical-align: middle;\n",
       "    }\n",
       "\n",
       "    .dataframe tbody tr th {\n",
       "        vertical-align: top;\n",
       "    }\n",
       "\n",
       "    .dataframe thead th {\n",
       "        text-align: right;\n",
       "    }\n",
       "</style>\n",
       "<table border=\"1\" class=\"dataframe\">\n",
       "  <thead>\n",
       "    <tr style=\"text-align: right;\">\n",
       "      <th></th>\n",
       "      <th>mpg</th>\n",
       "      <th>cylinders</th>\n",
       "      <th>displacement</th>\n",
       "      <th>horsepower</th>\n",
       "      <th>weight</th>\n",
       "      <th>acceleration</th>\n",
       "      <th>year</th>\n",
       "      <th>origin</th>\n",
       "      <th>name</th>\n",
       "    </tr>\n",
       "  </thead>\n",
       "  <tbody>\n",
       "    <tr>\n",
       "      <th>0</th>\n",
       "      <td>18.0</td>\n",
       "      <td>8</td>\n",
       "      <td>307.0</td>\n",
       "      <td>130.0</td>\n",
       "      <td>3504</td>\n",
       "      <td>12.0</td>\n",
       "      <td>70</td>\n",
       "      <td>1</td>\n",
       "      <td>chevrolet chevelle malibu</td>\n",
       "    </tr>\n",
       "    <tr>\n",
       "      <th>1</th>\n",
       "      <td>15.0</td>\n",
       "      <td>8</td>\n",
       "      <td>350.0</td>\n",
       "      <td>165.0</td>\n",
       "      <td>3693</td>\n",
       "      <td>11.5</td>\n",
       "      <td>70</td>\n",
       "      <td>1</td>\n",
       "      <td>buick skylark 320</td>\n",
       "    </tr>\n",
       "    <tr>\n",
       "      <th>2</th>\n",
       "      <td>18.0</td>\n",
       "      <td>8</td>\n",
       "      <td>318.0</td>\n",
       "      <td>150.0</td>\n",
       "      <td>3436</td>\n",
       "      <td>11.0</td>\n",
       "      <td>70</td>\n",
       "      <td>1</td>\n",
       "      <td>plymouth satellite</td>\n",
       "    </tr>\n",
       "    <tr>\n",
       "      <th>3</th>\n",
       "      <td>16.0</td>\n",
       "      <td>8</td>\n",
       "      <td>304.0</td>\n",
       "      <td>150.0</td>\n",
       "      <td>3433</td>\n",
       "      <td>12.0</td>\n",
       "      <td>70</td>\n",
       "      <td>1</td>\n",
       "      <td>amc rebel sst</td>\n",
       "    </tr>\n",
       "    <tr>\n",
       "      <th>4</th>\n",
       "      <td>17.0</td>\n",
       "      <td>8</td>\n",
       "      <td>302.0</td>\n",
       "      <td>140.0</td>\n",
       "      <td>3449</td>\n",
       "      <td>10.5</td>\n",
       "      <td>70</td>\n",
       "      <td>1</td>\n",
       "      <td>ford torino</td>\n",
       "    </tr>\n",
       "  </tbody>\n",
       "</table>\n",
       "</div>"
      ],
      "text/plain": [
       "    mpg  cylinders  displacement  horsepower  weight  acceleration  year  \\\n",
       "0  18.0          8         307.0       130.0    3504          12.0    70   \n",
       "1  15.0          8         350.0       165.0    3693          11.5    70   \n",
       "2  18.0          8         318.0       150.0    3436          11.0    70   \n",
       "3  16.0          8         304.0       150.0    3433          12.0    70   \n",
       "4  17.0          8         302.0       140.0    3449          10.5    70   \n",
       "\n",
       "   origin                       name  \n",
       "0       1  chevrolet chevelle malibu  \n",
       "1       1          buick skylark 320  \n",
       "2       1         plymouth satellite  \n",
       "3       1              amc rebel sst  \n",
       "4       1                ford torino  "
      ]
     },
     "execution_count": 44,
     "metadata": {},
     "output_type": "execute_result"
    }
   ],
   "source": [
    "mpg.head()"
   ]
  },
  {
   "cell_type": "markdown",
   "id": "e8e2eea6",
   "metadata": {},
   "source": [
    "## Pre Processing Dataset"
   ]
  },
  {
   "cell_type": "code",
   "execution_count": 45,
   "id": "00322054",
   "metadata": {},
   "outputs": [
    {
     "name": "stdout",
     "output_type": "stream",
     "text": [
      "Index(['mpg', 'cylinders', 'displacement', 'horsepower', 'weight',\n",
      "       'acceleration', 'year', 'origin', 'name'],\n",
      "      dtype='object')\n"
     ]
    }
   ],
   "source": [
    "print(mpg.columns)"
   ]
  },
  {
   "cell_type": "code",
   "execution_count": 46,
   "id": "2d62e95d",
   "metadata": {},
   "outputs": [
    {
     "data": {
      "text/plain": [
       "0      chevrolet chevelle malibu\n",
       "1              buick skylark 320\n",
       "2             plymouth satellite\n",
       "3                  amc rebel sst\n",
       "4                    ford torino\n",
       "                 ...            \n",
       "393              ford mustang gl\n",
       "394                    vw pickup\n",
       "395                dodge rampage\n",
       "396                  ford ranger\n",
       "397                   chevy s-10\n",
       "Name: name, Length: 398, dtype: object"
      ]
     },
     "execution_count": 46,
     "metadata": {},
     "output_type": "execute_result"
    }
   ],
   "source": [
    "mpg['name']"
   ]
  },
  {
   "cell_type": "code",
   "execution_count": 47,
   "id": "6a4718a4",
   "metadata": {},
   "outputs": [
    {
     "name": "stderr",
     "output_type": "stream",
     "text": [
      "/Users/baraa/opt/anaconda3/envs/tf/lib/python3.7/site-packages/ipykernel_launcher.py:2: FutureWarning: In a future version of pandas all arguments of DataFrame.drop except for the argument 'labels' will be keyword-only\n",
      "  \n"
     ]
    }
   ],
   "source": [
    "cars = mpg['name']\n",
    "mpg.drop('name',1,inplace=True)\n",
    "## replacing NA values\n",
    "med = mpg['horsepower'].median()\n",
    "mpg['horsepower'] = mpg['horsepower'].fillna(med) "
   ]
  },
  {
   "cell_type": "code",
   "execution_count": 48,
   "id": "07c260f3",
   "metadata": {},
   "outputs": [
    {
     "name": "stdout",
     "output_type": "stream",
     "text": [
      "['cylinders', 'displacement', 'horsepower', 'weight', 'acceleration', 'year', 'origin']\n"
     ]
    }
   ],
   "source": [
    "## Selecting covariates columns\n",
    "covariates = []\n",
    "for x in mpg.columns:\n",
    "    if x != 'mpg':\n",
    "        covariates.append(x)\n",
    "\n",
    "print(covariates)"
   ]
  },
  {
   "cell_type": "code",
   "execution_count": 49,
   "id": "0cb5c25f",
   "metadata": {},
   "outputs": [
    {
     "name": "stdout",
     "output_type": "stream",
     "text": [
      "X shape (398, 7)\n",
      "y shape (398,)\n"
     ]
    }
   ],
   "source": [
    "## Getting data\n",
    "X = mpg[covariates].values\n",
    "y = mpg['mpg'].values\n",
    "\n",
    "print('X shape', X.shape)\n",
    "print('y shape', y.shape)"
   ]
  },
  {
   "cell_type": "code",
   "execution_count": 50,
   "id": "7cd58b95",
   "metadata": {},
   "outputs": [],
   "source": [
    "#split data into testing and training\n",
    "from sklearn.model_selection import train_test_split \n",
    "X_train, X_test, y_train, y_test = train_test_split(X, y, test_size=0.25, random_state=0)"
   ]
  },
  {
   "cell_type": "markdown",
   "id": "a6f65084",
   "metadata": {},
   "source": [
    "## How to compare nested models ?\n",
    "- Compare model result\n",
    "- Run t-test on one additional covariate\n",
    "- F-test\n",
    "- Anova "
   ]
  },
  {
   "cell_type": "markdown",
   "id": "05e4e396",
   "metadata": {},
   "source": [
    "### Comparison using model $R_2$ score and RMSE"
   ]
  },
  {
   "cell_type": "code",
   "execution_count": 51,
   "id": "89d1b89b",
   "metadata": {},
   "outputs": [
    {
     "name": "stdout",
     "output_type": "stream",
     "text": [
      "a : [-0.30958288  0.02106943 -0.02088593 -0.00650729  0.19986328  0.74059199\n",
      "  1.62910052]\n",
      "b : -19.47927266862647\n",
      "Regression R2 score : 0.8139447246621095\n"
     ]
    }
   ],
   "source": [
    "a,b,c = regression(X_train, X_test, y_train, y_test)\n",
    "print('a :', a)\n",
    "print('b :', b)\n",
    "print('Regression R2 score :', c)"
   ]
  },
  {
   "cell_type": "code",
   "execution_count": 52,
   "id": "172880d8",
   "metadata": {},
   "outputs": [
    {
     "name": "stdout",
     "output_type": "stream",
     "text": [
      "Covariates Used : ['cylinders', 'displacement', 'horsepower', 'weight', 'acceleration', 'year', 'origin']\n",
      "Mean: 23.695\n",
      "Root Mean Squared Error: 3.409213715841733\n",
      "R2 Score :  0.8139447246621095\n"
     ]
    }
   ],
   "source": [
    "from sklearn import metrics\n",
    "# build the model\n",
    "model = LinearRegression()  \n",
    "model.fit(X_train, y_train)\n",
    "\n",
    "#calculate the predictions of the linear regression model\n",
    "y_pred = model.predict(X_test)\n",
    "\n",
    "# Mean and RMSE\n",
    "print('Covariates Used :', covariates)\n",
    "print('Mean:', np.mean(y_test))\n",
    "print('Root Mean Squared Error:', np.sqrt(metrics.mean_squared_error(y_test, y_pred)))\n",
    "print('R2 Score : ', model.score(X_test, y_test))"
   ]
  },
  {
   "cell_type": "markdown",
   "id": "8f38318d",
   "metadata": {},
   "source": [
    "There is 7 covariates, we will drop one each time and see the model results"
   ]
  },
  {
   "cell_type": "code",
   "execution_count": 53,
   "id": "1e159c50",
   "metadata": {},
   "outputs": [
    {
     "name": "stdout",
     "output_type": "stream",
     "text": [
      "(398, 7)\n",
      "(398, 6)\n"
     ]
    }
   ],
   "source": [
    "X_del = np.delete(X, 1,1)\n",
    "print(X.shape)\n",
    "print(X_del.shape)"
   ]
  },
  {
   "cell_type": "code",
   "execution_count": 54,
   "id": "ef71a439",
   "metadata": {},
   "outputs": [
    {
     "name": "stdout",
     "output_type": "stream",
     "text": [
      "Covariates Dropped : cylinders\n",
      "Mean: 23.695\n",
      "Root Mean Squared Error: 3.424452971304196\n",
      "R2 Score :  0.8122776652574544\n",
      "---------------------------------------------\n",
      "Covariates Dropped : displacement\n",
      "Mean: 23.695\n",
      "Root Mean Squared Error: 3.4287904131140543\n",
      "R2 Score :  0.8118018226229958\n",
      "---------------------------------------------\n",
      "Covariates Dropped : horsepower\n",
      "Mean: 23.695\n",
      "Root Mean Squared Error: 3.386606964311643\n",
      "R2 Score :  0.8164040365327735\n",
      "---------------------------------------------\n",
      "Covariates Dropped : weight\n",
      "Mean: 23.695\n",
      "Root Mean Squared Error: 3.9250218853567675\n",
      "R2 Score :  0.7533860157568725\n",
      "---------------------------------------------\n",
      "Covariates Dropped : acceleration\n",
      "Mean: 23.695\n",
      "Root Mean Squared Error: 3.3575743228673374\n",
      "R2 Score :  0.8195383997400633\n",
      "---------------------------------------------\n",
      "Covariates Dropped : year\n",
      "Mean: 23.695\n",
      "Root Mean Squared Error: 4.44483070879713\n",
      "R2 Score :  0.6837402062075155\n",
      "---------------------------------------------\n",
      "Covariates Dropped : origin\n",
      "Mean: 23.695\n",
      "Root Mean Squared Error: 3.4145610887826847\n",
      "R2 Score :  0.8133606092110274\n",
      "---------------------------------------------\n"
     ]
    }
   ],
   "source": [
    "n = len(covariates)\n",
    "\n",
    "for i in range(n):\n",
    "    \n",
    "    # Dropping covariates[i]\n",
    "    new_covariates = [ covariates[j] for j in range(n) if j!=i ]\n",
    "    \n",
    "    # New covariates Input\n",
    "    new_X = np.delete(X, i, 1)\n",
    "    new_X_train = np.delete(X_train, i, 1)\n",
    "    new_X_test = np.delete(X_test, i, 1)\n",
    "    \n",
    "    #build model\n",
    "    model = LinearRegression()\n",
    "    model.fit(new_X_train, y_train)\n",
    "    \n",
    "    #calculate the predictions of the linear regression model\n",
    "    new_y_pred = model.predict(new_X_test)\n",
    "\n",
    "    # Mean and RMSE\n",
    "    print('Covariates Dropped :', covariates[i])\n",
    "    print('Mean:', np.mean(y_test))\n",
    "    print('Root Mean Squared Error:', np.sqrt(metrics.mean_squared_error(y_test, new_y_pred)))\n",
    "    print('R2 Score : ', model.score(new_X_test, y_test))\n",
    "    print('---------------------------------------------')\n",
    "\n",
    "    \n",
    "    \n",
    "    "
   ]
  },
  {
   "cell_type": "markdown",
   "id": "5d89c0c9",
   "metadata": {},
   "source": [
    "### Conclusion\n",
    "\n",
    "From the result we can see that the $R_2$ score drop significantly and RMSE gets higher when we drop either weight or year covariates, with the year having the stronger impact. We can conclude that these 2 covariates are the important ones. "
   ]
  },
  {
   "cell_type": "markdown",
   "id": "db17bc33",
   "metadata": {},
   "source": [
    "### Using Only weights\n"
   ]
  },
  {
   "cell_type": "code",
   "execution_count": 55,
   "id": "a34502e0",
   "metadata": {},
   "outputs": [
    {
     "name": "stdout",
     "output_type": "stream",
     "text": [
      "Covariates Used : weight\n",
      "Mean: 23.695\n",
      "Root Mean Squared Error: 4.19810204633154\n",
      "R2 Score :  0.717876335343846\n"
     ]
    }
   ],
   "source": [
    "# New covariates Input\n",
    "new_X = X[:,3]\n",
    "new_X_train = X_train[:,3]\n",
    "new_X_test = X_test[:,3]\n",
    "\n",
    "#build model\n",
    "model = LinearRegression()\n",
    "model.fit(new_X_train.reshape(-1,1), y_train)\n",
    "\n",
    "#calculate the predictions of the linear regression model\n",
    "new_y_pred = model.predict(new_X_test.reshape(-1,1))\n",
    "\n",
    "print('Covariates Used :', covariates[3])\n",
    "print('Mean:', np.mean(y_test))\n",
    "print('Root Mean Squared Error:', np.sqrt(metrics.mean_squared_error(y_test, new_y_pred)))\n",
    "print('R2 Score : ', model.score(new_X_test.reshape(-1,1), y_test))\n"
   ]
  },
  {
   "cell_type": "markdown",
   "id": "7c665101",
   "metadata": {},
   "source": [
    "### Using Only years\n"
   ]
  },
  {
   "cell_type": "code",
   "execution_count": 56,
   "id": "bf4e78e2",
   "metadata": {},
   "outputs": [
    {
     "name": "stdout",
     "output_type": "stream",
     "text": [
      "Covariates Used : year\n",
      "Mean: 23.695\n",
      "Root Mean Squared Error: 6.403885661824743\n",
      "R2 Score :  0.3435212499308733\n"
     ]
    }
   ],
   "source": [
    "# New covariates Input\n",
    "new_X = X[:,5]\n",
    "new_X_train = X_train[:,5]\n",
    "new_X_test = X_test[:,5]\n",
    "\n",
    "#build model\n",
    "model = LinearRegression()\n",
    "model.fit(new_X_train.reshape(-1,1), y_train)\n",
    "\n",
    "#calculate the predictions of the linear regression model\n",
    "new_y_pred = model.predict(new_X_test.reshape(-1,1))\n",
    "\n",
    "print('Covariates Used :', covariates[5])\n",
    "print('Mean:', np.mean(y_test))\n",
    "print('Root Mean Squared Error:', np.sqrt(metrics.mean_squared_error(y_test, new_y_pred)))\n",
    "print('R2 Score : ', model.score(new_X_test.reshape(-1,1), y_test))\n"
   ]
  },
  {
   "cell_type": "markdown",
   "id": "fdf0ec95",
   "metadata": {},
   "source": [
    "### Using Only wights and years\n"
   ]
  },
  {
   "cell_type": "code",
   "execution_count": 57,
   "id": "3a8bc72b",
   "metadata": {},
   "outputs": [
    {
     "name": "stdout",
     "output_type": "stream",
     "text": [
      "Covariates Used : ['weight', 'year']\n",
      "Mean: 23.695\n",
      "Root Mean Squared Error Full Model: 3.409213715841733\n",
      "Root Mean Squared Error: 3.3035255658048204\n",
      "R2 Score Full Model : 0.8139447246621095 \n",
      "R2 Score :  0.8253016196534047\n"
     ]
    }
   ],
   "source": [
    "# New covariates Input\n",
    "new_X = X[:,[3,5]]\n",
    "new_X_train = X_train[:,[3,5]]\n",
    "new_X_test = X_test[:,[3,5]]\n",
    "\n",
    "#build model\n",
    "model = LinearRegression()\n",
    "model.fit(new_X_train, y_train)\n",
    "\n",
    "#calculate the predictions of the linear regression model\n",
    "new_y_pred = model.predict(new_X_test)\n",
    "\n",
    "print('Covariates Used :', [covariates[i] for i in [3,5]])\n",
    "print('Mean:', np.mean(y_test))\n",
    "print('Root Mean Squared Error Full Model: 3.409213715841733')\n",
    "print('Root Mean Squared Error:', np.sqrt(metrics.mean_squared_error(y_test, new_y_pred)))\n",
    "print('R2 Score Full Model : 0.8139447246621095 ')\n",
    "print('R2 Score : ', model.score(new_X_test, y_test))\n"
   ]
  },
  {
   "cell_type": "markdown",
   "id": "51ca746d",
   "metadata": {},
   "source": [
    "### Conclusion\n",
    "We have a better model using only the 'year' and 'weight' covariate. We still need to check that against other training/testing datasets"
   ]
  },
  {
   "cell_type": "markdown",
   "id": "5ecab42e",
   "metadata": {},
   "source": [
    "### Comparison using model t-test"
   ]
  },
  {
   "cell_type": "markdown",
   "id": "54e69b9e",
   "metadata": {},
   "source": [
    "We can use t-test to quantify the importance of a particular covariate in our model.\n",
    "\n",
    "We build on the precedent example we do a t-test on the model by dropping a covariate vs a model with all covariates and see if there  t-value is statistically significant"
   ]
  },
  {
   "cell_type": "markdown",
   "id": "3640cba9",
   "metadata": {},
   "source": [
    "We use a probability threeshold of 95%, and use scipy two sample t-test"
   ]
  },
  {
   "cell_type": "code",
   "execution_count": 58,
   "id": "9816d3cb",
   "metadata": {},
   "outputs": [],
   "source": [
    "import scipy.stats as stats"
   ]
  },
  {
   "cell_type": "code",
   "execution_count": 59,
   "id": "9f67e51a",
   "metadata": {},
   "outputs": [
    {
     "name": "stdout",
     "output_type": "stream",
     "text": [
      "Covariates Dropped : cylinders\n",
      "t-test value: 0.02631876423369678\n",
      "p-value: 0.9790295957471431\n",
      " We fail to confirm the importance of including cylinders\n",
      "---------------------------------------------\n",
      "Covariates Dropped : displacement\n",
      "t-test value: 0.0625732176746559\n",
      "p-value: 0.9501694994118655\n",
      " We fail to confirm the importance of including displacement\n",
      "---------------------------------------------\n",
      "Covariates Dropped : horsepower\n",
      "t-test value: -0.009689675648728855\n",
      "p-value: 0.9922786346848889\n",
      " We fail to confirm the importance of including horsepower\n",
      "---------------------------------------------\n",
      "Covariates Dropped : weight\n",
      "t-test value: 0.15581946303797578\n",
      "p-value: 0.8763342459122229\n",
      "Including weight in the model is important\n",
      "---------------------------------------------\n",
      "Covariates Dropped : acceleration\n",
      "t-test value: 0.010322556822144245\n",
      "p-value: 0.9917743312365986\n",
      " We fail to confirm the importance of including acceleration\n",
      "---------------------------------------------\n",
      "Covariates Dropped : year\n",
      "t-test value: -0.25381502979394394\n",
      "p-value: 0.7999023516741679\n",
      "Including year in the model is important\n",
      "---------------------------------------------\n",
      "Covariates Dropped : origin\n",
      "t-test value: -0.0625843669790683\n",
      "p-value: 0.9501606211030622\n",
      " We fail to confirm the importance of including origin\n",
      "---------------------------------------------\n"
     ]
    }
   ],
   "source": [
    "n = len(covariates)\n",
    "\n",
    "for i in range(n):\n",
    "    \n",
    "    # Dropping covariates[i]\n",
    "    new_covariates = [ covariates[j] for j in range(n) if j!=i ]\n",
    "    \n",
    "    # New covariates Input\n",
    "    new_X = np.delete(X, i, 1)\n",
    "    new_X_train = np.delete(X_train, i, 1)\n",
    "    new_X_test = np.delete(X_test, i, 1)\n",
    "    \n",
    "    #build model\n",
    "    model = LinearRegression()\n",
    "    model.fit(new_X_train, y_train)\n",
    "    \n",
    "    #calculate the predictions of the linear regression model\n",
    "    new_y_pred = model.predict(new_X_test)\n",
    "    \n",
    "    #Making the t-test\n",
    "    tstat, pvalue = stats.ttest_ind(y_pred, new_y_pred, equal_var=False)\n",
    "    \n",
    "    # Mean and RMSE\n",
    "    print('Covariates Dropped :', covariates[i])\n",
    "    print('t-test value:', tstat)\n",
    "    print('p-value:', pvalue)\n",
    "    if(pvalue < 0.95) :\n",
    "        print(f'Including {covariates[i]} in the model is important')\n",
    "    else : \n",
    "        print(f' We fail to confirm the importance of including {covariates[i]}')\n",
    "    print('---------------------------------------------')\n",
    "\n",
    "    \n",
    "    \n",
    "    "
   ]
  },
  {
   "cell_type": "markdown",
   "id": "fc4bc37c",
   "metadata": {},
   "source": [
    "# Comparison using model f-test"
   ]
  },
  {
   "cell_type": "markdown",
   "id": "626e47a7",
   "metadata": {},
   "source": [
    "In linear regression, the F-test can be used to answer the following questions:\n",
    "\n",
    "- Will you be able to improve your linear regression model by making it more complex i.e. by adding more linear regression variables to it?\n",
    "- If you already have a complex regression model, would you be better off trading your complex model with the intercept-only model (which is the simplest linear regression model you can build)?\n",
    "\n",
    "The second question is a special case of the first question. In both cases, the two models are said to be nested. The simpler model is called the restricted model. It is as if we are restricting it to use fewer regression variables. The complex model is called the unrestricted model. It contains all the variables of the restricted model and at least one more variable.\n",
    "\n",
    "<img src=\"./nested.png\" width=\"300\"/>\n"
   ]
  },
  {
   "cell_type": "code",
   "execution_count": 67,
   "id": "055394a7",
   "metadata": {},
   "outputs": [],
   "source": [
    "import statsmodels.api as sm\n",
    "import scipy.stats as ss"
   ]
  },
  {
   "cell_type": "code",
   "execution_count": 68,
   "id": "a85d89af",
   "metadata": {},
   "outputs": [
    {
     "data": {
      "text/html": [
       "<div>\n",
       "<style scoped>\n",
       "    .dataframe tbody tr th:only-of-type {\n",
       "        vertical-align: middle;\n",
       "    }\n",
       "\n",
       "    .dataframe tbody tr th {\n",
       "        vertical-align: top;\n",
       "    }\n",
       "\n",
       "    .dataframe thead th {\n",
       "        text-align: right;\n",
       "    }\n",
       "</style>\n",
       "<table border=\"1\" class=\"dataframe\">\n",
       "  <thead>\n",
       "    <tr style=\"text-align: right;\">\n",
       "      <th></th>\n",
       "      <th>mpg</th>\n",
       "      <th>cylinders</th>\n",
       "      <th>displacement</th>\n",
       "      <th>horsepower</th>\n",
       "      <th>weight</th>\n",
       "      <th>acceleration</th>\n",
       "      <th>year</th>\n",
       "      <th>origin</th>\n",
       "    </tr>\n",
       "  </thead>\n",
       "  <tbody>\n",
       "    <tr>\n",
       "      <th>0</th>\n",
       "      <td>18.0</td>\n",
       "      <td>8</td>\n",
       "      <td>307.0</td>\n",
       "      <td>130.0</td>\n",
       "      <td>3504</td>\n",
       "      <td>12.0</td>\n",
       "      <td>70</td>\n",
       "      <td>1</td>\n",
       "    </tr>\n",
       "    <tr>\n",
       "      <th>1</th>\n",
       "      <td>15.0</td>\n",
       "      <td>8</td>\n",
       "      <td>350.0</td>\n",
       "      <td>165.0</td>\n",
       "      <td>3693</td>\n",
       "      <td>11.5</td>\n",
       "      <td>70</td>\n",
       "      <td>1</td>\n",
       "    </tr>\n",
       "    <tr>\n",
       "      <th>2</th>\n",
       "      <td>18.0</td>\n",
       "      <td>8</td>\n",
       "      <td>318.0</td>\n",
       "      <td>150.0</td>\n",
       "      <td>3436</td>\n",
       "      <td>11.0</td>\n",
       "      <td>70</td>\n",
       "      <td>1</td>\n",
       "    </tr>\n",
       "    <tr>\n",
       "      <th>3</th>\n",
       "      <td>16.0</td>\n",
       "      <td>8</td>\n",
       "      <td>304.0</td>\n",
       "      <td>150.0</td>\n",
       "      <td>3433</td>\n",
       "      <td>12.0</td>\n",
       "      <td>70</td>\n",
       "      <td>1</td>\n",
       "    </tr>\n",
       "    <tr>\n",
       "      <th>4</th>\n",
       "      <td>17.0</td>\n",
       "      <td>8</td>\n",
       "      <td>302.0</td>\n",
       "      <td>140.0</td>\n",
       "      <td>3449</td>\n",
       "      <td>10.5</td>\n",
       "      <td>70</td>\n",
       "      <td>1</td>\n",
       "    </tr>\n",
       "    <tr>\n",
       "      <th>...</th>\n",
       "      <td>...</td>\n",
       "      <td>...</td>\n",
       "      <td>...</td>\n",
       "      <td>...</td>\n",
       "      <td>...</td>\n",
       "      <td>...</td>\n",
       "      <td>...</td>\n",
       "      <td>...</td>\n",
       "    </tr>\n",
       "    <tr>\n",
       "      <th>393</th>\n",
       "      <td>27.0</td>\n",
       "      <td>4</td>\n",
       "      <td>140.0</td>\n",
       "      <td>86.0</td>\n",
       "      <td>2790</td>\n",
       "      <td>15.6</td>\n",
       "      <td>82</td>\n",
       "      <td>1</td>\n",
       "    </tr>\n",
       "    <tr>\n",
       "      <th>394</th>\n",
       "      <td>44.0</td>\n",
       "      <td>4</td>\n",
       "      <td>97.0</td>\n",
       "      <td>52.0</td>\n",
       "      <td>2130</td>\n",
       "      <td>24.6</td>\n",
       "      <td>82</td>\n",
       "      <td>2</td>\n",
       "    </tr>\n",
       "    <tr>\n",
       "      <th>395</th>\n",
       "      <td>32.0</td>\n",
       "      <td>4</td>\n",
       "      <td>135.0</td>\n",
       "      <td>84.0</td>\n",
       "      <td>2295</td>\n",
       "      <td>11.6</td>\n",
       "      <td>82</td>\n",
       "      <td>1</td>\n",
       "    </tr>\n",
       "    <tr>\n",
       "      <th>396</th>\n",
       "      <td>28.0</td>\n",
       "      <td>4</td>\n",
       "      <td>120.0</td>\n",
       "      <td>79.0</td>\n",
       "      <td>2625</td>\n",
       "      <td>18.6</td>\n",
       "      <td>82</td>\n",
       "      <td>1</td>\n",
       "    </tr>\n",
       "    <tr>\n",
       "      <th>397</th>\n",
       "      <td>31.0</td>\n",
       "      <td>4</td>\n",
       "      <td>119.0</td>\n",
       "      <td>82.0</td>\n",
       "      <td>2720</td>\n",
       "      <td>19.4</td>\n",
       "      <td>82</td>\n",
       "      <td>1</td>\n",
       "    </tr>\n",
       "  </tbody>\n",
       "</table>\n",
       "<p>398 rows × 8 columns</p>\n",
       "</div>"
      ],
      "text/plain": [
       "      mpg  cylinders  displacement  horsepower  weight  acceleration  year  \\\n",
       "0    18.0          8         307.0       130.0    3504          12.0    70   \n",
       "1    15.0          8         350.0       165.0    3693          11.5    70   \n",
       "2    18.0          8         318.0       150.0    3436          11.0    70   \n",
       "3    16.0          8         304.0       150.0    3433          12.0    70   \n",
       "4    17.0          8         302.0       140.0    3449          10.5    70   \n",
       "..    ...        ...           ...         ...     ...           ...   ...   \n",
       "393  27.0          4         140.0        86.0    2790          15.6    82   \n",
       "394  44.0          4          97.0        52.0    2130          24.6    82   \n",
       "395  32.0          4         135.0        84.0    2295          11.6    82   \n",
       "396  28.0          4         120.0        79.0    2625          18.6    82   \n",
       "397  31.0          4         119.0        82.0    2720          19.4    82   \n",
       "\n",
       "     origin  \n",
       "0         1  \n",
       "1         1  \n",
       "2         1  \n",
       "3         1  \n",
       "4         1  \n",
       "..      ...  \n",
       "393       1  \n",
       "394       2  \n",
       "395       1  \n",
       "396       1  \n",
       "397       1  \n",
       "\n",
       "[398 rows x 8 columns]"
      ]
     },
     "execution_count": 68,
     "metadata": {},
     "output_type": "execute_result"
    }
   ],
   "source": [
    "mpg"
   ]
  },
  {
   "cell_type": "code",
   "execution_count": 69,
   "id": "4e4d6da1",
   "metadata": {},
   "outputs": [],
   "source": [
    "y = mpg['mpg']\n",
    "exp_var = mpg[['cylinders', 'horsepower', 'year', 'weight', 'acceleration']]\n",
    "exp_var = sm.add_constant(exp_var)\n"
   ]
  },
  {
   "cell_type": "code",
   "execution_count": 70,
   "id": "53cdbcef",
   "metadata": {},
   "outputs": [
    {
     "data": {
      "text/html": [
       "<div>\n",
       "<style scoped>\n",
       "    .dataframe tbody tr th:only-of-type {\n",
       "        vertical-align: middle;\n",
       "    }\n",
       "\n",
       "    .dataframe tbody tr th {\n",
       "        vertical-align: top;\n",
       "    }\n",
       "\n",
       "    .dataframe thead th {\n",
       "        text-align: right;\n",
       "    }\n",
       "</style>\n",
       "<table border=\"1\" class=\"dataframe\">\n",
       "  <thead>\n",
       "    <tr style=\"text-align: right;\">\n",
       "      <th></th>\n",
       "      <th>const</th>\n",
       "      <th>cylinders</th>\n",
       "      <th>horsepower</th>\n",
       "      <th>year</th>\n",
       "      <th>weight</th>\n",
       "      <th>acceleration</th>\n",
       "    </tr>\n",
       "  </thead>\n",
       "  <tbody>\n",
       "    <tr>\n",
       "      <th>0</th>\n",
       "      <td>1.0</td>\n",
       "      <td>8</td>\n",
       "      <td>130.0</td>\n",
       "      <td>70</td>\n",
       "      <td>3504</td>\n",
       "      <td>12.0</td>\n",
       "    </tr>\n",
       "    <tr>\n",
       "      <th>1</th>\n",
       "      <td>1.0</td>\n",
       "      <td>8</td>\n",
       "      <td>165.0</td>\n",
       "      <td>70</td>\n",
       "      <td>3693</td>\n",
       "      <td>11.5</td>\n",
       "    </tr>\n",
       "    <tr>\n",
       "      <th>2</th>\n",
       "      <td>1.0</td>\n",
       "      <td>8</td>\n",
       "      <td>150.0</td>\n",
       "      <td>70</td>\n",
       "      <td>3436</td>\n",
       "      <td>11.0</td>\n",
       "    </tr>\n",
       "    <tr>\n",
       "      <th>3</th>\n",
       "      <td>1.0</td>\n",
       "      <td>8</td>\n",
       "      <td>150.0</td>\n",
       "      <td>70</td>\n",
       "      <td>3433</td>\n",
       "      <td>12.0</td>\n",
       "    </tr>\n",
       "    <tr>\n",
       "      <th>4</th>\n",
       "      <td>1.0</td>\n",
       "      <td>8</td>\n",
       "      <td>140.0</td>\n",
       "      <td>70</td>\n",
       "      <td>3449</td>\n",
       "      <td>10.5</td>\n",
       "    </tr>\n",
       "    <tr>\n",
       "      <th>...</th>\n",
       "      <td>...</td>\n",
       "      <td>...</td>\n",
       "      <td>...</td>\n",
       "      <td>...</td>\n",
       "      <td>...</td>\n",
       "      <td>...</td>\n",
       "    </tr>\n",
       "    <tr>\n",
       "      <th>393</th>\n",
       "      <td>1.0</td>\n",
       "      <td>4</td>\n",
       "      <td>86.0</td>\n",
       "      <td>82</td>\n",
       "      <td>2790</td>\n",
       "      <td>15.6</td>\n",
       "    </tr>\n",
       "    <tr>\n",
       "      <th>394</th>\n",
       "      <td>1.0</td>\n",
       "      <td>4</td>\n",
       "      <td>52.0</td>\n",
       "      <td>82</td>\n",
       "      <td>2130</td>\n",
       "      <td>24.6</td>\n",
       "    </tr>\n",
       "    <tr>\n",
       "      <th>395</th>\n",
       "      <td>1.0</td>\n",
       "      <td>4</td>\n",
       "      <td>84.0</td>\n",
       "      <td>82</td>\n",
       "      <td>2295</td>\n",
       "      <td>11.6</td>\n",
       "    </tr>\n",
       "    <tr>\n",
       "      <th>396</th>\n",
       "      <td>1.0</td>\n",
       "      <td>4</td>\n",
       "      <td>79.0</td>\n",
       "      <td>82</td>\n",
       "      <td>2625</td>\n",
       "      <td>18.6</td>\n",
       "    </tr>\n",
       "    <tr>\n",
       "      <th>397</th>\n",
       "      <td>1.0</td>\n",
       "      <td>4</td>\n",
       "      <td>82.0</td>\n",
       "      <td>82</td>\n",
       "      <td>2720</td>\n",
       "      <td>19.4</td>\n",
       "    </tr>\n",
       "  </tbody>\n",
       "</table>\n",
       "<p>398 rows × 6 columns</p>\n",
       "</div>"
      ],
      "text/plain": [
       "     const  cylinders  horsepower  year  weight  acceleration\n",
       "0      1.0          8       130.0    70    3504          12.0\n",
       "1      1.0          8       165.0    70    3693          11.5\n",
       "2      1.0          8       150.0    70    3436          11.0\n",
       "3      1.0          8       150.0    70    3433          12.0\n",
       "4      1.0          8       140.0    70    3449          10.5\n",
       "..     ...        ...         ...   ...     ...           ...\n",
       "393    1.0          4        86.0    82    2790          15.6\n",
       "394    1.0          4        52.0    82    2130          24.6\n",
       "395    1.0          4        84.0    82    2295          11.6\n",
       "396    1.0          4        79.0    82    2625          18.6\n",
       "397    1.0          4        82.0    82    2720          19.4\n",
       "\n",
       "[398 rows x 6 columns]"
      ]
     },
     "execution_count": 70,
     "metadata": {},
     "output_type": "execute_result"
    }
   ],
   "source": [
    "exp_var"
   ]
  },
  {
   "cell_type": "code",
   "execution_count": 71,
   "id": "20cc9c34",
   "metadata": {},
   "outputs": [
    {
     "data": {
      "text/html": [
       "<table class=\"simpletable\">\n",
       "<caption>OLS Regression Results</caption>\n",
       "<tr>\n",
       "  <th>Dep. Variable:</th>           <td>mpg</td>       <th>  R-squared:         </th> <td>   0.808</td> \n",
       "</tr>\n",
       "<tr>\n",
       "  <th>Model:</th>                   <td>OLS</td>       <th>  Adj. R-squared:    </th> <td>   0.806</td> \n",
       "</tr>\n",
       "<tr>\n",
       "  <th>Method:</th>             <td>Least Squares</td>  <th>  F-statistic:       </th> <td>   330.5</td> \n",
       "</tr>\n",
       "<tr>\n",
       "  <th>Date:</th>             <td>Thu, 25 Nov 2021</td> <th>  Prob (F-statistic):</th> <td>3.84e-138</td>\n",
       "</tr>\n",
       "<tr>\n",
       "  <th>Time:</th>                 <td>17:33:52</td>     <th>  Log-Likelihood:    </th> <td> -1053.9</td> \n",
       "</tr>\n",
       "<tr>\n",
       "  <th>No. Observations:</th>      <td>   398</td>      <th>  AIC:               </th> <td>   2120.</td> \n",
       "</tr>\n",
       "<tr>\n",
       "  <th>Df Residuals:</th>          <td>   392</td>      <th>  BIC:               </th> <td>   2144.</td> \n",
       "</tr>\n",
       "<tr>\n",
       "  <th>Df Model:</th>              <td>     5</td>      <th>                     </th>     <td> </td>    \n",
       "</tr>\n",
       "<tr>\n",
       "  <th>Covariance Type:</th>      <td>nonrobust</td>    <th>                     </th>     <td> </td>    \n",
       "</tr>\n",
       "</table>\n",
       "<table class=\"simpletable\">\n",
       "<tr>\n",
       "        <td></td>          <th>coef</th>     <th>std err</th>      <th>t</th>      <th>P>|t|</th>  <th>[0.025</th>    <th>0.975]</th>  \n",
       "</tr>\n",
       "<tr>\n",
       "  <th>const</th>        <td>  -15.5341</td> <td>    4.686</td> <td>   -3.315</td> <td> 0.001</td> <td>  -24.746</td> <td>   -6.322</td>\n",
       "</tr>\n",
       "<tr>\n",
       "  <th>cylinders</th>    <td>   -0.0433</td> <td>    0.245</td> <td>   -0.177</td> <td> 0.860</td> <td>   -0.524</td> <td>    0.438</td>\n",
       "</tr>\n",
       "<tr>\n",
       "  <th>horsepower</th>   <td>    0.0058</td> <td>    0.013</td> <td>    0.440</td> <td> 0.660</td> <td>   -0.020</td> <td>    0.032</td>\n",
       "</tr>\n",
       "<tr>\n",
       "  <th>year</th>         <td>    0.7540</td> <td>    0.052</td> <td>   14.505</td> <td> 0.000</td> <td>    0.652</td> <td>    0.856</td>\n",
       "</tr>\n",
       "<tr>\n",
       "  <th>weight</th>       <td>   -0.0067</td> <td>    0.001</td> <td>  -11.348</td> <td> 0.000</td> <td>   -0.008</td> <td>   -0.006</td>\n",
       "</tr>\n",
       "<tr>\n",
       "  <th>acceleration</th> <td>    0.0823</td> <td>    0.100</td> <td>    0.827</td> <td> 0.409</td> <td>   -0.113</td> <td>    0.278</td>\n",
       "</tr>\n",
       "</table>\n",
       "<table class=\"simpletable\">\n",
       "<tr>\n",
       "  <th>Omnibus:</th>       <td>38.107</td> <th>  Durbin-Watson:     </th> <td>   1.209</td>\n",
       "</tr>\n",
       "<tr>\n",
       "  <th>Prob(Omnibus):</th> <td> 0.000</td> <th>  Jarque-Bera (JB):  </th> <td>  59.474</td>\n",
       "</tr>\n",
       "<tr>\n",
       "  <th>Skew:</th>          <td> 0.634</td> <th>  Prob(JB):          </th> <td>1.22e-13</td>\n",
       "</tr>\n",
       "<tr>\n",
       "  <th>Kurtosis:</th>      <td> 4.406</td> <th>  Cond. No.          </th> <td>8.39e+04</td>\n",
       "</tr>\n",
       "</table><br/><br/>Notes:<br/>[1] Standard Errors assume that the covariance matrix of the errors is correctly specified.<br/>[2] The condition number is large, 8.39e+04. This might indicate that there are<br/>strong multicollinearity or other numerical problems."
      ],
      "text/plain": [
       "<class 'statsmodels.iolib.summary.Summary'>\n",
       "\"\"\"\n",
       "                            OLS Regression Results                            \n",
       "==============================================================================\n",
       "Dep. Variable:                    mpg   R-squared:                       0.808\n",
       "Model:                            OLS   Adj. R-squared:                  0.806\n",
       "Method:                 Least Squares   F-statistic:                     330.5\n",
       "Date:                Thu, 25 Nov 2021   Prob (F-statistic):          3.84e-138\n",
       "Time:                        17:33:52   Log-Likelihood:                -1053.9\n",
       "No. Observations:                 398   AIC:                             2120.\n",
       "Df Residuals:                     392   BIC:                             2144.\n",
       "Df Model:                           5                                         \n",
       "Covariance Type:            nonrobust                                         \n",
       "================================================================================\n",
       "                   coef    std err          t      P>|t|      [0.025      0.975]\n",
       "--------------------------------------------------------------------------------\n",
       "const          -15.5341      4.686     -3.315      0.001     -24.746      -6.322\n",
       "cylinders       -0.0433      0.245     -0.177      0.860      -0.524       0.438\n",
       "horsepower       0.0058      0.013      0.440      0.660      -0.020       0.032\n",
       "year             0.7540      0.052     14.505      0.000       0.652       0.856\n",
       "weight          -0.0067      0.001    -11.348      0.000      -0.008      -0.006\n",
       "acceleration     0.0823      0.100      0.827      0.409      -0.113       0.278\n",
       "==============================================================================\n",
       "Omnibus:                       38.107   Durbin-Watson:                   1.209\n",
       "Prob(Omnibus):                  0.000   Jarque-Bera (JB):               59.474\n",
       "Skew:                           0.634   Prob(JB):                     1.22e-13\n",
       "Kurtosis:                       4.406   Cond. No.                     8.39e+04\n",
       "==============================================================================\n",
       "\n",
       "Notes:\n",
       "[1] Standard Errors assume that the covariance matrix of the errors is correctly specified.\n",
       "[2] The condition number is large, 8.39e+04. This might indicate that there are\n",
       "strong multicollinearity or other numerical problems.\n",
       "\"\"\""
      ]
     },
     "execution_count": 71,
     "metadata": {},
     "output_type": "execute_result"
    }
   ],
   "source": [
    "ols = sm.OLS(y, exp_var)\n",
    "ols_fit = ols.fit()\n",
    "ols_fit.summary()"
   ]
  },
  {
   "cell_type": "markdown",
   "id": "14e9da81",
   "metadata": {},
   "source": [
    "## Hypothesis tests : \n",
    "\n",
    "\n",
    "\n",
    "Link for f-test critical values : \n",
    "- https://www.socscistatistics.com/pvalues/fdistribution.aspx"
   ]
  },
  {
   "cell_type": "markdown",
   "id": "91edee89",
   "metadata": {},
   "source": [
    "# Hypothesis 1 \n",
    "\n",
    "year coef = horsepower coef = 0 "
   ]
  },
  {
   "cell_type": "code",
   "execution_count": 74,
   "id": "e054b9fe",
   "metadata": {},
   "outputs": [],
   "source": [
    "A = np.array([[0,0,1,0,0,0],[0,0,0,1,0,0]])"
   ]
  },
  {
   "cell_type": "code",
   "execution_count": 75,
   "id": "ff157179",
   "metadata": {},
   "outputs": [
    {
     "name": "stdout",
     "output_type": "stream",
     "text": [
      "<F test: F=array([[110.48422623]]), p=8.834804899550885e-39, df_denom=392, df_num=2>\n"
     ]
    }
   ],
   "source": [
    "print(ols_fit.f_test(A))"
   ]
  },
  {
   "cell_type": "markdown",
   "id": "5f2f6f29",
   "metadata": {},
   "source": [
    "p Value is very small we reject null hypothesis"
   ]
  },
  {
   "cell_type": "markdown",
   "id": "3236a865",
   "metadata": {},
   "source": [
    "# Hypothesis 2\n",
    "\n",
    "cylinders coef = acceleration coef = 0 "
   ]
  },
  {
   "cell_type": "code",
   "execution_count": 76,
   "id": "7dba9624",
   "metadata": {},
   "outputs": [],
   "source": [
    "B = np.array([[0,1,0,0,0,0],[0,0,0,0,0,1]])"
   ]
  },
  {
   "cell_type": "code",
   "execution_count": 77,
   "id": "4dba50e2",
   "metadata": {},
   "outputs": [
    {
     "name": "stdout",
     "output_type": "stream",
     "text": [
      "<F test: F=array([[0.39333999]]), p=0.6750653156693659, df_denom=392, df_num=2>\n"
     ]
    }
   ],
   "source": [
    "print(ols_fit.f_test(B))"
   ]
  },
  {
   "cell_type": "markdown",
   "id": "9e093aa5",
   "metadata": {},
   "source": [
    "p value is high we fail "
   ]
  }
 ],
 "metadata": {
  "kernelspec": {
   "display_name": "Python 3 (ipykernel)",
   "language": "python",
   "name": "python3"
  },
  "language_info": {
   "codemirror_mode": {
    "name": "ipython",
    "version": 3
   },
   "file_extension": ".py",
   "mimetype": "text/x-python",
   "name": "python",
   "nbconvert_exporter": "python",
   "pygments_lexer": "ipython3",
   "version": "3.7.11"
  }
 },
 "nbformat": 4,
 "nbformat_minor": 5
}
