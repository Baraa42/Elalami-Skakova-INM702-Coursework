{
 "cells": [
  {
   "cell_type": "markdown",
   "id": "f6a61322",
   "metadata": {},
   "source": [
    "### Used links:\n",
    "- https://pytorch.org/vision/stable/datasets.html#cifar\n",
    "- https://exerror.com/urllib-error-urlerror-urlopen-error-ssl-certificate_verify_failed-certificate-verify-failed-unable-to-get-local-issuer-certificate/\n",
    "- https://www.aiworkbox.com/lessons/load-cifar10-dataset-from-pytorch-torchvision\n",
    "- https://pytorch.org/docs/stable/data.html"
   ]
  },
  {
   "cell_type": "markdown",
   "id": "fcebaf43",
   "metadata": {},
   "source": [
    "### Importing the dataset "
   ]
  },
  {
   "cell_type": "code",
   "execution_count": 1,
   "id": "602bebda",
   "metadata": {
    "scrolled": true
   },
   "outputs": [],
   "source": [
    "import torch\n",
    "import torchvision\n",
    "import torchvision.datasets as datasets\n",
    "import numpy as np\n",
    "import pandas as pd\n",
    "import matplotlib.pyplot as plt\n",
    "import torch.nn as nn\n",
    "import torch.nn.functional as F\n",
    "from torchvision.datasets import CIFAR10\n",
    "from torchvision.transforms import ToTensor\n",
    "from torchvision.utils import make_grid\n",
    "from torch.utils.data.dataloader import DataLoader\n",
    "from torch.utils.data import random_split\n",
    "%matplotlib inline"
   ]
  },
  {
   "cell_type": "code",
   "execution_count": 2,
   "id": "786bbbc3",
   "metadata": {},
   "outputs": [
    {
     "name": "stdout",
     "output_type": "stream",
     "text": [
      "1.10.0+cpu\n"
     ]
    }
   ],
   "source": [
    "#checking torch versionn\n",
    "print(torch.__version__)"
   ]
  },
  {
   "cell_type": "code",
   "execution_count": 3,
   "id": "e34eb402",
   "metadata": {},
   "outputs": [
    {
     "name": "stdout",
     "output_type": "stream",
     "text": [
      "0.11.1+cpu\n"
     ]
    }
   ],
   "source": [
    "#checking torchvision version\n",
    "print(torchvision.__version__)"
   ]
  },
  {
   "cell_type": "code",
   "execution_count": 4,
   "id": "d8a23aa7",
   "metadata": {
    "scrolled": true
   },
   "outputs": [],
   "source": [
    "import ssl\n",
    "ssl._create_default_https_context = ssl._create_unverified_context"
   ]
  },
  {
   "cell_type": "code",
   "execution_count": 5,
   "id": "47dff69e",
   "metadata": {},
   "outputs": [
    {
     "name": "stdout",
     "output_type": "stream",
     "text": [
      "Files already downloaded and verified\n"
     ]
    }
   ],
   "source": [
    "# initializing training set\n",
    "cifar = datasets.CIFAR10(root='./data', train=True, download=True, transform=ToTensor())\n"
   ]
  },
  {
   "cell_type": "code",
   "execution_count": 6,
   "id": "f6ffa73a",
   "metadata": {},
   "outputs": [
    {
     "name": "stdout",
     "output_type": "stream",
     "text": [
      "Files already downloaded and verified\n"
     ]
    }
   ],
   "source": [
    "# initializing test set by initiasing  the train parameter to False\n",
    "cifar_testset = datasets.CIFAR10(root='./data', train=False, download=True, transform=ToTensor())"
   ]
  },
  {
   "cell_type": "code",
   "execution_count": 7,
   "id": "f2808fb1",
   "metadata": {},
   "outputs": [
    {
     "data": {
      "text/plain": [
       "Dataset CIFAR10\n",
       "    Number of datapoints: 50000\n",
       "    Root location: ./data\n",
       "    Split: Train\n",
       "    StandardTransform\n",
       "Transform: ToTensor()"
      ]
     },
     "execution_count": 7,
     "metadata": {},
     "output_type": "execute_result"
    }
   ],
   "source": [
    "cifar"
   ]
  },
  {
   "cell_type": "code",
   "execution_count": 8,
   "id": "3d57072a",
   "metadata": {},
   "outputs": [
    {
     "data": {
      "text/plain": [
       "Dataset CIFAR10\n",
       "    Number of datapoints: 10000\n",
       "    Root location: ./data\n",
       "    Split: Test\n",
       "    StandardTransform\n",
       "Transform: ToTensor()"
      ]
     },
     "execution_count": 8,
     "metadata": {},
     "output_type": "execute_result"
    }
   ],
   "source": [
    "cifar_testset"
   ]
  },
  {
   "cell_type": "code",
   "execution_count": 9,
   "id": "6a1aba95",
   "metadata": {},
   "outputs": [
    {
     "data": {
      "text/plain": [
       "50000"
      ]
     },
     "execution_count": 9,
     "metadata": {},
     "output_type": "execute_result"
    }
   ],
   "source": [
    "len(cifar)"
   ]
  },
  {
   "cell_type": "code",
   "execution_count": 10,
   "id": "18ae5502",
   "metadata": {},
   "outputs": [
    {
     "name": "stdout",
     "output_type": "stream",
     "text": [
      "['airplane', 'automobile', 'bird', 'cat', 'deer', 'dog', 'frog', 'horse', 'ship', 'truck']\n"
     ]
    }
   ],
   "source": [
    "classes = cifar.classes\n",
    "print(classes)"
   ]
  },
  {
   "cell_type": "code",
   "execution_count": 11,
   "id": "12957f07",
   "metadata": {},
   "outputs": [],
   "source": [
    "image, label = cifar[0]"
   ]
  },
  {
   "cell_type": "code",
   "execution_count": 12,
   "id": "7aa492e9",
   "metadata": {},
   "outputs": [
    {
     "data": {
      "text/plain": [
       "tensor([[[0.2314, 0.1686, 0.1961,  ..., 0.6196, 0.5961, 0.5804],\n",
       "         [0.0627, 0.0000, 0.0706,  ..., 0.4824, 0.4667, 0.4784],\n",
       "         [0.0980, 0.0627, 0.1922,  ..., 0.4627, 0.4706, 0.4275],\n",
       "         ...,\n",
       "         [0.8157, 0.7882, 0.7765,  ..., 0.6275, 0.2196, 0.2078],\n",
       "         [0.7059, 0.6784, 0.7294,  ..., 0.7216, 0.3804, 0.3255],\n",
       "         [0.6941, 0.6588, 0.7020,  ..., 0.8471, 0.5922, 0.4824]],\n",
       "\n",
       "        [[0.2431, 0.1804, 0.1882,  ..., 0.5176, 0.4902, 0.4863],\n",
       "         [0.0784, 0.0000, 0.0314,  ..., 0.3451, 0.3255, 0.3412],\n",
       "         [0.0941, 0.0275, 0.1059,  ..., 0.3294, 0.3294, 0.2863],\n",
       "         ...,\n",
       "         [0.6667, 0.6000, 0.6314,  ..., 0.5216, 0.1216, 0.1333],\n",
       "         [0.5451, 0.4824, 0.5647,  ..., 0.5804, 0.2431, 0.2078],\n",
       "         [0.5647, 0.5059, 0.5569,  ..., 0.7216, 0.4627, 0.3608]],\n",
       "\n",
       "        [[0.2471, 0.1765, 0.1686,  ..., 0.4235, 0.4000, 0.4039],\n",
       "         [0.0784, 0.0000, 0.0000,  ..., 0.2157, 0.1961, 0.2235],\n",
       "         [0.0824, 0.0000, 0.0314,  ..., 0.1961, 0.1961, 0.1647],\n",
       "         ...,\n",
       "         [0.3765, 0.1333, 0.1020,  ..., 0.2745, 0.0275, 0.0784],\n",
       "         [0.3765, 0.1647, 0.1176,  ..., 0.3686, 0.1333, 0.1333],\n",
       "         [0.4549, 0.3686, 0.3412,  ..., 0.5490, 0.3294, 0.2824]]])"
      ]
     },
     "execution_count": 12,
     "metadata": {},
     "output_type": "execute_result"
    }
   ],
   "source": [
    "image"
   ]
  },
  {
   "cell_type": "code",
   "execution_count": 13,
   "id": "ca31bfd1",
   "metadata": {},
   "outputs": [
    {
     "data": {
      "text/plain": [
       "6"
      ]
     },
     "execution_count": 13,
     "metadata": {},
     "output_type": "execute_result"
    }
   ],
   "source": [
    "label"
   ]
  },
  {
   "cell_type": "code",
   "execution_count": 14,
   "id": "206aac3d",
   "metadata": {},
   "outputs": [
    {
     "name": "stdout",
     "output_type": "stream",
     "text": [
      "checked for shape\n"
     ]
    }
   ],
   "source": [
    "try:\n",
    "    image.shape\n",
    "    print(\"checked for shape\".format(image.shape))\n",
    "except AttributeError:\n",
    "    print(\"shape not found\")\n",
    "    #code to move to next frame\n",
    "    "
   ]
  },
  {
   "cell_type": "code",
   "execution_count": 15,
   "id": "e9b6be27",
   "metadata": {},
   "outputs": [
    {
     "data": {
      "text/plain": [
       "tensor([[[0.2314, 0.1686, 0.1961],\n",
       "         [0.2667, 0.3843, 0.4667],\n",
       "         [0.5451, 0.5686, 0.5843],\n",
       "         ...,\n",
       "         [0.4980, 0.4941, 0.4980],\n",
       "         [0.5098, 0.5569, 0.5098],\n",
       "         [0.4627, 0.4706, 0.4275]],\n",
       "\n",
       "        [[0.1294, 0.1490, 0.3412],\n",
       "         [0.4157, 0.4510, 0.4588],\n",
       "         [0.4471, 0.4118, 0.4196],\n",
       "         ...,\n",
       "         [0.4627, 0.5490, 0.5333],\n",
       "         [0.4706, 0.4196, 0.3451],\n",
       "         [0.2627, 0.1373, 0.1255]],\n",
       "\n",
       "        [[0.3804, 0.4353, 0.4824],\n",
       "         [0.5098, 0.5333, 0.5176],\n",
       "         [0.4784, 0.4745, 0.4980],\n",
       "         ...,\n",
       "         [0.2980, 0.4196, 0.5294],\n",
       "         [0.5294, 0.5059, 0.4980],\n",
       "         [0.4667, 0.4902, 0.5255]],\n",
       "\n",
       "        ...,\n",
       "\n",
       "        [[0.2824, 0.1725, 0.1647],\n",
       "         [0.2039, 0.2824, 0.2510],\n",
       "         [0.2275, 0.2235, 0.3176],\n",
       "         ...,\n",
       "         [0.2588, 0.2431, 0.2039],\n",
       "         [0.1529, 0.1529, 0.1725],\n",
       "         [0.3412, 0.4471, 0.2275]],\n",
       "\n",
       "        [[0.3216, 0.1020, 0.0980],\n",
       "         [0.1333, 0.1608, 0.1922],\n",
       "         [0.2078, 0.2196, 0.2275],\n",
       "         ...,\n",
       "         [0.2157, 0.2392, 0.2667],\n",
       "         [0.2314, 0.1804, 0.3843],\n",
       "         [0.3412, 0.0353, 0.0353]],\n",
       "\n",
       "        [[0.3765, 0.1333, 0.1020],\n",
       "         [0.1059, 0.1333, 0.1255],\n",
       "         [0.1647, 0.2039, 0.1922],\n",
       "         ...,\n",
       "         [0.2275, 0.2549, 0.2314],\n",
       "         [0.1804, 0.2235, 0.4078],\n",
       "         [0.5490, 0.3294, 0.2824]]])"
      ]
     },
     "execution_count": 15,
     "metadata": {},
     "output_type": "execute_result"
    }
   ],
   "source": [
    "np.reshape(image, (32, 32, 3))"
   ]
  },
  {
   "cell_type": "code",
   "execution_count": 16,
   "id": "6d545f67",
   "metadata": {},
   "outputs": [
    {
     "data": {
      "text/plain": [
       "torch.Size([3, 32, 32])"
      ]
     },
     "execution_count": 16,
     "metadata": {},
     "output_type": "execute_result"
    }
   ],
   "source": [
    "image, label = cifar[0]\n",
    "img_shape = image.shape\n",
    "img_shape"
   ]
  },
  {
   "cell_type": "code",
   "execution_count": 17,
   "id": "04c9b11c",
   "metadata": {
    "scrolled": true
   },
   "outputs": [
    {
     "name": "stdout",
     "output_type": "stream",
     "text": [
      "Label (numeric): 6\n",
      "Label (textual): frog\n"
     ]
    },
    {
     "data": {
      "image/png": "[encoded data removed]",
      "text/plain": [
       "<Figure size 432x288 with 1 Axes>"
      ]
     },
     "metadata": {
      "needs_background": "light"
     },
     "output_type": "display_data"
    }
   ],
   "source": [
    "image, label = cifar[0]\n",
    "plt.imshow(image.permute((1, 2, 0)))\n",
    "print('Label (numeric):', label)\n",
    "print('Label (textual):', classes[label])"
   ]
  },
  {
   "cell_type": "code",
   "execution_count": 18,
   "id": "af07e023",
   "metadata": {},
   "outputs": [],
   "source": [
    "torch.manual_seed(43)\n",
    "val_size = 5000"
   ]
  },
  {
   "cell_type": "code",
   "execution_count": 19,
   "id": "1511b059",
   "metadata": {},
   "outputs": [],
   "source": [
    "train_size = len(cifar) - val_size"
   ]
  },
  {
   "cell_type": "code",
   "execution_count": 20,
   "id": "6e903d5c",
   "metadata": {},
   "outputs": [
    {
     "data": {
      "text/plain": [
       "(45000, 5000)"
      ]
     },
     "execution_count": 20,
     "metadata": {},
     "output_type": "execute_result"
    }
   ],
   "source": [
    "train_ds, val_ds = random_split(cifar, [train_size, val_size])\n",
    "len(train_ds), len(val_ds)"
   ]
  },
  {
   "cell_type": "code",
   "execution_count": 21,
   "id": "474c527d",
   "metadata": {},
   "outputs": [],
   "source": [
    "batch_size=128"
   ]
  },
  {
   "cell_type": "code",
   "execution_count": 22,
   "id": "89b4f9a1",
   "metadata": {},
   "outputs": [],
   "source": [
    "train_loader = DataLoader(train_ds, batch_size, shuffle=True, num_workers=4, pin_memory=True)"
   ]
  },
  {
   "cell_type": "code",
   "execution_count": 23,
   "id": "2e62514b",
   "metadata": {},
   "outputs": [],
   "source": [
    "val_loader = DataLoader(val_ds, batch_size*2, num_workers=4, pin_memory=True)"
   ]
  },
  {
   "cell_type": "code",
   "execution_count": 24,
   "id": "1f6dea85",
   "metadata": {},
   "outputs": [],
   "source": [
    "test_loader = DataLoader(cifar_testset, batch_size*2, num_workers=4, pin_memory=True)"
   ]
  },
  {
   "cell_type": "code",
   "execution_count": 25,
   "id": "8d471b0f",
   "metadata": {},
   "outputs": [],
   "source": [
    "def accuracy(outputs, labels):\n",
    "    _, preds = torch.max(outputs, dim=1)\n",
    "    return torch.tensor(torch.sum(preds == labels).item() / len(preds))"
   ]
  },
  {
   "cell_type": "code",
   "execution_count": 26,
   "id": "81002ef0",
   "metadata": {},
   "outputs": [],
   "source": [
    "class ImageClassificationBase(nn.Module):\n",
    "    def training_step(self, batch):\n",
    "        images, labels = batch \n",
    "        out = self(images)                  # Generate predictions\n",
    "        loss = F.cross_entropy(out, labels) # Calculate loss\n",
    "        return loss\n",
    "    \n",
    "    def validation_step(self, batch):\n",
    "        images, labels = batch \n",
    "        out = self(images)                    # Generate predictions\n",
    "        loss = F.cross_entropy(out, labels)   # Calculate loss\n",
    "        acc = accuracy(out, labels)           # Calculate accuracy\n",
    "        return {'val_loss': loss.detach(), 'val_acc': acc}\n",
    "        \n",
    "    def validation_epoch_end(self, outputs):\n",
    "        batch_losses = [x['val_loss'] for x in outputs]\n",
    "        epoch_loss = torch.stack(batch_losses).mean()   # Combine losses\n",
    "        batch_accs = [x['val_acc'] for x in outputs]\n",
    "        epoch_acc = torch.stack(batch_accs).mean()      # Combine accuracies\n",
    "        return {'val_loss': epoch_loss.item(), 'val_acc': epoch_acc.item()}\n",
    "    \n",
    "    def epoch_end(self, epoch, result):\n",
    "        print(\"Epoch [{}], val_loss: {:.4f}, val_acc: {:.4f}\".format(epoch, result['val_loss'], result['val_acc']))"
   ]
  },
  {
   "cell_type": "code",
   "execution_count": 27,
   "id": "5f90b868",
   "metadata": {},
   "outputs": [],
   "source": [
    "def evaluate(model, val_loader):\n",
    "    outputs = [model.validation_step(batch) for batch in val_loader]\n",
    "    return model.validation_epoch_end(outputs)\n",
    "\n",
    "def fit(epochs, lr, model, train_loader, val_loader, opt_func=torch.optim.SGD):\n",
    "    history = []\n",
    "    optimizer = opt_func(model.parameters(), lr)\n",
    "    for epoch in range(epochs):\n",
    "        # Training Phase \n",
    "        for batch in train_loader:\n",
    "            loss = model.training_step(batch)\n",
    "            loss.backward()\n",
    "            optimizer.step()\n",
    "            optimizer.zero_grad()\n",
    "        # Validation phase\n",
    "        result = evaluate(model, val_loader)\n",
    "        model.epoch_end(epoch, result)\n",
    "        history.append(result)\n",
    "    return history"
   ]
  },
  {
   "cell_type": "code",
   "execution_count": 28,
   "id": "91881bb3",
   "metadata": {},
   "outputs": [],
   "source": [
    "def get_default_device():\n",
    "    \"\"\"Pick GPU if available, else CPU\"\"\"\n",
    "    if torch.cuda.is_available():\n",
    "        return torch.device('cuda')\n",
    "    else:\n",
    "        return torch.device('cpu')"
   ]
  },
  {
   "cell_type": "code",
   "execution_count": 29,
   "id": "e03396d3",
   "metadata": {},
   "outputs": [
    {
     "data": {
      "text/plain": [
       "device(type='cpu')"
      ]
     },
     "execution_count": 29,
     "metadata": {},
     "output_type": "execute_result"
    }
   ],
   "source": [
    "device = get_default_device()\n",
    "device"
   ]
  },
  {
   "cell_type": "code",
   "execution_count": 30,
   "id": "7ede9075",
   "metadata": {},
   "outputs": [],
   "source": [
    "def to_device(data, device):\n",
    "    \"\"\"Move tensor(s) to chosen device\"\"\"\n",
    "    if isinstance(data, (list,tuple)):\n",
    "        return [to_device(x, device) for x in data]\n",
    "    return data.to(device, non_blocking=True)\n",
    "\n",
    "class DeviceDataLoader():\n",
    "    \"\"\"Wrap a dataloader to move data to a device\"\"\"\n",
    "    def __init__(self, dl, device):\n",
    "        self.dl = dl\n",
    "        self.device = device\n",
    "        \n",
    "    def __iter__(self):\n",
    "        \"\"\"Yield a batch of data after moving it to device\"\"\"\n",
    "        for b in self.dl: \n",
    "            yield to_device(b, self.device)\n",
    "\n",
    "    def __len__(self):\n",
    "        \"\"\"Number of batches\"\"\"\n",
    "        return len(self.dl)"
   ]
  },
  {
   "cell_type": "code",
   "execution_count": 31,
   "id": "e36e981d",
   "metadata": {},
   "outputs": [],
   "source": [
    "class CIFAR10Model(ImageClassificationBase):\n",
    "    def __init__(self):\n",
    "        super().__init__()\n",
    "        self.linear1 = nn.Linear(input_size, 1024)\n",
    "        self.linear2 = nn.Linear(1024, 512)\n",
    "        self.linear3 = nn.Linear(512, 64)\n",
    "        self.linear4 = nn.Linear(64, 64)\n",
    "        self.linear5 = nn.Linear(64, output_size)\n",
    "    \n",
    "#     def __len__(self):\n",
    "#         return len(self.data)\n",
    "    \n",
    "#     def __getitem__(self,index):\n",
    "#         img_name,label = self.data[index]\n",
    "#         img_path = os.path.join(self.path, img_name)\n",
    "#         image = img.imread(img_path)\n",
    "#         if self.transform is not None:\n",
    "#             image = self.transform(image)\n",
    "#         return image, label\n",
    "    \n",
    "    \n",
    "    def forward(self, xb):\n",
    "        # Flatten images into vectors\n",
    "        out = xb.view(xb.size(0), -1)\n",
    "        out = self.linear1(out)\n",
    "        out = F.relu(out)\n",
    "        out = self.linear2(out)\n",
    "        out = F.relu(out)\n",
    "        out = self.linear3(out)\n",
    "        out = F.relu(out)\n",
    "        out = self.linear4(out)\n",
    "        out = F.relu(out)\n",
    "        out = self.linear5(out)\n",
    "        return out"
   ]
  },
  {
   "cell_type": "code",
   "execution_count": 32,
   "id": "50a921e3",
   "metadata": {},
   "outputs": [],
   "source": [
    "train_loader = DeviceDataLoader(train_loader, device)\n",
    "val_loader = DeviceDataLoader(val_loader, device)\n",
    "test_loader = DeviceDataLoader(test_loader, device)"
   ]
  },
  {
   "cell_type": "code",
   "execution_count": 33,
   "id": "a5547a80",
   "metadata": {},
   "outputs": [],
   "source": [
    "input_size = 3*32*32\n",
    "output_size = 10"
   ]
  },
  {
   "cell_type": "code",
   "execution_count": 34,
   "id": "4d5bf6dd",
   "metadata": {},
   "outputs": [],
   "source": [
    "cifar_model = to_device(CIFAR10Model(), device)"
   ]
  },
  {
   "cell_type": "code",
   "execution_count": 35,
   "id": "d32c9ec2",
   "metadata": {},
   "outputs": [
    {
     "data": {
      "text/plain": [
       "[{'val_loss': 2.308006763458252, 'val_acc': 0.08956801146268845}]"
      ]
     },
     "execution_count": 35,
     "metadata": {},
     "output_type": "execute_result"
    }
   ],
   "source": [
    "history = [evaluate(cifar_model, val_loader)]\n",
    "history"
   ]
  },
  {
   "cell_type": "code",
   "execution_count": 36,
   "id": "544754d2",
   "metadata": {},
   "outputs": [
    {
     "name": "stdout",
     "output_type": "stream",
     "text": [
      "Epoch [0], val_loss: 1.9587, val_acc: 0.2660\n",
      "Epoch [1], val_loss: 1.9371, val_acc: 0.2795\n",
      "Epoch [2], val_loss: 1.8385, val_acc: 0.3205\n",
      "Epoch [3], val_loss: 1.8561, val_acc: 0.3154\n",
      "Epoch [4], val_loss: 1.8427, val_acc: 0.3301\n",
      "Epoch [5], val_loss: 1.8246, val_acc: 0.3364\n",
      "Epoch [6], val_loss: 1.8161, val_acc: 0.3243\n",
      "Epoch [7], val_loss: 1.8919, val_acc: 0.3104\n",
      "Epoch [8], val_loss: 1.8133, val_acc: 0.3321\n",
      "Epoch [9], val_loss: 1.8101, val_acc: 0.3450\n"
     ]
    }
   ],
   "source": [
    "history += fit(10,0.01, cifar_model, train_loader, val_loader, torch.optim.Adam)"
   ]
  },
  {
   "cell_type": "code",
   "execution_count": 39,
   "id": "d8687932",
   "metadata": {},
   "outputs": [
    {
     "name": "stdout",
     "output_type": "stream",
     "text": [
      "Epoch [0], val_loss: 1.7539, val_acc: 0.3623\n",
      "Epoch [1], val_loss: 1.7591, val_acc: 0.3606\n",
      "Epoch [2], val_loss: 1.7444, val_acc: 0.3658\n",
      "Epoch [3], val_loss: 1.7503, val_acc: 0.3630\n",
      "Epoch [4], val_loss: 1.7515, val_acc: 0.3622\n",
      "Epoch [5], val_loss: 1.7505, val_acc: 0.3676\n",
      "Epoch [6], val_loss: 1.7481, val_acc: 0.3725\n",
      "Epoch [7], val_loss: 1.7412, val_acc: 0.3694\n",
      "Epoch [8], val_loss: 1.7326, val_acc: 0.3772\n",
      "Epoch [9], val_loss: 1.7270, val_acc: 0.3798\n",
      "Epoch [10], val_loss: 1.7258, val_acc: 0.3814\n",
      "Epoch [11], val_loss: 1.7239, val_acc: 0.3763\n",
      "Epoch [12], val_loss: 1.7252, val_acc: 0.3816\n",
      "Epoch [13], val_loss: 1.7252, val_acc: 0.3721\n",
      "Epoch [14], val_loss: 1.7324, val_acc: 0.3737\n",
      "Epoch [15], val_loss: 1.7263, val_acc: 0.3727\n",
      "Epoch [16], val_loss: 1.7240, val_acc: 0.3787\n",
      "Epoch [17], val_loss: 1.7190, val_acc: 0.3756\n",
      "Epoch [18], val_loss: 1.7240, val_acc: 0.3740\n",
      "Epoch [19], val_loss: 1.7151, val_acc: 0.3794\n"
     ]
    }
   ],
   "source": [
    "history += fit(20, 0.001 , cifar_model, train_loader, val_loader, torch.optim.Adam)"
   ]
  },
  {
   "cell_type": "code",
   "execution_count": 43,
   "id": "4c635ebb",
   "metadata": {},
   "outputs": [
    {
     "name": "stdout",
     "output_type": "stream",
     "text": [
      "Epoch [0], val_loss: 1.7140, val_acc: 0.3798\n",
      "Epoch [1], val_loss: 1.7137, val_acc: 0.3796\n",
      "Epoch [2], val_loss: 1.7137, val_acc: 0.3794\n",
      "Epoch [3], val_loss: 1.7134, val_acc: 0.3802\n",
      "Epoch [4], val_loss: 1.7135, val_acc: 0.3796\n",
      "Epoch [5], val_loss: 1.7135, val_acc: 0.3794\n",
      "Epoch [6], val_loss: 1.7132, val_acc: 0.3796\n",
      "Epoch [7], val_loss: 1.7133, val_acc: 0.3791\n",
      "Epoch [8], val_loss: 1.7132, val_acc: 0.3789\n",
      "Epoch [9], val_loss: 1.7132, val_acc: 0.3804\n"
     ]
    }
   ],
   "source": [
    "history += fit(10, 0.00001, cifar_model, train_loader, val_loader, torch.optim.Adam)"
   ]
  },
  {
   "cell_type": "code",
   "execution_count": 44,
   "id": "91675d2c",
   "metadata": {
    "scrolled": true
   },
   "outputs": [
    {
     "name": "stdout",
     "output_type": "stream",
     "text": [
      "Epoch [0], val_loss: 1.7132, val_acc: 0.3804\n",
      "Epoch [1], val_loss: 1.7132, val_acc: 0.3804\n",
      "Epoch [2], val_loss: 1.7132, val_acc: 0.3804\n",
      "Epoch [3], val_loss: 1.7132, val_acc: 0.3804\n",
      "Epoch [4], val_loss: 1.7132, val_acc: 0.3804\n",
      "Epoch [5], val_loss: 1.7132, val_acc: 0.3798\n",
      "Epoch [6], val_loss: 1.7132, val_acc: 0.3802\n",
      "Epoch [7], val_loss: 1.7131, val_acc: 0.3802\n",
      "Epoch [8], val_loss: 1.7132, val_acc: 0.3802\n",
      "Epoch [9], val_loss: 1.7131, val_acc: 0.3804\n"
     ]
    }
   ],
   "source": [
    "history += fit(10, 0.000001, cifar_model, train_loader, val_loader, torch.optim.Adam)"
   ]
  },
  {
   "cell_type": "code",
   "execution_count": 55,
   "id": "c7073b8e",
   "metadata": {},
   "outputs": [
    {
     "name": "stdout",
     "output_type": "stream",
     "text": [
      "Epoch [0], val_loss: 1.7908, val_acc: 0.3466\n",
      "Epoch [1], val_loss: 1.7908, val_acc: 0.3507\n",
      "Epoch [2], val_loss: 1.7861, val_acc: 0.3542\n",
      "Epoch [3], val_loss: 1.7952, val_acc: 0.3511\n",
      "Epoch [4], val_loss: 1.8180, val_acc: 0.3346\n",
      "Epoch [5], val_loss: 1.7649, val_acc: 0.3644\n",
      "Epoch [6], val_loss: 1.7605, val_acc: 0.3672\n",
      "Epoch [7], val_loss: 1.7746, val_acc: 0.3594\n",
      "Epoch [8], val_loss: 1.7702, val_acc: 0.3638\n",
      "Epoch [9], val_loss: 1.7760, val_acc: 0.3662\n",
      "Epoch [10], val_loss: 1.8061, val_acc: 0.3474\n",
      "Epoch [11], val_loss: 1.7823, val_acc: 0.3461\n",
      "Epoch [12], val_loss: 1.7758, val_acc: 0.3684\n",
      "Epoch [13], val_loss: 1.7468, val_acc: 0.3719\n",
      "Epoch [14], val_loss: 1.7411, val_acc: 0.3706\n",
      "Epoch [15], val_loss: 1.7521, val_acc: 0.3608\n",
      "Epoch [16], val_loss: 1.7548, val_acc: 0.3710\n",
      "Epoch [17], val_loss: 1.7709, val_acc: 0.3665\n",
      "Epoch [18], val_loss: 1.8501, val_acc: 0.3314\n",
      "Epoch [19], val_loss: 1.8123, val_acc: 0.3554\n"
     ]
    }
   ],
   "source": [
    "history += fit(20, 0.01, cifar_model, train_loader, val_loader, torch.optim.Adam)"
   ]
  },
  {
   "cell_type": "code",
   "execution_count": 45,
   "id": "b59fe82e",
   "metadata": {},
   "outputs": [
    {
     "data": {
      "text/plain": [
       "{'val_loss': 1.6693696975708008, 'val_acc': 0.39531248807907104}"
      ]
     },
     "execution_count": 45,
     "metadata": {},
     "output_type": "execute_result"
    }
   ],
   "source": [
    "evaluate(cifar_model, test_loader)"
   ]
  },
  {
   "cell_type": "code",
   "execution_count": 49,
   "id": "3c74f15f",
   "metadata": {},
   "outputs": [],
   "source": [
    "def plot_losses(history):\n",
    "    losses = [x['val_loss'] for x in history]\n",
    "    plt.plot(losses, '-x')\n",
    "    plt.xlabel('epoch')\n",
    "    plt.ylabel('loss')\n",
    "    plt.title('Loss vs. No. of epochs');"
   ]
  },
  {
   "cell_type": "code",
   "execution_count": 50,
   "id": "2a1a7031",
   "metadata": {},
   "outputs": [],
   "source": [
    "def plot_accuracies(history):\n",
    "    accuracies = [x['val_acc'] for x in history]\n",
    "    plt.plot(accuracies, '-x')\n",
    "    plt.xlabel('epoch')\n",
    "    plt.ylabel('accuracy')\n",
    "    plt.title('Accuracy vs. No. of epochs');"
   ]
  },
  {
   "cell_type": "code",
   "execution_count": 51,
   "id": "8c08ff8c",
   "metadata": {
    "scrolled": true
   },
   "outputs": [
    {
     "data": {
      "image/png": "[encoded data removed]",
      "text/plain": [
       "<Figure size 432x288 with 1 Axes>"
      ]
     },
     "metadata": {
      "needs_background": "light"
     },
     "output_type": "display_data"
    }
   ],
   "source": [
    "plot_losses(history)"
   ]
  },
  {
   "cell_type": "code",
   "execution_count": 52,
   "id": "6755d755",
   "metadata": {
    "scrolled": true
   },
   "outputs": [
    {
     "data": {
      "image/png": "[encoded data removed]",
      "text/plain": [
       "<Figure size 432x288 with 1 Axes>"
      ]
     },
     "metadata": {
      "needs_background": "light"
     },
     "output_type": "display_data"
    }
   ],
   "source": [
    "plot_accuracies(history)"
   ]
  },
  {
   "cell_type": "code",
   "execution_count": 53,
   "id": "35a6caa7",
   "metadata": {},
   "outputs": [
    {
     "name": "stdout",
     "output_type": "stream",
     "text": [
      "Test Accuracy of the model: 38.02 %\n"
     ]
    }
   ],
   "source": [
    "# test-the-model\n",
    "with torch.no_grad():\n",
    "    correct = 0\n",
    "    total = 0\n",
    "    for images, labels in val_loader:\n",
    "        images = images.to(device)\n",
    "        labels = labels.to(device)\n",
    "        outputs = cifar_model(images)\n",
    "        _, predicted = torch.max(outputs.data, 1)\n",
    "        total += labels.size(0)\n",
    "        correct += (predicted == labels).sum().item()\n",
    "          \n",
    "    print('Test Accuracy of the model: {} %'.format(100 * correct / total))"
   ]
  },
  {
   "cell_type": "code",
   "execution_count": 54,
   "id": "024285f1",
   "metadata": {},
   "outputs": [
    {
     "data": {
      "text/plain": [
       "{'val_loss': 1.6693696975708008, 'val_acc': 0.39531248807907104}"
      ]
     },
     "execution_count": 54,
     "metadata": {},
     "output_type": "execute_result"
    }
   ],
   "source": [
    "evaluate(cifar_model, test_loader)"
   ]
  },
  {
   "cell_type": "code",
   "execution_count": null,
   "id": "f8b9fd02",
   "metadata": {},
   "outputs": [],
   "source": []
  },
  {
   "cell_type": "code",
   "execution_count": null,
   "id": "6f22657c",
   "metadata": {},
   "outputs": [],
   "source": []
  },
  {
   "cell_type": "code",
   "execution_count": null,
   "id": "1fb77fae",
   "metadata": {},
   "outputs": [],
   "source": []
  }
 ],
 "metadata": {
  "kernelspec": {
   "display_name": "Python 3 (ipykernel)",
   "language": "python",
   "name": "python3"
  },
  "language_info": {
   "codemirror_mode": {
    "name": "ipython",
    "version": 3
   },
   "file_extension": ".py",
   "mimetype": "text/x-python",
   "name": "python",
   "nbconvert_exporter": "python",
   "pygments_lexer": "ipython3",
   "version": "3.8.8"
  }
 },
 "nbformat": 4,
 "nbformat_minor": 5
}
